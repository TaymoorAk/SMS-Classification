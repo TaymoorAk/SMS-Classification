{
  "nbformat": 4,
  "nbformat_minor": 0,
  "metadata": {
    "colab": {
      "name": "SMS Classifier_LSTM/GRU.ipynb",
      "provenance": [],
      "collapsed_sections": [
        "woGZnmbxnTPe",
        "NdZcWL1ky4_A",
        "dB5ANdXP3XO_",
        "IEC2MknJ4ABS",
        "C6nd0I0Z49Qi",
        "-loUrN4Y5wtM",
        "zAFL4ns46Xc1",
        "trMkOp8b9Y81",
        "P20enCRsEKKX"
      ],
      "toc_visible": true
    },
    "kernelspec": {
      "name": "python3",
      "display_name": "Python 3"
    },
    "accelerator": "GPU"
  },
  "cells": [
    {
      "cell_type": "markdown",
      "metadata": {
        "id": "6vT1j52em5Ka",
        "colab_type": "text"
      },
      "source": [
        "### Importing Libraries\n"
      ]
    },
    {
      "cell_type": "code",
      "metadata": {
        "id": "L-hxGUAsg4Ro",
        "colab_type": "code",
        "colab": {}
      },
      "source": [
        "import numpy as np\n",
        "import pandas as pd\n",
        "import matplotlib.pyplot as plt\n",
        "import spacy\n",
        "import sys\n",
        "import warnings\n",
        "warnings.filterwarnings(\"ignore\")"
      ],
      "execution_count": 0,
      "outputs": []
    },
    {
      "cell_type": "code",
      "metadata": {
        "id": "cr3kTsMshaZS",
        "colab_type": "code",
        "colab": {}
      },
      "source": [
        "dataset = pd.read_csv('train_sms_mine.csv')"
      ],
      "execution_count": 0,
      "outputs": []
    },
    {
      "cell_type": "code",
      "metadata": {
        "id": "TYn8fH5xkD4C",
        "colab_type": "code",
        "outputId": "8d665ddc-2194-4e45-e966-61c1652a6a85",
        "colab": {
          "base_uri": "https://localhost:8080/",
          "height": 255
        }
      },
      "source": [
        "dataset.head"
      ],
      "execution_count": 3,
      "outputs": [
        {
          "output_type": "execute_result",
          "data": {
            "text/plain": [
              "<bound method NDFrame.head of              Label                                            Message\n",
              "0         Delivery  Dear Guest, Thanks for choosing The Edison. Or...\n",
              "1            Hotel  Welcome to Southern University at Shreveport R...\n",
              "2          Payment  Bill dated 2013-01-14 for Rs 626 has been gene...\n",
              "3          Payment  Bill dated 2014-11-30 for Rs 323 has been gene...\n",
              "4      Appointment  DEAR Zachary, THANK YOU FOR YOUR BOOKING (ORDE...\n",
              "...            ...                                                ...\n",
              "42003         bill  Bill Payment From: Waqas Amount: SAR 9,000 Bil...\n",
              "42004         bill  Bill Payment From: Waqas Amount: Re 600.63 Bil...\n",
              "42005         bill  Bill Payment From: Waqas Amount: SAR 9,938.63 ...\n",
              "42006         bill  Bill Payment From: Waqas Amount: RS 9,938.63 B...\n",
              "42007         bill  Bill Payment From: Ahmed Amount: RS 9,938.63 B...\n",
              "\n",
              "[42008 rows x 2 columns]>"
            ]
          },
          "metadata": {
            "tags": []
          },
          "execution_count": 3
        }
      ]
    },
    {
      "cell_type": "code",
      "metadata": {
        "id": "NJez2BakkHN9",
        "colab_type": "code",
        "outputId": "3efe4cfb-e375-4ce6-d7a1-e3d79c99dc80",
        "colab": {
          "base_uri": "https://localhost:8080/",
          "height": 221
        }
      },
      "source": [
        "dataset['Label'].head"
      ],
      "execution_count": 4,
      "outputs": [
        {
          "output_type": "execute_result",
          "data": {
            "text/plain": [
              "<bound method NDFrame.head of 0           Delivery\n",
              "1              Hotel\n",
              "2            Payment\n",
              "3            Payment\n",
              "4        Appointment\n",
              "            ...     \n",
              "42003           bill\n",
              "42004           bill\n",
              "42005           bill\n",
              "42006           bill\n",
              "42007           bill\n",
              "Name: Label, Length: 42008, dtype: object>"
            ]
          },
          "metadata": {
            "tags": []
          },
          "execution_count": 4
        }
      ]
    },
    {
      "cell_type": "markdown",
      "metadata": {
        "id": "sfODuXXAm_yz",
        "colab_type": "text"
      },
      "source": [
        "#### Managing Dataset"
      ]
    },
    {
      "cell_type": "code",
      "metadata": {
        "id": "Y6Sbia1-lLDF",
        "colab_type": "code",
        "colab": {}
      },
      "source": [
        "data = pd.DataFrame(columns=['Text','Label','Hot_Encoded'])\n",
        "data['Text'] = dataset['Message']\n",
        "data['Label'] = dataset['Label']"
      ],
      "execution_count": 0,
      "outputs": []
    },
    {
      "cell_type": "code",
      "metadata": {
        "id": "932oHe4kmVlM",
        "colab_type": "code",
        "outputId": "29eb9929-8ad7-4d0b-e899-ee14b5953849",
        "colab": {
          "base_uri": "https://localhost:8080/",
          "height": 255
        }
      },
      "source": [
        "data.head"
      ],
      "execution_count": 6,
      "outputs": [
        {
          "output_type": "execute_result",
          "data": {
            "text/plain": [
              "<bound method NDFrame.head of                                                     Text  ... Hot_Encoded\n",
              "0      Dear Guest, Thanks for choosing The Edison. Or...  ...         NaN\n",
              "1      Welcome to Southern University at Shreveport R...  ...         NaN\n",
              "2      Bill dated 2013-01-14 for Rs 626 has been gene...  ...         NaN\n",
              "3      Bill dated 2014-11-30 for Rs 323 has been gene...  ...         NaN\n",
              "4      DEAR Zachary, THANK YOU FOR YOUR BOOKING (ORDE...  ...         NaN\n",
              "...                                                  ...  ...         ...\n",
              "42003  Bill Payment From: Waqas Amount: SAR 9,000 Bil...  ...         NaN\n",
              "42004  Bill Payment From: Waqas Amount: Re 600.63 Bil...  ...         NaN\n",
              "42005  Bill Payment From: Waqas Amount: SAR 9,938.63 ...  ...         NaN\n",
              "42006  Bill Payment From: Waqas Amount: RS 9,938.63 B...  ...         NaN\n",
              "42007  Bill Payment From: Ahmed Amount: RS 9,938.63 B...  ...         NaN\n",
              "\n",
              "[42008 rows x 3 columns]>"
            ]
          },
          "metadata": {
            "tags": []
          },
          "execution_count": 6
        }
      ]
    },
    {
      "cell_type": "code",
      "metadata": {
        "id": "5_IfjScoo-08",
        "colab_type": "code",
        "outputId": "fe4325fb-3b1f-4045-8a67-3eb267bee6bf",
        "colab": {
          "base_uri": "https://localhost:8080/",
          "height": 221
        }
      },
      "source": [
        "data['Label'].head"
      ],
      "execution_count": 7,
      "outputs": [
        {
          "output_type": "execute_result",
          "data": {
            "text/plain": [
              "<bound method NDFrame.head of 0           Delivery\n",
              "1              Hotel\n",
              "2            Payment\n",
              "3            Payment\n",
              "4        Appointment\n",
              "            ...     \n",
              "42003           bill\n",
              "42004           bill\n",
              "42005           bill\n",
              "42006           bill\n",
              "42007           bill\n",
              "Name: Label, Length: 42008, dtype: object>"
            ]
          },
          "metadata": {
            "tags": []
          },
          "execution_count": 7
        }
      ]
    },
    {
      "cell_type": "markdown",
      "metadata": {
        "id": "mNAiMuz8mjsX",
        "colab_type": "text"
      },
      "source": [
        "####Random Shuffle\n"
      ]
    },
    {
      "cell_type": "code",
      "metadata": {
        "id": "KfED-WPHmo3p",
        "colab_type": "code",
        "outputId": "f446bf21-9912-4da6-95af-e2da281b3ab3",
        "colab": {
          "base_uri": "https://localhost:8080/",
          "height": 255
        }
      },
      "source": [
        "from sklearn.utils import shuffle\n",
        "data = shuffle(data)\n",
        "data.reset_index(drop=True)\n",
        "data.head"
      ],
      "execution_count": 8,
      "outputs": [
        {
          "output_type": "execute_result",
          "data": {
            "text/plain": [
              "<bound method NDFrame.head of                                                     Text  Label Hot_Encoded\n",
              "33686  Thank you for choosing Meru for 2009-10-08 at ...   info         NaN\n",
              "27807     I have an appointment with Dr Pritee that day.    ham         NaN\n",
              "19757  Welcome to Governor 's Mansion R.No. 360, 378 ...   info         NaN\n",
              "3681   Welcome to Stetson University R.No. 288, 203, ...  Hotel         NaN\n",
              "10808  Welcome to Pebble Beach R.No. 188, 277, 566, 1...  Hotel         NaN\n",
              "...                                                  ...    ...         ...\n",
              "21051              No lets have face to face discussion.    ham         NaN\n",
              "18621  Thank you for choosing Ola for 2013-07-19 at 8...   info         NaN\n",
              "10360  * KSRTC m-Ticket *  from: Kozhikode to: Thiruv...    Bus         NaN\n",
              "11458  Thank you for choosing Meru for 2012-03-03 at ...    Cab         NaN\n",
              "17520  [Hamburger joint] Hi Isaiah, your reservation ...   info         NaN\n",
              "\n",
              "[42008 rows x 3 columns]>"
            ]
          },
          "metadata": {
            "tags": []
          },
          "execution_count": 8
        }
      ]
    },
    {
      "cell_type": "markdown",
      "metadata": {
        "id": "woGZnmbxnTPe",
        "colab_type": "text"
      },
      "source": [
        "#### Cleaning Data"
      ]
    },
    {
      "cell_type": "code",
      "metadata": {
        "id": "5XeH1TEynFq6",
        "colab_type": "code",
        "colab": {}
      },
      "source": [
        "# import re\n",
        "# import nltk  \n",
        "# nltk.download()\n",
        "# from nltk.corpus import stopwords\n",
        "# from nltk.stem import SnowballStemmer, WordNetLemmatizer\n",
        "# def cleanText(text, removeStopwords=True, performStemming=True):\n",
        "    \n",
        "#     #regex for removing non-alphanumeric characters and spaces\n",
        "#     remove_special_char = re.compile('r[^a-z\\d]', re.IGNORECASE)\n",
        "#     #regex to replace all numerics\n",
        "#     replace_numerics = re.compile('r\\d+', re.IGNORECASE)\n",
        "#     text = remove_special_char.sub('', text)\n",
        "#     text = replace_numerics.sub('', text)\n",
        "\n",
        "#     stop_words = set(stopwords.words('english')) \n",
        "#     stemmer = SnowballStemmer('english')\n",
        "#     lemmatizer = WordNetLemmatizer()\n",
        "    \n",
        "#     #convert text to lowercase.\n",
        "#     text = text.lower().split()\n",
        "\n",
        "    \n",
        "#     processedText = list()\n",
        "#     for word in text:        \n",
        "#         if removeStopwords:\n",
        "#             if word in stop_words:\n",
        "#                 continue\n",
        "#         if performStemming:\n",
        "#             word = stemmer.stem(word)\n",
        "            \n",
        "#         word = lemmatizer.lemmatize(word)\n",
        "#         word = lemmatizer.lemmatize(word, 'v')\n",
        "            \n",
        "#         processedText.append(word)\n",
        "\n",
        "#     text = ' '.join(processedText)\n",
        "\n",
        "#     return text"
      ],
      "execution_count": 0,
      "outputs": []
    },
    {
      "cell_type": "code",
      "metadata": {
        "id": "pLeyFk1mphFf",
        "colab_type": "code",
        "colab": {}
      },
      "source": [
        "#data['Text']= [cleanText(text) for text in list(data['Text'])]"
      ],
      "execution_count": 0,
      "outputs": []
    },
    {
      "cell_type": "code",
      "metadata": {
        "id": "MxvjvVzypjKg",
        "colab_type": "code",
        "colab": {}
      },
      "source": [
        "#data['Text'].head"
      ],
      "execution_count": 0,
      "outputs": []
    },
    {
      "cell_type": "code",
      "metadata": {
        "id": "Ha0V45jLvDQB",
        "colab_type": "code",
        "colab": {}
      },
      "source": [
        "punctuation = '.!\"#$%&()*+-/:,;<=>?@[\\\\]^_`{|}~'\n",
        "\n",
        "data['Text'] = data['Text'].apply(lambda x: ''.join(ch for ch in x if ch not in set(punctuation)))\n",
        "data['Text'] = data['Text'].str.lower()\n",
        "data['Text'] = data['Text'].str.replace(\"[0-9]\", \" \")\n",
        "data['Text'] = data['Text'].apply(lambda x: ' '.join(x.split()))"
      ],
      "execution_count": 0,
      "outputs": []
    },
    {
      "cell_type": "code",
      "metadata": {
        "id": "Vl2zkPSyqZmh",
        "colab_type": "code",
        "colab": {}
      },
      "source": [
        "from sklearn.preprocessing import LabelEncoder\n",
        "labelencoder = LabelEncoder()\n",
        "data['Hot_Encoded'] = labelencoder.fit_transform(data['Label'])"
      ],
      "execution_count": 0,
      "outputs": []
    },
    {
      "cell_type": "code",
      "metadata": {
        "id": "T3cvmwJNuub8",
        "colab_type": "code",
        "outputId": "544ea677-85a2-45f4-8e05-04a702bc5578",
        "colab": {
          "base_uri": "https://localhost:8080/",
          "height": 255
        }
      },
      "source": [
        "data.head"
      ],
      "execution_count": 14,
      "outputs": [
        {
          "output_type": "execute_result",
          "data": {
            "text/plain": [
              "<bound method NDFrame.head of                                                     Text  Label  Hot_Encoded\n",
              "33686  thank you for choosing meru for at cabka d cha...   info           15\n",
              "27807      i have an appointment with dr pritee that day    ham           14\n",
              "19757      welcome to governor 's mansion rno chin chout   info           15\n",
              "3681        welcome to stetson university rno chin chout  Hotel            6\n",
              "10808             welcome to pebble beach rno chin chout  Hotel            6\n",
              "...                                                  ...    ...          ...\n",
              "21051               no lets have face to face discussion    ham           14\n",
              "18621  thank you for choosing ola for at cabka z chau...   info           15\n",
              "10360  ksrtc mticket from kozhikode to thiruvananthap...    Bus            1\n",
              "11458  thank you for choosing meru for at cabka j cha...    Cab            2\n",
              "17520  hamburger joint hi isaiah your reservation is ...   info           15\n",
              "\n",
              "[42008 rows x 3 columns]>"
            ]
          },
          "metadata": {
            "tags": []
          },
          "execution_count": 14
        }
      ]
    },
    {
      "cell_type": "code",
      "metadata": {
        "id": "ODyb9bzzu_hp",
        "colab_type": "code",
        "colab": {}
      },
      "source": [
        " from sklearn.model_selection import train_test_split\n",
        "from sklearn.feature_extraction.text import TfidfVectorizer\n",
        "# tfidf_vectorizer = TfidfVectorizer(max_features=10)\n",
        "# data['Text']= tfidf_vectorizer.fit_transform(data['Text'])\n",
        "from sklearn.feature_extraction.text import CountVectorizer\n",
        "vectorizer = CountVectorizer()\n",
        "# data['Text'] = vectorizer.fit_transform(data['Text'])"
      ],
      "execution_count": 0,
      "outputs": []
    },
    {
      "cell_type": "code",
      "metadata": {
        "id": "agQDVBmShhIl",
        "colab_type": "code",
        "colab": {
          "base_uri": "https://localhost:8080/",
          "height": 255
        },
        "outputId": "1729d95c-c946-4e21-a3b9-089e416412a0"
      },
      "source": [
        "data.head"
      ],
      "execution_count": 16,
      "outputs": [
        {
          "output_type": "execute_result",
          "data": {
            "text/plain": [
              "<bound method NDFrame.head of                                                     Text  Label  Hot_Encoded\n",
              "33686  thank you for choosing meru for at cabka d cha...   info           15\n",
              "27807      i have an appointment with dr pritee that day    ham           14\n",
              "19757      welcome to governor 's mansion rno chin chout   info           15\n",
              "3681        welcome to stetson university rno chin chout  Hotel            6\n",
              "10808             welcome to pebble beach rno chin chout  Hotel            6\n",
              "...                                                  ...    ...          ...\n",
              "21051               no lets have face to face discussion    ham           14\n",
              "18621  thank you for choosing ola for at cabka z chau...   info           15\n",
              "10360  ksrtc mticket from kozhikode to thiruvananthap...    Bus            1\n",
              "11458  thank you for choosing meru for at cabka j cha...    Cab            2\n",
              "17520  hamburger joint hi isaiah your reservation is ...   info           15\n",
              "\n",
              "[42008 rows x 3 columns]>"
            ]
          },
          "metadata": {
            "tags": []
          },
          "execution_count": 16
        }
      ]
    },
    {
      "cell_type": "code",
      "metadata": {
        "id": "7ORRgbHzxC-X",
        "colab_type": "code",
        "outputId": "dca547ff-f373-4923-f324-2ffd08d231c2",
        "colab": {
          "base_uri": "https://localhost:8080/",
          "height": 34
        }
      },
      "source": [
        "data['Text'][1]"
      ],
      "execution_count": 17,
      "outputs": [
        {
          "output_type": "execute_result",
          "data": {
            "text/plain": [
              "'welcome to southern university at shreveport rno chin chout'"
            ]
          },
          "metadata": {
            "tags": []
          },
          "execution_count": 17
        }
      ]
    },
    {
      "cell_type": "code",
      "metadata": {
        "id": "kWP-z5XUx-5W",
        "colab_type": "code",
        "colab": {}
      },
      "source": [
        "# x = data['Text']\n",
        "# y = data['Hot_Encoded']"
      ],
      "execution_count": 0,
      "outputs": []
    },
    {
      "cell_type": "code",
      "metadata": {
        "id": "bBeNVdVExxyD",
        "colab_type": "code",
        "colab": {}
      },
      "source": [
        "# X_train, X_test, y_train, y_test = train_test_split(\n",
        "# ...     x, y, test_size=0.20, random_state=42)"
      ],
      "execution_count": 0,
      "outputs": []
    },
    {
      "cell_type": "code",
      "metadata": {
        "id": "vhGzkMWdyI_v",
        "colab_type": "code",
        "colab": {}
      },
      "source": [
        "# X_train"
      ],
      "execution_count": 0,
      "outputs": []
    },
    {
      "cell_type": "code",
      "metadata": {
        "id": "kkXq0mxNyI1M",
        "colab_type": "code",
        "colab": {}
      },
      "source": [
        "# y_train"
      ],
      "execution_count": 0,
      "outputs": []
    },
    {
      "cell_type": "code",
      "metadata": {
        "id": "87jiasjq_222",
        "colab_type": "code",
        "colab": {
          "base_uri": "https://localhost:8080/",
          "height": 68
        },
        "outputId": "dc2ed3f1-9d63-42c4-f376-cbae4420367f"
      },
      "source": [
        "data['Label'].unique()"
      ],
      "execution_count": 73,
      "outputs": [
        {
          "output_type": "execute_result",
          "data": {
            "text/plain": [
              "array(['info', 'ham', 'Hotel', 'Expiry', 'spam', 'Movie', 'Payment',\n",
              "       'Cab', 'Reservation', 'Delivery', 'Flight', 'Train', 'PickUp',\n",
              "       'Appointment', 'Bus', 'bank', 'bill'], dtype=object)"
            ]
          },
          "metadata": {
            "tags": []
          },
          "execution_count": 73
        }
      ]
    },
    {
      "cell_type": "code",
      "metadata": {
        "id": "eqPKPoQYABQ9",
        "colab_type": "code",
        "colab": {
          "base_uri": "https://localhost:8080/",
          "height": 34
        },
        "outputId": "ddc166cd-0aea-45be-d031-706d5f4df0e1"
      },
      "source": [
        "data['Hot_Encoded'].unique()"
      ],
      "execution_count": 74,
      "outputs": [
        {
          "output_type": "execute_result",
          "data": {
            "text/plain": [
              "array([15, 14,  6,  4, 16,  7,  8,  2, 10,  3,  5, 11,  9,  0,  1, 12, 13])"
            ]
          },
          "metadata": {
            "tags": []
          },
          "execution_count": 74
        }
      ]
    },
    {
      "cell_type": "markdown",
      "metadata": {
        "id": "NdZcWL1ky4_A",
        "colab_type": "text"
      },
      "source": [
        "### transforming"
      ]
    },
    {
      "cell_type": "code",
      "metadata": {
        "id": "pEEhHGLny3y7",
        "colab_type": "code",
        "colab": {}
      },
      "source": [
        "# tfidf_vectorizer = TfidfVectorizer(max_features=8)\n",
        "# X_train = tfidf_vectorizer.fit_transform(X_train)\n",
        "# X_test = tfidf_vectorizer.fit_transform(X_test)\n",
        "# X_train = vectorizer.fit_transform(X_train)\n",
        "# X_test = vectorizer.fit_transform(X_test)"
      ],
      "execution_count": 0,
      "outputs": []
    },
    {
      "cell_type": "code",
      "metadata": {
        "id": "ysu7WN71fOXl",
        "colab_type": "code",
        "colab": {}
      },
      "source": [
        "# X_train[1].toarray()"
      ],
      "execution_count": 0,
      "outputs": []
    },
    {
      "cell_type": "code",
      "metadata": {
        "id": "_QrVRFfR0mN4",
        "colab_type": "code",
        "colab": {}
      },
      "source": [
        "# from sklearn.model_selection import cross_val_score\n",
        "# from sklearn.tree import DecisionTreeClassifier"
      ],
      "execution_count": 0,
      "outputs": []
    },
    {
      "cell_type": "code",
      "metadata": {
        "id": "Hm4O5TVQ1xA3",
        "colab_type": "code",
        "colab": {}
      },
      "source": [
        "# clf_tree = DecisionTreeClassifier(random_state=0)"
      ],
      "execution_count": 0,
      "outputs": []
    },
    {
      "cell_type": "code",
      "metadata": {
        "id": "dDP5gJy414cF",
        "colab_type": "code",
        "colab": {}
      },
      "source": [
        "# cross_val_score(clf_tree, X_train, y_train, cv=10)"
      ],
      "execution_count": 0,
      "outputs": []
    },
    {
      "cell_type": "code",
      "metadata": {
        "id": "UxDFLyN32EzC",
        "colab_type": "code",
        "colab": {}
      },
      "source": [
        "# clf_tree.fit(X_train, y_train)"
      ],
      "execution_count": 0,
      "outputs": []
    },
    {
      "cell_type": "code",
      "metadata": {
        "id": "QfEkxHMY2LHH",
        "colab_type": "code",
        "colab": {}
      },
      "source": [
        "# X_test= vectorizer.fit_transform(X_test)"
      ],
      "execution_count": 0,
      "outputs": []
    },
    {
      "cell_type": "code",
      "metadata": {
        "id": "Ure__gjB2rZ-",
        "colab_type": "code",
        "colab": {}
      },
      "source": [
        "# clf_tree.score(X_test, y_test)"
      ],
      "execution_count": 0,
      "outputs": []
    },
    {
      "cell_type": "markdown",
      "metadata": {
        "id": "dB5ANdXP3XO_",
        "colab_type": "text"
      },
      "source": [
        "### SGD"
      ]
    },
    {
      "cell_type": "code",
      "metadata": {
        "id": "jERSYB7Q2yNE",
        "colab_type": "code",
        "colab": {}
      },
      "source": [
        "# from sklearn import linear_model"
      ],
      "execution_count": 0,
      "outputs": []
    },
    {
      "cell_type": "code",
      "metadata": {
        "id": "gmPMnbgn3Lz-",
        "colab_type": "code",
        "colab": {}
      },
      "source": [
        "# clf_sgd = linear_model.SGDClassifier(max_iter=500, tol=1e-3)"
      ],
      "execution_count": 0,
      "outputs": []
    },
    {
      "cell_type": "code",
      "metadata": {
        "id": "rPcl-ZTi3PQu",
        "colab_type": "code",
        "colab": {}
      },
      "source": [
        "# clf_sgd.fit(X_train, y_train)"
      ],
      "execution_count": 0,
      "outputs": []
    },
    {
      "cell_type": "code",
      "metadata": {
        "id": "wFqDddbL3b-m",
        "colab_type": "code",
        "colab": {}
      },
      "source": [
        "# clf_sgd.score(X_test, y_test)"
      ],
      "execution_count": 0,
      "outputs": []
    },
    {
      "cell_type": "markdown",
      "metadata": {
        "id": "IEC2MknJ4ABS",
        "colab_type": "text"
      },
      "source": [
        "### XG Boost"
      ]
    },
    {
      "cell_type": "code",
      "metadata": {
        "id": "GeV0ANBl3g22",
        "colab_type": "code",
        "colab": {}
      },
      "source": [
        "# from xgboost import XGBClassifier\n",
        "# xgb_classifier = XGBClassifier(max_depth = 3, learning_rate = 0.01, n_estimators = 300)\n",
        "# xgb_classifier.fit(X_train, y_train)"
      ],
      "execution_count": 0,
      "outputs": []
    },
    {
      "cell_type": "code",
      "metadata": {
        "id": "VXRSJ8GR4wcg",
        "colab_type": "code",
        "colab": {}
      },
      "source": [
        "# xgb_classifier.score(X_test, y_test)"
      ],
      "execution_count": 0,
      "outputs": []
    },
    {
      "cell_type": "markdown",
      "metadata": {
        "id": "C6nd0I0Z49Qi",
        "colab_type": "text"
      },
      "source": [
        "### Ada Boost"
      ]
    },
    {
      "cell_type": "code",
      "metadata": {
        "id": "NvOg1Iq-44JO",
        "colab_type": "code",
        "colab": {}
      },
      "source": [
        "# from sklearn.ensemble import AdaBoostClassifier\n",
        "# ADA = AdaBoostClassifier(n_estimators = 100 , random_state=42)\n",
        "# scores = cross_val_score(ADA, X_train, y_train, cv=10)\n",
        "# #print(scores.mean())\n",
        "# ADA.fit(X_train, y_train)\n"
      ],
      "execution_count": 0,
      "outputs": []
    },
    {
      "cell_type": "code",
      "metadata": {
        "id": "qdPBdXpt5WDJ",
        "colab_type": "code",
        "colab": {}
      },
      "source": [
        "# ADA.score(X_test, y_test)"
      ],
      "execution_count": 0,
      "outputs": []
    },
    {
      "cell_type": "markdown",
      "metadata": {
        "id": "-loUrN4Y5wtM",
        "colab_type": "text"
      },
      "source": [
        "### KNN"
      ]
    },
    {
      "cell_type": "code",
      "metadata": {
        "id": "pcfSGw-u5cMj",
        "colab_type": "code",
        "colab": {}
      },
      "source": [
        "# from sklearn.neighbors import KNeighborsClassifier\n",
        "# KNN = KNeighborsClassifier(n_neighbors=5 )\n",
        "# KNN.fit(X_train, y_train)"
      ],
      "execution_count": 0,
      "outputs": []
    },
    {
      "cell_type": "code",
      "metadata": {
        "id": "cVJSxarJ5hzf",
        "colab_type": "code",
        "colab": {}
      },
      "source": [
        "# KNN.score(X_test, y_test)"
      ],
      "execution_count": 0,
      "outputs": []
    },
    {
      "cell_type": "markdown",
      "metadata": {
        "id": "zAFL4ns46Xc1",
        "colab_type": "text"
      },
      "source": [
        "### Sequential"
      ]
    },
    {
      "cell_type": "code",
      "metadata": {
        "id": "Aask-8_g5v7X",
        "colab_type": "code",
        "colab": {}
      },
      "source": [
        "# from keras.models import Sequential\n",
        "# from keras.layers import Dense, Dropout\n",
        "# from keras.regularizers import l1"
      ],
      "execution_count": 0,
      "outputs": []
    },
    {
      "cell_type": "code",
      "metadata": {
        "id": "J_l5lq2_6aQq",
        "colab_type": "code",
        "colab": {}
      },
      "source": [
        "# model = Sequential()\n",
        "# model.add(Dense(8, input_dim=X_train.shape[1], activation='sigmoid'))\n",
        "# #model.add(Dense(8, activation='relu'))\n",
        "# #model.add(Dense(4, activation='relu'))\n",
        "# model.add(Dense(2, activation='relu'))\n",
        "# #model.add(Dropout(0.2))\n",
        "# #model.add(Dropout(0.5))\n",
        "# model.add(Dense(1, activation='sigmoid'))"
      ],
      "execution_count": 0,
      "outputs": []
    },
    {
      "cell_type": "code",
      "metadata": {
        "id": "bNmtCWc36hqX",
        "colab_type": "code",
        "colab": {}
      },
      "source": [
        "# model.compile(loss='binary_crossentropy', optimizer='adam', metrics=['accuracy'])"
      ],
      "execution_count": 0,
      "outputs": []
    },
    {
      "cell_type": "code",
      "metadata": {
        "id": "M0GG2T7v6qKm",
        "colab_type": "code",
        "colab": {}
      },
      "source": [
        "# model.summary()"
      ],
      "execution_count": 0,
      "outputs": []
    },
    {
      "cell_type": "code",
      "metadata": {
        "id": "rG6N-erf6tmZ",
        "colab_type": "code",
        "colab": {}
      },
      "source": [
        "# history = model.fit(X_train, y_train, batch_size=100, epochs=100, validation_split=0.1)"
      ],
      "execution_count": 0,
      "outputs": []
    },
    {
      "cell_type": "markdown",
      "metadata": {
        "id": "trMkOp8b9Y81",
        "colab_type": "text"
      },
      "source": [
        "### MLP"
      ]
    },
    {
      "cell_type": "code",
      "metadata": {
        "id": "Wu9S-tjG8VS7",
        "colab_type": "code",
        "colab": {}
      },
      "source": [
        "# from sklearn.neural_network import MLPClassifier\n",
        "# mlp_model = MLPClassifier(hidden_layer_sizes=(32,2), random_state=1, max_iter=1000)\n",
        "# mlp_model.fit(X_train, y_train)\n",
        "# mlp_model.score(X_test, y_test)"
      ],
      "execution_count": 0,
      "outputs": []
    },
    {
      "cell_type": "markdown",
      "metadata": {
        "id": "P20enCRsEKKX",
        "colab_type": "text"
      },
      "source": [
        "### Random Forest Classifier"
      ]
    },
    {
      "cell_type": "code",
      "metadata": {
        "id": "7dkRjimWE6zd",
        "colab_type": "code",
        "colab": {}
      },
      "source": [
        "# from sklearn.ensemble import RandomForestClassifier\n",
        "# clf_rf = RandomForestClassifier(n_estimators=200, random_state=0)\n",
        "# clf_rf.fit(X_train, y_train)"
      ],
      "execution_count": 0,
      "outputs": []
    },
    {
      "cell_type": "code",
      "metadata": {
        "id": "beXBeCZGFLLh",
        "colab_type": "code",
        "colab": {}
      },
      "source": [
        "# clf_rf.score(X_test, y_test)"
      ],
      "execution_count": 0,
      "outputs": []
    },
    {
      "cell_type": "code",
      "metadata": {
        "id": "gmgMX887Frav",
        "colab_type": "code",
        "colab": {}
      },
      "source": [
        "# x = clf_rf.predict(X_test[10])"
      ],
      "execution_count": 0,
      "outputs": []
    },
    {
      "cell_type": "code",
      "metadata": {
        "id": "t61hfsvSGA6j",
        "colab_type": "code",
        "colab": {}
      },
      "source": [
        "# x"
      ],
      "execution_count": 0,
      "outputs": []
    },
    {
      "cell_type": "code",
      "metadata": {
        "id": "jMTH5j_sVY1x",
        "colab_type": "code",
        "colab": {}
      },
      "source": [
        "# y_test[15]"
      ],
      "execution_count": 0,
      "outputs": []
    },
    {
      "cell_type": "code",
      "metadata": {
        "id": "M8UY095yGsi5",
        "colab_type": "code",
        "colab": {}
      },
      "source": [
        "# y_test"
      ],
      "execution_count": 0,
      "outputs": []
    },
    {
      "cell_type": "markdown",
      "metadata": {
        "id": "05889mLRqVZq",
        "colab_type": "text"
      },
      "source": [
        "### LSTMs or GRU"
      ]
    },
    {
      "cell_type": "code",
      "metadata": {
        "id": "dswXfJSfqUur",
        "colab_type": "code",
        "colab": {
          "base_uri": "https://localhost:8080/",
          "height": 97
        },
        "outputId": "0a129964-6fd4-43aa-8d25-458a69b738c9"
      },
      "source": [
        " from keras.preprocessing.text import Tokenizer\n",
        "MAX_NB_WORDS = 20000\n",
        "MAX_SEQUENCE_LENGTH = 10\n",
        "EMBEDDING_DIM = 3\n",
        "\n",
        "tokenizer = Tokenizer(num_words=MAX_NB_WORDS, filters='!\"#$%&()*+,-./:;<=>?@[\\]^_`{|}~!\"#$%&()*+,-./:;<=>?@[\\\\]^_`{|}~\\t\\n“”’\\'∞θ÷α•à−β∅³π‘₹´°£€\\×™√²—', lower=True)\n",
        "tokenizer.fit_on_texts(data['Text'].values)\n",
        "word_index = tokenizer.word_index\n",
        "print('Found %s unique tokens.' % len(word_index))"
      ],
      "execution_count": 51,
      "outputs": [
        {
          "output_type": "stream",
          "text": [
            "Using TensorFlow backend.\n"
          ],
          "name": "stderr"
        },
        {
          "output_type": "display_data",
          "data": {
            "text/html": [
              "<p style=\"color: red;\">\n",
              "The default version of TensorFlow in Colab will soon switch to TensorFlow 2.x.<br>\n",
              "We recommend you <a href=\"https://www.tensorflow.org/guide/migrate\" target=\"_blank\">upgrade</a> now \n",
              "or ensure your notebook will continue to use TensorFlow 1.x via the <code>%tensorflow_version 1.x</code> magic:\n",
              "<a href=\"https://colab.research.google.com/notebooks/tensorflow_version.ipynb\" target=\"_blank\">more info</a>.</p>\n"
            ],
            "text/plain": [
              "<IPython.core.display.HTML object>"
            ]
          },
          "metadata": {
            "tags": []
          }
        },
        {
          "output_type": "stream",
          "text": [
            "Found 24788 unique tokens.\n"
          ],
          "name": "stdout"
        }
      ]
    },
    {
      "cell_type": "code",
      "metadata": {
        "id": "woVYyabgq-uR",
        "colab_type": "code",
        "colab": {
          "base_uri": "https://localhost:8080/",
          "height": 34
        },
        "outputId": "fc19d68b-350a-45ec-fc31-b5ad875dfe46"
      },
      "source": [
        "from keras.preprocessing.sequence import pad_sequences\n",
        "X = tokenizer.texts_to_sequences(data['Text'].values)\n",
        "X = pad_sequences(X, maxlen=MAX_SEQUENCE_LENGTH)\n",
        "print('Shape of data tensor:', X.shape)"
      ],
      "execution_count": 52,
      "outputs": [
        {
          "output_type": "stream",
          "text": [
            "Shape of data tensor: (42008, 10)\n"
          ],
          "name": "stdout"
        }
      ]
    },
    {
      "cell_type": "code",
      "metadata": {
        "id": "McvtNoiar0E5",
        "colab_type": "code",
        "colab": {
          "base_uri": "https://localhost:8080/",
          "height": 51
        },
        "outputId": "1e3eb619-d23d-44ce-e86a-f642c0b29f6f"
      },
      "source": [
        "Y = pd.get_dummies(data['Label']).values\n",
        "print('Shape of label tensor:', Y.shape)\n",
        "Y[3]"
      ],
      "execution_count": 67,
      "outputs": [
        {
          "output_type": "stream",
          "text": [
            "Shape of label tensor: (42008, 17)\n"
          ],
          "name": "stdout"
        },
        {
          "output_type": "execute_result",
          "data": {
            "text/plain": [
              "array([0, 0, 0, 0, 0, 0, 1, 0, 0, 0, 0, 0, 0, 0, 0, 0, 0], dtype=uint8)"
            ]
          },
          "metadata": {
            "tags": []
          },
          "execution_count": 67
        }
      ]
    },
    {
      "cell_type": "code",
      "metadata": {
        "id": "mcsC43m5sGER",
        "colab_type": "code",
        "colab": {
          "base_uri": "https://localhost:8080/",
          "height": 51
        },
        "outputId": "acc5924c-2874-4e2d-ac4f-1b603404ce77"
      },
      "source": [
        "X_train, X_test, Y_train, Y_test = train_test_split(X,Y, test_size = 0.10, random_state = 42)\n",
        "print(X_train.shape,Y_train.shape)\n",
        "print(X_test.shape,Y_test.shape)"
      ],
      "execution_count": 54,
      "outputs": [
        {
          "output_type": "stream",
          "text": [
            "(37807, 10) (37807, 17)\n",
            "(4201, 10) (4201, 17)\n"
          ],
          "name": "stdout"
        }
      ]
    },
    {
      "cell_type": "code",
      "metadata": {
        "id": "NWymBpkfsV2x",
        "colab_type": "code",
        "colab": {
          "base_uri": "https://localhost:8080/",
          "height": 292
        },
        "outputId": "a01cf27f-a599-465a-b62a-6049476fadf8"
      },
      "source": [
        "from keras.models import Sequential\n",
        "from keras.layers import Embedding, SpatialDropout1D, LSTM, Dense, Dropout , GRU\n",
        "from keras.callbacks import ModelCheckpoint, EarlyStopping\n",
        "model = Sequential()\n",
        "model.add(Embedding(MAX_NB_WORDS, EMBEDDING_DIM, input_length=X.shape[1]))\n",
        "model.add(SpatialDropout1D(0.2))\n",
        "model.add(GRU(100, dropout=0.2, recurrent_dropout=0.2))\n",
        "model.add(Dense(17, activation='softmax'))\n",
        "model.compile(loss='categorical_crossentropy', optimizer='adam', metrics=['accuracy'])\n",
        "\n",
        "epochs = 25\n",
        "batch_size = 64"
      ],
      "execution_count": 55,
      "outputs": [
        {
          "output_type": "stream",
          "text": [
            "WARNING:tensorflow:From /usr/local/lib/python3.6/dist-packages/keras/backend/tensorflow_backend.py:66: The name tf.get_default_graph is deprecated. Please use tf.compat.v1.get_default_graph instead.\n",
            "\n",
            "WARNING:tensorflow:From /usr/local/lib/python3.6/dist-packages/keras/backend/tensorflow_backend.py:541: The name tf.placeholder is deprecated. Please use tf.compat.v1.placeholder instead.\n",
            "\n",
            "WARNING:tensorflow:From /usr/local/lib/python3.6/dist-packages/keras/backend/tensorflow_backend.py:4432: The name tf.random_uniform is deprecated. Please use tf.random.uniform instead.\n",
            "\n",
            "WARNING:tensorflow:From /usr/local/lib/python3.6/dist-packages/keras/backend/tensorflow_backend.py:148: The name tf.placeholder_with_default is deprecated. Please use tf.compat.v1.placeholder_with_default instead.\n",
            "\n",
            "WARNING:tensorflow:From /usr/local/lib/python3.6/dist-packages/keras/backend/tensorflow_backend.py:3733: calling dropout (from tensorflow.python.ops.nn_ops) with keep_prob is deprecated and will be removed in a future version.\n",
            "Instructions for updating:\n",
            "Please use `rate` instead of `keep_prob`. Rate should be set to `rate = 1 - keep_prob`.\n",
            "WARNING:tensorflow:From /usr/local/lib/python3.6/dist-packages/keras/optimizers.py:793: The name tf.train.Optimizer is deprecated. Please use tf.compat.v1.train.Optimizer instead.\n",
            "\n",
            "WARNING:tensorflow:From /usr/local/lib/python3.6/dist-packages/keras/backend/tensorflow_backend.py:3576: The name tf.log is deprecated. Please use tf.math.log instead.\n",
            "\n"
          ],
          "name": "stdout"
        }
      ]
    },
    {
      "cell_type": "code",
      "metadata": {
        "id": "i1fUBn-U4UOZ",
        "colab_type": "code",
        "colab": {
          "base_uri": "https://localhost:8080/",
          "height": 615
        },
        "outputId": "349fef97-c4b0-4144-a9f7-7ecc72073989"
      },
      "source": [
        "history = model.fit(X_train, Y_train, epochs=epochs, batch_size=batch_size,validation_split=0.1,callbacks=[EarlyStopping(monitor='val_loss', patience=3, min_delta=0.0001)])"
      ],
      "execution_count": 56,
      "outputs": [
        {
          "output_type": "stream",
          "text": [
            "WARNING:tensorflow:From /usr/local/lib/python3.6/dist-packages/tensorflow_core/python/ops/math_grad.py:1424: where (from tensorflow.python.ops.array_ops) is deprecated and will be removed in a future version.\n",
            "Instructions for updating:\n",
            "Use tf.where in 2.0, which has the same broadcast rule as np.where\n",
            "WARNING:tensorflow:From /usr/local/lib/python3.6/dist-packages/keras/backend/tensorflow_backend.py:1033: The name tf.assign_add is deprecated. Please use tf.compat.v1.assign_add instead.\n",
            "\n",
            "WARNING:tensorflow:From /usr/local/lib/python3.6/dist-packages/keras/backend/tensorflow_backend.py:1020: The name tf.assign is deprecated. Please use tf.compat.v1.assign instead.\n",
            "\n",
            "WARNING:tensorflow:From /usr/local/lib/python3.6/dist-packages/keras/backend/tensorflow_backend.py:3005: The name tf.Session is deprecated. Please use tf.compat.v1.Session instead.\n",
            "\n",
            "Train on 34026 samples, validate on 3781 samples\n",
            "Epoch 1/25\n",
            "WARNING:tensorflow:From /usr/local/lib/python3.6/dist-packages/keras/backend/tensorflow_backend.py:190: The name tf.get_default_session is deprecated. Please use tf.compat.v1.get_default_session instead.\n",
            "\n",
            "WARNING:tensorflow:From /usr/local/lib/python3.6/dist-packages/keras/backend/tensorflow_backend.py:197: The name tf.ConfigProto is deprecated. Please use tf.compat.v1.ConfigProto instead.\n",
            "\n",
            "WARNING:tensorflow:From /usr/local/lib/python3.6/dist-packages/keras/backend/tensorflow_backend.py:207: The name tf.global_variables is deprecated. Please use tf.compat.v1.global_variables instead.\n",
            "\n",
            "WARNING:tensorflow:From /usr/local/lib/python3.6/dist-packages/keras/backend/tensorflow_backend.py:216: The name tf.is_variable_initialized is deprecated. Please use tf.compat.v1.is_variable_initialized instead.\n",
            "\n",
            "WARNING:tensorflow:From /usr/local/lib/python3.6/dist-packages/keras/backend/tensorflow_backend.py:223: The name tf.variables_initializer is deprecated. Please use tf.compat.v1.variables_initializer instead.\n",
            "\n",
            "34026/34026 [==============================] - 15s 450us/step - loss: 1.5408 - acc: 0.5466 - val_loss: 0.8520 - val_acc: 0.6784\n",
            "Epoch 2/25\n",
            "34026/34026 [==============================] - 10s 298us/step - loss: 0.7696 - acc: 0.6657 - val_loss: 0.5001 - val_acc: 0.6763\n",
            "Epoch 3/25\n",
            "34026/34026 [==============================] - 10s 293us/step - loss: 0.5992 - acc: 0.6759 - val_loss: 0.4703 - val_acc: 0.6908\n",
            "Epoch 4/25\n",
            "34026/34026 [==============================] - 10s 298us/step - loss: 0.5494 - acc: 0.6920 - val_loss: 0.4675 - val_acc: 0.6837\n",
            "Epoch 5/25\n",
            "34026/34026 [==============================] - 10s 292us/step - loss: 0.5283 - acc: 0.7018 - val_loss: 0.4753 - val_acc: 0.6927\n",
            "Epoch 6/25\n",
            "34026/34026 [==============================] - 10s 297us/step - loss: 0.5036 - acc: 0.7120 - val_loss: 0.4845 - val_acc: 0.6876\n",
            "Epoch 7/25\n",
            "34026/34026 [==============================] - 10s 289us/step - loss: 0.4718 - acc: 0.7285 - val_loss: 0.5026 - val_acc: 0.6940\n"
          ],
          "name": "stdout"
        }
      ]
    },
    {
      "cell_type": "code",
      "metadata": {
        "id": "9QH6mm4a1NGd",
        "colab_type": "code",
        "colab": {
          "base_uri": "https://localhost:8080/",
          "height": 85
        },
        "outputId": "c52a7473-4215-4fb7-9179-d510b555ab7e"
      },
      "source": [
        "accr = model.evaluate(X_test,Y_test)\n",
        "print('Test set\\n  Loss: {:0.3f}\\n  Accuracy: {:0.3f}'.format(accr[0],accr[1]))"
      ],
      "execution_count": 57,
      "outputs": [
        {
          "output_type": "stream",
          "text": [
            "4201/4201 [==============================] - 1s 214us/step\n",
            "Test set\n",
            "  Loss: 0.499\n",
            "  Accuracy: 0.695\n"
          ],
          "name": "stdout"
        }
      ]
    },
    {
      "cell_type": "code",
      "metadata": {
        "id": "o4HzJy_21X7F",
        "colab_type": "code",
        "colab": {
          "base_uri": "https://localhost:8080/",
          "height": 281
        },
        "outputId": "6937811a-b967-4203-8399-51299fed6a21"
      },
      "source": [
        "plt.title('Loss')\n",
        "plt.plot(history.history['loss'], label='train')\n",
        "plt.plot(history.history['val_loss'], label='test')\n",
        "plt.legend()\n",
        "plt.show();"
      ],
      "execution_count": 58,
      "outputs": [
        {
          "output_type": "display_data",
          "data": {
            "image/png": "[encoded data removed]",
            "text/plain": [
              "<Figure size 432x288 with 1 Axes>"
            ]
          },
          "metadata": {
            "tags": []
          }
        }
      ]
    },
    {
      "cell_type": "code",
      "metadata": {
        "id": "mIRcGbf51dCL",
        "colab_type": "code",
        "colab": {
          "base_uri": "https://localhost:8080/",
          "height": 281
        },
        "outputId": "c8f0bb6e-a3cd-4268-d75d-c8c50b016a91"
      },
      "source": [
        "plt.title('Accuracy')\n",
        "plt.plot(history.history['acc'], label='train')\n",
        "plt.plot(history.history['val_acc'], label='test')\n",
        "plt.legend()\n",
        "plt.show();"
      ],
      "execution_count": 59,
      "outputs": [
        {
          "output_type": "display_data",
          "data": {
            "image/png": "[encoded data removed]",
            "text/plain": [
              "<Figure size 432x288 with 1 Axes>"
            ]
          },
          "metadata": {
            "tags": []
          }
        }
      ]
    },
    {
      "cell_type": "markdown",
      "metadata": {
        "id": "0H6o9cuS1rX_",
        "colab_type": "text"
      },
      "source": [
        "#### Predict"
      ]
    },
    {
      "cell_type": "code",
      "metadata": {
        "id": "UTbd---J3fbr",
        "colab_type": "code",
        "colab": {}
      },
      "source": [
        "labels = data['Label'].unique()"
      ],
      "execution_count": 0,
      "outputs": []
    },
    {
      "cell_type": "code",
      "metadata": {
        "id": "3ijh-iBc1pNa",
        "colab_type": "code",
        "colab": {
          "base_uri": "https://localhost:8080/",
          "height": 34
        },
        "outputId": "b5006abf-38fb-430b-cdf1-231ac77714fc"
      },
      "source": [
        "new_sms = ['Hi Customer, Booking ID: WONQVSS. Seats: GOLD-D3,D4, 2 seat(s) for Miss Peregrines Home for Peculiar Children on 2012-04-17 0:11 at Rex Theatre: Brigade Road. Please carry your CC/DC card which was used for booking tickets.']\n",
        "seq = tokenizer.texts_to_sequences(new_sms)\n",
        "padded = pad_sequences(seq, maxlen=MAX_SEQUENCE_LENGTH)\n",
        "pred = model.predict(padded)\n",
        "#labels = ['Appointment', 'Flight', 'Cab', 'Bus', 'Payment','Hotel', 'Delivery', 'bank', 'bill','Reservation', 'ham', 'spam', 'info','PickUp',  'Movie', 'Train','Expiry', ]\n",
        "print(np.argmax(pred))"
      ],
      "execution_count": 71,
      "outputs": [
        {
          "output_type": "stream",
          "text": [
            "7\n"
          ],
          "name": "stdout"
        }
      ]
    }
  ]
}