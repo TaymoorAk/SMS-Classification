{
  "nbformat": 4,
  "nbformat_minor": 0,
  "metadata": {
    "colab": {
      "name": "WithTensorflow2.0.ipynb",
      "provenance": [],
      "collapsed_sections": []
    },
    "kernelspec": {
      "name": "python3",
      "display_name": "Python 3"
    }
  },
  "cells": [
    {
      "cell_type": "code",
      "metadata": {
        "id": "Hq0tpgFUScbu",
        "colab_type": "code",
        "colab": {}
      },
      "source": [
        "#!pip uninstall tensorflow"
      ],
      "execution_count": 0,
      "outputs": []
    },
    {
      "cell_type": "code",
      "metadata": {
        "id": "WmpnrLp4SivI",
        "colab_type": "code",
        "colab": {}
      },
      "source": [
        "# !pip install tensorflow==2.0.0\n",
        "#!pip install tf-nightly"
      ],
      "execution_count": 0,
      "outputs": []
    },
    {
      "cell_type": "code",
      "metadata": {
        "id": "c8bb8jyhS6Z_",
        "colab_type": "code",
        "colab": {
          "base_uri": "https://localhost:8080/",
          "height": 34
        },
        "outputId": "1d211d0c-23c8-498a-c020-a9f410861a7f"
      },
      "source": [
        "import numpy as np\n",
        "import pandas as pd\n",
        "import matplotlib.pyplot as plt\n",
        "import spacy\n",
        "import sys\n",
        "import warnings\n",
        "from keras import layers\n",
        "import tensorflow as tf\n",
        "import pickle\n",
        "from tensorflow.keras.preprocessing.text import Tokenizer\n",
        "from tensorflow.keras.preprocessing.sequence import pad_sequences\n",
        "from sklearn.model_selection import train_test_split\n",
        "warnings.filterwarnings(\"ignore\")"
      ],
      "execution_count": 3,
      "outputs": [
        {
          "output_type": "stream",
          "text": [
            "Using TensorFlow backend.\n"
          ],
          "name": "stderr"
        }
      ]
    },
    {
      "cell_type": "code",
      "metadata": {
        "id": "Rr3Ooog0TAlA",
        "colab_type": "code",
        "colab": {}
      },
      "source": [
        "dataset = pd.read_csv('train_sms_mine.csv', encoding='cp1252')"
      ],
      "execution_count": 0,
      "outputs": []
    },
    {
      "cell_type": "code",
      "metadata": {
        "id": "eKXZasKDTmGY",
        "colab_type": "code",
        "colab": {
          "base_uri": "https://localhost:8080/",
          "height": 255
        },
        "outputId": "012b18b2-b74d-46ef-cacf-43cf17b978cc"
      },
      "source": [
        "dataset.head"
      ],
      "execution_count": 5,
      "outputs": [
        {
          "output_type": "execute_result",
          "data": {
            "text/plain": [
              "<bound method NDFrame.head of              Label                                            Message\n",
              "0         Delivery  Dear Guest, Thanks for choosing The Edison. Or...\n",
              "1            Hotel  Welcome to Southern University at Shreveport R...\n",
              "2          Payment  Bill dated 2013-01-14 for Rs 626 has been gene...\n",
              "3          Payment  Bill dated 2014-11-30 for Rs 323 has been gene...\n",
              "4      Appointment  DEAR Zachary, THANK YOU FOR YOUR BOOKING (ORDE...\n",
              "...            ...                                                ...\n",
              "42015  transaction  Trx ID 70779011. You have sent Rs. 80000 to CN...\n",
              "42016  transaction  Trx ID 70779011. You have sent Rs. 5000 to CNI...\n",
              "42017         bank  Dear Customer Online Clearing Cheque amounting...\n",
              "42018         bank  Dear Customer Online Clearing Cheque amounting...\n",
              "42019         bank  Dear Customer Online Clearing Cheque amounting...\n",
              "\n",
              "[42020 rows x 2 columns]>"
            ]
          },
          "metadata": {
            "tags": []
          },
          "execution_count": 5
        }
      ]
    },
    {
      "cell_type": "code",
      "metadata": {
        "id": "_AI6qkfMToef",
        "colab_type": "code",
        "colab": {}
      },
      "source": [
        "bank =[]\n",
        "payement = []\n",
        "bill = []\n",
        "info = []\n",
        "ham = []\n",
        "appointment = []\n",
        "hotel = []\n",
        "pickup = []\n",
        "transaction = []"
      ],
      "execution_count": 0,
      "outputs": []
    },
    {
      "cell_type": "code",
      "metadata": {
        "id": "rPnKNPU6TrO3",
        "colab_type": "code",
        "colab": {}
      },
      "source": [
        "for i in range(len(dataset)):\n",
        "  if dataset['Label'][i] == 'bank':\n",
        "    bank.append(dataset['Message'][i])\n",
        "  elif dataset['Label'][i] == 'bill':\n",
        "    bill.append(dataset['Message'][i])\n",
        "  elif dataset['Label'][i] == 'Payment':\n",
        "    payement.append(dataset['Message'][i])\n",
        "  elif dataset['Label'][i] == 'info':\n",
        "    info.append(dataset['Message'][i])\n",
        "  elif dataset['Label'][i] =='ham':\n",
        "    ham.append(dataset['Message'][i])\n",
        "  elif dataset['Label'][i] == 'Appointment':\n",
        "    appointment.append(dataset['Message'][i])\n",
        "  elif dataset['Label'][i] == 'Hotel':\n",
        "    hotel.append(dataset['Message'][i])\n",
        "  elif dataset['Label'][i] == 'PickUp':\n",
        "    pickup.append(dataset['Message'][i])\n",
        "  elif dataset['Label'][i] == 'transaction':\n",
        "    transaction.append(dataset['Message'][i])\n",
        "  else:\n",
        "    continue"
      ],
      "execution_count": 0,
      "outputs": []
    },
    {
      "cell_type": "code",
      "metadata": {
        "id": "sZYjTRmWTtiP",
        "colab_type": "code",
        "colab": {}
      },
      "source": [
        "data = pd.DataFrame(columns=['Text','Label',])"
      ],
      "execution_count": 0,
      "outputs": []
    },
    {
      "cell_type": "code",
      "metadata": {
        "id": "Sk7JINj5Twf_",
        "colab_type": "code",
        "colab": {}
      },
      "source": [
        "text = []\n",
        "label = []\n",
        "for tex in bank:\n",
        "  text.append(tex)\n",
        "  label.append(1)\n",
        "for tex in bill:\n",
        "  text.append(tex)\n",
        "  label.append(1)\n",
        "for tex in payement:\n",
        "  text.append(tex)\n",
        "  label.append(1)\n",
        "for tex in pickup:\n",
        "  text.append(tex)\n",
        "  label.append(1)\n",
        "for tex in transaction:\n",
        "  text.append(tex)\n",
        "  label.append(1)\n",
        "##### Neg\n",
        "\n",
        "for tex in info:\n",
        "  text.append(tex)\n",
        "  label.append(0)\n",
        "for tex in ham:\n",
        "  text.append(tex)\n",
        "  label.append(0)\n",
        "for tex in appointment:\n",
        "  text.append(tex)\n",
        "  label.append(0)\n",
        "for tex in hotel:\n",
        "  text.append(tex)\n",
        "  label.append(0)"
      ],
      "execution_count": 0,
      "outputs": []
    },
    {
      "cell_type": "code",
      "metadata": {
        "id": "s6IfnkMCTzBn",
        "colab_type": "code",
        "colab": {
          "base_uri": "https://localhost:8080/",
          "height": 255
        },
        "outputId": "fe68d1ca-6dba-4115-e295-dfc400a8b8ae"
      },
      "source": [
        "data['Text'] = text\n",
        "data['Label'] = label\n",
        "data.head"
      ],
      "execution_count": 10,
      "outputs": [
        {
          "output_type": "execute_result",
          "data": {
            "text/plain": [
              "<bound method NDFrame.head of                                                     Text  Label\n",
              "0      Thank you for using your ICICI bank CREDITcard...      1\n",
              "1      OTP is 817453 for the txn of INR 8262.00 at SP...      1\n",
              "2      Ur transaction on HDFC Bank CREDIT Card ending...      1\n",
              "3      Thank you for using your HDFC bank Debitcard e...      1\n",
              "4      Dear Customer, You have made a Debit Card purc...      1\n",
              "...                                                  ...    ...\n",
              "28785  Welcome to Fossil Ridge Park R.No. 195, 132, 1...      0\n",
              "28786  Welcome to Curwood Castle R.No. 491, 236 Ch.In...      0\n",
              "28787  Welcome to MAINSOURCE FNCL GRP R.No. 203, 174,...      0\n",
              "28788  Welcome to Seto Inland Sea R.No. 384, 198 Ch.I...      0\n",
              "28789  Welcome to National Aviary R.No. 109, 589, 533...      0\n",
              "\n",
              "[28790 rows x 2 columns]>"
            ]
          },
          "metadata": {
            "tags": []
          },
          "execution_count": 10
        }
      ]
    },
    {
      "cell_type": "code",
      "metadata": {
        "id": "DLiB4T4GT1Bn",
        "colab_type": "code",
        "colab": {
          "base_uri": "https://localhost:8080/",
          "height": 255
        },
        "outputId": "88b301b1-56be-46e1-e341-15cb35882aa9"
      },
      "source": [
        "from sklearn.utils import shuffle\n",
        "data = shuffle(data)\n",
        "data.reset_index()\n",
        "data.head"
      ],
      "execution_count": 11,
      "outputs": [
        {
          "output_type": "execute_result",
          "data": {
            "text/plain": [
              "<bound method NDFrame.head of                                                     Text  Label\n",
              "28149  Welcome to Fort Sanders R.No. 346, 324, 110 Ch...      0\n",
              "13743  Bimal Auto Agency : Service of your car KA13N2...      0\n",
              "8466   YourBus (KANNUR-HASSAN 17:30) left  Hosur at 1...      0\n",
              "7339   PNR:2188367736,TRAIN:4253,DOJ:2014-11-22,FC,BS...      0\n",
              "13135  Repair ref.no for your car is JC75518166 opene...      0\n",
              "...                                                  ...    ...\n",
              "18705  Could you turn off the sprinklers? I think I m...      0\n",
              "10977  PNR:2534535583,TRAIN:51634,DOJ:2013-06-23,AC3,...      0\n",
              "18775           george will be meeting mary during lunch      0\n",
              "1199   Thank you for using your SBI bank Debitcard en...      1\n",
              "9328   Dear Guest, Thanks for choosing AQUAGRILL. Ord...      0\n",
              "\n",
              "[28790 rows x 2 columns]>"
            ]
          },
          "metadata": {
            "tags": []
          },
          "execution_count": 11
        }
      ]
    },
    {
      "cell_type": "code",
      "metadata": {
        "id": "Lz91c_jOT3FH",
        "colab_type": "code",
        "colab": {}
      },
      "source": [
        "punctuation = '.!\"#$%&()*+-/:,;<=>?@[\\\\]^_`{|}~'\n",
        "\n",
        "data['Text'] = data['Text'].apply(lambda x: ''.join(ch for ch in x if ch not in set(punctuation)))\n",
        "data['Text'] = data['Text'].str.lower()\n",
        "data['Text'] = data['Text'].str.replace(\"[0-9]\", \" \")\n",
        "data['Text'] = data['Text'].apply(lambda x: ' '.join(x.split()))"
      ],
      "execution_count": 0,
      "outputs": []
    },
    {
      "cell_type": "code",
      "metadata": {
        "id": "fixqENMKT5PH",
        "colab_type": "code",
        "colab": {
          "base_uri": "https://localhost:8080/",
          "height": 34
        },
        "outputId": "b9bc7d5e-3522-4be8-d588-e0288a4316f3"
      },
      "source": [
        "# from keras.preprocessing.text import Tokenizer\n",
        "MAX_NB_WORDS = 12000\n",
        "MAX_SEQUENCE_LENGTH = 10\n",
        "EMBEDDING_DIM = 20\n",
        "\n",
        "#tokenizer = Tokenizer(num_words=MAX_NB_WORDS, filters='!\"#$%&()*+,-./:;<=>?@[\\]^_`{|}~!\"#$%&()*+,-./:;<=>?@[\\\\]^_`{|}~\\t\\n“”’\\'∞θ÷α•à−β∅³π‘₹´°£€\\×™√²—', lower=True)\n",
        "tokenizer = pickle.load(open('_tokenizer.pkl', 'rb'))\n",
        "tokenizer.fit_on_texts(data['Text'].values)\n",
        "word_index = tokenizer.word_index\n",
        "print('Found %s unique tokens.' % len(word_index))"
      ],
      "execution_count": 13,
      "outputs": [
        {
          "output_type": "stream",
          "text": [
            "Found 16169 unique tokens.\n"
          ],
          "name": "stdout"
        }
      ]
    },
    {
      "cell_type": "code",
      "metadata": {
        "id": "zy-joofKT79f",
        "colab_type": "code",
        "colab": {
          "base_uri": "https://localhost:8080/",
          "height": 34
        },
        "outputId": "a55fb2dc-b5fd-4e70-a7d7-0af4bed92ebb"
      },
      "source": [
        "# from keras.preprocessing.sequence import pad_sequences\n",
        "X = tokenizer.texts_to_sequences(data['Text'].values)\n",
        "X = pad_sequences(X, maxlen=MAX_SEQUENCE_LENGTH)\n",
        "print('Shape of data tensor:', X.shape)"
      ],
      "execution_count": 14,
      "outputs": [
        {
          "output_type": "stream",
          "text": [
            "Shape of data tensor: (28790, 10)\n"
          ],
          "name": "stdout"
        }
      ]
    },
    {
      "cell_type": "code",
      "metadata": {
        "id": "Zf68UYCDT-Se",
        "colab_type": "code",
        "colab": {
          "base_uri": "https://localhost:8080/",
          "height": 51
        },
        "outputId": "9bfd3e75-5cf9-4bc4-d3fe-28f4969638ce"
      },
      "source": [
        "Y = pd.get_dummies(data['Label']).values.astype('float32')\n",
        "print('Shape of label tensor:', Y.shape)\n",
        "Y[3]"
      ],
      "execution_count": 15,
      "outputs": [
        {
          "output_type": "stream",
          "text": [
            "Shape of label tensor: (28790, 2)\n"
          ],
          "name": "stdout"
        },
        {
          "output_type": "execute_result",
          "data": {
            "text/plain": [
              "array([1., 0.], dtype=float32)"
            ]
          },
          "metadata": {
            "tags": []
          },
          "execution_count": 15
        }
      ]
    },
    {
      "cell_type": "code",
      "metadata": {
        "id": "JLynpLPyUB82",
        "colab_type": "code",
        "colab": {
          "base_uri": "https://localhost:8080/",
          "height": 51
        },
        "outputId": "b6f6d626-3953-419e-a663-056f09a7b97c"
      },
      "source": [
        "X_train, X_test, Y_train, Y_test = train_test_split(X,Y, test_size = 0.10, random_state = 42)\n",
        "print(X_train.shape,Y_train.shape)\n",
        "print(X_test.shape,Y_test.shape)"
      ],
      "execution_count": 16,
      "outputs": [
        {
          "output_type": "stream",
          "text": [
            "(25911, 10) (25911, 2)\n",
            "(2879, 10) (2879, 2)\n"
          ],
          "name": "stdout"
        }
      ]
    },
    {
      "cell_type": "code",
      "metadata": {
        "id": "E_yQVzaAUE02",
        "colab_type": "code",
        "colab": {}
      },
      "source": [
        "embedding_dim = 100\n",
        "dropout = 0.5\n",
        "optimizer = 'adam'"
      ],
      "execution_count": 0,
      "outputs": []
    },
    {
      "cell_type": "code",
      "metadata": {
        "id": "qMitZ63oU9YV",
        "colab_type": "code",
        "colab": {}
      },
      "source": [
        "model = tf.keras.Sequential([tf.keras.layers.Embedding(MAX_NB_WORDS,EMBEDDING_DIM,input_length=X.shape[1]),\n",
        "                             tf.keras.layers.SpatialDropout1D(0.2),\n",
        "                             tf.keras.layers.LSTM(32, dropout=0.2, recurrent_dropout=0.2),\n",
        "                             tf.keras.layers.Dense(128,activation='relu'),\n",
        "                             tf.keras.layers.Dropout(dropout),\n",
        "                             tf.keras.layers.Dense(64,activation='relu'),\n",
        "                             tf.keras.layers.Dropout(dropout),\n",
        "                             tf.keras.layers.Dense(32,activation='relu'),\n",
        "                             tf.keras.layers.Dropout(dropout),\n",
        "                             tf.keras.layers.Dense(2,activation='sigmoid')])"
      ],
      "execution_count": 0,
      "outputs": []
    },
    {
      "cell_type": "code",
      "metadata": {
        "id": "pWeGAxNWW1ht",
        "colab_type": "code",
        "colab": {
          "base_uri": "https://localhost:8080/",
          "height": 493
        },
        "outputId": "3333d42c-a6eb-45c5-b25e-aa1b7ce35667"
      },
      "source": [
        "model.summary()"
      ],
      "execution_count": 19,
      "outputs": [
        {
          "output_type": "stream",
          "text": [
            "Model: \"sequential\"\n",
            "_________________________________________________________________\n",
            "Layer (type)                 Output Shape              Param #   \n",
            "=================================================================\n",
            "embedding (Embedding)        (None, 10, 20)            240000    \n",
            "_________________________________________________________________\n",
            "spatial_dropout1d (SpatialDr (None, 10, 20)            0         \n",
            "_________________________________________________________________\n",
            "lstm (LSTM)                  (None, 32)                6784      \n",
            "_________________________________________________________________\n",
            "dense (Dense)                (None, 128)               4224      \n",
            "_________________________________________________________________\n",
            "dropout (Dropout)            (None, 128)               0         \n",
            "_________________________________________________________________\n",
            "dense_1 (Dense)              (None, 64)                8256      \n",
            "_________________________________________________________________\n",
            "dropout_1 (Dropout)          (None, 64)                0         \n",
            "_________________________________________________________________\n",
            "dense_2 (Dense)              (None, 32)                2080      \n",
            "_________________________________________________________________\n",
            "dropout_2 (Dropout)          (None, 32)                0         \n",
            "_________________________________________________________________\n",
            "dense_3 (Dense)              (None, 2)                 66        \n",
            "=================================================================\n",
            "Total params: 261,410\n",
            "Trainable params: 261,410\n",
            "Non-trainable params: 0\n",
            "_________________________________________________________________\n"
          ],
          "name": "stdout"
        }
      ]
    },
    {
      "cell_type": "code",
      "metadata": {
        "id": "WwLYyLzyXKSM",
        "colab_type": "code",
        "colab": {}
      },
      "source": [
        "model.compile(loss='binary_crossentropy', optimizer=optimizer, metrics=['accuracy'])"
      ],
      "execution_count": 0,
      "outputs": []
    },
    {
      "cell_type": "code",
      "metadata": {
        "id": "ZjK1Dv4SXboC",
        "colab_type": "code",
        "colab": {
          "base_uri": "https://localhost:8080/",
          "height": 187
        },
        "outputId": "a17c1a67-11b5-4537-fba8-a15f58d8cdf0"
      },
      "source": [
        "callback = callback = tf.keras.callbacks.EarlyStopping(monitor='val_loss', patience=3, min_delta=0.0001)\n",
        "# history = model.fit(X_train, Y_train, epochs=15, batch_size=64,validation_split=0.1,callbacks=[callback])\n",
        "history = model.fit(X_train, Y_train, epochs=5, batch_size=64,validation_split=0.1)"
      ],
      "execution_count": 21,
      "outputs": [
        {
          "output_type": "stream",
          "text": [
            "Epoch 1/5\n",
            "365/365 [==============================] - 7s 19ms/step - loss: 0.2019 - accuracy: 0.9048 - val_loss: 0.1108 - val_accuracy: 0.9282\n",
            "Epoch 2/5\n",
            "365/365 [==============================] - 6s 18ms/step - loss: 0.1099 - accuracy: 0.9244 - val_loss: 0.1066 - val_accuracy: 0.9267\n",
            "Epoch 3/5\n",
            "365/365 [==============================] - 6s 17ms/step - loss: 0.1046 - accuracy: 0.9285 - val_loss: 0.1071 - val_accuracy: 0.9236\n",
            "Epoch 4/5\n",
            "365/365 [==============================] - 6s 17ms/step - loss: 0.1028 - accuracy: 0.9274 - val_loss: 0.1085 - val_accuracy: 0.9213\n",
            "Epoch 5/5\n",
            "365/365 [==============================] - 6s 18ms/step - loss: 0.1025 - accuracy: 0.9269 - val_loss: 0.1071 - val_accuracy: 0.9213\n"
          ],
          "name": "stdout"
        }
      ]
    },
    {
      "cell_type": "code",
      "metadata": {
        "id": "IrapCcGZYM97",
        "colab_type": "code",
        "colab": {
          "base_uri": "https://localhost:8080/",
          "height": 85
        },
        "outputId": "8943e3ea-9f53-4618-fdea-456d1ba3493c"
      },
      "source": [
        "accr = model.evaluate(X_test,Y_test)\n",
        "print('Test set\\n  Loss: {:0.3f}\\n  Accuracy: {:0.3f}'.format(accr[0],accr[1]))"
      ],
      "execution_count": 22,
      "outputs": [
        {
          "output_type": "stream",
          "text": [
            "90/90 [==============================] - 0s 2ms/step - loss: 0.1048 - accuracy: 0.9253\n",
            "Test set\n",
            "  Loss: 0.105\n",
            "  Accuracy: 0.925\n"
          ],
          "name": "stdout"
        }
      ]
    },
    {
      "cell_type": "code",
      "metadata": {
        "id": "R1pVRU8XYREP",
        "colab_type": "code",
        "colab": {
          "base_uri": "https://localhost:8080/",
          "height": 281
        },
        "outputId": "bc9a1d17-adcb-4889-940e-0b85bce8e120"
      },
      "source": [
        "plt.title('Loss')\n",
        "plt.plot(history.history['loss'], label='train')\n",
        "plt.plot(history.history['val_loss'], label='test')\n",
        "plt.legend()\n",
        "plt.show();"
      ],
      "execution_count": 23,
      "outputs": [
        {
          "output_type": "display_data",
          "data": {
            "image/png": "[encoded data removed]",
            "text/plain": [
              "<Figure size 432x288 with 1 Axes>"
            ]
          },
          "metadata": {
            "tags": []
          }
        }
      ]
    },
    {
      "cell_type": "code",
      "metadata": {
        "id": "AbYVx-fvYXBD",
        "colab_type": "code",
        "colab": {
          "base_uri": "https://localhost:8080/",
          "height": 281
        },
        "outputId": "ed193483-59bb-4ae6-b633-221349f9603d"
      },
      "source": [
        "history\n",
        "plt.title('Accuracy')\n",
        "plt.plot(history.history['accuracy'], label='train')\n",
        "plt.plot(history.history['val_accuracy'], label='test')\n",
        "plt.legend()\n",
        "plt.show();"
      ],
      "execution_count": 24,
      "outputs": [
        {
          "output_type": "display_data",
          "data": {
            "image/png": "[encoded data removed]",
            "text/plain": [
              "<Figure size 432x288 with 1 Axes>"
            ]
          },
          "metadata": {
            "tags": []
          }
        }
      ]
    },
    {
      "cell_type": "code",
      "metadata": {
        "id": "VxP2DBdiZHI6",
        "colab_type": "code",
        "colab": {}
      },
      "source": [
        "def predictor(str):\n",
        "  new_sms = [str]\n",
        "  seq = tokenizer.texts_to_sequences(new_sms)\n",
        "  padded = pad_sequences(seq, maxlen=MAX_SEQUENCE_LENGTH)\n",
        "  pred = model.predict(padded)\n",
        "  if(np.argmax(pred)) == 0:\n",
        "    return \"Non Financial\"\n",
        "  else:\n",
        "    return \"Financial\""
      ],
      "execution_count": 0,
      "outputs": []
    },
    {
      "cell_type": "code",
      "metadata": {
        "id": "0Uxz7-o2ZQAA",
        "colab_type": "code",
        "colab": {}
      },
      "source": [
        "import pickle\n",
        "filename = '_tokenizer2.0.pkl'\n",
        "pickle.dump(tokenizer, open(filename, 'wb'))"
      ],
      "execution_count": 0,
      "outputs": []
    },
    {
      "cell_type": "code",
      "metadata": {
        "id": "8eLifm7gZTCZ",
        "colab_type": "code",
        "colab": {}
      },
      "source": [
        "model.save(\"_classifier_LSTM2.0.h5\")"
      ],
      "execution_count": 0,
      "outputs": []
    },
    {
      "cell_type": "code",
      "metadata": {
        "id": "wejikFz1ZVrZ",
        "colab_type": "code",
        "colab": {}
      },
      "source": [
        "test_message = ['Step into season with Alkaram Studios spring/summer collection & enjoy designs celebrating spring! with 50% off',\n",
        "                'Storm Fibre(powered by Cybernet) High Speed Internet +HDTv (unlimited) upto 100mb packages 10mb 1999+tax 20mb 2999+tax 30mb 3999+tax callnow 03208449106',\n",
        "                \"AOA Sir! Today I won't come to office\",\n",
        "                'Bill Payment From: Waqas Amount: SAR 9,938.63 Biller: 018 Date: 2019-12-14 14:11:39',\n",
        "                \"Dear Customer, Online Clearing Cheque amounting to 50,000 has been credited to your BAHL account 0029XXXXX 0n 11-2-20\",\n",
        "                \"Bill dated 2020-3-10 for RS 10,000 has been generated for your PTCL fixedline/broadband relationship no. 18651423. The same will reach you by 2020-4-5. Due date: 2020-3-15\",\n",
        "                \"Repair ref.no for your car is JC41166545 opened on 2009-11-15 22:29hrs,ETD of your car is 2009-11-16 16:22hrs and est.repair amt is Rs.991 Rgds, Maha Veer Auto Agency\",\n",
        "                \"Can you please pay the Electricity bill of Rs 12000 by Monday because tuesday is the due date\",\n",
        "                \"PNR:6548444548,TRAIN:7413,DOJ:2013-04-06,FC,ADF-BHRL,Dep:2:25, Wesley,F8 78 , Fare:7955,SC:10.0+PG+INS\",\n",
        "                'Yaar Light a rahe hai k nhe?',\n",
        "                'OTP is 758621 for the txn of INR 17643.00 at KSRTC on your AXIS bank CREDIT card ending with 3868. Valid till 20:49:27. Do not  share OTP with anyone for security reasons',\n",
        "                'Amount of Rs 59000 has been debited to your register']\n",
        "test_result = [0,0,0,1,1,1,1,0,0,0,1,1]"
      ],
      "execution_count": 0,
      "outputs": []
    },
    {
      "cell_type": "code",
      "metadata": {
        "id": "Tg-iYuVXZYmB",
        "colab_type": "code",
        "colab": {}
      },
      "source": [
        "results = []\n",
        "for t in test_message:\n",
        "  pred = predictor(t)\n",
        "  if pred == 'Financial':\n",
        "    results.append(1)\n",
        "  else:\n",
        "    results.append(0)"
      ],
      "execution_count": 0,
      "outputs": []
    },
    {
      "cell_type": "code",
      "metadata": {
        "id": "bbGUfvKhZbtw",
        "colab_type": "code",
        "colab": {
          "base_uri": "https://localhost:8080/",
          "height": 34
        },
        "outputId": "61f17c9e-362f-4194-ad24-78d270631332"
      },
      "source": [
        "results"
      ],
      "execution_count": 30,
      "outputs": [
        {
          "output_type": "execute_result",
          "data": {
            "text/plain": [
              "[0, 0, 0, 1, 1, 0, 0, 0, 0, 0, 1, 1]"
            ]
          },
          "metadata": {
            "tags": []
          },
          "execution_count": 30
        }
      ]
    },
    {
      "cell_type": "code",
      "metadata": {
        "id": "NcfNm79iZeUQ",
        "colab_type": "code",
        "colab": {}
      },
      "source": [
        "resultPred = pd.DataFrame(columns=['Real','Predicted','Text'])"
      ],
      "execution_count": 0,
      "outputs": []
    },
    {
      "cell_type": "code",
      "metadata": {
        "id": "fp7ZbF6kZggS",
        "colab_type": "code",
        "colab": {
          "base_uri": "https://localhost:8080/",
          "height": 421
        },
        "outputId": "be635e9a-31e5-4d2c-e8f6-4f4800469fd0"
      },
      "source": [
        "resultPred['Real'] = test_result\n",
        "resultPred['Predicted']= results\n",
        "resultPred['Text']=test_message\n",
        "\n",
        "resultPred"
      ],
      "execution_count": 32,
      "outputs": [
        {
          "output_type": "execute_result",
          "data": {
            "text/html": [
              "<div>\n",
              "<style scoped>\n",
              "    .dataframe tbody tr th:only-of-type {\n",
              "        vertical-align: middle;\n",
              "    }\n",
              "\n",
              "    .dataframe tbody tr th {\n",
              "        vertical-align: top;\n",
              "    }\n",
              "\n",
              "    .dataframe thead th {\n",
              "        text-align: right;\n",
              "    }\n",
              "</style>\n",
              "<table border=\"1\" class=\"dataframe\">\n",
              "  <thead>\n",
              "    <tr style=\"text-align: right;\">\n",
              "      <th></th>\n",
              "      <th>Real</th>\n",
              "      <th>Predicted</th>\n",
              "      <th>Text</th>\n",
              "    </tr>\n",
              "  </thead>\n",
              "  <tbody>\n",
              "    <tr>\n",
              "      <th>0</th>\n",
              "      <td>0</td>\n",
              "      <td>0</td>\n",
              "      <td>Step into season with Alkaram Studios spring/s...</td>\n",
              "    </tr>\n",
              "    <tr>\n",
              "      <th>1</th>\n",
              "      <td>0</td>\n",
              "      <td>0</td>\n",
              "      <td>Storm Fibre(powered by Cybernet) High Speed In...</td>\n",
              "    </tr>\n",
              "    <tr>\n",
              "      <th>2</th>\n",
              "      <td>0</td>\n",
              "      <td>0</td>\n",
              "      <td>AOA Sir! Today I won't come to office</td>\n",
              "    </tr>\n",
              "    <tr>\n",
              "      <th>3</th>\n",
              "      <td>1</td>\n",
              "      <td>1</td>\n",
              "      <td>Bill Payment From: Waqas Amount: SAR 9,938.63 ...</td>\n",
              "    </tr>\n",
              "    <tr>\n",
              "      <th>4</th>\n",
              "      <td>1</td>\n",
              "      <td>1</td>\n",
              "      <td>Dear Customer, Online Clearing Cheque amountin...</td>\n",
              "    </tr>\n",
              "    <tr>\n",
              "      <th>5</th>\n",
              "      <td>1</td>\n",
              "      <td>0</td>\n",
              "      <td>Bill dated 2020-3-10 for RS 10,000 has been ge...</td>\n",
              "    </tr>\n",
              "    <tr>\n",
              "      <th>6</th>\n",
              "      <td>1</td>\n",
              "      <td>0</td>\n",
              "      <td>Repair ref.no for your car is JC41166545 opene...</td>\n",
              "    </tr>\n",
              "    <tr>\n",
              "      <th>7</th>\n",
              "      <td>0</td>\n",
              "      <td>0</td>\n",
              "      <td>Can you please pay the Electricity bill of Rs ...</td>\n",
              "    </tr>\n",
              "    <tr>\n",
              "      <th>8</th>\n",
              "      <td>0</td>\n",
              "      <td>0</td>\n",
              "      <td>PNR:6548444548,TRAIN:7413,DOJ:2013-04-06,FC,AD...</td>\n",
              "    </tr>\n",
              "    <tr>\n",
              "      <th>9</th>\n",
              "      <td>0</td>\n",
              "      <td>0</td>\n",
              "      <td>Yaar Light a rahe hai k nhe?</td>\n",
              "    </tr>\n",
              "    <tr>\n",
              "      <th>10</th>\n",
              "      <td>1</td>\n",
              "      <td>1</td>\n",
              "      <td>OTP is 758621 for the txn of INR 17643.00 at K...</td>\n",
              "    </tr>\n",
              "    <tr>\n",
              "      <th>11</th>\n",
              "      <td>1</td>\n",
              "      <td>1</td>\n",
              "      <td>Amount of Rs 59000 has been debited to your re...</td>\n",
              "    </tr>\n",
              "  </tbody>\n",
              "</table>\n",
              "</div>"
            ],
            "text/plain": [
              "    Real  Predicted                                               Text\n",
              "0      0          0  Step into season with Alkaram Studios spring/s...\n",
              "1      0          0  Storm Fibre(powered by Cybernet) High Speed In...\n",
              "2      0          0              AOA Sir! Today I won't come to office\n",
              "3      1          1  Bill Payment From: Waqas Amount: SAR 9,938.63 ...\n",
              "4      1          1  Dear Customer, Online Clearing Cheque amountin...\n",
              "5      1          0  Bill dated 2020-3-10 for RS 10,000 has been ge...\n",
              "6      1          0  Repair ref.no for your car is JC41166545 opene...\n",
              "7      0          0  Can you please pay the Electricity bill of Rs ...\n",
              "8      0          0  PNR:6548444548,TRAIN:7413,DOJ:2013-04-06,FC,AD...\n",
              "9      0          0                       Yaar Light a rahe hai k nhe?\n",
              "10     1          1  OTP is 758621 for the txn of INR 17643.00 at K...\n",
              "11     1          1  Amount of Rs 59000 has been debited to your re..."
            ]
          },
          "metadata": {
            "tags": []
          },
          "execution_count": 32
        }
      ]
    },
    {
      "cell_type": "code",
      "metadata": {
        "id": "FCilddpcZlAK",
        "colab_type": "code",
        "colab": {}
      },
      "source": [
        "testify = \"AOA Sir! Today I won't come to office\"\n",
        "seq = tokenizer.texts_to_sequences(testify)\n",
        "padded = pad_sequences(seq, maxlen=MAX_SEQUENCE_LENGTH)\n",
        "pred = model.predict(padded)\n",
        "pred = pred.argmax()"
      ],
      "execution_count": 0,
      "outputs": []
    },
    {
      "cell_type": "code",
      "metadata": {
        "id": "T2j8l891ZpCh",
        "colab_type": "code",
        "colab": {
          "base_uri": "https://localhost:8080/",
          "height": 34
        },
        "outputId": "eb3e8d29-9f5b-4581-aa78-d863c3239c00"
      },
      "source": [
        "pred"
      ],
      "execution_count": 34,
      "outputs": [
        {
          "output_type": "execute_result",
          "data": {
            "text/plain": [
              "0"
            ]
          },
          "metadata": {
            "tags": []
          },
          "execution_count": 34
        }
      ]
    },
    {
      "cell_type": "code",
      "metadata": {
        "id": "6PF8XM2tdTRH",
        "colab_type": "code",
        "colab": {}
      },
      "source": [
        "import json\n",
        "with open( 'word_dict.json' , 'w' ) as file:\n",
        "\tjson.dump( tokenizer.word_index , file )"
      ],
      "execution_count": 0,
      "outputs": []
    },
    {
      "cell_type": "code",
      "metadata": {
        "id": "gEams5rMdW7j",
        "colab_type": "code",
        "colab": {}
      },
      "source": [
        "converter = tf.lite.TFLiteConverter.from_keras_model(model )"
      ],
      "execution_count": 0,
      "outputs": []
    },
    {
      "cell_type": "code",
      "metadata": {
        "id": "mFzh0YFjdrG1",
        "colab_type": "code",
        "colab": {}
      },
      "source": [
        "tfmodel = converter.convert()"
      ],
      "execution_count": 0,
      "outputs": []
    },
    {
      "cell_type": "code",
      "metadata": {
        "id": "5eiDFUYog2_P",
        "colab_type": "code",
        "colab": {
          "base_uri": "https://localhost:8080/",
          "height": 34
        },
        "outputId": "747b0bae-b4ad-49d3-c6ee-3759c8b769ca"
      },
      "source": [
        "open (\"_classifier_LSTM_android.tflite\" , \"wb\") .write(tfmodel)"
      ],
      "execution_count": 38,
      "outputs": [
        {
          "output_type": "execute_result",
          "data": {
            "text/plain": [
              "1072164"
            ]
          },
          "metadata": {
            "tags": []
          },
          "execution_count": 38
        }
      ]
    },
    {
      "cell_type": "code",
      "metadata": {
        "id": "yOhh5uZ-hbVt",
        "colab_type": "code",
        "colab": {}
      },
      "source": [
        ""
      ],
      "execution_count": 0,
      "outputs": []
    }
  ]
}