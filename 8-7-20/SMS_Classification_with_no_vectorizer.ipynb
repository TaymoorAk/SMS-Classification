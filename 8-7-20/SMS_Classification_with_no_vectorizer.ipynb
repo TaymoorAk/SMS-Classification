{
  "nbformat": 4,
  "nbformat_minor": 0,
  "metadata": {
    "colab": {
      "name": "SMS_Classification_with_no_vectorizer.ipynb",
      "provenance": [],
      "collapsed_sections": []
    },
    "kernelspec": {
      "name": "python3",
      "display_name": "Python 3"
    }
  },
  "cells": [
    {
      "cell_type": "code",
      "metadata": {
        "id": "ZgWkoVHL5Bxm",
        "colab_type": "code",
        "colab": {
          "base_uri": "https://localhost:8080/",
          "height": 34
        },
        "outputId": "22135a9d-d205-4327-d423-5fcc6bfbd635"
      },
      "source": [
        "# !pip install tensorflow==2.0.0\n",
        "# !pip install tf-nightly\n",
        "from google.colab import drive\n",
        "drive.mount('/content/drive')"
      ],
      "execution_count": 1,
      "outputs": [
        {
          "output_type": "stream",
          "text": [
            "Drive already mounted at /content/drive; to attempt to forcibly remount, call drive.mount(\"/content/drive\", force_remount=True).\n"
          ],
          "name": "stdout"
        }
      ]
    },
    {
      "cell_type": "code",
      "metadata": {
        "id": "z4RGUwhJ5K8g",
        "colab_type": "code",
        "colab": {
          "base_uri": "https://localhost:8080/",
          "height": 102
        },
        "outputId": "743bf552-94ed-444e-e4b4-6b3e63564654"
      },
      "source": [
        "import pandas as pd\n",
        "import re\n",
        "import tensorflow\n",
        "from keras.preprocessing.text import Tokenizer\n",
        "from keras.preprocessing.sequence import pad_sequences\n",
        "from tensorflow.keras.models import Sequential\n",
        "from tensorflow.keras import layers\n",
        "import matplotlib.pyplot as plt\n",
        "import nltk\n",
        "from nltk.corpus import stopwords\n",
        "nltk.download('stopwords')\n",
        "nltk.download('punkt')\n",
        "stop = stopwords.words('english')"
      ],
      "execution_count": 2,
      "outputs": [
        {
          "output_type": "stream",
          "text": [
            "Using TensorFlow backend.\n"
          ],
          "name": "stderr"
        },
        {
          "output_type": "stream",
          "text": [
            "[nltk_data] Downloading package stopwords to /root/nltk_data...\n",
            "[nltk_data]   Package stopwords is already up-to-date!\n",
            "[nltk_data] Downloading package punkt to /root/nltk_data...\n",
            "[nltk_data]   Package punkt is already up-to-date!\n"
          ],
          "name": "stdout"
        }
      ]
    },
    {
      "cell_type": "code",
      "metadata": {
        "id": "_j1Jy-Z16-FO",
        "colab_type": "code",
        "colab": {}
      },
      "source": [
        "dataset = pd.read_csv('sms_data.csv',encoding = \"cp1252\")"
      ],
      "execution_count": 3,
      "outputs": []
    },
    {
      "cell_type": "code",
      "metadata": {
        "id": "o-Wk8VLP7Mb-",
        "colab_type": "code",
        "colab": {
          "base_uri": "https://localhost:8080/",
          "height": 204
        },
        "outputId": "ffc8f92a-d10c-43ab-eb3a-69a852fd56aa"
      },
      "source": [
        "dataset.head(5)"
      ],
      "execution_count": 4,
      "outputs": [
        {
          "output_type": "execute_result",
          "data": {
            "text/html": [
              "<div>\n",
              "<style scoped>\n",
              "    .dataframe tbody tr th:only-of-type {\n",
              "        vertical-align: middle;\n",
              "    }\n",
              "\n",
              "    .dataframe tbody tr th {\n",
              "        vertical-align: top;\n",
              "    }\n",
              "\n",
              "    .dataframe thead th {\n",
              "        text-align: right;\n",
              "    }\n",
              "</style>\n",
              "<table border=\"1\" class=\"dataframe\">\n",
              "  <thead>\n",
              "    <tr style=\"text-align: right;\">\n",
              "      <th></th>\n",
              "      <th>Label</th>\n",
              "      <th>Message</th>\n",
              "    </tr>\n",
              "  </thead>\n",
              "  <tbody>\n",
              "    <tr>\n",
              "      <th>0</th>\n",
              "      <td>Delivery</td>\n",
              "      <td>Dear Guest, Thanks for choosing The Edison. Or...</td>\n",
              "    </tr>\n",
              "    <tr>\n",
              "      <th>1</th>\n",
              "      <td>Hotel</td>\n",
              "      <td>Welcome to Southern University at Shreveport R...</td>\n",
              "    </tr>\n",
              "    <tr>\n",
              "      <th>2</th>\n",
              "      <td>Payment</td>\n",
              "      <td>Bill dated 2013-01-14 for Rs 626 has been gene...</td>\n",
              "    </tr>\n",
              "    <tr>\n",
              "      <th>3</th>\n",
              "      <td>Payment</td>\n",
              "      <td>Bill dated 2014-11-30 for Rs 323 has been gene...</td>\n",
              "    </tr>\n",
              "    <tr>\n",
              "      <th>4</th>\n",
              "      <td>Appointment</td>\n",
              "      <td>DEAR Zachary, THANK YOU FOR YOUR BOOKING (ORDE...</td>\n",
              "    </tr>\n",
              "  </tbody>\n",
              "</table>\n",
              "</div>"
            ],
            "text/plain": [
              "         Label                                            Message\n",
              "0     Delivery  Dear Guest, Thanks for choosing The Edison. Or...\n",
              "1        Hotel  Welcome to Southern University at Shreveport R...\n",
              "2      Payment  Bill dated 2013-01-14 for Rs 626 has been gene...\n",
              "3      Payment  Bill dated 2014-11-30 for Rs 323 has been gene...\n",
              "4  Appointment  DEAR Zachary, THANK YOU FOR YOUR BOOKING (ORDE..."
            ]
          },
          "metadata": {
            "tags": []
          },
          "execution_count": 4
        }
      ]
    },
    {
      "cell_type": "code",
      "metadata": {
        "id": "pquFHBwv7Pdt",
        "colab_type": "code",
        "colab": {
          "base_uri": "https://localhost:8080/",
          "height": 221
        },
        "outputId": "c45332fa-5c04-4176-ef2a-f1a28c50f3c4"
      },
      "source": [
        "dataset[\"Label\"]"
      ],
      "execution_count": 5,
      "outputs": [
        {
          "output_type": "execute_result",
          "data": {
            "text/plain": [
              "0           Delivery\n",
              "1              Hotel\n",
              "2            Payment\n",
              "3            Payment\n",
              "4        Appointment\n",
              "            ...     \n",
              "12994           spam\n",
              "12995           info\n",
              "12996           info\n",
              "12997           spam\n",
              "12998           info\n",
              "Name: Label, Length: 12999, dtype: object"
            ]
          },
          "metadata": {
            "tags": []
          },
          "execution_count": 5
        }
      ]
    },
    {
      "cell_type": "code",
      "metadata": {
        "id": "HnT_-Bst7SWF",
        "colab_type": "code",
        "colab": {}
      },
      "source": [
        "for i in range(len(dataset[\"Message\"])):\n",
        "  if dataset[\"Label\"][i] == 'Payment':\n",
        "    dataset[\"Label\"][i] = \"financial\"\n",
        "  elif dataset[\"Label\"][i] == \"PickUp\":\n",
        "    dataset[\"Label\"][i] = \"financial\"\n",
        "  elif dataset[\"Label\"][i] == \"Train\":\n",
        "    dataset[\"Label\"][i] = \"financial\"\n",
        "  elif dataset[\"Label\"][i] == \"bank\":\n",
        "    dataset[\"Label\"][i] = \"financial\"\n",
        "  elif dataset[\"Label\"][i] == \"financial\":\n",
        "    dataset[\"Label\"][i] = \"financial\"\n",
        "  elif dataset[\"Label\"][i] == \"Expiry\" :\n",
        "    dataset[\"Label\"][i] = \"financial\"\n",
        "  else:\n",
        "    dataset[\"Label\"][i] = \"nonfinancial\""
      ],
      "execution_count": 6,
      "outputs": []
    },
    {
      "cell_type": "code",
      "metadata": {
        "id": "_5eF6VhE7WS9",
        "colab_type": "code",
        "colab": {
          "base_uri": "https://localhost:8080/",
          "height": 514
        },
        "outputId": "2260ac9b-d3fa-4b26-c876-8255ee15ec2f"
      },
      "source": [
        "dataset.tail(15)"
      ],
      "execution_count": 7,
      "outputs": [
        {
          "output_type": "execute_result",
          "data": {
            "text/html": [
              "<div>\n",
              "<style scoped>\n",
              "    .dataframe tbody tr th:only-of-type {\n",
              "        vertical-align: middle;\n",
              "    }\n",
              "\n",
              "    .dataframe tbody tr th {\n",
              "        vertical-align: top;\n",
              "    }\n",
              "\n",
              "    .dataframe thead th {\n",
              "        text-align: right;\n",
              "    }\n",
              "</style>\n",
              "<table border=\"1\" class=\"dataframe\">\n",
              "  <thead>\n",
              "    <tr style=\"text-align: right;\">\n",
              "      <th></th>\n",
              "      <th>Label</th>\n",
              "      <th>Message</th>\n",
              "    </tr>\n",
              "  </thead>\n",
              "  <tbody>\n",
              "    <tr>\n",
              "      <th>12984</th>\n",
              "      <td>nonfinancial</td>\n",
              "      <td>Delivered: Your package with Introductory Offe...</td>\n",
              "    </tr>\n",
              "    <tr>\n",
              "      <th>12985</th>\n",
              "      <td>nonfinancial</td>\n",
              "      <td>* KSRTC m-Ticket *  from: MANTRALAYA to: KIAL ...</td>\n",
              "    </tr>\n",
              "    <tr>\n",
              "      <th>12986</th>\n",
              "      <td>nonfinancial</td>\n",
              "      <td>Delivered: Your package withNikon AF-S DX Nikk...</td>\n",
              "    </tr>\n",
              "    <tr>\n",
              "      <th>12987</th>\n",
              "      <td>nonfinancial</td>\n",
              "      <td>Greetings, IDBI Bank wishes you a Happy Ganesh...</td>\n",
              "    </tr>\n",
              "    <tr>\n",
              "      <th>12988</th>\n",
              "      <td>nonfinancial</td>\n",
              "      <td>[Mini Kalzone] Hi Edwin, your reservation is c...</td>\n",
              "    </tr>\n",
              "    <tr>\n",
              "      <th>12989</th>\n",
              "      <td>nonfinancial</td>\n",
              "      <td>Dear INDIGO Customer, flight 5F212 from WGC sh...</td>\n",
              "    </tr>\n",
              "    <tr>\n",
              "      <th>12990</th>\n",
              "      <td>financial</td>\n",
              "      <td>Bill dated 2011-03-19 for Rs 304 has been gene...</td>\n",
              "    </tr>\n",
              "    <tr>\n",
              "      <th>12991</th>\n",
              "      <td>nonfinancial</td>\n",
              "      <td>to discuss about project</td>\n",
              "    </tr>\n",
              "    <tr>\n",
              "      <th>12992</th>\n",
              "      <td>nonfinancial</td>\n",
              "      <td>IM-PLOANS, 30/06/2016, HDFC BANK PERSONAL LOAN...</td>\n",
              "    </tr>\n",
              "    <tr>\n",
              "      <th>12993</th>\n",
              "      <td>financial</td>\n",
              "      <td>OTP is 545125 for the txn of INR 14189.00 at J...</td>\n",
              "    </tr>\n",
              "    <tr>\n",
              "      <th>12994</th>\n",
              "      <td>nonfinancial</td>\n",
              "      <td>Great taste &amp; offers- get 40% off with code RU...</td>\n",
              "    </tr>\n",
              "    <tr>\n",
              "      <th>12995</th>\n",
              "      <td>nonfinancial</td>\n",
              "      <td>Thank you for choosing taxiforsure for 2014-10...</td>\n",
              "    </tr>\n",
              "    <tr>\n",
              "      <th>12996</th>\n",
              "      <td>nonfinancial</td>\n",
              "      <td>Bill dated 2010-08-21 for Rs 870 has been gene...</td>\n",
              "    </tr>\n",
              "    <tr>\n",
              "      <th>12997</th>\n",
              "      <td>nonfinancial</td>\n",
              "      <td>Dear INDIGO Customer, flight 1S162 from ISK sh...</td>\n",
              "    </tr>\n",
              "    <tr>\n",
              "      <th>12998</th>\n",
              "      <td>nonfinancial</td>\n",
              "      <td>Thank you for using your HDFC bank Debitcard e...</td>\n",
              "    </tr>\n",
              "  </tbody>\n",
              "</table>\n",
              "</div>"
            ],
            "text/plain": [
              "              Label                                            Message\n",
              "12984  nonfinancial  Delivered: Your package with Introductory Offe...\n",
              "12985  nonfinancial  * KSRTC m-Ticket *  from: MANTRALAYA to: KIAL ...\n",
              "12986  nonfinancial  Delivered: Your package withNikon AF-S DX Nikk...\n",
              "12987  nonfinancial  Greetings, IDBI Bank wishes you a Happy Ganesh...\n",
              "12988  nonfinancial  [Mini Kalzone] Hi Edwin, your reservation is c...\n",
              "12989  nonfinancial  Dear INDIGO Customer, flight 5F212 from WGC sh...\n",
              "12990     financial  Bill dated 2011-03-19 for Rs 304 has been gene...\n",
              "12991  nonfinancial                           to discuss about project\n",
              "12992  nonfinancial  IM-PLOANS, 30/06/2016, HDFC BANK PERSONAL LOAN...\n",
              "12993     financial  OTP is 545125 for the txn of INR 14189.00 at J...\n",
              "12994  nonfinancial  Great taste & offers- get 40% off with code RU...\n",
              "12995  nonfinancial  Thank you for choosing taxiforsure for 2014-10...\n",
              "12996  nonfinancial  Bill dated 2010-08-21 for Rs 870 has been gene...\n",
              "12997  nonfinancial  Dear INDIGO Customer, flight 1S162 from ISK sh...\n",
              "12998  nonfinancial  Thank you for using your HDFC bank Debitcard e..."
            ]
          },
          "metadata": {
            "tags": []
          },
          "execution_count": 7
        }
      ]
    },
    {
      "cell_type": "code",
      "metadata": {
        "id": "OrWuL0_K7Y59",
        "colab_type": "code",
        "colab": {}
      },
      "source": [
        "contraction_dict = {\"ain't\": \"is not\", \"aren't\": \"are not\",\"can't\": \"cannot\", \"cause\": \"because\", \"could've\": \"could have\",\"this's\" : \"this is\"}"
      ],
      "execution_count": 8,
      "outputs": []
    },
    {
      "cell_type": "code",
      "metadata": {
        "id": "u3gWsqqG7fUV",
        "colab_type": "code",
        "colab": {}
      },
      "source": [
        "def _get_contractions(contraction_dict):\n",
        "    contraction_re = re.compile('(%s)' % '|'.join(contraction_dict.keys()))\n",
        "    return contraction_dict, contraction_re\n",
        "contractions, contractions_re = _get_contractions(contraction_dict)\n",
        "def replace_contractions(text):\n",
        "  def replace(match):\n",
        "    return contractions[match.group(0)]\n",
        "  return contractions_re.sub(replace, text)"
      ],
      "execution_count": 9,
      "outputs": []
    },
    {
      "cell_type": "code",
      "metadata": {
        "id": "FvHTrmsz7m8s",
        "colab_type": "code",
        "colab": {}
      },
      "source": [
        "for msg in dataset[\"Message\"] :\n",
        "  replace_contractions(msg)"
      ],
      "execution_count": 10,
      "outputs": []
    },
    {
      "cell_type": "code",
      "metadata": {
        "id": "W-SgGOPU7p5s",
        "colab_type": "code",
        "colab": {}
      },
      "source": [
        "def clean_data(x):\n",
        "  punctuation = '.!\"#$%&()*+-/:,;<=>?@[\\\\]^_`{|}~'\n",
        "  x = x.apply(lambda x: ''.join(ch for ch in x if ch not in set(punctuation)))\n",
        "  x = x.str.lower()\n",
        "  x = x.str.replace(\"[0-9]\", \" \")\n",
        "  x = x.apply(lambda x: ' '.join(x.split()))\n",
        "  return x"
      ],
      "execution_count": 11,
      "outputs": []
    },
    {
      "cell_type": "code",
      "metadata": {
        "id": "S3SkN9977sw0",
        "colab_type": "code",
        "colab": {}
      },
      "source": [
        "cleaned = clean_data(dataset[\"Message\"])\n",
        "dataset[\"Message\"] = cleaned"
      ],
      "execution_count": 12,
      "outputs": []
    },
    {
      "cell_type": "code",
      "metadata": {
        "id": "n5-DovddAcNA",
        "colab_type": "code",
        "colab": {
          "base_uri": "https://localhost:8080/",
          "height": 221
        },
        "outputId": "bad56108-8d86-4495-dd1a-bc11b98c7ae1"
      },
      "source": [
        "dataset[\"Message\"]"
      ],
      "execution_count": 13,
      "outputs": [
        {
          "output_type": "execute_result",
          "data": {
            "text/plain": [
              "0        dear guest thanks for choosing the edison orde...\n",
              "1        welcome to southern university at shreveport r...\n",
              "2        bill dated for rs has been generated for your ...\n",
              "3        bill dated for rs has been generated for your ...\n",
              "4        dear zachary thank you for your booking order ...\n",
              "                               ...                        \n",
              "12994    great taste offers get off with code ruush off...\n",
              "12995    thank you for choosing taxiforsure for at cabk...\n",
              "12996    bill dated for rs has been generated for your ...\n",
              "12997    dear indigo customer flight s from isk shall b...\n",
              "12998    thank you for using your hdfc bank debitcard e...\n",
              "Name: Message, Length: 12999, dtype: object"
            ]
          },
          "metadata": {
            "tags": []
          },
          "execution_count": 13
        }
      ]
    },
    {
      "cell_type": "code",
      "metadata": {
        "id": "qHFlSPi_qMS9",
        "colab_type": "code",
        "colab": {}
      },
      "source": [
        "cleaned2=[]\n",
        "for msg in cleaned:\n",
        "  cleaned2.append(nltk.word_tokenize(msg))"
      ],
      "execution_count": 14,
      "outputs": []
    },
    {
      "cell_type": "code",
      "metadata": {
        "id": "AAj-uxoZqi8D",
        "colab_type": "code",
        "colab": {}
      },
      "source": [
        "dataset[\"Message\"] = cleaned2"
      ],
      "execution_count": 15,
      "outputs": []
    },
    {
      "cell_type": "code",
      "metadata": {
        "id": "gUe3ETgjApNY",
        "colab_type": "code",
        "colab": {
          "base_uri": "https://localhost:8080/",
          "height": 221
        },
        "outputId": "00af841e-0d6b-4ce4-91f8-f83ef1187376"
      },
      "source": [
        "dataset[\"Message\"]"
      ],
      "execution_count": 16,
      "outputs": [
        {
          "output_type": "execute_result",
          "data": {
            "text/plain": [
              "0        [dear, guest, thanks, for, choosing, the, edis...\n",
              "1        [welcome, to, southern, university, at, shreve...\n",
              "2        [bill, dated, for, rs, has, been, generated, f...\n",
              "3        [bill, dated, for, rs, has, been, generated, f...\n",
              "4        [dear, zachary, thank, you, for, your, booking...\n",
              "                               ...                        \n",
              "12994    [great, taste, offers, get, off, with, code, r...\n",
              "12995    [thank, you, for, choosing, taxiforsure, for, ...\n",
              "12996    [bill, dated, for, rs, has, been, generated, f...\n",
              "12997    [dear, indigo, customer, flight, s, from, isk,...\n",
              "12998    [thank, you, for, using, your, hdfc, bank, deb...\n",
              "Name: Message, Length: 12999, dtype: object"
            ]
          },
          "metadata": {
            "tags": []
          },
          "execution_count": 16
        }
      ]
    },
    {
      "cell_type": "code",
      "metadata": {
        "id": "mGY5Zfnio7EO",
        "colab_type": "code",
        "colab": {}
      },
      "source": [
        "#  def stopwords_remove(data):\n",
        "#    data.apply(lambda x: [item for item in x if item not in stop])\n",
        "#    return data\n",
        "   "
      ],
      "execution_count": 17,
      "outputs": []
    },
    {
      "cell_type": "code",
      "metadata": {
        "id": "E_YePrhqo-x8",
        "colab_type": "code",
        "colab": {}
      },
      "source": [
        "# dataset[\"Message\"] = stopwords_remove(dataset[\"Message\"])"
      ],
      "execution_count": 18,
      "outputs": []
    },
    {
      "cell_type": "code",
      "metadata": {
        "id": "opUId7FgpA7z",
        "colab_type": "code",
        "colab": {}
      },
      "source": [
        "dataset[\"Message\"].head\n",
        "sentences = []\n",
        "for word_list in dataset[\"Message\"]:\n",
        "  sentences.append(\" \".join(word_list))"
      ],
      "execution_count": 19,
      "outputs": []
    },
    {
      "cell_type": "code",
      "metadata": {
        "id": "LyMtH-UhpDCD",
        "colab_type": "code",
        "colab": {}
      },
      "source": [
        "dataset[\"Message\"] = sentences"
      ],
      "execution_count": 20,
      "outputs": []
    },
    {
      "cell_type": "code",
      "metadata": {
        "id": "_TpK4XfyAv5I",
        "colab_type": "code",
        "colab": {
          "base_uri": "https://localhost:8080/",
          "height": 35
        },
        "outputId": "b92828a3-86af-4890-9fbf-0a454c6fef6e"
      },
      "source": [
        "dataset[\"Message\"][0]"
      ],
      "execution_count": 21,
      "outputs": [
        {
          "output_type": "execute_result",
          "data": {
            "application/vnd.google.colaboratory.intrinsic": {
              "type": "string"
            },
            "text/plain": [
              "'dear guest thanks for choosing the edison order id delivery by enjoy discount on your next purchase code nl j tc'"
            ]
          },
          "metadata": {
            "tags": []
          },
          "execution_count": 21
        }
      ]
    },
    {
      "cell_type": "code",
      "metadata": {
        "id": "cC2iV_Z17v58",
        "colab_type": "code",
        "colab": {}
      },
      "source": [
        "tokenizer = Tokenizer(num_words=5000)"
      ],
      "execution_count": 22,
      "outputs": []
    },
    {
      "cell_type": "code",
      "metadata": {
        "id": "TNI1_Fu58Ja1",
        "colab_type": "code",
        "colab": {}
      },
      "source": [
        "tokenizer.fit_on_texts(dataset[\"Message\"])"
      ],
      "execution_count": 23,
      "outputs": []
    },
    {
      "cell_type": "code",
      "metadata": {
        "id": "JS3GAuUS8R5l",
        "colab_type": "code",
        "colab": {
          "base_uri": "https://localhost:8080/",
          "height": 34
        },
        "outputId": "1bdcf1ef-93e4-4856-b51c-d79c1433d9e4"
      },
      "source": [
        "tokenizer"
      ],
      "execution_count": 24,
      "outputs": [
        {
          "output_type": "execute_result",
          "data": {
            "text/plain": [
              "<keras_preprocessing.text.Tokenizer at 0x7f0abfd39f98>"
            ]
          },
          "metadata": {
            "tags": []
          },
          "execution_count": 24
        }
      ]
    },
    {
      "cell_type": "code",
      "metadata": {
        "id": "i6ilNNWj8x58",
        "colab_type": "code",
        "colab": {}
      },
      "source": [
        "X = tokenizer.texts_to_sequences(dataset[\"Message\"])"
      ],
      "execution_count": 25,
      "outputs": []
    },
    {
      "cell_type": "code",
      "metadata": {
        "id": "u20huxtj87G8",
        "colab_type": "code",
        "colab": {}
      },
      "source": [
        "vocab_size = len(tokenizer.word_index) + 1"
      ],
      "execution_count": 26,
      "outputs": []
    },
    {
      "cell_type": "code",
      "metadata": {
        "id": "MO9i0TN2ZaJM",
        "colab_type": "code",
        "colab": {}
      },
      "source": [
        "#tokenizer.word_index"
      ],
      "execution_count": 27,
      "outputs": []
    },
    {
      "cell_type": "code",
      "metadata": {
        "id": "MBA-1n9R8_Gs",
        "colab_type": "code",
        "colab": {
          "base_uri": "https://localhost:8080/",
          "height": 34
        },
        "outputId": "fd0c2cb8-3531-41b0-c34b-862bf4987d0a"
      },
      "source": [
        "print(vocab_size)"
      ],
      "execution_count": 28,
      "outputs": [
        {
          "output_type": "stream",
          "text": [
            "11064\n"
          ],
          "name": "stdout"
        }
      ]
    },
    {
      "cell_type": "code",
      "metadata": {
        "id": "AVawofaK9H7d",
        "colab_type": "code",
        "colab": {
          "base_uri": "https://localhost:8080/",
          "height": 34
        },
        "outputId": "7634d0f7-e6c4-4a1d-dc58-da7a85c5f6fc"
      },
      "source": [
        "print(dataset[\"Message\"][0])"
      ],
      "execution_count": 29,
      "outputs": [
        {
          "output_type": "stream",
          "text": [
            "dear guest thanks for choosing the edison order id delivery by enjoy discount on your next purchase code nl j tc\n"
          ],
          "name": "stdout"
        }
      ]
    },
    {
      "cell_type": "code",
      "metadata": {
        "id": "MukEt-9O9My8",
        "colab_type": "code",
        "colab": {
          "base_uri": "https://localhost:8080/",
          "height": 34
        },
        "outputId": "eb5dbc62-3fee-4083-ee30-816b9425836d"
      },
      "source": [
        "print(X[0])"
      ],
      "execution_count": 30,
      "outputs": [
        {
          "output_type": "stream",
          "text": [
            "[39, 86, 53, 1, 30, 11, 3142, 35, 9, 82, 26, 75, 83, 4, 2, 55, 76, 73, 1848, 41, 12]\n"
          ],
          "name": "stdout"
        }
      ]
    },
    {
      "cell_type": "code",
      "metadata": {
        "id": "e7gXqR5L9bBM",
        "colab_type": "code",
        "colab": {
          "base_uri": "https://localhost:8080/",
          "height": 68
        },
        "outputId": "a982051c-78cf-436c-a8cf-ed2f693fe9d9"
      },
      "source": [
        "maxlen = 50\n",
        "X = pad_sequences(X, padding='post', maxlen=maxlen)\n",
        "print(X[2, :])"
      ],
      "execution_count": 31,
      "outputs": [
        {
          "output_type": "stream",
          "text": [
            "[ 97 116   1  20  42  43 115   1   2 217 117 118  23  11 113  21  34   6\n",
            "  26  31 114   0   0   0   0   0   0   0   0   0   0   0   0   0   0   0\n",
            "   0   0   0   0   0   0   0   0   0   0   0   0   0   0]\n"
          ],
          "name": "stdout"
        }
      ]
    },
    {
      "cell_type": "code",
      "metadata": {
        "id": "ZJ0H9AjW_sgS",
        "colab_type": "code",
        "colab": {}
      },
      "source": [
        "Y = pd.get_dummies(dataset['Label'])"
      ],
      "execution_count": 32,
      "outputs": []
    },
    {
      "cell_type": "code",
      "metadata": {
        "id": "fKiAy_v5_v6j",
        "colab_type": "code",
        "colab": {
          "base_uri": "https://localhost:8080/",
          "height": 51
        },
        "outputId": "cab0937b-24b1-4179-b923-6806a4f3957b"
      },
      "source": [
        "from sklearn.model_selection import train_test_split\n",
        "import numpy as np\n",
        "X_train, X_test, Y_train, Y_test = train_test_split(X,Y, test_size = 0.3, random_state = 42)\n",
        "print(X_train.shape,Y_train.shape)\n",
        "print(X_test.shape,Y_test.shape)"
      ],
      "execution_count": 33,
      "outputs": [
        {
          "output_type": "stream",
          "text": [
            "(9099, 50) (9099, 2)\n",
            "(3900, 50) (3900, 2)\n"
          ],
          "name": "stdout"
        }
      ]
    },
    {
      "cell_type": "code",
      "metadata": {
        "id": "7ymL1kT9rXL7",
        "colab_type": "code",
        "colab": {
          "base_uri": "https://localhost:8080/",
          "height": 419
        },
        "outputId": "fca5743d-5ba5-436e-c011-f7e7df66c700"
      },
      "source": [
        "Y_train"
      ],
      "execution_count": 34,
      "outputs": [
        {
          "output_type": "execute_result",
          "data": {
            "text/html": [
              "<div>\n",
              "<style scoped>\n",
              "    .dataframe tbody tr th:only-of-type {\n",
              "        vertical-align: middle;\n",
              "    }\n",
              "\n",
              "    .dataframe tbody tr th {\n",
              "        vertical-align: top;\n",
              "    }\n",
              "\n",
              "    .dataframe thead th {\n",
              "        text-align: right;\n",
              "    }\n",
              "</style>\n",
              "<table border=\"1\" class=\"dataframe\">\n",
              "  <thead>\n",
              "    <tr style=\"text-align: right;\">\n",
              "      <th></th>\n",
              "      <th>financial</th>\n",
              "      <th>nonfinancial</th>\n",
              "    </tr>\n",
              "  </thead>\n",
              "  <tbody>\n",
              "    <tr>\n",
              "      <th>2514</th>\n",
              "      <td>0</td>\n",
              "      <td>1</td>\n",
              "    </tr>\n",
              "    <tr>\n",
              "      <th>11732</th>\n",
              "      <td>0</td>\n",
              "      <td>1</td>\n",
              "    </tr>\n",
              "    <tr>\n",
              "      <th>7134</th>\n",
              "      <td>0</td>\n",
              "      <td>1</td>\n",
              "    </tr>\n",
              "    <tr>\n",
              "      <th>9365</th>\n",
              "      <td>0</td>\n",
              "      <td>1</td>\n",
              "    </tr>\n",
              "    <tr>\n",
              "      <th>9527</th>\n",
              "      <td>0</td>\n",
              "      <td>1</td>\n",
              "    </tr>\n",
              "    <tr>\n",
              "      <th>...</th>\n",
              "      <td>...</td>\n",
              "      <td>...</td>\n",
              "    </tr>\n",
              "    <tr>\n",
              "      <th>11964</th>\n",
              "      <td>0</td>\n",
              "      <td>1</td>\n",
              "    </tr>\n",
              "    <tr>\n",
              "      <th>5191</th>\n",
              "      <td>1</td>\n",
              "      <td>0</td>\n",
              "    </tr>\n",
              "    <tr>\n",
              "      <th>5390</th>\n",
              "      <td>0</td>\n",
              "      <td>1</td>\n",
              "    </tr>\n",
              "    <tr>\n",
              "      <th>860</th>\n",
              "      <td>0</td>\n",
              "      <td>1</td>\n",
              "    </tr>\n",
              "    <tr>\n",
              "      <th>7270</th>\n",
              "      <td>0</td>\n",
              "      <td>1</td>\n",
              "    </tr>\n",
              "  </tbody>\n",
              "</table>\n",
              "<p>9099 rows × 2 columns</p>\n",
              "</div>"
            ],
            "text/plain": [
              "       financial  nonfinancial\n",
              "2514           0             1\n",
              "11732          0             1\n",
              "7134           0             1\n",
              "9365           0             1\n",
              "9527           0             1\n",
              "...          ...           ...\n",
              "11964          0             1\n",
              "5191           1             0\n",
              "5390           0             1\n",
              "860            0             1\n",
              "7270           0             1\n",
              "\n",
              "[9099 rows x 2 columns]"
            ]
          },
          "metadata": {
            "tags": []
          },
          "execution_count": 34
        }
      ]
    },
    {
      "cell_type": "code",
      "metadata": {
        "id": "DVyQNdm1DKiK",
        "colab_type": "code",
        "colab": {}
      },
      "source": [
        "# Y_test = np.asarray(Y_train).astype('float32').reshape((-1,1))"
      ],
      "execution_count": 35,
      "outputs": []
    },
    {
      "cell_type": "code",
      "metadata": {
        "id": "hAou0n_WDQ95",
        "colab_type": "code",
        "colab": {}
      },
      "source": [
        "# Y_test = np.asarray(Y_test).astype('float32').reshape((-1,1))"
      ],
      "execution_count": 36,
      "outputs": []
    },
    {
      "cell_type": "code",
      "metadata": {
        "id": "6p_AlC3A-DFs",
        "colab_type": "code",
        "colab": {}
      },
      "source": [
        "# embedding_dim = 50\n",
        "# model = Sequential()\n",
        "# model.add(layers.Embedding(input_dim=vocab_size, \n",
        "#                            output_dim=embedding_dim,input_length=maxlen))\n",
        "# model.add(layers.Flatten())\n",
        "# # model.add(layers.Dropout(0.2))\n",
        "# # model.add(layers.Dense(50, activation='relu'))\n",
        "# # model.add(layers.Dropout(0.2))\n",
        "# model.add(layers.Dense(50, activation='relu'))\n",
        "# model.add(layers.Dropout(0.2))\n",
        "# model.add(layers.Dense(25, activation='relu'))\n",
        "# model.add(layers.Dropout(0.2))\n",
        "# model.add(layers.Dense(Y.shape[1], activation='sigmoid'))\n",
        "# model.compile(optimizer='adam',\n",
        "#               loss='binary_crossentropy',\n",
        "#               metrics=['accuracy'])\n",
        "# model.summary()"
      ],
      "execution_count": 37,
      "outputs": []
    },
    {
      "cell_type": "code",
      "metadata": {
        "id": "AhC6-v2N_Pzc",
        "colab_type": "code",
        "colab": {}
      },
      "source": [
        "# callback = tensorflow.keras.callbacks.EarlyStopping(monitor='val_loss', patience=3, min_delta=0.0001)\n",
        "# history = model.fit(X_train,Y_train, batch_size=25 ,validation_split=0.1,epochs=25, callbacks=[callback])"
      ],
      "execution_count": 38,
      "outputs": []
    },
    {
      "cell_type": "code",
      "metadata": {
        "id": "9r1y_RHyHWxv",
        "colab_type": "code",
        "colab": {}
      },
      "source": [
        "# score, acc = model.evaluate(X_test, Y_test,\n",
        "#                             batch_size=50)\n",
        "# print('Test score:', score)\n",
        "# print('Test accuracy:', acc)"
      ],
      "execution_count": 39,
      "outputs": []
    },
    {
      "cell_type": "code",
      "metadata": {
        "id": "boJLgPI0Hhue",
        "colab_type": "code",
        "colab": {}
      },
      "source": [
        "# print(history.history.keys())\n",
        "# # summarize history for accuracy\n",
        "# plt.plot(history.history['accuracy'])\n",
        "# plt.plot(history.history['val_accuracy'])\n",
        "# plt.title('model accuracy')\n",
        "# plt.ylabel('accuracy')\n",
        "# plt.xlabel('epoch')\n",
        "# plt.legend(['train', 'test'], loc='upper left')\n",
        "# plt.show()\n",
        "# # summarize history for loss\n",
        "# plt.plot(history.history['loss'])\n",
        "# plt.plot(history.history['val_loss'])\n",
        "# plt.title('model loss')\n",
        "# plt.ylabel('loss')\n",
        "# plt.xlabel('epoch')\n",
        "# plt.legend(['train', 'test'], loc='upper left')\n",
        "# plt.show()"
      ],
      "execution_count": 40,
      "outputs": []
    },
    {
      "cell_type": "code",
      "metadata": {
        "id": "bu2uYoUGRpOr",
        "colab_type": "code",
        "colab": {}
      },
      "source": [
        "# accr = model.evaluate(X_test,Y_test)\n",
        "# print('Test set\\n  Loss: {:0.3f}\\n  Accuracy: {:0.3f}'.format(accr[0],accr[1]))"
      ],
      "execution_count": 41,
      "outputs": []
    },
    {
      "cell_type": "code",
      "metadata": {
        "id": "BA3S-pQHYnh3",
        "colab_type": "code",
        "colab": {}
      },
      "source": [
        "import numpy as np\n",
        "\n",
        "def create_embedding_matrix(filepath, word_index, embedding_dim):\n",
        "    vocab_size = len(word_index) + 1  # Adding again 1 because of reserved 0 index\n",
        "    embedding_matrix = np.zeros((vocab_size, embedding_dim))\n",
        "\n",
        "    with open(filepath) as f:\n",
        "        for line in f:\n",
        "            word, *vector = line.split()\n",
        "            if word in word_index:\n",
        "                idx = word_index[word] \n",
        "                embedding_matrix[idx] = np.array(\n",
        "                    vector, dtype=np.float32)[:embedding_dim]\n",
        "\n",
        "    return embedding_matrix"
      ],
      "execution_count": 42,
      "outputs": []
    },
    {
      "cell_type": "code",
      "metadata": {
        "id": "QV2nQr1DIXpG",
        "colab_type": "code",
        "colab": {}
      },
      "source": [
        "embedding_dim = 50\n",
        "embedding_matrix = create_embedding_matrix('drive/My Drive/glove.6B.50d.txt',tokenizer.word_index, embedding_dim)"
      ],
      "execution_count": 43,
      "outputs": []
    },
    {
      "cell_type": "code",
      "metadata": {
        "id": "58-lFmX9Ifzi",
        "colab_type": "code",
        "colab": {
          "base_uri": "https://localhost:8080/",
          "height": 34
        },
        "outputId": "b1d7e3a3-1c9c-414f-83a6-e9df166e5521"
      },
      "source": [
        "nonzero_elements = np.count_nonzero(np.count_nonzero(embedding_matrix, axis=1))\n",
        "nonzero_elements / vocab_size"
      ],
      "execution_count": 44,
      "outputs": [
        {
          "output_type": "execute_result",
          "data": {
            "text/plain": [
              "0.4497469269703543"
            ]
          },
          "metadata": {
            "tags": []
          },
          "execution_count": 44
        }
      ]
    },
    {
      "cell_type": "code",
      "metadata": {
        "id": "e9MHoLiMIk-q",
        "colab_type": "code",
        "colab": {
          "base_uri": "https://localhost:8080/",
          "height": 323
        },
        "outputId": "aec347ad-6da3-466f-edd8-228c9f5faba9"
      },
      "source": [
        "model = Sequential()\n",
        "model.add(layers.Embedding(vocab_size, embedding_dim, \n",
        "                           weights=[embedding_matrix], \n",
        "                           input_length=maxlen, \n",
        "                           trainable=False))\n",
        "model.add(layers.GlobalMaxPool1D())\n",
        "# model.add(layers.Dense(50, activation='relu',kernel_regularizer=tensorflow.keras.regularizers.l1_l2(0.01)))\n",
        "# model.add(layers.Dropout(0.2))\n",
        "model.add(layers.Dense(25, activation='relu',kernel_regularizer=tensorflow.keras.regularizers.l1(0.01)))\n",
        "model.add(layers.Dropout(0.2))\n",
        "model.add(layers.Dense(Y_train.shape[1], activation='sigmoid'))\n",
        "model.compile(optimizer='adam',\n",
        "              loss='binary_crossentropy',\n",
        "              metrics=['accuracy'])\n",
        "model.summary()"
      ],
      "execution_count": 45,
      "outputs": [
        {
          "output_type": "stream",
          "text": [
            "Model: \"sequential\"\n",
            "_________________________________________________________________\n",
            "Layer (type)                 Output Shape              Param #   \n",
            "=================================================================\n",
            "embedding (Embedding)        (None, 50, 50)            553200    \n",
            "_________________________________________________________________\n",
            "global_max_pooling1d (Global (None, 50)                0         \n",
            "_________________________________________________________________\n",
            "dense (Dense)                (None, 25)                1275      \n",
            "_________________________________________________________________\n",
            "dropout (Dropout)            (None, 25)                0         \n",
            "_________________________________________________________________\n",
            "dense_1 (Dense)              (None, 2)                 52        \n",
            "=================================================================\n",
            "Total params: 554,527\n",
            "Trainable params: 1,327\n",
            "Non-trainable params: 553,200\n",
            "_________________________________________________________________\n"
          ],
          "name": "stdout"
        }
      ]
    },
    {
      "cell_type": "code",
      "metadata": {
        "id": "pyvUaw2vIzdy",
        "colab_type": "code",
        "colab": {
          "base_uri": "https://localhost:8080/",
          "height": 1000
        },
        "outputId": "c7349698-fb46-40c8-ce6f-fad241036aed"
      },
      "source": [
        "callback = tensorflow.keras.callbacks.EarlyStopping(monitor='val_loss', patience=3, min_delta=0.001)\n",
        "history = model.fit(X_train,Y_train, batch_size=25 ,validation_split=0.2,epochs=50, callbacks=[callback])"
      ],
      "execution_count": 46,
      "outputs": [
        {
          "output_type": "stream",
          "text": [
            "Epoch 1/50\n",
            "292/292 [==============================] - 1s 2ms/step - loss: 1.3443 - accuracy: 0.8413 - val_loss: 0.6483 - val_accuracy: 0.9841\n",
            "Epoch 2/50\n",
            "292/292 [==============================] - 1s 2ms/step - loss: 0.4863 - accuracy: 0.9586 - val_loss: 0.3665 - val_accuracy: 0.9830\n",
            "Epoch 3/50\n",
            "292/292 [==============================] - 0s 2ms/step - loss: 0.3563 - accuracy: 0.9676 - val_loss: 0.3005 - val_accuracy: 0.9824\n",
            "Epoch 4/50\n",
            "292/292 [==============================] - 0s 2ms/step - loss: 0.3089 - accuracy: 0.9706 - val_loss: 0.2677 - val_accuracy: 0.9813\n",
            "Epoch 5/50\n",
            "292/292 [==============================] - 0s 2ms/step - loss: 0.2803 - accuracy: 0.9694 - val_loss: 0.2448 - val_accuracy: 0.9808\n",
            "Epoch 6/50\n",
            "292/292 [==============================] - 1s 2ms/step - loss: 0.2606 - accuracy: 0.9710 - val_loss: 0.2336 - val_accuracy: 0.9797\n",
            "Epoch 7/50\n",
            "292/292 [==============================] - 1s 2ms/step - loss: 0.2527 - accuracy: 0.9692 - val_loss: 0.2189 - val_accuracy: 0.9835\n",
            "Epoch 8/50\n",
            "292/292 [==============================] - 0s 2ms/step - loss: 0.2396 - accuracy: 0.9710 - val_loss: 0.2221 - val_accuracy: 0.9830\n",
            "Epoch 9/50\n",
            "292/292 [==============================] - 1s 2ms/step - loss: 0.2335 - accuracy: 0.9718 - val_loss: 0.2056 - val_accuracy: 0.9841\n",
            "Epoch 10/50\n",
            "292/292 [==============================] - 0s 2ms/step - loss: 0.2218 - accuracy: 0.9733 - val_loss: 0.1949 - val_accuracy: 0.9841\n",
            "Epoch 11/50\n",
            "292/292 [==============================] - 1s 2ms/step - loss: 0.2187 - accuracy: 0.9721 - val_loss: 0.1988 - val_accuracy: 0.9791\n",
            "Epoch 12/50\n",
            "292/292 [==============================] - 1s 2ms/step - loss: 0.2099 - accuracy: 0.9738 - val_loss: 0.1831 - val_accuracy: 0.9846\n",
            "Epoch 13/50\n",
            "292/292 [==============================] - 0s 2ms/step - loss: 0.2089 - accuracy: 0.9733 - val_loss: 0.1814 - val_accuracy: 0.9846\n",
            "Epoch 14/50\n",
            "292/292 [==============================] - 0s 2ms/step - loss: 0.2017 - accuracy: 0.9731 - val_loss: 0.1814 - val_accuracy: 0.9841\n",
            "Epoch 15/50\n",
            "292/292 [==============================] - 1s 2ms/step - loss: 0.1953 - accuracy: 0.9749 - val_loss: 0.1704 - val_accuracy: 0.9841\n",
            "Epoch 16/50\n",
            "292/292 [==============================] - 1s 2ms/step - loss: 0.1919 - accuracy: 0.9771 - val_loss: 0.1833 - val_accuracy: 0.9813\n",
            "Epoch 17/50\n",
            "292/292 [==============================] - 1s 2ms/step - loss: 0.1882 - accuracy: 0.9765 - val_loss: 0.1715 - val_accuracy: 0.9824\n",
            "Epoch 18/50\n",
            "292/292 [==============================] - 0s 2ms/step - loss: 0.1868 - accuracy: 0.9757 - val_loss: 0.1614 - val_accuracy: 0.9846\n",
            "Epoch 19/50\n",
            "292/292 [==============================] - 1s 2ms/step - loss: 0.1853 - accuracy: 0.9738 - val_loss: 0.1587 - val_accuracy: 0.9846\n",
            "Epoch 20/50\n",
            "292/292 [==============================] - 0s 2ms/step - loss: 0.1776 - accuracy: 0.9751 - val_loss: 0.1575 - val_accuracy: 0.9857\n",
            "Epoch 21/50\n",
            "292/292 [==============================] - 1s 2ms/step - loss: 0.1788 - accuracy: 0.9740 - val_loss: 0.1524 - val_accuracy: 0.9846\n",
            "Epoch 22/50\n",
            "292/292 [==============================] - 1s 2ms/step - loss: 0.1736 - accuracy: 0.9755 - val_loss: 0.1491 - val_accuracy: 0.9857\n",
            "Epoch 23/50\n",
            "292/292 [==============================] - 1s 2ms/step - loss: 0.1752 - accuracy: 0.9760 - val_loss: 0.1488 - val_accuracy: 0.9852\n",
            "Epoch 24/50\n",
            "292/292 [==============================] - 0s 2ms/step - loss: 0.1716 - accuracy: 0.9758 - val_loss: 0.1498 - val_accuracy: 0.9857\n",
            "Epoch 25/50\n",
            "292/292 [==============================] - 1s 2ms/step - loss: 0.1699 - accuracy: 0.9764 - val_loss: 0.1449 - val_accuracy: 0.9846\n",
            "Epoch 26/50\n",
            "292/292 [==============================] - 1s 2ms/step - loss: 0.1669 - accuracy: 0.9764 - val_loss: 0.1424 - val_accuracy: 0.9846\n",
            "Epoch 27/50\n",
            "292/292 [==============================] - 1s 2ms/step - loss: 0.1659 - accuracy: 0.9751 - val_loss: 0.1457 - val_accuracy: 0.9852\n",
            "Epoch 28/50\n",
            "292/292 [==============================] - 1s 2ms/step - loss: 0.1602 - accuracy: 0.9764 - val_loss: 0.1393 - val_accuracy: 0.9846\n",
            "Epoch 29/50\n",
            "292/292 [==============================] - 0s 2ms/step - loss: 0.1617 - accuracy: 0.9768 - val_loss: 0.1372 - val_accuracy: 0.9846\n",
            "Epoch 30/50\n",
            "292/292 [==============================] - 1s 2ms/step - loss: 0.1603 - accuracy: 0.9773 - val_loss: 0.1365 - val_accuracy: 0.9863\n",
            "Epoch 31/50\n",
            "292/292 [==============================] - 1s 2ms/step - loss: 0.1598 - accuracy: 0.9783 - val_loss: 0.1339 - val_accuracy: 0.9863\n",
            "Epoch 32/50\n",
            "292/292 [==============================] - 1s 2ms/step - loss: 0.1548 - accuracy: 0.9783 - val_loss: 0.1487 - val_accuracy: 0.9830\n",
            "Epoch 33/50\n",
            "292/292 [==============================] - 1s 2ms/step - loss: 0.1581 - accuracy: 0.9762 - val_loss: 0.1304 - val_accuracy: 0.9863\n",
            "Epoch 34/50\n",
            "292/292 [==============================] - 0s 2ms/step - loss: 0.1573 - accuracy: 0.9765 - val_loss: 0.1342 - val_accuracy: 0.9852\n",
            "Epoch 35/50\n",
            "292/292 [==============================] - 1s 2ms/step - loss: 0.1548 - accuracy: 0.9768 - val_loss: 0.1276 - val_accuracy: 0.9868\n",
            "Epoch 36/50\n",
            "292/292 [==============================] - 1s 2ms/step - loss: 0.1516 - accuracy: 0.9775 - val_loss: 0.1316 - val_accuracy: 0.9868\n",
            "Epoch 37/50\n",
            "292/292 [==============================] - 1s 2ms/step - loss: 0.1455 - accuracy: 0.9788 - val_loss: 0.1280 - val_accuracy: 0.9868\n",
            "Epoch 38/50\n",
            "292/292 [==============================] - 0s 2ms/step - loss: 0.1467 - accuracy: 0.9801 - val_loss: 0.1266 - val_accuracy: 0.9863\n"
          ],
          "name": "stdout"
        }
      ]
    },
    {
      "cell_type": "code",
      "metadata": {
        "id": "JJr0eqp_KwMk",
        "colab_type": "code",
        "colab": {
          "base_uri": "https://localhost:8080/",
          "height": 590
        },
        "outputId": "aabd25e4-7422-42a8-d0cf-c8e3b038cd4c"
      },
      "source": [
        "print(history.history.keys())\n",
        "# summarize history for accuracy\n",
        "plt.plot(history.history['accuracy'])\n",
        "plt.plot(history.history['val_accuracy'])\n",
        "plt.title('model accuracy')\n",
        "plt.ylabel('accuracy')\n",
        "plt.xlabel('epoch')\n",
        "plt.legend(['train', 'test'], loc='upper left')\n",
        "plt.show()\n",
        "# summarize history for loss\n",
        "plt.plot(history.history['loss'])\n",
        "plt.plot(history.history['val_loss'])\n",
        "plt.title('model loss')\n",
        "plt.ylabel('loss')\n",
        "plt.xlabel('epoch')\n",
        "plt.legend(['train', 'test'], loc='upper left')\n",
        "plt.show()"
      ],
      "execution_count": 47,
      "outputs": [
        {
          "output_type": "stream",
          "text": [
            "dict_keys(['loss', 'accuracy', 'val_loss', 'val_accuracy'])\n"
          ],
          "name": "stdout"
        },
        {
          "output_type": "display_data",
          "data": {
            "image/png": "[encoded data removed]",
            "text/plain": [
              "<Figure size 432x288 with 1 Axes>"
            ]
          },
          "metadata": {
            "tags": [],
            "needs_background": "light"
          }
        },
        {
          "output_type": "display_data",
          "data": {
            "image/png": "[encoded data removed]",
            "text/plain": [
              "<Figure size 432x288 with 1 Axes>"
            ]
          },
          "metadata": {
            "tags": [],
            "needs_background": "light"
          }
        }
      ]
    },
    {
      "cell_type": "code",
      "metadata": {
        "id": "WEQIHb2lLB2I",
        "colab_type": "code",
        "colab": {
          "base_uri": "https://localhost:8080/",
          "height": 51
        },
        "outputId": "b8941e83-00ec-412c-9de3-186409e92a15"
      },
      "source": [
        "loss, accuracy = model.evaluate(X_train, Y_train, verbose=False)\n",
        "print(\"Training Accuracy: {:.4f}\".format(accuracy))\n",
        "loss, accuracy = model.evaluate(X_test, Y_test, verbose=False)\n",
        "print(\"Testing Accuracy:  {:.4f}\".format(accuracy))"
      ],
      "execution_count": 48,
      "outputs": [
        {
          "output_type": "stream",
          "text": [
            "Training Accuracy: 0.9855\n",
            "Testing Accuracy:  0.9826\n"
          ],
          "name": "stdout"
        }
      ]
    }
  ]
}