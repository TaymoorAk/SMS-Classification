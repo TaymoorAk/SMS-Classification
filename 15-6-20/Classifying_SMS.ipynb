{
  "nbformat": 4,
  "nbformat_minor": 0,
  "metadata": {
    "colab": {
      "name": "Classifying_SMS.ipynb",
      "provenance": [],
      "collapsed_sections": []
    },
    "kernelspec": {
      "name": "python3",
      "display_name": "Python 3"
    },
    "accelerator": "GPU"
  },
  "cells": [
    {
      "cell_type": "code",
      "metadata": {
        "id": "NJ0Y4qoc7uAn",
        "colab_type": "code",
        "colab": {
          "base_uri": "https://localhost:8080/",
          "height": 86
        },
        "outputId": "5574b0ba-883a-4f79-e4e3-b9fb3946dfd0"
      },
      "source": [
        "import pandas as pd\n",
        "import numpy as np\n",
        "import matplotlib.pyplot as plt\n",
        "import re\n",
        "from nltk.corpus import stopwords\n",
        "import nltk\n",
        "nltk.download('stopwords')\n",
        "nltk.download('punkt')\n",
        "from nltk.stem import PorterStemmer\n",
        "import tensorflow as tf\n",
        "from tensorflow.keras.preprocessing.text import Tokenizer\n",
        "from tensorflow.keras.preprocessing.sequence import pad_sequences\n",
        "stop = stopwords.words('english')\n",
        "from nltk.stem import PorterStemmer"
      ],
      "execution_count": 1,
      "outputs": [
        {
          "output_type": "stream",
          "text": [
            "[nltk_data] Downloading package stopwords to /root/nltk_data...\n",
            "[nltk_data]   Package stopwords is already up-to-date!\n",
            "[nltk_data] Downloading package punkt to /root/nltk_data...\n",
            "[nltk_data]   Package punkt is already up-to-date!\n"
          ],
          "name": "stdout"
        }
      ]
    },
    {
      "cell_type": "code",
      "metadata": {
        "id": "lPIkK-SiAnK0",
        "colab_type": "code",
        "colab": {}
      },
      "source": [
        "dataset1 = pd.read_csv('train_sms_mine.csv')"
      ],
      "execution_count": 2,
      "outputs": []
    },
    {
      "cell_type": "code",
      "metadata": {
        "id": "MRI1cQxUC0Ye",
        "colab_type": "code",
        "colab": {
          "base_uri": "https://localhost:8080/",
          "height": 206
        },
        "outputId": "1b6c7baf-52b6-4d2d-8eab-fa77c496ac65"
      },
      "source": [
        "dataset1.head(5)"
      ],
      "execution_count": 3,
      "outputs": [
        {
          "output_type": "execute_result",
          "data": {
            "text/html": [
              "<div>\n",
              "<style scoped>\n",
              "    .dataframe tbody tr th:only-of-type {\n",
              "        vertical-align: middle;\n",
              "    }\n",
              "\n",
              "    .dataframe tbody tr th {\n",
              "        vertical-align: top;\n",
              "    }\n",
              "\n",
              "    .dataframe thead th {\n",
              "        text-align: right;\n",
              "    }\n",
              "</style>\n",
              "<table border=\"1\" class=\"dataframe\">\n",
              "  <thead>\n",
              "    <tr style=\"text-align: right;\">\n",
              "      <th></th>\n",
              "      <th>Label</th>\n",
              "      <th>Message</th>\n",
              "    </tr>\n",
              "  </thead>\n",
              "  <tbody>\n",
              "    <tr>\n",
              "      <th>0</th>\n",
              "      <td>Delivery</td>\n",
              "      <td>Dear Guest, Thanks for choosing The Edison. Or...</td>\n",
              "    </tr>\n",
              "    <tr>\n",
              "      <th>1</th>\n",
              "      <td>Hotel</td>\n",
              "      <td>Welcome to Southern University at Shreveport R...</td>\n",
              "    </tr>\n",
              "    <tr>\n",
              "      <th>2</th>\n",
              "      <td>Payment</td>\n",
              "      <td>Bill dated 2013-01-14 for Rs 626 has been gene...</td>\n",
              "    </tr>\n",
              "    <tr>\n",
              "      <th>3</th>\n",
              "      <td>Payment</td>\n",
              "      <td>Bill dated 2014-11-30 for Rs 323 has been gene...</td>\n",
              "    </tr>\n",
              "    <tr>\n",
              "      <th>4</th>\n",
              "      <td>Appointment</td>\n",
              "      <td>DEAR Zachary, THANK YOU FOR YOUR BOOKING (ORDE...</td>\n",
              "    </tr>\n",
              "  </tbody>\n",
              "</table>\n",
              "</div>"
            ],
            "text/plain": [
              "         Label                                            Message\n",
              "0     Delivery  Dear Guest, Thanks for choosing The Edison. Or...\n",
              "1        Hotel  Welcome to Southern University at Shreveport R...\n",
              "2      Payment  Bill dated 2013-01-14 for Rs 626 has been gene...\n",
              "3      Payment  Bill dated 2014-11-30 for Rs 323 has been gene...\n",
              "4  Appointment  DEAR Zachary, THANK YOU FOR YOUR BOOKING (ORDE..."
            ]
          },
          "metadata": {
            "tags": []
          },
          "execution_count": 3
        }
      ]
    },
    {
      "cell_type": "code",
      "metadata": {
        "id": "uezcIrBiC6OQ",
        "colab_type": "code",
        "colab": {
          "base_uri": "https://localhost:8080/",
          "height": 225
        },
        "outputId": "5099256f-828a-4e36-b32b-c114e99c670e"
      },
      "source": [
        "dataset1[\"Label\"]"
      ],
      "execution_count": 4,
      "outputs": [
        {
          "output_type": "execute_result",
          "data": {
            "text/plain": [
              "0           Delivery\n",
              "1              Hotel\n",
              "2            Payment\n",
              "3            Payment\n",
              "4        Appointment\n",
              "            ...     \n",
              "41995            ham\n",
              "41996           spam\n",
              "41997            ham\n",
              "41998           spam\n",
              "41999           spam\n",
              "Name: Label, Length: 42000, dtype: object"
            ]
          },
          "metadata": {
            "tags": []
          },
          "execution_count": 4
        }
      ]
    },
    {
      "cell_type": "code",
      "metadata": {
        "id": "uVAFrZPcDt2s",
        "colab_type": "code",
        "colab": {}
      },
      "source": [
        "# from sklearn.utils import shuffle\n",
        "# dataset = shuffle(dataset)\n",
        "# dataset.reset_index(drop=True)\n",
        "# dataset.head\n",
        "dataset = pd.DataFrame(columns=['Label','Message'])\n",
        "labels = []\n",
        "Messages = []\n",
        "\n",
        "for i in range(0 ,15000):\n",
        "  labels.append(dataset1[\"Label\"][i])\n",
        "  Messages.append(dataset1[\"Message\"][i])"
      ],
      "execution_count": 5,
      "outputs": []
    },
    {
      "cell_type": "code",
      "metadata": {
        "id": "Z3sqanHj57LX",
        "colab_type": "code",
        "colab": {}
      },
      "source": [
        "dataset[\"Label\"] = labels\n",
        "dataset[\"Message\"] = Messages"
      ],
      "execution_count": 6,
      "outputs": []
    },
    {
      "cell_type": "code",
      "metadata": {
        "id": "KsNdqpCf6Wl-",
        "colab_type": "code",
        "colab": {
          "base_uri": "https://localhost:8080/",
          "height": 260
        },
        "outputId": "51413cab-2063-4f99-e62a-9c4dcf000362"
      },
      "source": [
        "dataset.head"
      ],
      "execution_count": 7,
      "outputs": [
        {
          "output_type": "execute_result",
          "data": {
            "text/plain": [
              "<bound method NDFrame.head of              Label                                            Message\n",
              "0         Delivery  Dear Guest, Thanks for choosing The Edison. Or...\n",
              "1            Hotel  Welcome to Southern University at Shreveport R...\n",
              "2          Payment  Bill dated 2013-01-14 for Rs 626 has been gene...\n",
              "3          Payment  Bill dated 2014-11-30 for Rs 323 has been gene...\n",
              "4      Appointment  DEAR Zachary, THANK YOU FOR YOUR BOOKING (ORDE...\n",
              "...            ...                                                ...\n",
              "14995         info  Appointment with Dr Tristan in ALIKE on 2009-0...\n",
              "14996         info  Welcome to Fort Huachuca R.No. 450, 276, 223 C...\n",
              "14997         info  [Copa d' Oro] Hi Alan, your reservation is con...\n",
              "14998         spam  Take your career to new heights in 2016! Explo...\n",
              "14999         spam  Dear Member, you are now unsubscribed from our...\n",
              "\n",
              "[15000 rows x 2 columns]>"
            ]
          },
          "metadata": {
            "tags": []
          },
          "execution_count": 7
        }
      ]
    },
    {
      "cell_type": "code",
      "metadata": {
        "id": "AketV4KmJyCb",
        "colab_type": "code",
        "colab": {}
      },
      "source": [
        "contraction_dict = {\"ain't\": \"is not\", \"aren't\": \"are not\",\"can't\": \"cannot\", \"cause\": \"because\", \"could've\": \"could have\",\"this's\" : \"this is\"}"
      ],
      "execution_count": 8,
      "outputs": []
    },
    {
      "cell_type": "code",
      "metadata": {
        "id": "n_JcPyYYJ1BR",
        "colab_type": "code",
        "colab": {}
      },
      "source": [
        "def _get_contractions(contraction_dict):\n",
        "    contraction_re = re.compile('(%s)' % '|'.join(contraction_dict.keys()))\n",
        "    return contraction_dict, contraction_re\n",
        "contractions, contractions_re = _get_contractions(contraction_dict)\n",
        "def replace_contractions(text):\n",
        "  def replace(match):\n",
        "    return contractions[match.group(0)]\n",
        "  return contractions_re.sub(replace, text)"
      ],
      "execution_count": 9,
      "outputs": []
    },
    {
      "cell_type": "code",
      "metadata": {
        "id": "mEO1c-GpJ5Kf",
        "colab_type": "code",
        "colab": {}
      },
      "source": [
        "for msg in dataset[\"Message\"] :\n",
        "  replace_contractions(msg)"
      ],
      "execution_count": 10,
      "outputs": []
    },
    {
      "cell_type": "code",
      "metadata": {
        "id": "ytQvZ6R4C-Pn",
        "colab_type": "code",
        "colab": {}
      },
      "source": [
        "def clean_data(x):\n",
        "  punctuation = '.!\"#$%&()*+-/:,;<=>?@[\\\\]^_`{|}~'\n",
        "  x = x.apply(lambda x: ''.join(ch for ch in x if ch not in set(punctuation)))\n",
        "  x = x.str.lower()\n",
        "  x = x.str.replace(\"[0-9]\", \" \")\n",
        "  x = x.apply(lambda x: ' '.join(x.split()))\n",
        "  return x"
      ],
      "execution_count": 11,
      "outputs": []
    },
    {
      "cell_type": "code",
      "metadata": {
        "id": "3pezq4YkElYH",
        "colab_type": "code",
        "colab": {}
      },
      "source": [
        "cleaned = clean_data(dataset[\"Message\"])"
      ],
      "execution_count": 12,
      "outputs": []
    },
    {
      "cell_type": "code",
      "metadata": {
        "id": "EkN8APb0OJqR",
        "colab_type": "code",
        "colab": {}
      },
      "source": [
        "cleaned2=[]\n",
        "for msg in cleaned:\n",
        "  cleaned2.append(nltk.word_tokenize(msg))"
      ],
      "execution_count": 13,
      "outputs": []
    },
    {
      "cell_type": "code",
      "metadata": {
        "id": "nSxhmVmQPO9F",
        "colab_type": "code",
        "colab": {}
      },
      "source": [
        "dataset[\"Message\"] = cleaned2"
      ],
      "execution_count": 14,
      "outputs": []
    },
    {
      "cell_type": "code",
      "metadata": {
        "id": "6zAp4STmTmSm",
        "colab_type": "code",
        "colab": {}
      },
      "source": [
        "# dataset[\"Message\"] = cleaned\n",
        "# dataset.head"
      ],
      "execution_count": 15,
      "outputs": []
    },
    {
      "cell_type": "code",
      "metadata": {
        "id": "0JNoT4toUYs-",
        "colab_type": "code",
        "colab": {
          "base_uri": "https://localhost:8080/",
          "height": 225
        },
        "outputId": "bb56e1d2-2eb9-4cec-f370-98372988a9af"
      },
      "source": [
        "dataset[\"Message\"].apply(lambda x: [item for item in x if item not in stop])"
      ],
      "execution_count": 16,
      "outputs": [
        {
          "output_type": "execute_result",
          "data": {
            "text/plain": [
              "0        [dear, guest, thanks, choosing, edison, order,...\n",
              "1        [welcome, southern, university, shreveport, rn...\n",
              "2        [bill, dated, rs, generated, aircel, fixedline...\n",
              "3        [bill, dated, rs, generated, reliance, fixedli...\n",
              "4        [dear, zachary, thank, booking, order, id, ord...\n",
              "                               ...                        \n",
              "14995    [appointment, dr, tristan, alike, confirmed, q...\n",
              "14996          [welcome, fort, huachuca, rno, chin, chout]\n",
              "14997    [copa, ', oro, hi, alan, reservation, confirme...\n",
              "14998    [take, career, new, heights, explore, immigrat...\n",
              "14999    [dear, member, unsubscribed, messagesto, opt, ...\n",
              "Name: Message, Length: 15000, dtype: object"
            ]
          },
          "metadata": {
            "tags": []
          },
          "execution_count": 16
        }
      ]
    },
    {
      "cell_type": "code",
      "metadata": {
        "id": "I57M1UdeNCft",
        "colab_type": "code",
        "colab": {
          "base_uri": "https://localhost:8080/",
          "height": 52
        },
        "outputId": "8867e557-bc06-43e0-b9ce-c3803c7b7365"
      },
      "source": [
        "from keras.preprocessing.text import Tokenizer\n",
        "MAX_NB_WORDS = 5000\n",
        "MAX_SEQUENCE_LENGTH = 25\n",
        "EMBEDDING_DIM = 50\n",
        "\n",
        "tokenizer = Tokenizer(num_words=MAX_NB_WORDS, filters='!\"#$%&()*+,-./:;<=>?@[\\]^_`{|}~!\"#$%&()*+,-./:;<=>?@[\\\\]^_`{|}~\\t\\n“”’\\'∞θ÷α•à−β∅³π‘₹´°£€\\×™√²—', lower=True)\n",
        "# tokenizer = pickle.load(open('_tokenizer.pkl', 'rb'))\n",
        "tokenizer.fit_on_texts(dataset['Message'].values)\n",
        "word_index = tokenizer.word_index\n",
        "print('Found %s unique tokens.' % len(word_index))"
      ],
      "execution_count": 17,
      "outputs": [
        {
          "output_type": "stream",
          "text": [
            "Using TensorFlow backend.\n"
          ],
          "name": "stderr"
        },
        {
          "output_type": "stream",
          "text": [
            "Found 12724 unique tokens.\n"
          ],
          "name": "stdout"
        }
      ]
    },
    {
      "cell_type": "code",
      "metadata": {
        "id": "87_OJqHmrxj5",
        "colab_type": "code",
        "colab": {
          "base_uri": "https://localhost:8080/",
          "height": 34
        },
        "outputId": "9a031fb3-48cf-4690-e402-7e26fc1f17fe"
      },
      "source": [
        "X = tokenizer.texts_to_sequences(dataset['Message'].values)\n",
        "X = pad_sequences(X, maxlen=MAX_SEQUENCE_LENGTH)\n",
        "print('Shape of data tensor:', X.shape)"
      ],
      "execution_count": 18,
      "outputs": [
        {
          "output_type": "stream",
          "text": [
            "Shape of data tensor: (15000, 25)\n"
          ],
          "name": "stdout"
        }
      ]
    },
    {
      "cell_type": "code",
      "metadata": {
        "id": "sIpAwnmONKoI",
        "colab_type": "code",
        "colab": {}
      },
      "source": [
        "Y = pd.get_dummies(dataset['Label'])\n",
        "# print('Shape of label tensor:', Y.shape)"
      ],
      "execution_count": 19,
      "outputs": []
    },
    {
      "cell_type": "code",
      "metadata": {
        "id": "Cd6JEieYihqZ",
        "colab_type": "code",
        "colab": {
          "base_uri": "https://localhost:8080/",
          "height": 52
        },
        "outputId": "1e31ecdb-ef2e-4ada-e22d-431963f1b0df"
      },
      "source": [
        "from sklearn.model_selection import train_test_split\n",
        "X_train, X_test, Y_train, Y_test = train_test_split(X,Y, test_size = 0.3, random_state = 42)\n",
        "print(X_train.shape,Y_train.shape)\n",
        "print(X_test.shape,Y_test.shape)"
      ],
      "execution_count": 20,
      "outputs": [
        {
          "output_type": "stream",
          "text": [
            "(10500, 25) (10500, 15)\n",
            "(4500, 25) (4500, 15)\n"
          ],
          "name": "stdout"
        }
      ]
    },
    {
      "cell_type": "code",
      "metadata": {
        "id": "fTXBxWF9sAjT",
        "colab_type": "code",
        "colab": {}
      },
      "source": [
        "from keras.models import Sequential\n",
        "from keras.layers import Dense, Dropout\n",
        "from keras.regularizers import l1"
      ],
      "execution_count": 21,
      "outputs": []
    },
    {
      "cell_type": "code",
      "metadata": {
        "id": "zyf11DR8ijbi",
        "colab_type": "code",
        "colab": {}
      },
      "source": [
        "model = Sequential()\n",
        "model.add(Dense(75, input_dim=X_train.shape[1], activation='sigmoid'))\n",
        "model.add(Dropout(0.2))\n",
        "model.add(Dense(50, activation='relu'))\n",
        "model.add(Dropout(0.2))\n",
        "model.add(Dense(25, activation='relu'))\n",
        "model.add(Dropout(0.2))\n",
        "model.add(Dense(Y.shape[1], activation='sigmoid'))"
      ],
      "execution_count": 22,
      "outputs": []
    },
    {
      "cell_type": "code",
      "metadata": {
        "id": "JtYzu-4KbJqh",
        "colab_type": "code",
        "colab": {}
      },
      "source": [
        "model.compile(loss='binary_crossentropy', optimizer='adam', metrics=['accuracy'])"
      ],
      "execution_count": 23,
      "outputs": []
    },
    {
      "cell_type": "code",
      "metadata": {
        "id": "nc2OQ8V2bNb5",
        "colab_type": "code",
        "colab": {
          "base_uri": "https://localhost:8080/",
          "height": 399
        },
        "outputId": "d554ed22-cfcf-4512-c3b3-606569f92421"
      },
      "source": [
        "model.summary()"
      ],
      "execution_count": 24,
      "outputs": [
        {
          "output_type": "stream",
          "text": [
            "Model: \"sequential_1\"\n",
            "_________________________________________________________________\n",
            "Layer (type)                 Output Shape              Param #   \n",
            "=================================================================\n",
            "dense_1 (Dense)              (None, 75)                1950      \n",
            "_________________________________________________________________\n",
            "dropout_1 (Dropout)          (None, 75)                0         \n",
            "_________________________________________________________________\n",
            "dense_2 (Dense)              (None, 50)                3800      \n",
            "_________________________________________________________________\n",
            "dropout_2 (Dropout)          (None, 50)                0         \n",
            "_________________________________________________________________\n",
            "dense_3 (Dense)              (None, 25)                1275      \n",
            "_________________________________________________________________\n",
            "dropout_3 (Dropout)          (None, 25)                0         \n",
            "_________________________________________________________________\n",
            "dense_4 (Dense)              (None, 15)                390       \n",
            "=================================================================\n",
            "Total params: 7,415\n",
            "Trainable params: 7,415\n",
            "Non-trainable params: 0\n",
            "_________________________________________________________________\n"
          ],
          "name": "stdout"
        }
      ]
    },
    {
      "cell_type": "code",
      "metadata": {
        "id": "MuTxxqWbiwwm",
        "colab_type": "code",
        "colab": {
          "base_uri": "https://localhost:8080/",
          "height": 575
        },
        "outputId": "7e7339f6-5b2a-42ce-96a3-8ee40b7de12b"
      },
      "source": [
        "callback = tf.keras.callbacks.EarlyStopping(monitor='val_loss', patience=2, min_delta=0.001)\n",
        "history = model.fit(X_train, Y_train,\n",
        "                   \n",
        "                    batch_size=50, epochs=50, validation_split=0.1,callbacks=[callback])"
      ],
      "execution_count": 25,
      "outputs": [
        {
          "output_type": "stream",
          "text": [
            "Train on 9450 samples, validate on 1050 samples\n",
            "Epoch 1/50\n",
            "9450/9450 [==============================] - 1s 146us/step - loss: 0.3280 - accuracy: 0.8719 - val_loss: 0.1559 - val_accuracy: 0.9453\n",
            "Epoch 2/50\n",
            "9450/9450 [==============================] - 1s 101us/step - loss: 0.1705 - accuracy: 0.9414 - val_loss: 0.1052 - val_accuracy: 0.9634\n",
            "Epoch 3/50\n",
            "9450/9450 [==============================] - 1s 102us/step - loss: 0.1336 - accuracy: 0.9519 - val_loss: 0.0839 - val_accuracy: 0.9715\n",
            "Epoch 4/50\n",
            "9450/9450 [==============================] - 1s 102us/step - loss: 0.1144 - accuracy: 0.9579 - val_loss: 0.0753 - val_accuracy: 0.9738\n",
            "Epoch 5/50\n",
            "9450/9450 [==============================] - 1s 100us/step - loss: 0.1037 - accuracy: 0.9614 - val_loss: 0.0704 - val_accuracy: 0.9745\n",
            "Epoch 6/50\n",
            "9450/9450 [==============================] - 1s 101us/step - loss: 0.0966 - accuracy: 0.9646 - val_loss: 0.0651 - val_accuracy: 0.9782\n",
            "Epoch 7/50\n",
            "9450/9450 [==============================] - 1s 107us/step - loss: 0.0903 - accuracy: 0.9673 - val_loss: 0.0616 - val_accuracy: 0.9784\n",
            "Epoch 8/50\n",
            "9450/9450 [==============================] - 1s 106us/step - loss: 0.0868 - accuracy: 0.9687 - val_loss: 0.0589 - val_accuracy: 0.9806\n",
            "Epoch 9/50\n",
            "9450/9450 [==============================] - 1s 108us/step - loss: 0.0826 - accuracy: 0.9705 - val_loss: 0.0569 - val_accuracy: 0.9815\n",
            "Epoch 10/50\n",
            "9450/9450 [==============================] - 1s 108us/step - loss: 0.0807 - accuracy: 0.9714 - val_loss: 0.0553 - val_accuracy: 0.9819\n",
            "Epoch 11/50\n",
            "9450/9450 [==============================] - 1s 108us/step - loss: 0.0772 - accuracy: 0.9728 - val_loss: 0.0538 - val_accuracy: 0.9824\n",
            "Epoch 12/50\n",
            "9450/9450 [==============================] - 1s 103us/step - loss: 0.0749 - accuracy: 0.9736 - val_loss: 0.0517 - val_accuracy: 0.9839\n",
            "Epoch 13/50\n",
            "9450/9450 [==============================] - 1s 99us/step - loss: 0.0728 - accuracy: 0.9750 - val_loss: 0.0503 - val_accuracy: 0.9846\n",
            "Epoch 14/50\n",
            "9450/9450 [==============================] - 1s 100us/step - loss: 0.0711 - accuracy: 0.9754 - val_loss: 0.0503 - val_accuracy: 0.9835\n",
            "Epoch 15/50\n",
            "9450/9450 [==============================] - 1s 102us/step - loss: 0.0712 - accuracy: 0.9756 - val_loss: 0.0503 - val_accuracy: 0.9840\n"
          ],
          "name": "stdout"
        }
      ]
    },
    {
      "cell_type": "code",
      "metadata": {
        "id": "1wxYpIrajXZQ",
        "colab_type": "code",
        "colab": {
          "base_uri": "https://localhost:8080/",
          "height": 69
        },
        "outputId": "1148bd8d-8af6-44b4-f7a2-d773692ee381"
      },
      "source": [
        "score, acc = model.evaluate(X_test, Y_test,\n",
        "                            batch_size=100)\n",
        "print('Test score:', score)\n",
        "print('Test accuracy:', acc)"
      ],
      "execution_count": 26,
      "outputs": [
        {
          "output_type": "stream",
          "text": [
            "4500/4500 [==============================] - 0s 20us/step\n",
            "Test score: 0.05131675708625052\n",
            "Test accuracy: 0.9837480187416077\n"
          ],
          "name": "stdout"
        }
      ]
    },
    {
      "cell_type": "code",
      "metadata": {
        "id": "2FvmY5e_japS",
        "colab_type": "code",
        "colab": {
          "base_uri": "https://localhost:8080/",
          "height": 590
        },
        "outputId": "6d28da05-7702-492c-c518-42c418cd6288"
      },
      "source": [
        "print(history.history.keys())\n",
        "# summarize history for accuracy\n",
        "plt.plot(history.history['accuracy'])\n",
        "plt.plot(history.history['val_accuracy'])\n",
        "plt.title('model accuracy')\n",
        "plt.ylabel('accuracy')\n",
        "plt.xlabel('epoch')\n",
        "plt.legend(['train', 'test'], loc='upper left')\n",
        "plt.show()\n",
        "# summarize history for loss\n",
        "plt.plot(history.history['loss'])\n",
        "plt.plot(history.history['val_loss'])\n",
        "plt.title('model loss')\n",
        "plt.ylabel('loss')\n",
        "plt.xlabel('epoch')\n",
        "plt.legend(['train', 'test'], loc='upper left')\n",
        "plt.show()"
      ],
      "execution_count": 27,
      "outputs": [
        {
          "output_type": "stream",
          "text": [
            "dict_keys(['val_loss', 'val_accuracy', 'loss', 'accuracy'])\n"
          ],
          "name": "stdout"
        },
        {
          "output_type": "display_data",
          "data": {
            "image/png": "[encoded data removed]",
            "text/plain": [
              "<Figure size 432x288 with 1 Axes>"
            ]
          },
          "metadata": {
            "tags": [],
            "needs_background": "light"
          }
        },
        {
          "output_type": "display_data",
          "data": {
            "image/png": "[encoded data removed]",
            "text/plain": [
              "<Figure size 432x288 with 1 Axes>"
            ]
          },
          "metadata": {
            "tags": [],
            "needs_background": "light"
          }
        }
      ]
    },
    {
      "cell_type": "code",
      "metadata": {
        "id": "jnFNXycCjc7Q",
        "colab_type": "code",
        "colab": {
          "base_uri": "https://localhost:8080/",
          "height": 86
        },
        "outputId": "98751e9c-b9ba-44a1-afbf-f3b028757350"
      },
      "source": [
        "accr = model.evaluate(X_test,Y_test)\n",
        "print('Test set\\n  Loss: {:0.3f}\\n  Accuracy: {:0.3f}'.format(accr[0],accr[1]))"
      ],
      "execution_count": 28,
      "outputs": [
        {
          "output_type": "stream",
          "text": [
            "4500/4500 [==============================] - 0s 62us/step\n",
            "Test set\n",
            "  Loss: 0.051\n",
            "  Accuracy: 0.984\n"
          ],
          "name": "stdout"
        }
      ]
    },
    {
      "cell_type": "code",
      "metadata": {
        "id": "9N9q-3G5nBIa",
        "colab_type": "code",
        "colab": {}
      },
      "source": [
        "def sample_predict(sample_pred_text):\n",
        "  new_sms = [sample_pred_text]\n",
        "  seq = tokenizer.texts_to_sequences(new_sms)\n",
        "  padded = pad_sequences(seq, maxlen=MAX_SEQUENCE_LENGTH)\n",
        "  predictions = model.predict(padded)\n",
        "  \n",
        "  return np.argmax(predictions)\n"
      ],
      "execution_count": 29,
      "outputs": []
    },
    {
      "cell_type": "code",
      "metadata": {
        "id": "T3QxYs_Vnxk7",
        "colab_type": "code",
        "colab": {
          "base_uri": "https://localhost:8080/",
          "height": 34
        },
        "outputId": "ccb1bdda-9f3c-4165-a547-b9c2fd8864fa"
      },
      "source": [
        "sample_predict(\"True Value : Service of your car KA61H6744 is due in 37 days on 2010-11-22. Please contact us at 9228374456 to book a service.\")"
      ],
      "execution_count": 30,
      "outputs": [
        {
          "output_type": "execute_result",
          "data": {
            "text/plain": [
              "5"
            ]
          },
          "metadata": {
            "tags": []
          },
          "execution_count": 30
        }
      ]
    },
    {
      "cell_type": "code",
      "metadata": {
        "id": "D_0ZI7VTpdwn",
        "colab_type": "code",
        "colab": {
          "base_uri": "https://localhost:8080/",
          "height": 444
        },
        "outputId": "d7d9b5d9-25d3-4c0c-b5ee-eebb5872739f"
      },
      "source": [
        "Y"
      ],
      "execution_count": 31,
      "outputs": [
        {
          "output_type": "execute_result",
          "data": {
            "text/html": [
              "<div>\n",
              "<style scoped>\n",
              "    .dataframe tbody tr th:only-of-type {\n",
              "        vertical-align: middle;\n",
              "    }\n",
              "\n",
              "    .dataframe tbody tr th {\n",
              "        vertical-align: top;\n",
              "    }\n",
              "\n",
              "    .dataframe thead th {\n",
              "        text-align: right;\n",
              "    }\n",
              "</style>\n",
              "<table border=\"1\" class=\"dataframe\">\n",
              "  <thead>\n",
              "    <tr style=\"text-align: right;\">\n",
              "      <th></th>\n",
              "      <th>Appointment</th>\n",
              "      <th>Bus</th>\n",
              "      <th>Cab</th>\n",
              "      <th>Delivery</th>\n",
              "      <th>Expiry</th>\n",
              "      <th>Flight</th>\n",
              "      <th>Hotel</th>\n",
              "      <th>Movie</th>\n",
              "      <th>Payment</th>\n",
              "      <th>PickUp</th>\n",
              "      <th>Reservation</th>\n",
              "      <th>Train</th>\n",
              "      <th>ham</th>\n",
              "      <th>info</th>\n",
              "      <th>spam</th>\n",
              "    </tr>\n",
              "  </thead>\n",
              "  <tbody>\n",
              "    <tr>\n",
              "      <th>0</th>\n",
              "      <td>0</td>\n",
              "      <td>0</td>\n",
              "      <td>0</td>\n",
              "      <td>1</td>\n",
              "      <td>0</td>\n",
              "      <td>0</td>\n",
              "      <td>0</td>\n",
              "      <td>0</td>\n",
              "      <td>0</td>\n",
              "      <td>0</td>\n",
              "      <td>0</td>\n",
              "      <td>0</td>\n",
              "      <td>0</td>\n",
              "      <td>0</td>\n",
              "      <td>0</td>\n",
              "    </tr>\n",
              "    <tr>\n",
              "      <th>1</th>\n",
              "      <td>0</td>\n",
              "      <td>0</td>\n",
              "      <td>0</td>\n",
              "      <td>0</td>\n",
              "      <td>0</td>\n",
              "      <td>0</td>\n",
              "      <td>1</td>\n",
              "      <td>0</td>\n",
              "      <td>0</td>\n",
              "      <td>0</td>\n",
              "      <td>0</td>\n",
              "      <td>0</td>\n",
              "      <td>0</td>\n",
              "      <td>0</td>\n",
              "      <td>0</td>\n",
              "    </tr>\n",
              "    <tr>\n",
              "      <th>2</th>\n",
              "      <td>0</td>\n",
              "      <td>0</td>\n",
              "      <td>0</td>\n",
              "      <td>0</td>\n",
              "      <td>0</td>\n",
              "      <td>0</td>\n",
              "      <td>0</td>\n",
              "      <td>0</td>\n",
              "      <td>1</td>\n",
              "      <td>0</td>\n",
              "      <td>0</td>\n",
              "      <td>0</td>\n",
              "      <td>0</td>\n",
              "      <td>0</td>\n",
              "      <td>0</td>\n",
              "    </tr>\n",
              "    <tr>\n",
              "      <th>3</th>\n",
              "      <td>0</td>\n",
              "      <td>0</td>\n",
              "      <td>0</td>\n",
              "      <td>0</td>\n",
              "      <td>0</td>\n",
              "      <td>0</td>\n",
              "      <td>0</td>\n",
              "      <td>0</td>\n",
              "      <td>1</td>\n",
              "      <td>0</td>\n",
              "      <td>0</td>\n",
              "      <td>0</td>\n",
              "      <td>0</td>\n",
              "      <td>0</td>\n",
              "      <td>0</td>\n",
              "    </tr>\n",
              "    <tr>\n",
              "      <th>4</th>\n",
              "      <td>1</td>\n",
              "      <td>0</td>\n",
              "      <td>0</td>\n",
              "      <td>0</td>\n",
              "      <td>0</td>\n",
              "      <td>0</td>\n",
              "      <td>0</td>\n",
              "      <td>0</td>\n",
              "      <td>0</td>\n",
              "      <td>0</td>\n",
              "      <td>0</td>\n",
              "      <td>0</td>\n",
              "      <td>0</td>\n",
              "      <td>0</td>\n",
              "      <td>0</td>\n",
              "    </tr>\n",
              "    <tr>\n",
              "      <th>...</th>\n",
              "      <td>...</td>\n",
              "      <td>...</td>\n",
              "      <td>...</td>\n",
              "      <td>...</td>\n",
              "      <td>...</td>\n",
              "      <td>...</td>\n",
              "      <td>...</td>\n",
              "      <td>...</td>\n",
              "      <td>...</td>\n",
              "      <td>...</td>\n",
              "      <td>...</td>\n",
              "      <td>...</td>\n",
              "      <td>...</td>\n",
              "      <td>...</td>\n",
              "      <td>...</td>\n",
              "    </tr>\n",
              "    <tr>\n",
              "      <th>14995</th>\n",
              "      <td>0</td>\n",
              "      <td>0</td>\n",
              "      <td>0</td>\n",
              "      <td>0</td>\n",
              "      <td>0</td>\n",
              "      <td>0</td>\n",
              "      <td>0</td>\n",
              "      <td>0</td>\n",
              "      <td>0</td>\n",
              "      <td>0</td>\n",
              "      <td>0</td>\n",
              "      <td>0</td>\n",
              "      <td>0</td>\n",
              "      <td>1</td>\n",
              "      <td>0</td>\n",
              "    </tr>\n",
              "    <tr>\n",
              "      <th>14996</th>\n",
              "      <td>0</td>\n",
              "      <td>0</td>\n",
              "      <td>0</td>\n",
              "      <td>0</td>\n",
              "      <td>0</td>\n",
              "      <td>0</td>\n",
              "      <td>0</td>\n",
              "      <td>0</td>\n",
              "      <td>0</td>\n",
              "      <td>0</td>\n",
              "      <td>0</td>\n",
              "      <td>0</td>\n",
              "      <td>0</td>\n",
              "      <td>1</td>\n",
              "      <td>0</td>\n",
              "    </tr>\n",
              "    <tr>\n",
              "      <th>14997</th>\n",
              "      <td>0</td>\n",
              "      <td>0</td>\n",
              "      <td>0</td>\n",
              "      <td>0</td>\n",
              "      <td>0</td>\n",
              "      <td>0</td>\n",
              "      <td>0</td>\n",
              "      <td>0</td>\n",
              "      <td>0</td>\n",
              "      <td>0</td>\n",
              "      <td>0</td>\n",
              "      <td>0</td>\n",
              "      <td>0</td>\n",
              "      <td>1</td>\n",
              "      <td>0</td>\n",
              "    </tr>\n",
              "    <tr>\n",
              "      <th>14998</th>\n",
              "      <td>0</td>\n",
              "      <td>0</td>\n",
              "      <td>0</td>\n",
              "      <td>0</td>\n",
              "      <td>0</td>\n",
              "      <td>0</td>\n",
              "      <td>0</td>\n",
              "      <td>0</td>\n",
              "      <td>0</td>\n",
              "      <td>0</td>\n",
              "      <td>0</td>\n",
              "      <td>0</td>\n",
              "      <td>0</td>\n",
              "      <td>0</td>\n",
              "      <td>1</td>\n",
              "    </tr>\n",
              "    <tr>\n",
              "      <th>14999</th>\n",
              "      <td>0</td>\n",
              "      <td>0</td>\n",
              "      <td>0</td>\n",
              "      <td>0</td>\n",
              "      <td>0</td>\n",
              "      <td>0</td>\n",
              "      <td>0</td>\n",
              "      <td>0</td>\n",
              "      <td>0</td>\n",
              "      <td>0</td>\n",
              "      <td>0</td>\n",
              "      <td>0</td>\n",
              "      <td>0</td>\n",
              "      <td>0</td>\n",
              "      <td>1</td>\n",
              "    </tr>\n",
              "  </tbody>\n",
              "</table>\n",
              "<p>15000 rows × 15 columns</p>\n",
              "</div>"
            ],
            "text/plain": [
              "       Appointment  Bus  Cab  Delivery  ...  Train  ham  info  spam\n",
              "0                0    0    0         1  ...      0    0     0     0\n",
              "1                0    0    0         0  ...      0    0     0     0\n",
              "2                0    0    0         0  ...      0    0     0     0\n",
              "3                0    0    0         0  ...      0    0     0     0\n",
              "4                1    0    0         0  ...      0    0     0     0\n",
              "...            ...  ...  ...       ...  ...    ...  ...   ...   ...\n",
              "14995            0    0    0         0  ...      0    0     1     0\n",
              "14996            0    0    0         0  ...      0    0     1     0\n",
              "14997            0    0    0         0  ...      0    0     1     0\n",
              "14998            0    0    0         0  ...      0    0     0     1\n",
              "14999            0    0    0         0  ...      0    0     0     1\n",
              "\n",
              "[15000 rows x 15 columns]"
            ]
          },
          "metadata": {
            "tags": []
          },
          "execution_count": 31
        }
      ]
    }
  ]
}