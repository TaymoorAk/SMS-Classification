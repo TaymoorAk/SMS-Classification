{
  "nbformat": 4,
  "nbformat_minor": 0,
  "metadata": {
    "colab": {
      "name": "Classifying_SMS.ipynb",
      "provenance": [],
      "collapsed_sections": []
    },
    "kernelspec": {
      "name": "python3",
      "display_name": "Python 3"
    },
    "accelerator": "GPU"
  },
  "cells": [
    {
      "cell_type": "code",
      "metadata": {
        "id": "NJ0Y4qoc7uAn",
        "colab_type": "code",
        "outputId": "8ad7928a-b95c-473b-fbc4-f2a7594e3a5f",
        "colab": {
          "base_uri": "https://localhost:8080/",
          "height": 86
        }
      },
      "source": [
        "import pandas as pd\n",
        "import matplotlib.pyplot as plt\n",
        "import re\n",
        "from nltk.corpus import stopwords\n",
        "import nltk\n",
        "nltk.download('stopwords')\n",
        "nltk.download('punkt')\n",
        "from nltk.stem import PorterStemmer\n",
        "import tensorflow as tf\n",
        "from tensorflow.keras.preprocessing.text import Tokenizer\n",
        "from tensorflow.keras.preprocessing.sequence import pad_sequences\n",
        "stop = stopwords.words('english')\n",
        "from nltk.stem import PorterStemmer"
      ],
      "execution_count": 1,
      "outputs": [
        {
          "output_type": "stream",
          "text": [
            "[nltk_data] Downloading package stopwords to /root/nltk_data...\n",
            "[nltk_data]   Package stopwords is already up-to-date!\n",
            "[nltk_data] Downloading package punkt to /root/nltk_data...\n",
            "[nltk_data]   Package punkt is already up-to-date!\n"
          ],
          "name": "stdout"
        }
      ]
    },
    {
      "cell_type": "code",
      "metadata": {
        "id": "lPIkK-SiAnK0",
        "colab_type": "code",
        "colab": {}
      },
      "source": [
        "dataset = pd.read_csv('train_sms_mine.csv')"
      ],
      "execution_count": 0,
      "outputs": []
    },
    {
      "cell_type": "code",
      "metadata": {
        "id": "MRI1cQxUC0Ye",
        "colab_type": "code",
        "outputId": "c76a4525-acfb-447b-c859-8d4b60de8cb1",
        "colab": {
          "base_uri": "https://localhost:8080/",
          "height": 206
        }
      },
      "source": [
        "dataset.head(5)"
      ],
      "execution_count": 3,
      "outputs": [
        {
          "output_type": "execute_result",
          "data": {
            "text/html": [
              "<div>\n",
              "<style scoped>\n",
              "    .dataframe tbody tr th:only-of-type {\n",
              "        vertical-align: middle;\n",
              "    }\n",
              "\n",
              "    .dataframe tbody tr th {\n",
              "        vertical-align: top;\n",
              "    }\n",
              "\n",
              "    .dataframe thead th {\n",
              "        text-align: right;\n",
              "    }\n",
              "</style>\n",
              "<table border=\"1\" class=\"dataframe\">\n",
              "  <thead>\n",
              "    <tr style=\"text-align: right;\">\n",
              "      <th></th>\n",
              "      <th>Label</th>\n",
              "      <th>Message</th>\n",
              "    </tr>\n",
              "  </thead>\n",
              "  <tbody>\n",
              "    <tr>\n",
              "      <th>0</th>\n",
              "      <td>Delivery</td>\n",
              "      <td>Dear Guest, Thanks for choosing The Edison. Or...</td>\n",
              "    </tr>\n",
              "    <tr>\n",
              "      <th>1</th>\n",
              "      <td>Hotel</td>\n",
              "      <td>Welcome to Southern University at Shreveport R...</td>\n",
              "    </tr>\n",
              "    <tr>\n",
              "      <th>2</th>\n",
              "      <td>Payment</td>\n",
              "      <td>Bill dated 2013-01-14 for Rs 626 has been gene...</td>\n",
              "    </tr>\n",
              "    <tr>\n",
              "      <th>3</th>\n",
              "      <td>Payment</td>\n",
              "      <td>Bill dated 2014-11-30 for Rs 323 has been gene...</td>\n",
              "    </tr>\n",
              "    <tr>\n",
              "      <th>4</th>\n",
              "      <td>Appointment</td>\n",
              "      <td>DEAR Zachary, THANK YOU FOR YOUR BOOKING (ORDE...</td>\n",
              "    </tr>\n",
              "  </tbody>\n",
              "</table>\n",
              "</div>"
            ],
            "text/plain": [
              "         Label                                            Message\n",
              "0     Delivery  Dear Guest, Thanks for choosing The Edison. Or...\n",
              "1        Hotel  Welcome to Southern University at Shreveport R...\n",
              "2      Payment  Bill dated 2013-01-14 for Rs 626 has been gene...\n",
              "3      Payment  Bill dated 2014-11-30 for Rs 323 has been gene...\n",
              "4  Appointment  DEAR Zachary, THANK YOU FOR YOUR BOOKING (ORDE..."
            ]
          },
          "metadata": {
            "tags": []
          },
          "execution_count": 3
        }
      ]
    },
    {
      "cell_type": "code",
      "metadata": {
        "id": "uezcIrBiC6OQ",
        "colab_type": "code",
        "outputId": "f15ce526-00f9-4cd6-8799-a2ac056f45a3",
        "colab": {
          "base_uri": "https://localhost:8080/",
          "height": 225
        }
      },
      "source": [
        "dataset[\"Label\"]"
      ],
      "execution_count": 4,
      "outputs": [
        {
          "output_type": "execute_result",
          "data": {
            "text/plain": [
              "0           Delivery\n",
              "1              Hotel\n",
              "2            Payment\n",
              "3            Payment\n",
              "4        Appointment\n",
              "            ...     \n",
              "41995            ham\n",
              "41996           spam\n",
              "41997            ham\n",
              "41998           spam\n",
              "41999           spam\n",
              "Name: Label, Length: 42000, dtype: object"
            ]
          },
          "metadata": {
            "tags": []
          },
          "execution_count": 4
        }
      ]
    },
    {
      "cell_type": "code",
      "metadata": {
        "id": "uVAFrZPcDt2s",
        "colab_type": "code",
        "outputId": "60bb075a-ba9f-415e-cdcc-5fcfa950053c",
        "colab": {
          "base_uri": "https://localhost:8080/",
          "height": 260
        }
      },
      "source": [
        "from sklearn.utils import shuffle\n",
        "dataset = shuffle(dataset)\n",
        "dataset.reset_index(drop=True)\n",
        "dataset.head"
      ],
      "execution_count": 5,
      "outputs": [
        {
          "output_type": "execute_result",
          "data": {
            "text/plain": [
              "<bound method NDFrame.head of       Label                                            Message\n",
              "14963  spam  Delivered: Your package with2Pcs x 3M Universa...\n",
              "12710   ham  I forgot, this year I should wish him at any cost\n",
              "38328  spam  OTP is 672584 for the txn of INR 9173.00 at IN...\n",
              "14278  spam  Dear JET Airways Customer, flight 5J467 from L...\n",
              "20129  spam  Greetings, Paytm SELLER SERVICES wishes you a ...\n",
              "...     ...                                                ...\n",
              "15706   ham                                I was thinking 6pm?\n",
              "28891   ham                               okay, I can be there\n",
              "35127  info  The PNR for your SPICE JET Flt 3K855 for DHM-P...\n",
              "33465   ham  Meeting with John, Abhanshu and Vidushi at sam...\n",
              "25640  info  Welcome to Gd Power Development R.No. 242, 362...\n",
              "\n",
              "[42000 rows x 2 columns]>"
            ]
          },
          "metadata": {
            "tags": []
          },
          "execution_count": 5
        }
      ]
    },
    {
      "cell_type": "code",
      "metadata": {
        "id": "AketV4KmJyCb",
        "colab_type": "code",
        "colab": {}
      },
      "source": [
        "contraction_dict = {\"ain't\": \"is not\", \"aren't\": \"are not\",\"can't\": \"cannot\", \"cause\": \"because\", \"could've\": \"could have\",\"this's\" : \"this is\"}"
      ],
      "execution_count": 0,
      "outputs": []
    },
    {
      "cell_type": "code",
      "metadata": {
        "id": "n_JcPyYYJ1BR",
        "colab_type": "code",
        "colab": {}
      },
      "source": [
        "def _get_contractions(contraction_dict):\n",
        "    contraction_re = re.compile('(%s)' % '|'.join(contraction_dict.keys()))\n",
        "    return contraction_dict, contraction_re\n",
        "contractions, contractions_re = _get_contractions(contraction_dict)\n",
        "def replace_contractions(text):\n",
        "  def replace(match):\n",
        "    return contractions[match.group(0)]\n",
        "  return contractions_re.sub(replace, text)"
      ],
      "execution_count": 0,
      "outputs": []
    },
    {
      "cell_type": "code",
      "metadata": {
        "id": "mEO1c-GpJ5Kf",
        "colab_type": "code",
        "colab": {}
      },
      "source": [
        "for msg in dataset[\"Message\"] :\n",
        "  replace_contractions(msg)"
      ],
      "execution_count": 0,
      "outputs": []
    },
    {
      "cell_type": "code",
      "metadata": {
        "id": "ytQvZ6R4C-Pn",
        "colab_type": "code",
        "colab": {}
      },
      "source": [
        "def clean_data(x):\n",
        "  punctuation = '.!\"#$%&()*+-/:,;<=>?@[\\\\]^_`{|}~'\n",
        "  x = x.apply(lambda x: ''.join(ch for ch in x if ch not in set(punctuation)))\n",
        "  x = x.str.lower()\n",
        "  x = x.str.replace(\"[0-9]\", \" \")\n",
        "  x = x.apply(lambda x: ' '.join(x.split()))\n",
        "  return x"
      ],
      "execution_count": 0,
      "outputs": []
    },
    {
      "cell_type": "code",
      "metadata": {
        "id": "3pezq4YkElYH",
        "colab_type": "code",
        "colab": {}
      },
      "source": [
        "cleaned = clean_data(dataset[\"Message\"])"
      ],
      "execution_count": 0,
      "outputs": []
    },
    {
      "cell_type": "code",
      "metadata": {
        "id": "EkN8APb0OJqR",
        "colab_type": "code",
        "colab": {}
      },
      "source": [
        "# cleaned2=[]\n",
        "# for msg in cleaned:\n",
        "#   cleaned2.append(nltk.word_tokenize(msg))"
      ],
      "execution_count": 0,
      "outputs": []
    },
    {
      "cell_type": "code",
      "metadata": {
        "id": "nSxhmVmQPO9F",
        "colab_type": "code",
        "colab": {}
      },
      "source": [
        "# dataset[\"Message\"] = cleaned2"
      ],
      "execution_count": 0,
      "outputs": []
    },
    {
      "cell_type": "code",
      "metadata": {
        "id": "6zAp4STmTmSm",
        "colab_type": "code",
        "outputId": "aa64f01b-bd56-46a2-ad38-8b0515faee59",
        "colab": {
          "base_uri": "https://localhost:8080/",
          "height": 260
        }
      },
      "source": [
        "dataset.head"
      ],
      "execution_count": 13,
      "outputs": [
        {
          "output_type": "execute_result",
          "data": {
            "text/plain": [
              "<bound method NDFrame.head of       Label                                            Message\n",
              "14963  spam  Delivered: Your package with2Pcs x 3M Universa...\n",
              "12710   ham  I forgot, this year I should wish him at any cost\n",
              "38328  spam  OTP is 672584 for the txn of INR 9173.00 at IN...\n",
              "14278  spam  Dear JET Airways Customer, flight 5J467 from L...\n",
              "20129  spam  Greetings, Paytm SELLER SERVICES wishes you a ...\n",
              "...     ...                                                ...\n",
              "15706   ham                                I was thinking 6pm?\n",
              "28891   ham                               okay, I can be there\n",
              "35127  info  The PNR for your SPICE JET Flt 3K855 for DHM-P...\n",
              "33465   ham  Meeting with John, Abhanshu and Vidushi at sam...\n",
              "25640  info  Welcome to Gd Power Development R.No. 242, 362...\n",
              "\n",
              "[42000 rows x 2 columns]>"
            ]
          },
          "metadata": {
            "tags": []
          },
          "execution_count": 13
        }
      ]
    },
    {
      "cell_type": "code",
      "metadata": {
        "id": "0JNoT4toUYs-",
        "colab_type": "code",
        "colab": {}
      },
      "source": [
        "# dataset[\"Message\"].apply(lambda x: [item for item in x if item not in stop])"
      ],
      "execution_count": 0,
      "outputs": []
    },
    {
      "cell_type": "code",
      "metadata": {
        "id": "I57M1UdeNCft",
        "colab_type": "code",
        "outputId": "3c57b543-5cef-4247-dd37-de3d78ae01e1",
        "colab": {
          "base_uri": "https://localhost:8080/",
          "height": 52
        }
      },
      "source": [
        "from keras.preprocessing.text import Tokenizer\n",
        "MAX_NB_WORDS = 25000\n",
        "MAX_SEQUENCE_LENGTH = 10\n",
        "EMBEDDING_DIM = 20\n",
        "\n",
        "tokenizer = Tokenizer(num_words=MAX_NB_WORDS, filters='!\"#$%&()*+,-./:;<=>?@[\\]^_`{|}~!\"#$%&()*+,-./:;<=>?@[\\\\]^_`{|}~\\t\\n“”’\\'∞θ÷α•à−β∅³π‘₹´°£€\\×™√²—', lower=True)\n",
        "# tokenizer = pickle.load(open('_tokenizer.pkl', 'rb'))\n",
        "tokenizer.fit_on_texts(dataset['Message'].values)\n",
        "word_index = tokenizer.word_index\n",
        "print('Found %s unique tokens.' % len(word_index))"
      ],
      "execution_count": 15,
      "outputs": [
        {
          "output_type": "stream",
          "text": [
            "Using TensorFlow backend.\n"
          ],
          "name": "stderr"
        },
        {
          "output_type": "stream",
          "text": [
            "Found 50355 unique tokens.\n"
          ],
          "name": "stdout"
        }
      ]
    },
    {
      "cell_type": "code",
      "metadata": {
        "id": "87_OJqHmrxj5",
        "colab_type": "code",
        "colab": {
          "base_uri": "https://localhost:8080/",
          "height": 34
        },
        "outputId": "2a166d6b-b71d-464e-dfb7-347699358f58"
      },
      "source": [
        "X = tokenizer.texts_to_sequences(dataset['Message'].values)\n",
        "X = pad_sequences(X, maxlen=MAX_SEQUENCE_LENGTH)\n",
        "print('Shape of data tensor:', X.shape)"
      ],
      "execution_count": 16,
      "outputs": [
        {
          "output_type": "stream",
          "text": [
            "Shape of data tensor: (42000, 10)\n"
          ],
          "name": "stdout"
        }
      ]
    },
    {
      "cell_type": "code",
      "metadata": {
        "id": "sIpAwnmONKoI",
        "colab_type": "code",
        "outputId": "717f40fc-915b-4ae2-d5e6-0187ebe7446e",
        "colab": {
          "base_uri": "https://localhost:8080/",
          "height": 34
        }
      },
      "source": [
        "Y = pd.get_dummies(dataset['Label']).values\n",
        "print('Shape of label tensor:', Y.shape)"
      ],
      "execution_count": 17,
      "outputs": [
        {
          "output_type": "stream",
          "text": [
            "Shape of label tensor: (42000, 15)\n"
          ],
          "name": "stdout"
        }
      ]
    },
    {
      "cell_type": "code",
      "metadata": {
        "id": "Cd6JEieYihqZ",
        "colab_type": "code",
        "outputId": "a40b7b35-2b8b-46cc-9ff6-cb5ede98681f",
        "colab": {
          "base_uri": "https://localhost:8080/",
          "height": 52
        }
      },
      "source": [
        "from sklearn.model_selection import train_test_split\n",
        "X_train, X_test, Y_train, Y_test = train_test_split(X,Y, test_size = 0.3, random_state = 42)\n",
        "print(X_train.shape,Y_train.shape)\n",
        "print(X_test.shape,Y_test.shape)"
      ],
      "execution_count": 18,
      "outputs": [
        {
          "output_type": "stream",
          "text": [
            "(29400, 10) (29400, 15)\n",
            "(12600, 10) (12600, 15)\n"
          ],
          "name": "stdout"
        }
      ]
    },
    {
      "cell_type": "code",
      "metadata": {
        "id": "fTXBxWF9sAjT",
        "colab_type": "code",
        "colab": {}
      },
      "source": [
        "from keras.models import Sequential\n",
        "from keras.layers import Dense, Dropout\n",
        "from keras.regularizers import l1"
      ],
      "execution_count": 0,
      "outputs": []
    },
    {
      "cell_type": "code",
      "metadata": {
        "id": "zyf11DR8ijbi",
        "colab_type": "code",
        "colab": {}
      },
      "source": [
        "model = Sequential()\n",
        "model.add(Dense(50, input_dim=X_train.shape[1], activation='sigmoid'))\n",
        "model.add(Dropout(0.2))\n",
        "# model.add(Dense(75, activation='relu'))\n",
        "# model.add(Dropout(0.2))\n",
        "# model.add(Dense(50, activation='relu'))\n",
        "# model.add(Dropout(0.2))\n",
        "model.add(Dense(25, activation='relu',bias_regularizer=tf.keras.regularizers.l2(0.01)))\n",
        "model.add(Dropout(0.2))\n",
        "model.add(Dense(15, activation='sigmoid'))"
      ],
      "execution_count": 0,
      "outputs": []
    },
    {
      "cell_type": "code",
      "metadata": {
        "id": "JtYzu-4KbJqh",
        "colab_type": "code",
        "colab": {}
      },
      "source": [
        "model.compile(loss='binary_crossentropy', optimizer='adam', metrics=['accuracy'])"
      ],
      "execution_count": 0,
      "outputs": []
    },
    {
      "cell_type": "code",
      "metadata": {
        "id": "nc2OQ8V2bNb5",
        "colab_type": "code",
        "colab": {
          "base_uri": "https://localhost:8080/",
          "height": 330
        },
        "outputId": "2cbc061e-981c-42bc-e0c9-19aeae7b4a37"
      },
      "source": [
        "model.summary()"
      ],
      "execution_count": 22,
      "outputs": [
        {
          "output_type": "stream",
          "text": [
            "Model: \"sequential_1\"\n",
            "_________________________________________________________________\n",
            "Layer (type)                 Output Shape              Param #   \n",
            "=================================================================\n",
            "dense_1 (Dense)              (None, 50)                550       \n",
            "_________________________________________________________________\n",
            "dropout_1 (Dropout)          (None, 50)                0         \n",
            "_________________________________________________________________\n",
            "dense_2 (Dense)              (None, 25)                1275      \n",
            "_________________________________________________________________\n",
            "dropout_2 (Dropout)          (None, 25)                0         \n",
            "_________________________________________________________________\n",
            "dense_3 (Dense)              (None, 15)                390       \n",
            "=================================================================\n",
            "Total params: 2,215\n",
            "Trainable params: 2,215\n",
            "Non-trainable params: 0\n",
            "_________________________________________________________________\n"
          ],
          "name": "stdout"
        }
      ]
    },
    {
      "cell_type": "code",
      "metadata": {
        "id": "MuTxxqWbiwwm",
        "colab_type": "code",
        "outputId": "36ba15b1-4de7-409d-dce2-8eb1737ba55e",
        "colab": {
          "base_uri": "https://localhost:8080/",
          "height": 784
        }
      },
      "source": [
        "callback = tf.keras.callbacks.EarlyStopping(monitor='val_loss', patience=5, min_delta=0.001)\n",
        "history = model.fit(X_train, Y_train, batch_size=50, epochs=50, validation_split=0.1,callbacks=[callback])"
      ],
      "execution_count": 23,
      "outputs": [
        {
          "output_type": "stream",
          "text": [
            "Train on 26460 samples, validate on 2940 samples\n",
            "Epoch 1/50\n",
            "26460/26460 [==============================] - 2s 89us/step - loss: 0.2465 - accuracy: 0.9025 - val_loss: 0.1519 - val_accuracy: 0.9406\n",
            "Epoch 2/50\n",
            "26460/26460 [==============================] - 2s 68us/step - loss: 0.1584 - accuracy: 0.9396 - val_loss: 0.1254 - val_accuracy: 0.9450\n",
            "Epoch 3/50\n",
            "26460/26460 [==============================] - 2s 67us/step - loss: 0.1403 - accuracy: 0.9423 - val_loss: 0.1131 - val_accuracy: 0.9491\n",
            "Epoch 4/50\n",
            "26460/26460 [==============================] - 2s 67us/step - loss: 0.1284 - accuracy: 0.9444 - val_loss: 0.1053 - val_accuracy: 0.9495\n",
            "Epoch 5/50\n",
            "26460/26460 [==============================] - 2s 67us/step - loss: 0.1221 - accuracy: 0.9453 - val_loss: 0.1015 - val_accuracy: 0.9508\n",
            "Epoch 6/50\n",
            "26460/26460 [==============================] - 2s 68us/step - loss: 0.1179 - accuracy: 0.9462 - val_loss: 0.0975 - val_accuracy: 0.9509\n",
            "Epoch 7/50\n",
            "26460/26460 [==============================] - 2s 67us/step - loss: 0.1138 - accuracy: 0.9474 - val_loss: 0.0934 - val_accuracy: 0.9519\n",
            "Epoch 8/50\n",
            "26460/26460 [==============================] - 2s 66us/step - loss: 0.1102 - accuracy: 0.9475 - val_loss: 0.0919 - val_accuracy: 0.9519\n",
            "Epoch 9/50\n",
            "26460/26460 [==============================] - 2s 67us/step - loss: 0.1080 - accuracy: 0.9482 - val_loss: 0.0902 - val_accuracy: 0.9524\n",
            "Epoch 10/50\n",
            "26460/26460 [==============================] - 2s 67us/step - loss: 0.1061 - accuracy: 0.9486 - val_loss: 0.0884 - val_accuracy: 0.9527\n",
            "Epoch 11/50\n",
            "26460/26460 [==============================] - 2s 67us/step - loss: 0.1045 - accuracy: 0.9491 - val_loss: 0.0882 - val_accuracy: 0.9515\n",
            "Epoch 12/50\n",
            "26460/26460 [==============================] - 2s 68us/step - loss: 0.1042 - accuracy: 0.9488 - val_loss: 0.0876 - val_accuracy: 0.9524\n",
            "Epoch 13/50\n",
            "26460/26460 [==============================] - 2s 68us/step - loss: 0.1028 - accuracy: 0.9494 - val_loss: 0.0865 - val_accuracy: 0.9512\n",
            "Epoch 14/50\n",
            "26460/26460 [==============================] - 2s 67us/step - loss: 0.1028 - accuracy: 0.9492 - val_loss: 0.0873 - val_accuracy: 0.9512\n",
            "Epoch 15/50\n",
            "26460/26460 [==============================] - 2s 66us/step - loss: 0.1024 - accuracy: 0.9491 - val_loss: 0.0860 - val_accuracy: 0.9524\n",
            "Epoch 16/50\n",
            "26460/26460 [==============================] - 2s 66us/step - loss: 0.1010 - accuracy: 0.9494 - val_loss: 0.0847 - val_accuracy: 0.9524\n",
            "Epoch 17/50\n",
            "26460/26460 [==============================] - 2s 68us/step - loss: 0.0995 - accuracy: 0.9498 - val_loss: 0.0844 - val_accuracy: 0.9518\n",
            "Epoch 18/50\n",
            "26460/26460 [==============================] - 2s 67us/step - loss: 0.0991 - accuracy: 0.9496 - val_loss: 0.0846 - val_accuracy: 0.9518\n",
            "Epoch 19/50\n",
            "26460/26460 [==============================] - 2s 69us/step - loss: 0.1001 - accuracy: 0.9496 - val_loss: 0.0851 - val_accuracy: 0.9515\n",
            "Epoch 20/50\n",
            "26460/26460 [==============================] - 2s 69us/step - loss: 0.1008 - accuracy: 0.9493 - val_loss: 0.0850 - val_accuracy: 0.9512\n",
            "Epoch 21/50\n",
            "26460/26460 [==============================] - 2s 67us/step - loss: 0.1003 - accuracy: 0.9495 - val_loss: 0.0856 - val_accuracy: 0.9528\n"
          ],
          "name": "stdout"
        }
      ]
    },
    {
      "cell_type": "code",
      "metadata": {
        "id": "1wxYpIrajXZQ",
        "colab_type": "code",
        "outputId": "a40c70e1-5f16-418a-e8cc-b99a0899add7",
        "colab": {
          "base_uri": "https://localhost:8080/",
          "height": 69
        }
      },
      "source": [
        "score, acc = model.evaluate(X_test, Y_test,\n",
        "                            batch_size=100)\n",
        "print('Test score:', score)\n",
        "print('Test accuracy:', acc)"
      ],
      "execution_count": 24,
      "outputs": [
        {
          "output_type": "stream",
          "text": [
            "12600/12600 [==============================] - 0s 15us/step\n",
            "Test score: 0.08572298672700686\n",
            "Test accuracy: 0.951682448387146\n"
          ],
          "name": "stdout"
        }
      ]
    },
    {
      "cell_type": "code",
      "metadata": {
        "id": "2FvmY5e_japS",
        "colab_type": "code",
        "outputId": "91160288-629c-4804-b625-c80698ee234f",
        "colab": {
          "base_uri": "https://localhost:8080/",
          "height": 590
        }
      },
      "source": [
        "print(history.history.keys())\n",
        "# summarize history for accuracy\n",
        "plt.plot(history.history['accuracy'])\n",
        "plt.plot(history.history['val_accuracy'])\n",
        "plt.title('model accuracy')\n",
        "plt.ylabel('accuracy')\n",
        "plt.xlabel('epoch')\n",
        "plt.legend(['train', 'test'], loc='upper left')\n",
        "plt.show()\n",
        "# summarize history for loss\n",
        "plt.plot(history.history['loss'])\n",
        "plt.plot(history.history['val_loss'])\n",
        "plt.title('model loss')\n",
        "plt.ylabel('loss')\n",
        "plt.xlabel('epoch')\n",
        "plt.legend(['train', 'test'], loc='upper left')\n",
        "plt.show()"
      ],
      "execution_count": 25,
      "outputs": [
        {
          "output_type": "stream",
          "text": [
            "dict_keys(['val_loss', 'val_accuracy', 'loss', 'accuracy'])\n"
          ],
          "name": "stdout"
        },
        {
          "output_type": "display_data",
          "data": {
            "image/png": "[encoded data removed]",
            "text/plain": [
              "<Figure size 432x288 with 1 Axes>"
            ]
          },
          "metadata": {
            "tags": [],
            "needs_background": "light"
          }
        },
        {
          "output_type": "display_data",
          "data": {
            "image/png": "[encoded data removed]",
            "text/plain": [
              "<Figure size 432x288 with 1 Axes>"
            ]
          },
          "metadata": {
            "tags": [],
            "needs_background": "light"
          }
        }
      ]
    },
    {
      "cell_type": "code",
      "metadata": {
        "id": "jnFNXycCjc7Q",
        "colab_type": "code",
        "outputId": "3fe9c762-5e1d-4c75-f15a-e3f42dbbd7af",
        "colab": {
          "base_uri": "https://localhost:8080/",
          "height": 86
        }
      },
      "source": [
        "accr = model.evaluate(X_test,Y_test)\n",
        "print('Test set\\n  Loss: {:0.3f}\\n  Accuracy: {:0.3f}'.format(accr[0],accr[1]))"
      ],
      "execution_count": 26,
      "outputs": [
        {
          "output_type": "stream",
          "text": [
            "12600/12600 [==============================] - 1s 44us/step\n",
            "Test set\n",
            "  Loss: 0.086\n",
            "  Accuracy: 0.952\n"
          ],
          "name": "stdout"
        }
      ]
    }
  ]
}