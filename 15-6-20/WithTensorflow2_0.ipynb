{
  "nbformat": 4,
  "nbformat_minor": 0,
  "metadata": {
    "colab": {
      "name": "WithTensorflow2_0.ipynb",
      "provenance": [],
      "collapsed_sections": []
    },
    "kernelspec": {
      "name": "python3",
      "display_name": "Python 3"
    }
  },
  "cells": [
    {
      "cell_type": "code",
      "metadata": {
        "id": "Hq0tpgFUScbu",
        "colab_type": "code",
        "colab": {}
      },
      "source": [
        "# !pip uninstall tensorflow"
      ],
      "execution_count": 0,
      "outputs": []
    },
    {
      "cell_type": "code",
      "metadata": {
        "id": "WmpnrLp4SivI",
        "colab_type": "code",
        "colab": {}
      },
      "source": [
        "# !pip install tensorflow==2.0.0\n",
        "# !pip install tf-nightly"
      ],
      "execution_count": 0,
      "outputs": []
    },
    {
      "cell_type": "code",
      "metadata": {
        "id": "c8bb8jyhS6Z_",
        "colab_type": "code",
        "outputId": "b99045e7-9b2e-4661-c72c-c467337e3464",
        "colab": {
          "base_uri": "https://localhost:8080/",
          "height": 109
        }
      },
      "source": [
        "import numpy as np\n",
        "import re\n",
        "import pandas as pd\n",
        "import matplotlib.pyplot as plt\n",
        "import spacy\n",
        "import sys\n",
        "import warnings\n",
        "from keras import layers\n",
        "import tensorflow as tf\n",
        "import pickle\n",
        "from tensorflow.keras.preprocessing.text import Tokenizer\n",
        "from tensorflow.keras.preprocessing.sequence import pad_sequences\n",
        "from sklearn.model_selection import train_test_split\n",
        "warnings.filterwarnings(\"ignore\")\n",
        "from nltk.corpus import stopwords\n",
        "import nltk\n",
        "nltk.download('stopwords')\n",
        "nltk.download('punkt')\n",
        "stop = stopwords.words('english')"
      ],
      "execution_count": 3,
      "outputs": [
        {
          "output_type": "stream",
          "text": [
            "Using TensorFlow backend.\n"
          ],
          "name": "stderr"
        },
        {
          "output_type": "stream",
          "text": [
            "[nltk_data] Downloading package stopwords to /root/nltk_data...\n",
            "[nltk_data]   Package stopwords is already up-to-date!\n",
            "[nltk_data] Downloading package punkt to /root/nltk_data...\n",
            "[nltk_data]   Package punkt is already up-to-date!\n"
          ],
          "name": "stdout"
        }
      ]
    },
    {
      "cell_type": "code",
      "metadata": {
        "id": "Rr3Ooog0TAlA",
        "colab_type": "code",
        "colab": {}
      },
      "source": [
        "dataset = pd.read_csv('train_sms_mine.csv', encoding='cp1252')"
      ],
      "execution_count": 0,
      "outputs": []
    },
    {
      "cell_type": "code",
      "metadata": {
        "id": "eKXZasKDTmGY",
        "colab_type": "code",
        "outputId": "774dedad-d1e8-4b1b-a502-4e84ddaa9197",
        "colab": {
          "base_uri": "https://localhost:8080/",
          "height": 274
        }
      },
      "source": [
        "dataset.head"
      ],
      "execution_count": 5,
      "outputs": [
        {
          "output_type": "execute_result",
          "data": {
            "text/plain": [
              "<bound method NDFrame.head of              Label                                            Message\n",
              "0         Delivery  Dear Guest, Thanks for choosing The Edison. Or...\n",
              "1            Hotel  Welcome to Southern University at Shreveport R...\n",
              "2          Payment  Bill dated 2013-01-14 for Rs 626 has been gene...\n",
              "3          Payment  Bill dated 2014-11-30 for Rs 323 has been gene...\n",
              "4      Appointment  DEAR Zachary, THANK YOU FOR YOUR BOOKING (ORDE...\n",
              "...            ...                                                ...\n",
              "41995          ham                               ok that works for me\n",
              "41996         spam  Delivered: Your package withSri High Quality S...\n",
              "41997          ham                      Let us dine at the Taj on Sat\n",
              "41998         spam  Delivered: Your package withSeCro (Pack of 2) ...\n",
              "41999         spam  OTP is 676348 for the txn of INR 6540.00 at Ar...\n",
              "\n",
              "[42000 rows x 2 columns]>"
            ]
          },
          "metadata": {
            "tags": []
          },
          "execution_count": 5
        }
      ]
    },
    {
      "cell_type": "code",
      "metadata": {
        "id": "_AI6qkfMToef",
        "colab_type": "code",
        "colab": {}
      },
      "source": [
        "bank =[]\n",
        "payement = []\n",
        "bill = []\n",
        "info = []\n",
        "ham = []\n",
        "appointment = []\n",
        "hotel = []\n",
        "pickup = []\n",
        "transaction = []"
      ],
      "execution_count": 0,
      "outputs": []
    },
    {
      "cell_type": "code",
      "metadata": {
        "id": "rPnKNPU6TrO3",
        "colab_type": "code",
        "colab": {}
      },
      "source": [
        "for i in range(len(dataset)):\n",
        "  if dataset['Label'][i] == 'bank':\n",
        "    bank.append(dataset['Message'][i])\n",
        "  elif dataset['Label'][i] == 'bill':\n",
        "    bill.append(dataset['Message'][i])\n",
        "  elif dataset['Label'][i] == 'Payment':\n",
        "    payement.append(dataset['Message'][i])\n",
        "  elif dataset['Label'][i] == 'info':\n",
        "    info.append(dataset['Message'][i])\n",
        "  elif dataset['Label'][i] =='ham':\n",
        "    ham.append(dataset['Message'][i])\n",
        "  elif dataset['Label'][i] == 'Appointment':\n",
        "    appointment.append(dataset['Message'][i])\n",
        "  elif dataset['Label'][i] == 'Hotel':\n",
        "    hotel.append(dataset['Message'][i])\n",
        "  elif dataset['Label'][i] == 'PickUp':\n",
        "    pickup.append(dataset['Message'][i])\n",
        "  elif dataset['Label'][i] == 'transaction':\n",
        "    transaction.append(dataset['Message'][i])\n",
        "  else:\n",
        "    continue"
      ],
      "execution_count": 0,
      "outputs": []
    },
    {
      "cell_type": "code",
      "metadata": {
        "id": "sZYjTRmWTtiP",
        "colab_type": "code",
        "colab": {}
      },
      "source": [
        "data = pd.DataFrame(columns=['Text','Label',])"
      ],
      "execution_count": 0,
      "outputs": []
    },
    {
      "cell_type": "code",
      "metadata": {
        "id": "Sk7JINj5Twf_",
        "colab_type": "code",
        "colab": {}
      },
      "source": [
        "text = []\n",
        "label = []\n",
        "for tex in bank:\n",
        "  text.append(tex)\n",
        "  label.append(1)\n",
        "for tex in bill:\n",
        "  text.append(tex)\n",
        "  label.append(1)\n",
        "for tex in payement:\n",
        "  text.append(tex)\n",
        "  label.append(1)\n",
        "for tex in pickup:\n",
        "  text.append(tex)\n",
        "  label.append(1)\n",
        "for tex in transaction:\n",
        "  text.append(tex)\n",
        "  label.append(1)\n",
        "##### Neg\n",
        "\n",
        "for tex in info:\n",
        "  text.append(tex)\n",
        "  label.append(0)\n",
        "for tex in ham:\n",
        "  text.append(tex)\n",
        "  label.append(0)\n",
        "for tex in appointment:\n",
        "  text.append(tex)\n",
        "  label.append(0)\n",
        "for tex in hotel:\n",
        "  text.append(tex)\n",
        "  label.append(0)"
      ],
      "execution_count": 0,
      "outputs": []
    },
    {
      "cell_type": "code",
      "metadata": {
        "id": "s6IfnkMCTzBn",
        "colab_type": "code",
        "outputId": "58ebd01f-aa6a-4644-d6e2-e56c8892d4cb",
        "colab": {
          "base_uri": "https://localhost:8080/",
          "height": 274
        }
      },
      "source": [
        "data['Text'] = text\n",
        "data['Label'] = label\n",
        "data.head"
      ],
      "execution_count": 10,
      "outputs": [
        {
          "output_type": "execute_result",
          "data": {
            "text/plain": [
              "<bound method NDFrame.head of                                                     Text  Label\n",
              "0      Bill dated 2013-01-14 for Rs 626 has been gene...      1\n",
              "1      Bill dated 2014-11-30 for Rs 323 has been gene...      1\n",
              "2      Bill dated 2012-09-07 for Rs 501 has been gene...      1\n",
              "3      Bill dated 2010-01-27 for Rs 273 has been gene...      1\n",
              "4      Bill dated 2009-10-20 for Rs 1080 has been gen...      1\n",
              "...                                                  ...    ...\n",
              "27370  Welcome to Fossil Ridge Park R.No. 195, 132, 1...      0\n",
              "27371  Welcome to Curwood Castle R.No. 491, 236 Ch.In...      0\n",
              "27372  Welcome to MAINSOURCE FNCL GRP R.No. 203, 174,...      0\n",
              "27373  Welcome to Seto Inland Sea R.No. 384, 198 Ch.I...      0\n",
              "27374  Welcome to National Aviary R.No. 109, 589, 533...      0\n",
              "\n",
              "[27375 rows x 2 columns]>"
            ]
          },
          "metadata": {
            "tags": []
          },
          "execution_count": 10
        }
      ]
    },
    {
      "cell_type": "code",
      "metadata": {
        "id": "DLiB4T4GT1Bn",
        "colab_type": "code",
        "outputId": "1b45cb22-7b14-4caa-92a0-2f22b6a4bddc",
        "colab": {
          "base_uri": "https://localhost:8080/",
          "height": 274
        }
      },
      "source": [
        "from sklearn.utils import shuffle\n",
        "data = shuffle(data)\n",
        "data.reset_index()\n",
        "data.head"
      ],
      "execution_count": 11,
      "outputs": [
        {
          "output_type": "execute_result",
          "data": {
            "text/plain": [
              "<bound method NDFrame.head of                                                     Text  Label\n",
              "25111                                 Ok! See you there!      0\n",
              "16879                             remember at Total Mall      0\n",
              "21806                                ohh, thanks a lot !      0\n",
              "11766  Dear Guest, Thanks for choosing Blimpy Burger....      0\n",
              "24833                            call john mobile number      0\n",
              "...                                                  ...    ...\n",
              "3980   DEAR Luke, THANK YOU FOR YOUR BOOKING (ORDER I...      0\n",
              "20094  Opening ceremony is on on the day after Diwali...      0\n",
              "1118   Repair ref.no for your car is JC31563472 opene...      1\n",
              "22990                  Cool, I'll pick you up in an hour      0\n",
              "23132                   i have to go to the party on tue      0\n",
              "\n",
              "[27375 rows x 2 columns]>"
            ]
          },
          "metadata": {
            "tags": []
          },
          "execution_count": 11
        }
      ]
    },
    {
      "cell_type": "code",
      "metadata": {
        "id": "_IurFr5irOKe",
        "colab_type": "code",
        "colab": {}
      },
      "source": [
        "contraction_dict = {\"ain't\": \"is not\", \"aren't\": \"are not\",\"can't\": \"cannot\", \"cause\": \"because\", \"could've\": \"could have\",\"this's\" : \"this is\"}"
      ],
      "execution_count": 0,
      "outputs": []
    },
    {
      "cell_type": "code",
      "metadata": {
        "id": "kSvwdvc_rQDD",
        "colab_type": "code",
        "colab": {}
      },
      "source": [
        "def _get_contractions(contraction_dict):\n",
        "    contraction_re = re.compile('(%s)' % '|'.join(contraction_dict.keys()))\n",
        "    return contraction_dict, contraction_re\n",
        "contractions, contractions_re = _get_contractions(contraction_dict)\n",
        "def replace_contractions(text):\n",
        "  def replace(match):\n",
        "    return contractions[match.group(0)]\n",
        "  return contractions_re.sub(replace, text)\n",
        "  "
      ],
      "execution_count": 0,
      "outputs": []
    },
    {
      "cell_type": "code",
      "metadata": {
        "id": "me0zqtILrTnC",
        "colab_type": "code",
        "colab": {}
      },
      "source": [
        "for msg in data[\"Text\"] :\n",
        "  replace_contractions(msg)"
      ],
      "execution_count": 0,
      "outputs": []
    },
    {
      "cell_type": "code",
      "metadata": {
        "id": "Lz91c_jOT3FH",
        "colab_type": "code",
        "colab": {}
      },
      "source": [
        "def clean_data(x):\n",
        "  punctuation = '.!\"#$%&()*+-/:,;<=>?@[\\\\]^_`{|}~'\n",
        "  x = x.apply(lambda x: ''.join(ch for ch in x if ch not in set(punctuation)))\n",
        "  x = x.str.lower()\n",
        "  x = x.str.replace(\"[0-9]\", \" \")\n",
        "  x = x.apply(lambda x: ' '.join(x.split()))\n",
        "  return x"
      ],
      "execution_count": 0,
      "outputs": []
    },
    {
      "cell_type": "code",
      "metadata": {
        "id": "og_HQK8UrM00",
        "colab_type": "code",
        "colab": {}
      },
      "source": [
        "cleaned = clean_data(data[\"Text\"])"
      ],
      "execution_count": 0,
      "outputs": []
    },
    {
      "cell_type": "code",
      "metadata": {
        "id": "A-IAVzf-rjlF",
        "colab_type": "code",
        "colab": {}
      },
      "source": [
        "# cleaned2=[]\n",
        "# for msg in cleaned:\n",
        "#   cleaned2.append(nltk.word_tokenize(msg))"
      ],
      "execution_count": 0,
      "outputs": []
    },
    {
      "cell_type": "code",
      "metadata": {
        "id": "pvz3t4y3rnIT",
        "colab_type": "code",
        "colab": {}
      },
      "source": [
        "# dataset[\"Text\"] = cleaned2"
      ],
      "execution_count": 0,
      "outputs": []
    },
    {
      "cell_type": "code",
      "metadata": {
        "id": "gUvBLSmOrsu5",
        "colab_type": "code",
        "colab": {}
      },
      "source": [
        "# dataset[\"Text\"].apply(lambda x: [item for item in x if item not in stop])"
      ],
      "execution_count": 0,
      "outputs": []
    },
    {
      "cell_type": "code",
      "metadata": {
        "id": "fixqENMKT5PH",
        "colab_type": "code",
        "outputId": "0c39e932-844f-407d-d7af-477318d65342",
        "colab": {
          "base_uri": "https://localhost:8080/",
          "height": 35
        }
      },
      "source": [
        "# from keras.preprocessing.text import Tokenizer\n",
        "MAX_NB_WORDS = 25000\n",
        "MAX_SEQUENCE_LENGTH = 10\n",
        "EMBEDDING_DIM = 20\n",
        "\n",
        "tokenizer = Tokenizer(num_words=MAX_NB_WORDS, filters='!\"#$%&()*+,-./:;<=>?@[\\]^_`{|}~!\"#$%&()*+,-./:;<=>?@[\\\\]^_`{|}~\\t\\n“”’\\'∞θ÷α•à−β∅³π‘₹´°£€\\×™√²—', lower=True)\n",
        "# tokenizer = pickle.load(open('_tokenizer.pkl', 'rb'))\n",
        "tokenizer.fit_on_texts(data['Text'].values)\n",
        "word_index = tokenizer.word_index\n",
        "print('Found %s unique tokens.' % len(word_index))"
      ],
      "execution_count": 20,
      "outputs": [
        {
          "output_type": "stream",
          "text": [
            "Found 31634 unique tokens.\n"
          ],
          "name": "stdout"
        }
      ]
    },
    {
      "cell_type": "code",
      "metadata": {
        "id": "zy-joofKT79f",
        "colab_type": "code",
        "outputId": "e48bcada-7227-44f1-bc50-910cad4071ab",
        "colab": {
          "base_uri": "https://localhost:8080/",
          "height": 35
        }
      },
      "source": [
        "# from keras.preprocessing.sequence import pad_sequences\n",
        "X = tokenizer.texts_to_sequences(data['Text'].values)\n",
        "X = pad_sequences(X, maxlen=MAX_SEQUENCE_LENGTH)\n",
        "print('Shape of data tensor:', X.shape)"
      ],
      "execution_count": 21,
      "outputs": [
        {
          "output_type": "stream",
          "text": [
            "Shape of data tensor: (27375, 10)\n"
          ],
          "name": "stdout"
        }
      ]
    },
    {
      "cell_type": "code",
      "metadata": {
        "id": "Zf68UYCDT-Se",
        "colab_type": "code",
        "outputId": "b312d818-1bba-42fa-a5f3-1ae75ee26b00",
        "colab": {
          "base_uri": "https://localhost:8080/",
          "height": 54
        }
      },
      "source": [
        "Y = pd.get_dummies(data['Label']).values.astype('float32')\n",
        "print('Shape of label tensor:', Y.shape)\n",
        "Y[3]"
      ],
      "execution_count": 22,
      "outputs": [
        {
          "output_type": "stream",
          "text": [
            "Shape of label tensor: (27375, 2)\n"
          ],
          "name": "stdout"
        },
        {
          "output_type": "execute_result",
          "data": {
            "text/plain": [
              "array([1., 0.], dtype=float32)"
            ]
          },
          "metadata": {
            "tags": []
          },
          "execution_count": 22
        }
      ]
    },
    {
      "cell_type": "code",
      "metadata": {
        "id": "JLynpLPyUB82",
        "colab_type": "code",
        "outputId": "3a9efada-c07c-4f96-bf27-b5efc9ce4eb4",
        "colab": {
          "base_uri": "https://localhost:8080/",
          "height": 54
        }
      },
      "source": [
        "X_train, X_test, Y_train, Y_test = train_test_split(X,Y, test_size = 0.10, random_state = 42)\n",
        "print(X_train.shape,Y_train.shape)\n",
        "print(X_test.shape,Y_test.shape)"
      ],
      "execution_count": 23,
      "outputs": [
        {
          "output_type": "stream",
          "text": [
            "(24637, 10) (24637, 2)\n",
            "(2738, 10) (2738, 2)\n"
          ],
          "name": "stdout"
        }
      ]
    },
    {
      "cell_type": "code",
      "metadata": {
        "id": "E_yQVzaAUE02",
        "colab_type": "code",
        "colab": {}
      },
      "source": [
        "embedding_dim = 20\n",
        "dropout = 0.2\n",
        "optimizer = 'adam'"
      ],
      "execution_count": 0,
      "outputs": []
    },
    {
      "cell_type": "code",
      "metadata": {
        "id": "qMitZ63oU9YV",
        "colab_type": "code",
        "colab": {}
      },
      "source": [
        "model = tf.keras.Sequential([tf.keras.layers.Embedding(MAX_NB_WORDS,EMBEDDING_DIM,input_length=X.shape[1]),\n",
        "                             tf.keras.layers.SpatialDropout1D(0.2),\n",
        "                             tf.keras.layers.GRU(32, dropout=0.2, recurrent_dropout=0.2),\n",
        "                            #  tf.keras.layers.Dense(128,activation='relu'),\n",
        "                            #  tf.keras.layers.Dropout(dropout),\n",
        "                            #  tf.keras.layers.Dense(64,activation='relu'),\n",
        "                            #  tf.keras.layers.Dropout(dropout),\n",
        "                             tf.keras.layers.Dense(16,activation='relu'),\n",
        "                             tf.keras.layers.Dropout(dropout),\n",
        "                             tf.keras.layers.Dense(8,activation='relu'),\n",
        "                             tf.keras.layers.Dropout(dropout),\n",
        "                             tf.keras.layers.Dense(4,activation='relu'),\n",
        "                             tf.keras.layers.Dropout(dropout),\n",
        "                             tf.keras.layers.Dense(2,activation='sigmoid')])"
      ],
      "execution_count": 0,
      "outputs": []
    },
    {
      "cell_type": "code",
      "metadata": {
        "id": "pWeGAxNWW1ht",
        "colab_type": "code",
        "outputId": "661e277e-1270-485b-f8cb-c19f37410c97",
        "colab": {
          "base_uri": "https://localhost:8080/",
          "height": 531
        }
      },
      "source": [
        "model.summary()"
      ],
      "execution_count": 26,
      "outputs": [
        {
          "output_type": "stream",
          "text": [
            "Model: \"sequential\"\n",
            "_________________________________________________________________\n",
            "Layer (type)                 Output Shape              Param #   \n",
            "=================================================================\n",
            "embedding (Embedding)        (None, 10, 20)            500000    \n",
            "_________________________________________________________________\n",
            "spatial_dropout1d (SpatialDr (None, 10, 20)            0         \n",
            "_________________________________________________________________\n",
            "gru (GRU)                    (None, 32)                5184      \n",
            "_________________________________________________________________\n",
            "dense (Dense)                (None, 16)                528       \n",
            "_________________________________________________________________\n",
            "dropout (Dropout)            (None, 16)                0         \n",
            "_________________________________________________________________\n",
            "dense_1 (Dense)              (None, 8)                 136       \n",
            "_________________________________________________________________\n",
            "dropout_1 (Dropout)          (None, 8)                 0         \n",
            "_________________________________________________________________\n",
            "dense_2 (Dense)              (None, 4)                 36        \n",
            "_________________________________________________________________\n",
            "dropout_2 (Dropout)          (None, 4)                 0         \n",
            "_________________________________________________________________\n",
            "dense_3 (Dense)              (None, 2)                 10        \n",
            "=================================================================\n",
            "Total params: 505,894\n",
            "Trainable params: 505,894\n",
            "Non-trainable params: 0\n",
            "_________________________________________________________________\n"
          ],
          "name": "stdout"
        }
      ]
    },
    {
      "cell_type": "code",
      "metadata": {
        "id": "WwLYyLzyXKSM",
        "colab_type": "code",
        "colab": {}
      },
      "source": [
        "model.compile(loss='binary_crossentropy', optimizer=optimizer, metrics=['accuracy'])"
      ],
      "execution_count": 0,
      "outputs": []
    },
    {
      "cell_type": "code",
      "metadata": {
        "id": "ZjK1Dv4SXboC",
        "colab_type": "code",
        "outputId": "0c1b81f9-ec8e-4432-a6d3-51521440b672",
        "colab": {
          "base_uri": "https://localhost:8080/",
          "height": 1000
        }
      },
      "source": [
        "callback = callback = tf.keras.callbacks.EarlyStopping(monitor='val_loss', patience=3, min_delta=0.001)\n",
        "# history = model.fit(X_train, Y_train, epochs=15, batch_size=64,validation_split=0.1,callbacks=[callback])\n",
        "history = model.fit(X_train, Y_train, epochs=100, batch_size=128,validation_split=0.1)"
      ],
      "execution_count": 28,
      "outputs": [
        {
          "output_type": "stream",
          "text": [
            "Epoch 1/100\n",
            "174/174 [==============================] - 4s 22ms/step - loss: 0.3419 - accuracy: 0.9013 - val_loss: 0.0990 - val_accuracy: 0.9282\n",
            "Epoch 2/100\n",
            "174/174 [==============================] - 4s 21ms/step - loss: 0.2105 - accuracy: 0.9265 - val_loss: 0.0970 - val_accuracy: 0.9282\n",
            "Epoch 3/100\n",
            "174/174 [==============================] - 3s 19ms/step - loss: 0.2054 - accuracy: 0.9270 - val_loss: 0.0974 - val_accuracy: 0.9282\n",
            "Epoch 4/100\n",
            "174/174 [==============================] - 3s 19ms/step - loss: 0.1942 - accuracy: 0.9264 - val_loss: 0.0977 - val_accuracy: 0.9282\n",
            "Epoch 5/100\n",
            "174/174 [==============================] - 4s 20ms/step - loss: 0.1460 - accuracy: 0.9274 - val_loss: 0.0979 - val_accuracy: 0.9282\n",
            "Epoch 6/100\n",
            "174/174 [==============================] - 3s 19ms/step - loss: 0.1119 - accuracy: 0.9272 - val_loss: 0.0978 - val_accuracy: 0.9282\n",
            "Epoch 7/100\n",
            "174/174 [==============================] - 3s 19ms/step - loss: 0.1088 - accuracy: 0.9298 - val_loss: 0.0974 - val_accuracy: 0.9282\n",
            "Epoch 8/100\n",
            "174/174 [==============================] - 3s 19ms/step - loss: 0.1083 - accuracy: 0.9296 - val_loss: 0.0970 - val_accuracy: 0.9265\n",
            "Epoch 9/100\n",
            "174/174 [==============================] - 3s 19ms/step - loss: 0.1077 - accuracy: 0.9308 - val_loss: 0.0993 - val_accuracy: 0.9282\n",
            "Epoch 10/100\n",
            "174/174 [==============================] - 4s 22ms/step - loss: 0.1065 - accuracy: 0.9316 - val_loss: 0.0972 - val_accuracy: 0.9265\n",
            "Epoch 11/100\n",
            "174/174 [==============================] - 4s 21ms/step - loss: 0.1068 - accuracy: 0.9336 - val_loss: 0.1054 - val_accuracy: 0.9286\n",
            "Epoch 12/100\n",
            "174/174 [==============================] - 3s 19ms/step - loss: 0.1045 - accuracy: 0.9312 - val_loss: 0.1230 - val_accuracy: 0.9274\n",
            "Epoch 13/100\n",
            "174/174 [==============================] - 3s 20ms/step - loss: 0.1035 - accuracy: 0.9350 - val_loss: 0.1429 - val_accuracy: 0.9286\n",
            "Epoch 14/100\n",
            "174/174 [==============================] - 3s 19ms/step - loss: 0.1007 - accuracy: 0.9362 - val_loss: 0.1256 - val_accuracy: 0.9188\n",
            "Epoch 15/100\n",
            "174/174 [==============================] - 3s 19ms/step - loss: 0.0985 - accuracy: 0.9351 - val_loss: 0.1260 - val_accuracy: 0.9229\n",
            "Epoch 16/100\n",
            "174/174 [==============================] - 3s 18ms/step - loss: 0.0972 - accuracy: 0.9387 - val_loss: 0.1721 - val_accuracy: 0.9200\n",
            "Epoch 17/100\n",
            "174/174 [==============================] - 3s 19ms/step - loss: 0.0974 - accuracy: 0.9383 - val_loss: 0.2146 - val_accuracy: 0.9237\n",
            "Epoch 18/100\n",
            "174/174 [==============================] - 3s 18ms/step - loss: 0.0971 - accuracy: 0.9377 - val_loss: 0.1437 - val_accuracy: 0.9200\n",
            "Epoch 19/100\n",
            "174/174 [==============================] - 3s 20ms/step - loss: 0.0954 - accuracy: 0.9374 - val_loss: 0.2394 - val_accuracy: 0.9200\n",
            "Epoch 20/100\n",
            "174/174 [==============================] - 3s 19ms/step - loss: 0.0960 - accuracy: 0.9357 - val_loss: 0.2122 - val_accuracy: 0.9184\n",
            "Epoch 21/100\n",
            "174/174 [==============================] - 3s 19ms/step - loss: 0.0952 - accuracy: 0.9371 - val_loss: 0.1993 - val_accuracy: 0.9180\n",
            "Epoch 22/100\n",
            "174/174 [==============================] - 3s 19ms/step - loss: 0.0948 - accuracy: 0.9390 - val_loss: 0.1942 - val_accuracy: 0.9209\n",
            "Epoch 23/100\n",
            "174/174 [==============================] - 3s 19ms/step - loss: 0.0950 - accuracy: 0.9374 - val_loss: 0.2148 - val_accuracy: 0.9200\n",
            "Epoch 24/100\n",
            "174/174 [==============================] - 3s 19ms/step - loss: 0.0939 - accuracy: 0.9395 - val_loss: 0.2563 - val_accuracy: 0.9188\n",
            "Epoch 25/100\n",
            "174/174 [==============================] - 3s 19ms/step - loss: 0.0938 - accuracy: 0.9364 - val_loss: 0.2425 - val_accuracy: 0.9164\n",
            "Epoch 26/100\n",
            "174/174 [==============================] - 3s 19ms/step - loss: 0.0939 - accuracy: 0.9380 - val_loss: 0.2771 - val_accuracy: 0.9164\n",
            "Epoch 27/100\n",
            "174/174 [==============================] - 3s 19ms/step - loss: 0.0917 - accuracy: 0.9385 - val_loss: 0.3200 - val_accuracy: 0.9192\n",
            "Epoch 28/100\n",
            "174/174 [==============================] - 3s 19ms/step - loss: 0.0935 - accuracy: 0.9386 - val_loss: 0.2091 - val_accuracy: 0.9156\n",
            "Epoch 29/100\n",
            "174/174 [==============================] - 3s 19ms/step - loss: 0.0921 - accuracy: 0.9396 - val_loss: 0.2532 - val_accuracy: 0.9176\n",
            "Epoch 30/100\n",
            "174/174 [==============================] - 3s 20ms/step - loss: 0.0912 - accuracy: 0.9383 - val_loss: 0.2009 - val_accuracy: 0.9160\n",
            "Epoch 31/100\n",
            "174/174 [==============================] - 3s 19ms/step - loss: 0.0910 - accuracy: 0.9384 - val_loss: 0.2791 - val_accuracy: 0.9164\n",
            "Epoch 32/100\n",
            "174/174 [==============================] - 4s 21ms/step - loss: 0.0909 - accuracy: 0.9385 - val_loss: 0.3585 - val_accuracy: 0.9164\n",
            "Epoch 33/100\n",
            "174/174 [==============================] - 3s 19ms/step - loss: 0.0902 - accuracy: 0.9384 - val_loss: 0.3807 - val_accuracy: 0.9168\n",
            "Epoch 34/100\n",
            "174/174 [==============================] - 3s 19ms/step - loss: 0.0911 - accuracy: 0.9376 - val_loss: 0.3940 - val_accuracy: 0.9172\n",
            "Epoch 35/100\n",
            "174/174 [==============================] - 3s 19ms/step - loss: 0.0892 - accuracy: 0.9383 - val_loss: 0.4162 - val_accuracy: 0.9180\n",
            "Epoch 36/100\n",
            "174/174 [==============================] - 3s 20ms/step - loss: 0.0883 - accuracy: 0.9380 - val_loss: 0.4241 - val_accuracy: 0.9172\n",
            "Epoch 37/100\n",
            "174/174 [==============================] - 3s 20ms/step - loss: 0.0880 - accuracy: 0.9406 - val_loss: 0.3998 - val_accuracy: 0.9180\n",
            "Epoch 38/100\n",
            "174/174 [==============================] - 3s 19ms/step - loss: 0.0895 - accuracy: 0.9373 - val_loss: 0.3596 - val_accuracy: 0.9176\n",
            "Epoch 39/100\n",
            "174/174 [==============================] - 3s 19ms/step - loss: 0.0899 - accuracy: 0.9386 - val_loss: 0.3297 - val_accuracy: 0.9180\n",
            "Epoch 40/100\n",
            "174/174 [==============================] - 3s 19ms/step - loss: 0.0899 - accuracy: 0.9395 - val_loss: 0.2846 - val_accuracy: 0.9192\n",
            "Epoch 41/100\n",
            "174/174 [==============================] - 3s 19ms/step - loss: 0.0891 - accuracy: 0.9382 - val_loss: 0.2939 - val_accuracy: 0.9176\n",
            "Epoch 42/100\n",
            "174/174 [==============================] - 3s 19ms/step - loss: 0.0887 - accuracy: 0.9407 - val_loss: 0.3659 - val_accuracy: 0.9176\n",
            "Epoch 43/100\n",
            "174/174 [==============================] - 3s 19ms/step - loss: 0.0890 - accuracy: 0.9410 - val_loss: 0.3799 - val_accuracy: 0.9188\n",
            "Epoch 44/100\n",
            "174/174 [==============================] - 3s 19ms/step - loss: 0.0889 - accuracy: 0.9401 - val_loss: 0.4237 - val_accuracy: 0.9180\n",
            "Epoch 45/100\n",
            "174/174 [==============================] - 3s 19ms/step - loss: 0.0891 - accuracy: 0.9402 - val_loss: 0.3915 - val_accuracy: 0.9176\n",
            "Epoch 46/100\n",
            "174/174 [==============================] - 3s 19ms/step - loss: 0.0884 - accuracy: 0.9395 - val_loss: 0.3876 - val_accuracy: 0.9176\n",
            "Epoch 47/100\n",
            "174/174 [==============================] - 3s 20ms/step - loss: 0.0894 - accuracy: 0.9398 - val_loss: 0.3304 - val_accuracy: 0.9184\n",
            "Epoch 48/100\n",
            "174/174 [==============================] - 4s 20ms/step - loss: 0.0889 - accuracy: 0.9389 - val_loss: 0.4038 - val_accuracy: 0.9200\n",
            "Epoch 49/100\n",
            "174/174 [==============================] - 3s 20ms/step - loss: 0.0899 - accuracy: 0.9398 - val_loss: 0.3098 - val_accuracy: 0.9176\n",
            "Epoch 50/100\n",
            "174/174 [==============================] - 3s 19ms/step - loss: 0.0891 - accuracy: 0.9392 - val_loss: 0.3103 - val_accuracy: 0.9192\n",
            "Epoch 51/100\n",
            "174/174 [==============================] - 3s 19ms/step - loss: 0.0882 - accuracy: 0.9391 - val_loss: 0.3534 - val_accuracy: 0.9184\n",
            "Epoch 52/100\n",
            "174/174 [==============================] - 3s 19ms/step - loss: 0.0886 - accuracy: 0.9387 - val_loss: 0.3975 - val_accuracy: 0.9221\n",
            "Epoch 53/100\n",
            "174/174 [==============================] - 3s 19ms/step - loss: 0.0884 - accuracy: 0.9403 - val_loss: 0.3550 - val_accuracy: 0.9188\n",
            "Epoch 54/100\n",
            "174/174 [==============================] - 3s 19ms/step - loss: 0.0890 - accuracy: 0.9407 - val_loss: 0.3734 - val_accuracy: 0.9184\n",
            "Epoch 55/100\n",
            "174/174 [==============================] - 4s 20ms/step - loss: 0.0888 - accuracy: 0.9393 - val_loss: 0.4103 - val_accuracy: 0.9188\n",
            "Epoch 56/100\n",
            "174/174 [==============================] - 3s 19ms/step - loss: 0.0890 - accuracy: 0.9395 - val_loss: 0.3843 - val_accuracy: 0.9192\n",
            "Epoch 57/100\n",
            "174/174 [==============================] - 3s 20ms/step - loss: 0.0883 - accuracy: 0.9397 - val_loss: 0.4731 - val_accuracy: 0.9176\n",
            "Epoch 58/100\n",
            "174/174 [==============================] - 3s 20ms/step - loss: 0.0886 - accuracy: 0.9400 - val_loss: 0.4222 - val_accuracy: 0.9176\n",
            "Epoch 59/100\n",
            "174/174 [==============================] - 4s 21ms/step - loss: 0.0893 - accuracy: 0.9405 - val_loss: 0.4202 - val_accuracy: 0.9172\n",
            "Epoch 60/100\n",
            "174/174 [==============================] - 3s 19ms/step - loss: 0.0902 - accuracy: 0.9400 - val_loss: 0.3014 - val_accuracy: 0.9192\n",
            "Epoch 61/100\n",
            "174/174 [==============================] - 3s 20ms/step - loss: 0.0888 - accuracy: 0.9389 - val_loss: 0.3934 - val_accuracy: 0.9196\n",
            "Epoch 62/100\n",
            "174/174 [==============================] - 4s 20ms/step - loss: 0.0882 - accuracy: 0.9388 - val_loss: 0.3519 - val_accuracy: 0.9184\n",
            "Epoch 63/100\n",
            "174/174 [==============================] - 3s 20ms/step - loss: 0.0888 - accuracy: 0.9396 - val_loss: 0.4047 - val_accuracy: 0.9176\n",
            "Epoch 64/100\n",
            "174/174 [==============================] - 3s 20ms/step - loss: 0.0890 - accuracy: 0.9408 - val_loss: 0.3723 - val_accuracy: 0.9156\n",
            "Epoch 65/100\n",
            "174/174 [==============================] - 3s 20ms/step - loss: 0.0875 - accuracy: 0.9408 - val_loss: 0.4125 - val_accuracy: 0.9233\n",
            "Epoch 66/100\n",
            "174/174 [==============================] - 3s 20ms/step - loss: 0.0885 - accuracy: 0.9397 - val_loss: 0.4269 - val_accuracy: 0.9205\n",
            "Epoch 67/100\n",
            "174/174 [==============================] - 4s 20ms/step - loss: 0.0879 - accuracy: 0.9402 - val_loss: 0.4568 - val_accuracy: 0.9180\n",
            "Epoch 68/100\n",
            "174/174 [==============================] - 3s 20ms/step - loss: 0.0887 - accuracy: 0.9397 - val_loss: 0.4092 - val_accuracy: 0.9213\n",
            "Epoch 69/100\n",
            "174/174 [==============================] - 3s 20ms/step - loss: 0.0880 - accuracy: 0.9409 - val_loss: 0.5298 - val_accuracy: 0.9196\n",
            "Epoch 70/100\n",
            "174/174 [==============================] - 3s 20ms/step - loss: 0.0879 - accuracy: 0.9416 - val_loss: 0.3895 - val_accuracy: 0.9188\n",
            "Epoch 71/100\n",
            "174/174 [==============================] - 3s 20ms/step - loss: 0.0886 - accuracy: 0.9405 - val_loss: 0.4720 - val_accuracy: 0.9205\n",
            "Epoch 72/100\n",
            "174/174 [==============================] - 3s 20ms/step - loss: 0.0886 - accuracy: 0.9405 - val_loss: 0.2879 - val_accuracy: 0.9176\n",
            "Epoch 73/100\n",
            "174/174 [==============================] - 3s 20ms/step - loss: 0.0880 - accuracy: 0.9411 - val_loss: 0.4087 - val_accuracy: 0.9192\n",
            "Epoch 74/100\n",
            "174/174 [==============================] - 3s 19ms/step - loss: 0.0880 - accuracy: 0.9413 - val_loss: 0.4093 - val_accuracy: 0.9192\n",
            "Epoch 75/100\n",
            "174/174 [==============================] - 3s 19ms/step - loss: 0.0882 - accuracy: 0.9403 - val_loss: 0.4336 - val_accuracy: 0.9233\n",
            "Epoch 76/100\n",
            "174/174 [==============================] - 3s 20ms/step - loss: 0.0883 - accuracy: 0.9397 - val_loss: 0.4044 - val_accuracy: 0.9188\n",
            "Epoch 77/100\n",
            "174/174 [==============================] - 3s 19ms/step - loss: 0.0880 - accuracy: 0.9412 - val_loss: 0.3973 - val_accuracy: 0.9176\n",
            "Epoch 78/100\n",
            "174/174 [==============================] - 3s 20ms/step - loss: 0.0879 - accuracy: 0.9413 - val_loss: 0.4444 - val_accuracy: 0.9176\n",
            "Epoch 79/100\n",
            "174/174 [==============================] - 3s 20ms/step - loss: 0.0886 - accuracy: 0.9395 - val_loss: 0.3586 - val_accuracy: 0.9176\n",
            "Epoch 80/100\n",
            "174/174 [==============================] - 3s 19ms/step - loss: 0.0878 - accuracy: 0.9406 - val_loss: 0.4641 - val_accuracy: 0.9200\n",
            "Epoch 81/100\n",
            "174/174 [==============================] - 3s 19ms/step - loss: 0.0868 - accuracy: 0.9415 - val_loss: 0.4749 - val_accuracy: 0.9196\n",
            "Epoch 82/100\n",
            "174/174 [==============================] - 3s 19ms/step - loss: 0.0880 - accuracy: 0.9390 - val_loss: 0.4960 - val_accuracy: 0.9192\n",
            "Epoch 83/100\n",
            "174/174 [==============================] - 3s 19ms/step - loss: 0.0889 - accuracy: 0.9402 - val_loss: 0.3953 - val_accuracy: 0.9200\n",
            "Epoch 84/100\n",
            "174/174 [==============================] - 3s 19ms/step - loss: 0.0879 - accuracy: 0.9398 - val_loss: 0.4740 - val_accuracy: 0.9176\n",
            "Epoch 85/100\n",
            "174/174 [==============================] - 3s 20ms/step - loss: 0.0882 - accuracy: 0.9402 - val_loss: 0.5369 - val_accuracy: 0.9196\n",
            "Epoch 86/100\n",
            "174/174 [==============================] - 3s 19ms/step - loss: 0.0891 - accuracy: 0.9398 - val_loss: 0.3054 - val_accuracy: 0.9176\n",
            "Epoch 87/100\n",
            "174/174 [==============================] - 3s 19ms/step - loss: 0.0882 - accuracy: 0.9405 - val_loss: 0.4754 - val_accuracy: 0.9233\n",
            "Epoch 88/100\n",
            "174/174 [==============================] - 3s 19ms/step - loss: 0.0877 - accuracy: 0.9412 - val_loss: 0.3989 - val_accuracy: 0.9172\n",
            "Epoch 89/100\n",
            "174/174 [==============================] - 3s 19ms/step - loss: 0.0880 - accuracy: 0.9393 - val_loss: 0.4527 - val_accuracy: 0.9192\n",
            "Epoch 90/100\n",
            "174/174 [==============================] - 4s 20ms/step - loss: 0.0882 - accuracy: 0.9383 - val_loss: 0.5127 - val_accuracy: 0.9192\n",
            "Epoch 91/100\n",
            "174/174 [==============================] - 3s 20ms/step - loss: 0.0872 - accuracy: 0.9404 - val_loss: 0.4965 - val_accuracy: 0.9172\n",
            "Epoch 92/100\n",
            "174/174 [==============================] - 3s 19ms/step - loss: 0.0892 - accuracy: 0.9406 - val_loss: 0.4233 - val_accuracy: 0.9184\n",
            "Epoch 93/100\n",
            "174/174 [==============================] - 3s 19ms/step - loss: 0.0887 - accuracy: 0.9404 - val_loss: 0.4111 - val_accuracy: 0.9164\n",
            "Epoch 94/100\n",
            "174/174 [==============================] - 3s 20ms/step - loss: 0.0874 - accuracy: 0.9420 - val_loss: 0.4661 - val_accuracy: 0.9176\n",
            "Epoch 95/100\n",
            "174/174 [==============================] - 3s 20ms/step - loss: 0.0884 - accuracy: 0.9394 - val_loss: 0.3960 - val_accuracy: 0.9192\n",
            "Epoch 96/100\n",
            "174/174 [==============================] - 3s 20ms/step - loss: 0.0891 - accuracy: 0.9385 - val_loss: 0.2973 - val_accuracy: 0.9160\n",
            "Epoch 97/100\n",
            "174/174 [==============================] - 3s 20ms/step - loss: 0.0872 - accuracy: 0.9425 - val_loss: 0.4159 - val_accuracy: 0.9172\n",
            "Epoch 98/100\n",
            "174/174 [==============================] - 3s 19ms/step - loss: 0.0885 - accuracy: 0.9389 - val_loss: 0.4351 - val_accuracy: 0.9205\n",
            "Epoch 99/100\n",
            "174/174 [==============================] - 3s 20ms/step - loss: 0.0877 - accuracy: 0.9405 - val_loss: 0.4051 - val_accuracy: 0.9172\n",
            "Epoch 100/100\n",
            "174/174 [==============================] - 3s 20ms/step - loss: 0.0878 - accuracy: 0.9417 - val_loss: 0.4248 - val_accuracy: 0.9176\n"
          ],
          "name": "stdout"
        }
      ]
    },
    {
      "cell_type": "code",
      "metadata": {
        "id": "IrapCcGZYM97",
        "colab_type": "code",
        "outputId": "4851b875-b59f-47cb-f41c-d4b36a2effd8",
        "colab": {
          "base_uri": "https://localhost:8080/",
          "height": 90
        }
      },
      "source": [
        "accr = model.evaluate(X_test,Y_test)\n",
        "print('Test set\\n  Loss: {:0.3f}\\n  Accuracy: {:0.3f}'.format(accr[0],accr[1]))"
      ],
      "execution_count": 29,
      "outputs": [
        {
          "output_type": "stream",
          "text": [
            "86/86 [==============================] - 0s 2ms/step - loss: 0.5286 - accuracy: 0.9156\n",
            "Test set\n",
            "  Loss: 0.529\n",
            "  Accuracy: 0.916\n"
          ],
          "name": "stdout"
        }
      ]
    },
    {
      "cell_type": "code",
      "metadata": {
        "id": "R1pVRU8XYREP",
        "colab_type": "code",
        "outputId": "ec8ac91c-7142-4df0-d96f-5093dab7e082",
        "colab": {
          "base_uri": "https://localhost:8080/",
          "height": 281
        }
      },
      "source": [
        "plt.title('Loss')\n",
        "plt.plot(history.history['loss'], label='train')\n",
        "plt.plot(history.history['val_loss'], label='test')\n",
        "plt.legend()\n",
        "plt.show();"
      ],
      "execution_count": 46,
      "outputs": [
        {
          "output_type": "display_data",
          "data": {
            "image/png": "[encoded data removed]",
            "text/plain": [
              "<Figure size 432x288 with 1 Axes>"
            ]
          },
          "metadata": {
            "tags": [],
            "needs_background": "light"
          }
        }
      ]
    },
    {
      "cell_type": "code",
      "metadata": {
        "id": "AbYVx-fvYXBD",
        "colab_type": "code",
        "outputId": "9a9f2b2a-a42e-480c-ad2c-9c51c6282869",
        "colab": {
          "base_uri": "https://localhost:8080/",
          "height": 281
        }
      },
      "source": [
        "history\n",
        "plt.title('Accuracy')\n",
        "plt.plot(history.history['accuracy'], label='train')\n",
        "plt.plot(history.history['val_accuracy'], label='test')\n",
        "plt.legend()\n",
        "plt.show();"
      ],
      "execution_count": 31,
      "outputs": [
        {
          "output_type": "display_data",
          "data": {
            "image/png": "[encoded data removed]",
            "text/plain": [
              "<Figure size 432x288 with 1 Axes>"
            ]
          },
          "metadata": {
            "tags": [],
            "needs_background": "light"
          }
        }
      ]
    },
    {
      "cell_type": "code",
      "metadata": {
        "id": "VxP2DBdiZHI6",
        "colab_type": "code",
        "colab": {}
      },
      "source": [
        "def predictor(str):\n",
        "  new_sms = [str]\n",
        "  seq = tokenizer.texts_to_sequences(new_sms)\n",
        "  padded = pad_sequences(seq, maxlen=MAX_SEQUENCE_LENGTH)\n",
        "  pred = model.predict(padded)\n",
        "  if(np.argmax(pred)) == 0:\n",
        "    return \"Non Financial\"\n",
        "  else:\n",
        "    return \"Financial\""
      ],
      "execution_count": 0,
      "outputs": []
    },
    {
      "cell_type": "code",
      "metadata": {
        "id": "0Uxz7-o2ZQAA",
        "colab_type": "code",
        "colab": {}
      },
      "source": [
        "import pickle\n",
        "filename = '_tokenizer2.0.pkl'\n",
        "pickle.dump(tokenizer, open(filename, 'wb'))"
      ],
      "execution_count": 0,
      "outputs": []
    },
    {
      "cell_type": "code",
      "metadata": {
        "id": "8eLifm7gZTCZ",
        "colab_type": "code",
        "colab": {}
      },
      "source": [
        "model.save(\"_classifier_LSTM2.0.h5\")"
      ],
      "execution_count": 0,
      "outputs": []
    },
    {
      "cell_type": "code",
      "metadata": {
        "id": "wejikFz1ZVrZ",
        "colab_type": "code",
        "colab": {}
      },
      "source": [
        "test_message = ['Step into season with Alkaram Studios spring/summer collection & enjoy designs celebrating spring! with 50% off',\n",
        "                'Storm Fibre(powered by Cybernet) High Speed Internet +HDTv (unlimited) upto 100mb packages 10mb 1999+tax 20mb 2999+tax 30mb 3999+tax callnow 03208449106',\n",
        "                \"AOA Sir! Today I won't come to office\",\n",
        "                'Bill Payment From: Waqas Amount: SAR 9,938.63 Biller: 018 Date: 2019-12-14 14:11:39',\n",
        "                \"Dear Customer, Online Clearing Cheque amounting to 50,000 has been credited to your BAHL account 0029XXXXX 0n 11-2-20\",\n",
        "                \"Bill dated 2020-3-10 for RS 10,000 has been generated for your PTCL fixedline/broadband relationship no. 18651423. The same will reach you by 2020-4-5. Due date: 2020-3-15\",\n",
        "                \"Repair ref.no for your car is JC41166545 opened on 2009-11-15 22:29hrs,ETD of your car is 2009-11-16 16:22hrs and est.repair amt is Rs.991 Rgds, Maha Veer Auto Agency\",\n",
        "                \"Can you please pay the Electricity bill of Rs 12000 by Monday because tuesday is the due date\",\n",
        "                \"PNR:6548444548,TRAIN:7413,DOJ:2013-04-06,FC,ADF-BHRL,Dep:2:25, Wesley,F8 78 , Fare:7955,SC:10.0+PG+INS\",\n",
        "                'Yaar Light a rahe hai k nhe?',\n",
        "                'OTP is 758621 for the txn of INR 17643.00 at KSRTC on your AXIS bank CREDIT card ending with 3868. Valid till 20:49:27. Do not  share OTP with anyone for security reasons',\n",
        "                'Amount of Rs 59000 has been debited to your register']\n",
        "test_result = [0,0,0,1,1,1,1,0,0,0,1,1]"
      ],
      "execution_count": 0,
      "outputs": []
    },
    {
      "cell_type": "code",
      "metadata": {
        "id": "Tg-iYuVXZYmB",
        "colab_type": "code",
        "colab": {}
      },
      "source": [
        "results = []\n",
        "for t in test_message:\n",
        "  pred = predictor(t)\n",
        "  if pred == 'Financial':\n",
        "    results.append(1)\n",
        "  else:\n",
        "    results.append(0)"
      ],
      "execution_count": 0,
      "outputs": []
    },
    {
      "cell_type": "code",
      "metadata": {
        "id": "bbGUfvKhZbtw",
        "colab_type": "code",
        "outputId": "ff0bc75c-4b3a-4a2b-88c7-8d36827fcab0",
        "colab": {
          "base_uri": "https://localhost:8080/",
          "height": 35
        }
      },
      "source": [
        "results"
      ],
      "execution_count": 37,
      "outputs": [
        {
          "output_type": "execute_result",
          "data": {
            "text/plain": [
              "[0, 0, 0, 0, 0, 0, 1, 0, 0, 0, 0, 0]"
            ]
          },
          "metadata": {
            "tags": []
          },
          "execution_count": 37
        }
      ]
    },
    {
      "cell_type": "code",
      "metadata": {
        "id": "NcfNm79iZeUQ",
        "colab_type": "code",
        "colab": {}
      },
      "source": [
        "resultPred = pd.DataFrame(columns=['Real','Predicted','Text'])"
      ],
      "execution_count": 0,
      "outputs": []
    },
    {
      "cell_type": "code",
      "metadata": {
        "id": "fp7ZbF6kZggS",
        "colab_type": "code",
        "outputId": "633b3f91-1c9b-4703-d8a7-0953fc7640fc",
        "colab": {
          "base_uri": "https://localhost:8080/",
          "height": 426
        }
      },
      "source": [
        "resultPred['Real'] = test_result\n",
        "resultPred['Predicted']= results\n",
        "resultPred['Text']=test_message\n",
        "\n",
        "resultPred"
      ],
      "execution_count": 39,
      "outputs": [
        {
          "output_type": "execute_result",
          "data": {
            "text/html": [
              "<div>\n",
              "<style scoped>\n",
              "    .dataframe tbody tr th:only-of-type {\n",
              "        vertical-align: middle;\n",
              "    }\n",
              "\n",
              "    .dataframe tbody tr th {\n",
              "        vertical-align: top;\n",
              "    }\n",
              "\n",
              "    .dataframe thead th {\n",
              "        text-align: right;\n",
              "    }\n",
              "</style>\n",
              "<table border=\"1\" class=\"dataframe\">\n",
              "  <thead>\n",
              "    <tr style=\"text-align: right;\">\n",
              "      <th></th>\n",
              "      <th>Real</th>\n",
              "      <th>Predicted</th>\n",
              "      <th>Text</th>\n",
              "    </tr>\n",
              "  </thead>\n",
              "  <tbody>\n",
              "    <tr>\n",
              "      <th>0</th>\n",
              "      <td>0</td>\n",
              "      <td>0</td>\n",
              "      <td>Step into season with Alkaram Studios spring/s...</td>\n",
              "    </tr>\n",
              "    <tr>\n",
              "      <th>1</th>\n",
              "      <td>0</td>\n",
              "      <td>0</td>\n",
              "      <td>Storm Fibre(powered by Cybernet) High Speed In...</td>\n",
              "    </tr>\n",
              "    <tr>\n",
              "      <th>2</th>\n",
              "      <td>0</td>\n",
              "      <td>0</td>\n",
              "      <td>AOA Sir! Today I won't come to office</td>\n",
              "    </tr>\n",
              "    <tr>\n",
              "      <th>3</th>\n",
              "      <td>1</td>\n",
              "      <td>0</td>\n",
              "      <td>Bill Payment From: Waqas Amount: SAR 9,938.63 ...</td>\n",
              "    </tr>\n",
              "    <tr>\n",
              "      <th>4</th>\n",
              "      <td>1</td>\n",
              "      <td>0</td>\n",
              "      <td>Dear Customer, Online Clearing Cheque amountin...</td>\n",
              "    </tr>\n",
              "    <tr>\n",
              "      <th>5</th>\n",
              "      <td>1</td>\n",
              "      <td>0</td>\n",
              "      <td>Bill dated 2020-3-10 for RS 10,000 has been ge...</td>\n",
              "    </tr>\n",
              "    <tr>\n",
              "      <th>6</th>\n",
              "      <td>1</td>\n",
              "      <td>1</td>\n",
              "      <td>Repair ref.no for your car is JC41166545 opene...</td>\n",
              "    </tr>\n",
              "    <tr>\n",
              "      <th>7</th>\n",
              "      <td>0</td>\n",
              "      <td>0</td>\n",
              "      <td>Can you please pay the Electricity bill of Rs ...</td>\n",
              "    </tr>\n",
              "    <tr>\n",
              "      <th>8</th>\n",
              "      <td>0</td>\n",
              "      <td>0</td>\n",
              "      <td>PNR:6548444548,TRAIN:7413,DOJ:2013-04-06,FC,AD...</td>\n",
              "    </tr>\n",
              "    <tr>\n",
              "      <th>9</th>\n",
              "      <td>0</td>\n",
              "      <td>0</td>\n",
              "      <td>Yaar Light a rahe hai k nhe?</td>\n",
              "    </tr>\n",
              "    <tr>\n",
              "      <th>10</th>\n",
              "      <td>1</td>\n",
              "      <td>0</td>\n",
              "      <td>OTP is 758621 for the txn of INR 17643.00 at K...</td>\n",
              "    </tr>\n",
              "    <tr>\n",
              "      <th>11</th>\n",
              "      <td>1</td>\n",
              "      <td>0</td>\n",
              "      <td>Amount of Rs 59000 has been debited to your re...</td>\n",
              "    </tr>\n",
              "  </tbody>\n",
              "</table>\n",
              "</div>"
            ],
            "text/plain": [
              "    Real  Predicted                                               Text\n",
              "0      0          0  Step into season with Alkaram Studios spring/s...\n",
              "1      0          0  Storm Fibre(powered by Cybernet) High Speed In...\n",
              "2      0          0              AOA Sir! Today I won't come to office\n",
              "3      1          0  Bill Payment From: Waqas Amount: SAR 9,938.63 ...\n",
              "4      1          0  Dear Customer, Online Clearing Cheque amountin...\n",
              "5      1          0  Bill dated 2020-3-10 for RS 10,000 has been ge...\n",
              "6      1          1  Repair ref.no for your car is JC41166545 opene...\n",
              "7      0          0  Can you please pay the Electricity bill of Rs ...\n",
              "8      0          0  PNR:6548444548,TRAIN:7413,DOJ:2013-04-06,FC,AD...\n",
              "9      0          0                       Yaar Light a rahe hai k nhe?\n",
              "10     1          0  OTP is 758621 for the txn of INR 17643.00 at K...\n",
              "11     1          0  Amount of Rs 59000 has been debited to your re..."
            ]
          },
          "metadata": {
            "tags": []
          },
          "execution_count": 39
        }
      ]
    },
    {
      "cell_type": "code",
      "metadata": {
        "id": "FCilddpcZlAK",
        "colab_type": "code",
        "colab": {}
      },
      "source": [
        "testify = \"AOA Sir! Today I won't come to office\"\n",
        "seq = tokenizer.texts_to_sequences(testify)\n",
        "padded = pad_sequences(seq, maxlen=MAX_SEQUENCE_LENGTH)\n",
        "pred = model.predict(padded)\n",
        "pred = pred.argmax()"
      ],
      "execution_count": 0,
      "outputs": []
    },
    {
      "cell_type": "code",
      "metadata": {
        "id": "T2j8l891ZpCh",
        "colab_type": "code",
        "outputId": "1cda61f5-a099-475e-9a11-a03890e22e05",
        "colab": {
          "base_uri": "https://localhost:8080/",
          "height": 35
        }
      },
      "source": [
        "pred"
      ],
      "execution_count": 41,
      "outputs": [
        {
          "output_type": "execute_result",
          "data": {
            "text/plain": [
              "0"
            ]
          },
          "metadata": {
            "tags": []
          },
          "execution_count": 41
        }
      ]
    },
    {
      "cell_type": "code",
      "metadata": {
        "id": "6PF8XM2tdTRH",
        "colab_type": "code",
        "colab": {}
      },
      "source": [
        "import json\n",
        "with open( 'word_dict.json' , 'w' ) as file:\n",
        "\tjson.dump( tokenizer.word_index , file )"
      ],
      "execution_count": 0,
      "outputs": []
    },
    {
      "cell_type": "code",
      "metadata": {
        "id": "gEams5rMdW7j",
        "colab_type": "code",
        "colab": {}
      },
      "source": [
        "converter = tf.lite.TFLiteConverter.from_keras_model(model )"
      ],
      "execution_count": 0,
      "outputs": []
    },
    {
      "cell_type": "code",
      "metadata": {
        "id": "mFzh0YFjdrG1",
        "colab_type": "code",
        "colab": {}
      },
      "source": [
        "tfmodel = converter.convert()"
      ],
      "execution_count": 0,
      "outputs": []
    },
    {
      "cell_type": "code",
      "metadata": {
        "id": "5eiDFUYog2_P",
        "colab_type": "code",
        "outputId": "0f6497d7-f852-4950-df65-beeff24c34b7",
        "colab": {
          "base_uri": "https://localhost:8080/",
          "height": 35
        }
      },
      "source": [
        "open (\"_classifier_LSTM_android.tflite\" , \"wb\") .write(tfmodel)"
      ],
      "execution_count": 45,
      "outputs": [
        {
          "output_type": "execute_result",
          "data": {
            "text/plain": [
              "2045588"
            ]
          },
          "metadata": {
            "tags": []
          },
          "execution_count": 45
        }
      ]
    },
    {
      "cell_type": "code",
      "metadata": {
        "id": "yOhh5uZ-hbVt",
        "colab_type": "code",
        "colab": {}
      },
      "source": [
        ""
      ],
      "execution_count": 0,
      "outputs": []
    }
  ]
}