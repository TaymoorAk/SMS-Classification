{
  "nbformat": 4,
  "nbformat_minor": 0,
  "metadata": {
    "colab": {
      "name": "FinancialOrNot.ipynb",
      "provenance": []
    },
    "kernelspec": {
      "name": "python3",
      "display_name": "Python 3"
    },
    "accelerator": "GPU"
  },
  "cells": [
    {
      "cell_type": "code",
      "metadata": {
        "id": "j8AQTv1n9rQT",
        "colab_type": "code",
        "colab": {}
      },
      "source": [
        "import numpy as np\n",
        "import pandas as pd\n",
        "import matplotlib.pyplot as plt\n",
        "import spacy\n",
        "import sys\n",
        "import warnings\n",
        "from keras import layers\n",
        "warnings.filterwarnings(\"ignore\")"
      ],
      "execution_count": 0,
      "outputs": []
    },
    {
      "cell_type": "code",
      "metadata": {
        "id": "DeGPJanQ-GWY",
        "colab_type": "code",
        "colab": {}
      },
      "source": [
        "dataset = pd.read_csv('train_sms_mine.csv', encoding='cp1252')"
      ],
      "execution_count": 0,
      "outputs": []
    },
    {
      "cell_type": "code",
      "metadata": {
        "id": "ss0bkMVW-XOi",
        "colab_type": "code",
        "outputId": "68f72963-03e8-4f08-8fad-4175627fea79",
        "colab": {
          "base_uri": "https://localhost:8080/",
          "height": 255
        }
      },
      "source": [
        "dataset.head"
      ],
      "execution_count": 43,
      "outputs": [
        {
          "output_type": "execute_result",
          "data": {
            "text/plain": [
              "<bound method NDFrame.head of              Label                                            Message\n",
              "0         Delivery  Dear Guest, Thanks for choosing The Edison. Or...\n",
              "1            Hotel  Welcome to Southern University at Shreveport R...\n",
              "2          Payment  Bill dated 2013-01-14 for Rs 626 has been gene...\n",
              "3          Payment  Bill dated 2014-11-30 for Rs 323 has been gene...\n",
              "4      Appointment  DEAR Zachary, THANK YOU FOR YOUR BOOKING (ORDE...\n",
              "...            ...                                                ...\n",
              "42015  transaction  Trx ID 70779011. You have sent Rs. 80000 to CN...\n",
              "42016  transaction  Trx ID 70779011. You have sent Rs. 5000 to CNI...\n",
              "42017         bank  Dear Customer Online Clearing Cheque amounting...\n",
              "42018         bank  Dear Customer Online Clearing Cheque amounting...\n",
              "42019         bank  Dear Customer Online Clearing Cheque amounting...\n",
              "\n",
              "[42020 rows x 2 columns]>"
            ]
          },
          "metadata": {
            "tags": []
          },
          "execution_count": 43
        }
      ]
    },
    {
      "cell_type": "code",
      "metadata": {
        "id": "lrPYenW1_VOt",
        "colab_type": "code",
        "colab": {}
      },
      "source": [
        "bank =[]\n",
        "payement = []\n",
        "bill = []\n",
        "info = []\n",
        "ham = []\n",
        "appointment = []\n",
        "hotel = []\n",
        "pickup = []\n",
        "transaction = []"
      ],
      "execution_count": 0,
      "outputs": []
    },
    {
      "cell_type": "code",
      "metadata": {
        "id": "jg8sxuVqANHQ",
        "colab_type": "code",
        "colab": {}
      },
      "source": [
        "for i in range(len(dataset)):\n",
        "  if dataset['Label'][i] == 'bank':\n",
        "    bank.append(dataset['Message'][i])\n",
        "  elif dataset['Label'][i] == 'bill':\n",
        "    bill.append(dataset['Message'][i])\n",
        "  elif dataset['Label'][i] == 'Payment':\n",
        "    payement.append(dataset['Message'][i])\n",
        "  elif dataset['Label'][i] == 'info':\n",
        "    info.append(dataset['Message'][i])\n",
        "  elif dataset['Label'][i] =='ham':\n",
        "    ham.append(dataset['Message'][i])\n",
        "  elif dataset['Label'][i] == 'Appointment':\n",
        "    appointment.append(dataset['Message'][i])\n",
        "  elif dataset['Label'][i] == 'Hotel':\n",
        "    hotel.append(dataset['Message'][i])\n",
        "  elif dataset['Label'][i] == 'PickUp':\n",
        "    pickup.append(dataset['Message'][i])\n",
        "  elif dataset['Label'][i] == 'transaction':\n",
        "    transaction.append(dataset['Message'][i])\n",
        "  else:\n",
        "    continue"
      ],
      "execution_count": 0,
      "outputs": []
    },
    {
      "cell_type": "code",
      "metadata": {
        "id": "Vlkrz0G8O_Yo",
        "colab_type": "code",
        "colab": {}
      },
      "source": [
        "data = pd.DataFrame(columns=['Text','Label',])"
      ],
      "execution_count": 0,
      "outputs": []
    },
    {
      "cell_type": "code",
      "metadata": {
        "id": "TdruMGQbPATn",
        "colab_type": "code",
        "colab": {}
      },
      "source": [
        "text = []\n",
        "label = []\n",
        "for tex in bank:\n",
        "  text.append(tex)\n",
        "  label.append(1)\n",
        "for tex in bill:\n",
        "  text.append(tex)\n",
        "  label.append(1)\n",
        "for tex in payement:\n",
        "  text.append(tex)\n",
        "  label.append(1)\n",
        "for tex in pickup:\n",
        "  text.append(tex)\n",
        "  label.append(1)\n",
        "for tex in transaction:\n",
        "  text.append(tex)\n",
        "  label.append(1)\n",
        "##### Neg\n",
        "\n",
        "for tex in info:\n",
        "  text.append(tex)\n",
        "  label.append(0)\n",
        "for tex in ham:\n",
        "  text.append(tex)\n",
        "  label.append(0)\n",
        "for tex in appointment:\n",
        "  text.append(tex)\n",
        "  label.append(0)\n",
        "for tex in hotel:\n",
        "  text.append(tex)\n",
        "  label.append(0)"
      ],
      "execution_count": 0,
      "outputs": []
    },
    {
      "cell_type": "code",
      "metadata": {
        "id": "XqDQnwdTQreX",
        "colab_type": "code",
        "outputId": "87bb9eda-ff29-4c1c-a11f-9ace19b98c74",
        "colab": {
          "base_uri": "https://localhost:8080/",
          "height": 255
        }
      },
      "source": [
        "data['Text'] = text\n",
        "data['Label'] = label\n",
        "data.head"
      ],
      "execution_count": 48,
      "outputs": [
        {
          "output_type": "execute_result",
          "data": {
            "text/plain": [
              "<bound method NDFrame.head of                                                     Text  Label\n",
              "0      Thank you for using your ICICI bank CREDITcard...      1\n",
              "1      OTP is 817453 for the txn of INR 8262.00 at SP...      1\n",
              "2      Ur transaction on HDFC Bank CREDIT Card ending...      1\n",
              "3      Thank you for using your HDFC bank Debitcard e...      1\n",
              "4      Dear Customer, You have made a Debit Card purc...      1\n",
              "...                                                  ...    ...\n",
              "28785  Welcome to Fossil Ridge Park R.No. 195, 132, 1...      0\n",
              "28786  Welcome to Curwood Castle R.No. 491, 236 Ch.In...      0\n",
              "28787  Welcome to MAINSOURCE FNCL GRP R.No. 203, 174,...      0\n",
              "28788  Welcome to Seto Inland Sea R.No. 384, 198 Ch.I...      0\n",
              "28789  Welcome to National Aviary R.No. 109, 589, 533...      0\n",
              "\n",
              "[28790 rows x 2 columns]>"
            ]
          },
          "metadata": {
            "tags": []
          },
          "execution_count": 48
        }
      ]
    },
    {
      "cell_type": "code",
      "metadata": {
        "id": "jM-b9xUeRahO",
        "colab_type": "code",
        "outputId": "63b38e9d-d22d-493e-98eb-cf6c14b6ea37",
        "colab": {
          "base_uri": "https://localhost:8080/",
          "height": 255
        }
      },
      "source": [
        "from sklearn.utils import shuffle\n",
        "data = shuffle(data)\n",
        "data.reset_index()\n",
        "data.head"
      ],
      "execution_count": 49,
      "outputs": [
        {
          "output_type": "execute_result",
          "data": {
            "text/plain": [
              "<bound method NDFrame.head of                                                     Text  Label\n",
              "16688  Repair ref.no for your car is JC46347746 opene...      0\n",
              "10049  PNR:3661146546,TRAIN:34734,DOJ:2011-03-30,FC,A...      0\n",
              "19346                          Haan.... Heading to board      0\n",
              "7135   * KSRTC m-Ticket *  from: MANDYA to: PALAKKAD ...      0\n",
              "27796  Welcome to Thai massage salon R.No. 242, 563, ...      0\n",
              "...                                                  ...    ...\n",
              "6795   The PNR for your SPICE JET Flt 2T135 for JRH-C...      0\n",
              "24072                            u will call all of them      0\n",
              "10082  Bill dated 2014-12-01 for Rs 454 has been gene...      0\n",
              "13759  Bill dated 2011-06-13 for Rs 1097 has been gen...      0\n",
              "23007                                Meet me its urgent.      0\n",
              "\n",
              "[28790 rows x 2 columns]>"
            ]
          },
          "metadata": {
            "tags": []
          },
          "execution_count": 49
        }
      ]
    },
    {
      "cell_type": "code",
      "metadata": {
        "id": "E63WEczYSIe9",
        "colab_type": "code",
        "colab": {}
      },
      "source": [
        "punctuation = '.!\"#$%&()*+-/:,;<=>?@[\\\\]^_`{|}~'\n",
        "\n",
        "data['Text'] = data['Text'].apply(lambda x: ''.join(ch for ch in x if ch not in set(punctuation)))\n",
        "data['Text'] = data['Text'].str.lower()\n",
        "data['Text'] = data['Text'].str.replace(\"[0-9]\", \" \")\n",
        "data['Text'] = data['Text'].apply(lambda x: ' '.join(x.split()))"
      ],
      "execution_count": 0,
      "outputs": []
    },
    {
      "cell_type": "code",
      "metadata": {
        "id": "tUENyoC9Rtdd",
        "colab_type": "code",
        "colab": {
          "base_uri": "https://localhost:8080/",
          "height": 34
        },
        "outputId": "0c59a9b7-683b-4155-b79e-37c20df0a12b"
      },
      "source": [
        "from keras.preprocessing.text import Tokenizer\n",
        "MAX_NB_WORDS = 12000\n",
        "MAX_SEQUENCE_LENGTH = 10\n",
        "EMBEDDING_DIM = 20\n",
        "\n",
        "tokenizer = Tokenizer(num_words=MAX_NB_WORDS, filters='!\"#$%&()*+,-./:;<=>?@[\\]^_`{|}~!\"#$%&()*+,-./:;<=>?@[\\\\]^_`{|}~\\t\\n“”’\\'∞θ÷α•à−β∅³π‘₹´°£€\\×™√²—', lower=True)\n",
        "tokenizer.fit_on_texts(data['Text'].values)\n",
        "word_index = tokenizer.word_index\n",
        "print('Found %s unique tokens.' % len(word_index))"
      ],
      "execution_count": 57,
      "outputs": [
        {
          "output_type": "stream",
          "text": [
            "Found 16169 unique tokens.\n"
          ],
          "name": "stdout"
        }
      ]
    },
    {
      "cell_type": "code",
      "metadata": {
        "id": "47odjx8JR8pG",
        "colab_type": "code",
        "outputId": "52ff9be3-9642-4314-8dfc-21dba9a3aac6",
        "colab": {
          "base_uri": "https://localhost:8080/",
          "height": 255
        }
      },
      "source": [
        "data.head"
      ],
      "execution_count": 58,
      "outputs": [
        {
          "output_type": "execute_result",
          "data": {
            "text/plain": [
              "<bound method NDFrame.head of                                                     Text  Label\n",
              "16688  repair refno for your car is jc opened on hrse...      0\n",
              "10049      pnr train doj fcaybhbkdep josef fare sc pgins      0\n",
              "19346                              haan heading to board      0\n",
              "7135   ksrtc mticket from mandya to palakkad psngrnam...      0\n",
              "27796       welcome to thai massage salon rno chin chout      0\n",
              "...                                                  ...    ...\n",
              "6795   the pnr for your spice jet flt t for jrhccj on...      0\n",
              "24072                            u will call all of them      0\n",
              "10082  bill dated for rs has been generated for your ...      0\n",
              "13759  bill dated for rs has been generated for your ...      0\n",
              "23007                                 meet me its urgent      0\n",
              "\n",
              "[28790 rows x 2 columns]>"
            ]
          },
          "metadata": {
            "tags": []
          },
          "execution_count": 58
        }
      ]
    },
    {
      "cell_type": "code",
      "metadata": {
        "id": "woVYyabgq-uR",
        "colab_type": "code",
        "outputId": "10ba611b-1316-4b40-de9e-9be8f06ba3f1",
        "colab": {
          "base_uri": "https://localhost:8080/",
          "height": 34
        }
      },
      "source": [
        "from keras.preprocessing.sequence import pad_sequences\n",
        "X = tokenizer.texts_to_sequences(data['Text'].values)\n",
        "X = pad_sequences(X, maxlen=MAX_SEQUENCE_LENGTH)\n",
        "print('Shape of data tensor:', X.shape)"
      ],
      "execution_count": 59,
      "outputs": [
        {
          "output_type": "stream",
          "text": [
            "Shape of data tensor: (28790, 10)\n"
          ],
          "name": "stdout"
        }
      ]
    },
    {
      "cell_type": "code",
      "metadata": {
        "id": "w57sLBhYSVjO",
        "colab_type": "code",
        "outputId": "8979ef15-d6b9-4592-c94e-507cf747d221",
        "colab": {
          "base_uri": "https://localhost:8080/",
          "height": 51
        }
      },
      "source": [
        "Y = pd.get_dummies(data['Label']).values\n",
        "print('Shape of label tensor:', Y.shape)\n",
        "Y[3]"
      ],
      "execution_count": 60,
      "outputs": [
        {
          "output_type": "stream",
          "text": [
            "Shape of label tensor: (28790, 2)\n"
          ],
          "name": "stdout"
        },
        {
          "output_type": "execute_result",
          "data": {
            "text/plain": [
              "array([1, 0], dtype=uint8)"
            ]
          },
          "metadata": {
            "tags": []
          },
          "execution_count": 60
        }
      ]
    },
    {
      "cell_type": "code",
      "metadata": {
        "id": "fVqcTKIkSc1N",
        "colab_type": "code",
        "outputId": "2f7a86ab-ec5a-40b9-9b51-910305faecfb",
        "colab": {
          "base_uri": "https://localhost:8080/",
          "height": 51
        }
      },
      "source": [
        "from sklearn.model_selection import train_test_split\n",
        "X_train, X_test, Y_train, Y_test = train_test_split(X,Y, test_size = 0.10, random_state = 42)\n",
        "print(X_train.shape,Y_train.shape)\n",
        "print(X_test.shape,Y_test.shape)"
      ],
      "execution_count": 61,
      "outputs": [
        {
          "output_type": "stream",
          "text": [
            "(25911, 10) (25911, 2)\n",
            "(2879, 10) (2879, 2)\n"
          ],
          "name": "stdout"
        }
      ]
    },
    {
      "cell_type": "code",
      "metadata": {
        "id": "DlePTe1hSqrF",
        "colab_type": "code",
        "colab": {
          "base_uri": "https://localhost:8080/",
          "height": 493
        },
        "outputId": "3ae29fea-5e98-4c79-9fdd-77685ac130b4"
      },
      "source": [
        "from keras.models import Sequential\n",
        "from keras.layers import Embedding, SpatialDropout1D, LSTM, Dense, Dropout , GRU\n",
        "from keras.callbacks import ModelCheckpoint, EarlyStopping\n",
        "from keras.backend import clear_session\n",
        "embedding_dim = 100\n",
        "\n",
        "dropout = 0.5\n",
        "optimizer = 'adam'\n",
        "clear_session()\n",
        "model = Sequential()\n",
        "model.add(Embedding(MAX_NB_WORDS, EMBEDDING_DIM, input_length=X.shape[1]))\n",
        "model.add(SpatialDropout1D(0.2))\n",
        "model.add(LSTM(32, dropout=0.2, recurrent_dropout=0.2))\n",
        "# model.add(Dense(2, activation='sigmoid'))\n",
        "\n",
        "model.add(layers.Dense(128,activation='relu'))\n",
        "model.add(layers.Dropout(dropout))\n",
        "model.add(layers.Dense(64,activation='relu'))\n",
        "model.add(layers.Dropout(dropout))\n",
        "model.add(layers.Dense(32,activation='relu'))\n",
        "model.add(layers.Dropout(dropout))\n",
        "model.add(layers.Dense(2,activation='sigmoid'))\n",
        "# model.compile(loss='categorical_crossentropy', optimizer='adam', metrics=['accuracy'])\n",
        "model.compile(optimizer=optimizer,loss='binary_crossentropy',metrics=['accuracy'])\n",
        "model.summary()\n",
        "epochs = 5\n",
        "batch_size = 64"
      ],
      "execution_count": 62,
      "outputs": [
        {
          "output_type": "stream",
          "text": [
            "Model: \"sequential_1\"\n",
            "_________________________________________________________________\n",
            "Layer (type)                 Output Shape              Param #   \n",
            "=================================================================\n",
            "embedding_1 (Embedding)      (None, 10, 20)            240000    \n",
            "_________________________________________________________________\n",
            "spatial_dropout1d_1 (Spatial (None, 10, 20)            0         \n",
            "_________________________________________________________________\n",
            "lstm_1 (LSTM)                (None, 32)                6784      \n",
            "_________________________________________________________________\n",
            "dense_1 (Dense)              (None, 128)               4224      \n",
            "_________________________________________________________________\n",
            "dropout_1 (Dropout)          (None, 128)               0         \n",
            "_________________________________________________________________\n",
            "dense_2 (Dense)              (None, 64)                8256      \n",
            "_________________________________________________________________\n",
            "dropout_2 (Dropout)          (None, 64)                0         \n",
            "_________________________________________________________________\n",
            "dense_3 (Dense)              (None, 32)                2080      \n",
            "_________________________________________________________________\n",
            "dropout_3 (Dropout)          (None, 32)                0         \n",
            "_________________________________________________________________\n",
            "dense_4 (Dense)              (None, 2)                 66        \n",
            "=================================================================\n",
            "Total params: 261,410\n",
            "Trainable params: 261,410\n",
            "Non-trainable params: 0\n",
            "_________________________________________________________________\n"
          ],
          "name": "stdout"
        }
      ]
    },
    {
      "cell_type": "code",
      "metadata": {
        "id": "FxWOPZt6S1Lf",
        "colab_type": "code",
        "outputId": "74fcd5c1-ce8b-48b4-c5c1-7481ee44d3a8",
        "colab": {
          "base_uri": "https://localhost:8080/",
          "height": 204
        }
      },
      "source": [
        "history = model.fit(X_train, Y_train, epochs=epochs, batch_size=batch_size,validation_split=0.1,callbacks=[EarlyStopping(monitor='val_loss', patience=3, min_delta=0.0001)])"
      ],
      "execution_count": 63,
      "outputs": [
        {
          "output_type": "stream",
          "text": [
            "Train on 23319 samples, validate on 2592 samples\n",
            "Epoch 1/5\n",
            "23319/23319 [==============================] - 15s 631us/step - loss: 0.1880 - acc: 0.9036 - val_loss: 0.1120 - val_acc: 0.9298\n",
            "Epoch 2/5\n",
            "23319/23319 [==============================] - 13s 576us/step - loss: 0.1093 - acc: 0.9271 - val_loss: 0.1051 - val_acc: 0.9244\n",
            "Epoch 3/5\n",
            "23319/23319 [==============================] - 14s 581us/step - loss: 0.1048 - acc: 0.9258 - val_loss: 0.1049 - val_acc: 0.9290\n",
            "Epoch 4/5\n",
            "23319/23319 [==============================] - 14s 585us/step - loss: 0.1030 - acc: 0.9262 - val_loss: 0.1062 - val_acc: 0.9290\n",
            "Epoch 5/5\n",
            "23319/23319 [==============================] - 14s 579us/step - loss: 0.1023 - acc: 0.9268 - val_loss: 0.1040 - val_acc: 0.9286\n"
          ],
          "name": "stdout"
        }
      ]
    },
    {
      "cell_type": "code",
      "metadata": {
        "id": "0JFiZc2lThIb",
        "colab_type": "code",
        "outputId": "283b90b6-e269-4320-dd52-2749556dc4a1",
        "colab": {
          "base_uri": "https://localhost:8080/",
          "height": 85
        }
      },
      "source": [
        "accr = model.evaluate(X_test,Y_test)\n",
        "print('Test set\\n  Loss: {:0.3f}\\n  Accuracy: {:0.3f}'.format(accr[0],accr[1]))"
      ],
      "execution_count": 64,
      "outputs": [
        {
          "output_type": "stream",
          "text": [
            "2879/2879 [==============================] - 1s 373us/step\n",
            "Test set\n",
            "  Loss: 0.106\n",
            "  Accuracy: 0.922\n"
          ],
          "name": "stdout"
        }
      ]
    },
    {
      "cell_type": "code",
      "metadata": {
        "id": "ksG-V0DFTkxc",
        "colab_type": "code",
        "outputId": "82b9ad8f-d694-45a5-fd8a-977ba96a7c8b",
        "colab": {
          "base_uri": "https://localhost:8080/",
          "height": 281
        }
      },
      "source": [
        "plt.title('Loss')\n",
        "plt.plot(history.history['loss'], label='train')\n",
        "plt.plot(history.history['val_loss'], label='test')\n",
        "plt.legend()\n",
        "plt.show();"
      ],
      "execution_count": 65,
      "outputs": [
        {
          "output_type": "display_data",
          "data": {
            "image/png": "[encoded data removed]",
            "text/plain": [
              "<Figure size 432x288 with 1 Axes>"
            ]
          },
          "metadata": {
            "tags": []
          }
        }
      ]
    },
    {
      "cell_type": "code",
      "metadata": {
        "id": "Y0FPT3EqTncM",
        "colab_type": "code",
        "outputId": "45787161-c684-4c4e-8ffe-628885cf66a3",
        "colab": {
          "base_uri": "https://localhost:8080/",
          "height": 281
        }
      },
      "source": [
        "plt.title('Accuracy')\n",
        "plt.plot(history.history['acc'], label='train')\n",
        "plt.plot(history.history['val_acc'], label='test')\n",
        "plt.legend()\n",
        "plt.show();"
      ],
      "execution_count": 66,
      "outputs": [
        {
          "output_type": "display_data",
          "data": {
            "image/png": "[encoded data removed]",
            "text/plain": [
              "<Figure size 432x288 with 1 Axes>"
            ]
          },
          "metadata": {
            "tags": []
          }
        }
      ]
    },
    {
      "cell_type": "code",
      "metadata": {
        "id": "ArHe-RVcr9y7",
        "colab_type": "code",
        "colab": {}
      },
      "source": [
        "def predictor(str):\n",
        "  new_sms = [str]\n",
        "  seq = tokenizer.texts_to_sequences(new_sms)\n",
        "  padded = pad_sequences(seq, maxlen=MAX_SEQUENCE_LENGTH)\n",
        "  pred = model.predict(padded)\n",
        "  if(np.argmax(pred)) == 0:\n",
        "    return \"Non Financial\"\n",
        "  else:\n",
        "    return \"Financial\""
      ],
      "execution_count": 0,
      "outputs": []
    },
    {
      "cell_type": "code",
      "metadata": {
        "id": "OjyuakPSKaqS",
        "colab_type": "code",
        "colab": {}
      },
      "source": [
        "import pickle\n",
        "filename = '_tokenizer.pkl'\n",
        "pickle.dump(tokenizer, open(filename, 'wb'))"
      ],
      "execution_count": 0,
      "outputs": []
    },
    {
      "cell_type": "code",
      "metadata": {
        "id": "O3QEGksdKdRI",
        "colab_type": "code",
        "colab": {}
      },
      "source": [
        "model.save(\"classifier_LSTM.h5\")"
      ],
      "execution_count": 0,
      "outputs": []
    },
    {
      "cell_type": "code",
      "metadata": {
        "id": "LcnTW2p8KhM_",
        "colab_type": "code",
        "colab": {}
      },
      "source": [
        "test_message = ['Step into season with Alkaram Studios spring/summer collection & enjoy designs celebrating spring! with 50% off',\n",
        "                'Storm Fibre(powered by Cybernet) High Speed Internet +HDTv (unlimited) upto 100mb packages 10mb 1999+tax 20mb 2999+tax 30mb 3999+tax callnow 03208449106',\n",
        "                \"AOA Sir! Today I won't come to office\",\n",
        "                'Bill Payment From: Waqas Amount: SAR 9,938.63 Biller: 018 Date: 2019-12-14 14:11:39',\n",
        "                \"Dear Customer, Online Clearing Cheque amounting to 50,000 has been credited to your BAHL account 0029XXXXX 0n 11-2-20\",\n",
        "                \"Bill dated 2020-3-10 for RS 10,000 has been generated for your PTCL fixedline/broadband relationship no. 18651423. The same will reach you by 2020-4-5. Due date: 2020-3-15\",\n",
        "                \"Repair ref.no for your car is JC41166545 opened on 2009-11-15 22:29hrs,ETD of your car is 2009-11-16 16:22hrs and est.repair amt is Rs.991 Rgds, Maha Veer Auto Agency\",\n",
        "                \"Can you please pay the Electricity bill of Rs 12000 by Monday because tuesday is the due date\",\n",
        "                \"PNR:6548444548,TRAIN:7413,DOJ:2013-04-06,FC,ADF-BHRL,Dep:2:25, Wesley,F8 78 , Fare:7955,SC:10.0+PG+INS\",\n",
        "                'Yaar Light a rahe hai k nhe?',\n",
        "                'OTP is 758621 for the txn of INR 17643.00 at KSRTC on your AXIS bank CREDIT card ending with 3868. Valid till 20:49:27. Do not  share OTP with anyone for security reasons',\n",
        "                'Amount of Rs 59000 has been debited to your register']\n",
        "test_result = [0,0,0,1,1,1,1,1,0,0,0,1]"
      ],
      "execution_count": 0,
      "outputs": []
    },
    {
      "cell_type": "code",
      "metadata": {
        "id": "5AjfrzUCKgow",
        "colab_type": "code",
        "colab": {}
      },
      "source": [
        "results = []\n",
        "for t in test_message:\n",
        "  pred = predictor(t)\n",
        "  if pred == 'Financial':\n",
        "    results.append(1)\n",
        "  else:\n",
        "    results.append(0)"
      ],
      "execution_count": 0,
      "outputs": []
    },
    {
      "cell_type": "code",
      "metadata": {
        "id": "SV5Msvo6NzNX",
        "colab_type": "code",
        "colab": {
          "base_uri": "https://localhost:8080/",
          "height": 34
        },
        "outputId": "ac452031-b87a-4e13-8ddc-539dbe4ca6fc"
      },
      "source": [
        "results"
      ],
      "execution_count": 112,
      "outputs": [
        {
          "output_type": "execute_result",
          "data": {
            "text/plain": [
              "[0, 0, 0, 1, 1, 1, 1, 0, 0, 0, 1, 1]"
            ]
          },
          "metadata": {
            "tags": []
          },
          "execution_count": 112
        }
      ]
    },
    {
      "cell_type": "code",
      "metadata": {
        "id": "XNODpnO_NNN_",
        "colab_type": "code",
        "colab": {}
      },
      "source": [
        "resultPred = pd.DataFrame(columns=['Real','Predicted','Text'])"
      ],
      "execution_count": 0,
      "outputs": []
    },
    {
      "cell_type": "code",
      "metadata": {
        "id": "G_M5P_A9Nf84",
        "colab_type": "code",
        "colab": {
          "base_uri": "https://localhost:8080/",
          "height": 421
        },
        "outputId": "ff35480e-621a-4507-9cdd-65ea40af5e56"
      },
      "source": [
        "resultPred['Real'] = test_result\n",
        "resultPred['Predicted']= results\n",
        "resultPred['Text']=test_message\n",
        "\n",
        "resultPred"
      ],
      "execution_count": 114,
      "outputs": [
        {
          "output_type": "execute_result",
          "data": {
            "text/html": [
              "<div>\n",
              "<style scoped>\n",
              "    .dataframe tbody tr th:only-of-type {\n",
              "        vertical-align: middle;\n",
              "    }\n",
              "\n",
              "    .dataframe tbody tr th {\n",
              "        vertical-align: top;\n",
              "    }\n",
              "\n",
              "    .dataframe thead th {\n",
              "        text-align: right;\n",
              "    }\n",
              "</style>\n",
              "<table border=\"1\" class=\"dataframe\">\n",
              "  <thead>\n",
              "    <tr style=\"text-align: right;\">\n",
              "      <th></th>\n",
              "      <th>Real</th>\n",
              "      <th>Predicted</th>\n",
              "      <th>Text</th>\n",
              "    </tr>\n",
              "  </thead>\n",
              "  <tbody>\n",
              "    <tr>\n",
              "      <th>0</th>\n",
              "      <td>0</td>\n",
              "      <td>0</td>\n",
              "      <td>Step into season with Alkaram Studios spring/s...</td>\n",
              "    </tr>\n",
              "    <tr>\n",
              "      <th>1</th>\n",
              "      <td>0</td>\n",
              "      <td>0</td>\n",
              "      <td>Storm Fibre(powered by Cybernet) High Speed In...</td>\n",
              "    </tr>\n",
              "    <tr>\n",
              "      <th>2</th>\n",
              "      <td>0</td>\n",
              "      <td>0</td>\n",
              "      <td>AOA Sir! Today I won't come to office</td>\n",
              "    </tr>\n",
              "    <tr>\n",
              "      <th>3</th>\n",
              "      <td>1</td>\n",
              "      <td>1</td>\n",
              "      <td>Bill Payment From: Waqas Amount: SAR 9,938.63 ...</td>\n",
              "    </tr>\n",
              "    <tr>\n",
              "      <th>4</th>\n",
              "      <td>1</td>\n",
              "      <td>1</td>\n",
              "      <td>Dear Customer, Online Clearing Cheque amountin...</td>\n",
              "    </tr>\n",
              "    <tr>\n",
              "      <th>5</th>\n",
              "      <td>1</td>\n",
              "      <td>1</td>\n",
              "      <td>Bill dated 2020-3-10 for RS 10,000 has been ge...</td>\n",
              "    </tr>\n",
              "    <tr>\n",
              "      <th>6</th>\n",
              "      <td>1</td>\n",
              "      <td>1</td>\n",
              "      <td>Repair ref.no for your car is JC41166545 opene...</td>\n",
              "    </tr>\n",
              "    <tr>\n",
              "      <th>7</th>\n",
              "      <td>1</td>\n",
              "      <td>0</td>\n",
              "      <td>Can you please pay the Electricity bill of Rs ...</td>\n",
              "    </tr>\n",
              "    <tr>\n",
              "      <th>8</th>\n",
              "      <td>0</td>\n",
              "      <td>0</td>\n",
              "      <td>PNR:6548444548,TRAIN:7413,DOJ:2013-04-06,FC,AD...</td>\n",
              "    </tr>\n",
              "    <tr>\n",
              "      <th>9</th>\n",
              "      <td>0</td>\n",
              "      <td>0</td>\n",
              "      <td>Yaar Light a rahe hai k nhe?</td>\n",
              "    </tr>\n",
              "    <tr>\n",
              "      <th>10</th>\n",
              "      <td>0</td>\n",
              "      <td>1</td>\n",
              "      <td>OTP is 758621 for the txn of INR 17643.00 at K...</td>\n",
              "    </tr>\n",
              "    <tr>\n",
              "      <th>11</th>\n",
              "      <td>1</td>\n",
              "      <td>1</td>\n",
              "      <td>Amount of Rs 59000 has been debited to your re...</td>\n",
              "    </tr>\n",
              "  </tbody>\n",
              "</table>\n",
              "</div>"
            ],
            "text/plain": [
              "    Real  Predicted                                               Text\n",
              "0      0          0  Step into season with Alkaram Studios spring/s...\n",
              "1      0          0  Storm Fibre(powered by Cybernet) High Speed In...\n",
              "2      0          0              AOA Sir! Today I won't come to office\n",
              "3      1          1  Bill Payment From: Waqas Amount: SAR 9,938.63 ...\n",
              "4      1          1  Dear Customer, Online Clearing Cheque amountin...\n",
              "5      1          1  Bill dated 2020-3-10 for RS 10,000 has been ge...\n",
              "6      1          1  Repair ref.no for your car is JC41166545 opene...\n",
              "7      1          0  Can you please pay the Electricity bill of Rs ...\n",
              "8      0          0  PNR:6548444548,TRAIN:7413,DOJ:2013-04-06,FC,AD...\n",
              "9      0          0                       Yaar Light a rahe hai k nhe?\n",
              "10     0          1  OTP is 758621 for the txn of INR 17643.00 at K...\n",
              "11     1          1  Amount of Rs 59000 has been debited to your re..."
            ]
          },
          "metadata": {
            "tags": []
          },
          "execution_count": 114
        }
      ]
    }
  ]
}