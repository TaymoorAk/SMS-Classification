{
  "nbformat": 4,
  "nbformat_minor": 0,
  "metadata": {
    "colab": {
      "name": "FinancialOrNot.ipynb",
      "provenance": []
    },
    "kernelspec": {
      "name": "python3",
      "display_name": "Python 3"
    },
    "accelerator": "GPU"
  },
  "cells": [
    {
      "cell_type": "code",
      "metadata": {
        "id": "j8AQTv1n9rQT",
        "colab_type": "code",
        "colab": {}
      },
      "source": [
        "import numpy as np\n",
        "import pandas as pd\n",
        "import matplotlib.pyplot as plt\n",
        "import spacy\n",
        "import sys\n",
        "import warnings\n",
        "warnings.filterwarnings(\"ignore\")"
      ],
      "execution_count": 0,
      "outputs": []
    },
    {
      "cell_type": "code",
      "metadata": {
        "id": "DeGPJanQ-GWY",
        "colab_type": "code",
        "colab": {}
      },
      "source": [
        "dataset = pd.read_csv('train_sms_mine.csv', encoding='cp1252')"
      ],
      "execution_count": 0,
      "outputs": []
    },
    {
      "cell_type": "code",
      "metadata": {
        "id": "ss0bkMVW-XOi",
        "colab_type": "code",
        "colab": {
          "base_uri": "https://localhost:8080/",
          "height": 255
        },
        "outputId": "b34fa73d-6598-43ca-ca63-8fcca23c64e5"
      },
      "source": [
        "dataset.head"
      ],
      "execution_count": 3,
      "outputs": [
        {
          "output_type": "execute_result",
          "data": {
            "text/plain": [
              "<bound method NDFrame.head of              Label                                            Message\n",
              "0         Delivery  Dear Guest, Thanks for choosing The Edison. Or...\n",
              "1            Hotel  Welcome to Southern University at Shreveport R...\n",
              "2          Payment  Bill dated 2013-01-14 for Rs 626 has been gene...\n",
              "3          Payment  Bill dated 2014-11-30 for Rs 323 has been gene...\n",
              "4      Appointment  DEAR Zachary, THANK YOU FOR YOUR BOOKING (ORDE...\n",
              "...            ...                                                ...\n",
              "42005         bill  Bill Payment From: Waqas Amount: SAR 9,938.63 ...\n",
              "42006         bill  Bill Payment From: Waqas Amount: RS 9,938.63 B...\n",
              "42007         bill  Bill Payment From: Ahmed Amount: RS 9,938.63 B...\n",
              "42008         bank  Your payment to Ben?s Books has been made on 1...\n",
              "42009         bank  Your payment to Ali oil company has been made ...\n",
              "\n",
              "[42010 rows x 2 columns]>"
            ]
          },
          "metadata": {
            "tags": []
          },
          "execution_count": 3
        }
      ]
    },
    {
      "cell_type": "code",
      "metadata": {
        "id": "lrPYenW1_VOt",
        "colab_type": "code",
        "colab": {}
      },
      "source": [
        "bank =[]\n",
        "payement = []\n",
        "bill = []\n",
        "info = []\n",
        "ham = []\n",
        "appointment = []\n",
        "hotel = []"
      ],
      "execution_count": 0,
      "outputs": []
    },
    {
      "cell_type": "code",
      "metadata": {
        "id": "jg8sxuVqANHQ",
        "colab_type": "code",
        "colab": {}
      },
      "source": [
        "for i in range(len(dataset)):\n",
        "  if dataset['Label'][i] == 'bank':\n",
        "    bank.append(dataset['Message'][i])\n",
        "  elif dataset['Label'][i] == 'bill':\n",
        "    bill.append(dataset['Message'][i])\n",
        "  elif dataset['Label'][i] == 'Payment':\n",
        "    payement.append(dataset['Message'][i])\n",
        "  elif dataset['Label'][i] == 'info':\n",
        "    info.append(dataset['Message'][i])\n",
        "  elif dataset['Label'][i] =='ham':\n",
        "    ham.append(dataset['Message'][i])\n",
        "  elif dataset['Label'][i] == 'Appointment':\n",
        "    appointment.append(dataset['Message'][i])\n",
        "  elif dataset['Label'][i] == 'Hotel':\n",
        "    hotel.append(dataset['Message'][i])\n",
        "  else:\n",
        "    continue"
      ],
      "execution_count": 0,
      "outputs": []
    },
    {
      "cell_type": "code",
      "metadata": {
        "id": "Vlkrz0G8O_Yo",
        "colab_type": "code",
        "colab": {}
      },
      "source": [
        "data = pd.DataFrame(columns=['Text','Label',])"
      ],
      "execution_count": 0,
      "outputs": []
    },
    {
      "cell_type": "code",
      "metadata": {
        "id": "TdruMGQbPATn",
        "colab_type": "code",
        "colab": {}
      },
      "source": [
        "text = []\n",
        "label = []\n",
        "for tex in bank:\n",
        "  text.append(tex)\n",
        "  label.append(1)\n",
        "for tex in bill:\n",
        "  text.append(tex)\n",
        "  label.append(1)\n",
        "for tex in payement:\n",
        "  text.append(tex)\n",
        "  label.append(1)\n",
        "\n",
        "##### Neg\n",
        "\n",
        "for tex in info:\n",
        "  text.append(tex)\n",
        "  label.append(0)\n",
        "for tex in ham:\n",
        "  text.append(tex)\n",
        "  label.append(0)\n",
        "for tex in appointment:\n",
        "  text.append(tex)\n",
        "  label.append(0)\n",
        "for tex in hotel:\n",
        "  text.append(tex)\n",
        "  label.append(0)"
      ],
      "execution_count": 0,
      "outputs": []
    },
    {
      "cell_type": "code",
      "metadata": {
        "id": "XqDQnwdTQreX",
        "colab_type": "code",
        "colab": {
          "base_uri": "https://localhost:8080/",
          "height": 255
        },
        "outputId": "dbf2036d-ab6e-4862-e7c0-3387c97a2515"
      },
      "source": [
        "data['Text'] = text\n",
        "data['Label'] = label\n",
        "data.head"
      ],
      "execution_count": 8,
      "outputs": [
        {
          "output_type": "execute_result",
          "data": {
            "text/plain": [
              "<bound method NDFrame.head of                                                     Text  Label\n",
              "0      Thank you for using your ICICI bank CREDITcard...      1\n",
              "1      OTP is 817453 for the txn of INR 8262.00 at SP...      1\n",
              "2      Ur transaction on HDFC Bank CREDIT Card ending...      1\n",
              "3      Thank you for using your HDFC bank Debitcard e...      1\n",
              "4      Dear Customer, You have made a Debit Card purc...      1\n",
              "...                                                  ...    ...\n",
              "26607  Welcome to Fossil Ridge Park R.No. 195, 132, 1...      0\n",
              "26608  Welcome to Curwood Castle R.No. 491, 236 Ch.In...      0\n",
              "26609  Welcome to MAINSOURCE FNCL GRP R.No. 203, 174,...      0\n",
              "26610  Welcome to Seto Inland Sea R.No. 384, 198 Ch.I...      0\n",
              "26611  Welcome to National Aviary R.No. 109, 589, 533...      0\n",
              "\n",
              "[26612 rows x 2 columns]>"
            ]
          },
          "metadata": {
            "tags": []
          },
          "execution_count": 8
        }
      ]
    },
    {
      "cell_type": "code",
      "metadata": {
        "id": "jM-b9xUeRahO",
        "colab_type": "code",
        "colab": {
          "base_uri": "https://localhost:8080/",
          "height": 255
        },
        "outputId": "44cc13bc-d475-4c29-e74f-81f3ad9cebb8"
      },
      "source": [
        "from sklearn.utils import shuffle\n",
        "data = shuffle(data)\n",
        "data.reset_index()\n",
        "data.head"
      ],
      "execution_count": 9,
      "outputs": [
        {
          "output_type": "execute_result",
          "data": {
            "text/plain": [
              "<bound method NDFrame.head of                                                     Text  Label\n",
              "11255  Hi Customer, Booking ID: W9OR52B. Seats: GOLD-...      0\n",
              "25681  Welcome to Gamble House R.No. 369, 332, 516 Ch...      0\n",
              "9865   Hi Customer, Booking ID: W52C39D. Seats: STAND...      0\n",
              "17304  where are you going to celebrate New year night ?      0\n",
              "5457   Thank you for choosing KSRTC for 2011-05-22 at...      0\n",
              "...                                                  ...    ...\n",
              "18359                           House full 3 show at 3pm      0\n",
              "12135  Thank you for using your HDFC bank CREDITcard ...      0\n",
              "10283  Hi Customer, Booking ID: WJCOKGE. Seats: STAND...      0\n",
              "17985                                   6 in the evening      0\n",
              "3882   DEAR Kaleb, THANK YOU FOR YOUR BOOKING (ORDER ...      0\n",
              "\n",
              "[26612 rows x 2 columns]>"
            ]
          },
          "metadata": {
            "tags": []
          },
          "execution_count": 9
        }
      ]
    },
    {
      "cell_type": "code",
      "metadata": {
        "id": "E63WEczYSIe9",
        "colab_type": "code",
        "colab": {}
      },
      "source": [
        "punctuation = '.!\"#$%&()*+-/:,;<=>?@[\\\\]^_`{|}~'\n",
        "\n",
        "data['Text'] = data['Text'].apply(lambda x: ''.join(ch for ch in x if ch not in set(punctuation)))\n",
        "data['Text'] = data['Text'].str.lower()\n",
        "data['Text'] = data['Text'].str.replace(\"[0-9]\", \" \")\n",
        "data['Text'] = data['Text'].apply(lambda x: ' '.join(x.split()))"
      ],
      "execution_count": 0,
      "outputs": []
    },
    {
      "cell_type": "code",
      "metadata": {
        "id": "tUENyoC9Rtdd",
        "colab_type": "code",
        "colab": {}
      },
      "source": [
        "from keras.preprocessing.text import Tokenizer\n",
        "MAX_NB_WORDS = 25000\n",
        "MAX_SEQUENCE_LENGTH = 25\n",
        "EMBEDDING_DIM = 20\n",
        "\n",
        "tokenizer = Tokenizer(num_words=MAX_NB_WORDS, filters='!\"#$%&()*+,-./:;<=>?@[\\]^_`{|}~!\"#$%&()*+,-./:;<=>?@[\\\\]^_`{|}~\\t\\n“”’\\'∞θ÷α•à−β∅³π‘₹´°£€\\×™√²—', lower=True)\n",
        "tokenizer.fit_on_texts(data['Text'].values)\n",
        "word_index = tokenizer.word_index\n",
        "print('Found %s unique tokens.' % len(word_index))"
      ],
      "execution_count": 0,
      "outputs": []
    },
    {
      "cell_type": "code",
      "metadata": {
        "id": "47odjx8JR8pG",
        "colab_type": "code",
        "colab": {
          "base_uri": "https://localhost:8080/",
          "height": 255
        },
        "outputId": "0bca4652-980f-4bad-e782-7dd58ee4ca8d"
      },
      "source": [
        "data.head"
      ],
      "execution_count": 12,
      "outputs": [
        {
          "output_type": "execute_result",
          "data": {
            "text/plain": [
              "<bound method NDFrame.head of                                                     Text  Label\n",
              "11255  hi customer booking id w or b seats goldk k k ...      0\n",
              "25681             welcome to gamble house rno chin chout      0\n",
              "9865   hi customer booking id w c d seats standardh h...      0\n",
              "17304    where are you going to celebrate new year night      0\n",
              "5457   thank you for choosing ksrtc for at cabka a ch...      0\n",
              "...                                                  ...    ...\n",
              "18359                              house full show at pm      0\n",
              "12135  thank you for using your hdfc bank creditcard ...      0\n",
              "10283  hi customer booking id wjcokge seats standardm...      0\n",
              "17985                                     in the evening      0\n",
              "3882   dear kaleb thank you for your booking order id...      0\n",
              "\n",
              "[26612 rows x 2 columns]>"
            ]
          },
          "metadata": {
            "tags": []
          },
          "execution_count": 12
        }
      ]
    },
    {
      "cell_type": "code",
      "metadata": {
        "id": "woVYyabgq-uR",
        "colab_type": "code",
        "outputId": "6c73996f-afa5-455a-8073-9aa7f65c29cf",
        "colab": {
          "base_uri": "https://localhost:8080/",
          "height": 34
        }
      },
      "source": [
        "from keras.preprocessing.sequence import pad_sequences\n",
        "X = tokenizer.texts_to_sequences(data['Text'].values)\n",
        "X = pad_sequences(X, maxlen=MAX_SEQUENCE_LENGTH)\n",
        "print('Shape of data tensor:', X.shape)"
      ],
      "execution_count": 13,
      "outputs": [
        {
          "output_type": "stream",
          "text": [
            "Shape of data tensor: (26612, 25)\n"
          ],
          "name": "stdout"
        }
      ]
    },
    {
      "cell_type": "code",
      "metadata": {
        "id": "w57sLBhYSVjO",
        "colab_type": "code",
        "colab": {
          "base_uri": "https://localhost:8080/",
          "height": 51
        },
        "outputId": "7031ab7f-35c2-4bf2-c220-ead0423b53cd"
      },
      "source": [
        "Y = pd.get_dummies(data['Label']).values\n",
        "print('Shape of label tensor:', Y.shape)\n",
        "Y[3]"
      ],
      "execution_count": 14,
      "outputs": [
        {
          "output_type": "stream",
          "text": [
            "Shape of label tensor: (26612, 2)\n"
          ],
          "name": "stdout"
        },
        {
          "output_type": "execute_result",
          "data": {
            "text/plain": [
              "array([1, 0], dtype=uint8)"
            ]
          },
          "metadata": {
            "tags": []
          },
          "execution_count": 14
        }
      ]
    },
    {
      "cell_type": "code",
      "metadata": {
        "id": "fVqcTKIkSc1N",
        "colab_type": "code",
        "colab": {
          "base_uri": "https://localhost:8080/",
          "height": 51
        },
        "outputId": "972bb503-aece-4c64-e7c0-e0dc9462f031"
      },
      "source": [
        "from sklearn.model_selection import train_test_split\n",
        "X_train, X_test, Y_train, Y_test = train_test_split(X,Y, test_size = 0.10, random_state = 42)\n",
        "print(X_train.shape,Y_train.shape)\n",
        "print(X_test.shape,Y_test.shape)"
      ],
      "execution_count": 15,
      "outputs": [
        {
          "output_type": "stream",
          "text": [
            "(23950, 25) (23950, 2)\n",
            "(2662, 25) (2662, 2)\n"
          ],
          "name": "stdout"
        }
      ]
    },
    {
      "cell_type": "code",
      "metadata": {
        "id": "DlePTe1hSqrF",
        "colab_type": "code",
        "colab": {}
      },
      "source": [
        "from keras.models import Sequential\n",
        "from keras.layers import Embedding, SpatialDropout1D, LSTM, Dense, Dropout , GRU\n",
        "from keras.callbacks import ModelCheckpoint, EarlyStopping\n",
        "model = Sequential()\n",
        "model.add(Embedding(MAX_NB_WORDS, EMBEDDING_DIM, input_length=X.shape[1]))\n",
        "model.add(SpatialDropout1D(0.2))\n",
        "model.add(GRU(10, dropout=0.2, recurrent_dropout=0.2))\n",
        "model.add(Dense(2, activation='sigmoid'))\n",
        "model.compile(loss='categorical_crossentropy', optimizer='adam', metrics=['accuracy'])\n",
        "\n",
        "epochs = 5\n",
        "batch_size = 64"
      ],
      "execution_count": 0,
      "outputs": []
    },
    {
      "cell_type": "code",
      "metadata": {
        "id": "FxWOPZt6S1Lf",
        "colab_type": "code",
        "colab": {
          "base_uri": "https://localhost:8080/",
          "height": 547
        },
        "outputId": "305d13a6-8e48-499d-b4f8-04c58142259a"
      },
      "source": [
        "history = model.fit(X_train, Y_train, epochs=epochs, batch_size=batch_size,validation_split=0.1,callbacks=[EarlyStopping(monitor='val_loss', patience=3, min_delta=0.0001)])"
      ],
      "execution_count": 17,
      "outputs": [
        {
          "output_type": "stream",
          "text": [
            "WARNING:tensorflow:From /usr/local/lib/python3.6/dist-packages/tensorflow_core/python/ops/math_grad.py:1424: where (from tensorflow.python.ops.array_ops) is deprecated and will be removed in a future version.\n",
            "Instructions for updating:\n",
            "Use tf.where in 2.0, which has the same broadcast rule as np.where\n",
            "WARNING:tensorflow:From /usr/local/lib/python3.6/dist-packages/keras/backend/tensorflow_backend.py:1033: The name tf.assign_add is deprecated. Please use tf.compat.v1.assign_add instead.\n",
            "\n",
            "WARNING:tensorflow:From /usr/local/lib/python3.6/dist-packages/keras/backend/tensorflow_backend.py:1020: The name tf.assign is deprecated. Please use tf.compat.v1.assign instead.\n",
            "\n",
            "WARNING:tensorflow:From /usr/local/lib/python3.6/dist-packages/keras/backend/tensorflow_backend.py:3005: The name tf.Session is deprecated. Please use tf.compat.v1.Session instead.\n",
            "\n",
            "Train on 21555 samples, validate on 2395 samples\n",
            "Epoch 1/5\n",
            "WARNING:tensorflow:From /usr/local/lib/python3.6/dist-packages/keras/backend/tensorflow_backend.py:190: The name tf.get_default_session is deprecated. Please use tf.compat.v1.get_default_session instead.\n",
            "\n",
            "WARNING:tensorflow:From /usr/local/lib/python3.6/dist-packages/keras/backend/tensorflow_backend.py:197: The name tf.ConfigProto is deprecated. Please use tf.compat.v1.ConfigProto instead.\n",
            "\n",
            "WARNING:tensorflow:From /usr/local/lib/python3.6/dist-packages/keras/backend/tensorflow_backend.py:207: The name tf.global_variables is deprecated. Please use tf.compat.v1.global_variables instead.\n",
            "\n",
            "WARNING:tensorflow:From /usr/local/lib/python3.6/dist-packages/keras/backend/tensorflow_backend.py:216: The name tf.is_variable_initialized is deprecated. Please use tf.compat.v1.is_variable_initialized instead.\n",
            "\n",
            "WARNING:tensorflow:From /usr/local/lib/python3.6/dist-packages/keras/backend/tensorflow_backend.py:223: The name tf.variables_initializer is deprecated. Please use tf.compat.v1.variables_initializer instead.\n",
            "\n",
            "21555/21555 [==============================] - 21s 962us/step - loss: 0.2075 - acc: 0.9513 - val_loss: 0.0724 - val_acc: 0.9582\n",
            "Epoch 2/5\n",
            "21555/21555 [==============================] - 16s 728us/step - loss: 0.0690 - acc: 0.9591 - val_loss: 0.0612 - val_acc: 0.9633\n",
            "Epoch 3/5\n",
            "21555/21555 [==============================] - 16s 765us/step - loss: 0.0620 - acc: 0.9604 - val_loss: 0.0605 - val_acc: 0.9603\n",
            "Epoch 4/5\n",
            "21555/21555 [==============================] - 16s 735us/step - loss: 0.0594 - acc: 0.9605 - val_loss: 0.0576 - val_acc: 0.9637\n",
            "Epoch 5/5\n",
            "21555/21555 [==============================] - 16s 741us/step - loss: 0.0586 - acc: 0.9603 - val_loss: 0.0579 - val_acc: 0.9603\n"
          ],
          "name": "stdout"
        }
      ]
    },
    {
      "cell_type": "code",
      "metadata": {
        "id": "0JFiZc2lThIb",
        "colab_type": "code",
        "colab": {
          "base_uri": "https://localhost:8080/",
          "height": 85
        },
        "outputId": "cd8c8f8b-0a7a-4e26-9e6f-c0571fa779ca"
      },
      "source": [
        "accr = model.evaluate(X_test,Y_test)\n",
        "print('Test set\\n  Loss: {:0.3f}\\n  Accuracy: {:0.3f}'.format(accr[0],accr[1]))"
      ],
      "execution_count": 18,
      "outputs": [
        {
          "output_type": "stream",
          "text": [
            "2662/2662 [==============================] - 2s 642us/step\n",
            "Test set\n",
            "  Loss: 0.060\n",
            "  Accuracy: 0.960\n"
          ],
          "name": "stdout"
        }
      ]
    },
    {
      "cell_type": "code",
      "metadata": {
        "id": "ksG-V0DFTkxc",
        "colab_type": "code",
        "colab": {
          "base_uri": "https://localhost:8080/",
          "height": 281
        },
        "outputId": "71607d5b-2729-4c27-80a4-aea2f46bb03f"
      },
      "source": [
        "plt.title('Loss')\n",
        "plt.plot(history.history['loss'], label='train')\n",
        "plt.plot(history.history['val_loss'], label='test')\n",
        "plt.legend()\n",
        "plt.show();"
      ],
      "execution_count": 19,
      "outputs": [
        {
          "output_type": "display_data",
          "data": {
            "image/png": "[encoded data removed]",
            "text/plain": [
              "<Figure size 432x288 with 1 Axes>"
            ]
          },
          "metadata": {
            "tags": []
          }
        }
      ]
    },
    {
      "cell_type": "code",
      "metadata": {
        "id": "Y0FPT3EqTncM",
        "colab_type": "code",
        "colab": {
          "base_uri": "https://localhost:8080/",
          "height": 281
        },
        "outputId": "70a87a27-9401-4763-e13c-92f5e3cbdaee"
      },
      "source": [
        "plt.title('Accuracy')\n",
        "plt.plot(history.history['acc'], label='train')\n",
        "plt.plot(history.history['val_acc'], label='test')\n",
        "plt.legend()\n",
        "plt.show();"
      ],
      "execution_count": 20,
      "outputs": [
        {
          "output_type": "display_data",
          "data": {
            "image/png": "[encoded data removed]",
            "text/plain": [
              "<Figure size 432x288 with 1 Axes>"
            ]
          },
          "metadata": {
            "tags": []
          }
        }
      ]
    },
    {
      "cell_type": "code",
      "metadata": {
        "id": "ArHe-RVcr9y7",
        "colab_type": "code",
        "colab": {}
      },
      "source": [
        "def predictor(str):\n",
        "  new_sms = [str]\n",
        "  seq = tokenizer.texts_to_sequences(new_sms)\n",
        "  padded = pad_sequences(seq, maxlen=MAX_SEQUENCE_LENGTH)\n",
        "  pred = model.predict(padded)\n",
        "  if(np.argmax(pred)) == 0:\n",
        "    return \"Non Financial\"\n",
        "  else:\n",
        "    return \"Financial\""
      ],
      "execution_count": 0,
      "outputs": []
    },
    {
      "cell_type": "code",
      "metadata": {
        "id": "X76QXXCgTquE",
        "colab_type": "code",
        "colab": {
          "base_uri": "https://localhost:8080/",
          "height": 34
        },
        "outputId": "ee66aae4-d0f9-489f-95ce-c8291657db4e"
      },
      "source": [
        "predictor('OTP is 882352 for the txn of INR 4901.00 at AMAZON SELLER SERVICES on your SBI bank CREDIT card ending with 5168. Valid till 13:50:31. Do not share the OTP with anyone for security reasons')\n"
      ],
      "execution_count": 36,
      "outputs": [
        {
          "output_type": "execute_result",
          "data": {
            "text/plain": [
              "'Financial'"
            ]
          },
          "metadata": {
            "tags": []
          },
          "execution_count": 36
        }
      ]
    },
    {
      "cell_type": "code",
      "metadata": {
        "id": "uCzHOKQYq6t7",
        "colab_type": "code",
        "colab": {
          "base_uri": "https://localhost:8080/",
          "height": 34
        },
        "outputId": "99a9034e-8ab4-4a7d-c838-561fd22b4ef8"
      },
      "source": [
        "predictor('Step into season with Alkaram Studios spring/summer collection & enjoy designs celebrating spring!')"
      ],
      "execution_count": 37,
      "outputs": [
        {
          "output_type": "execute_result",
          "data": {
            "text/plain": [
              "'Non Financial'"
            ]
          },
          "metadata": {
            "tags": []
          },
          "execution_count": 37
        }
      ]
    },
    {
      "cell_type": "code",
      "metadata": {
        "id": "OKRdr6pqrVa7",
        "colab_type": "code",
        "colab": {
          "base_uri": "https://localhost:8080/",
          "height": 34
        },
        "outputId": "b91f3419-a957-4779-9d81-78ab47f75bb6"
      },
      "source": [
        "predictor('Storm Fibre(powered by Cybernet) High Speed Internet +HDTv (unlimited) upto 100mb packages 10mb 1999+tax 20mb 2999+tax 30mb 3999+tax callnow 03208449106')"
      ],
      "execution_count": 38,
      "outputs": [
        {
          "output_type": "execute_result",
          "data": {
            "text/plain": [
              "'Non Financial'"
            ]
          },
          "metadata": {
            "tags": []
          },
          "execution_count": 38
        }
      ]
    },
    {
      "cell_type": "code",
      "metadata": {
        "id": "YeDqoK-Er0KM",
        "colab_type": "code",
        "colab": {
          "base_uri": "https://localhost:8080/",
          "height": 34
        },
        "outputId": "01cb2a27-6f59-41c1-eea1-e409dc1e8729"
      },
      "source": [
        "predictor(\"AOA Sir! Today I won't come to office\")"
      ],
      "execution_count": 39,
      "outputs": [
        {
          "output_type": "execute_result",
          "data": {
            "text/plain": [
              "'Non Financial'"
            ]
          },
          "metadata": {
            "tags": []
          },
          "execution_count": 39
        }
      ]
    },
    {
      "cell_type": "code",
      "metadata": {
        "id": "u7cdIuDiszYt",
        "colab_type": "code",
        "colab": {
          "base_uri": "https://localhost:8080/",
          "height": 34
        },
        "outputId": "d13a8dfe-c6db-4297-acbb-b708e47a3514"
      },
      "source": [
        "predictor('Bill Payment From: Waqas Amount: SAR 9,938.63 Biller: 018 Date: 2019-12-14 14:11:39')"
      ],
      "execution_count": 40,
      "outputs": [
        {
          "output_type": "execute_result",
          "data": {
            "text/plain": [
              "'Financial'"
            ]
          },
          "metadata": {
            "tags": []
          },
          "execution_count": 40
        }
      ]
    },
    {
      "cell_type": "code",
      "metadata": {
        "id": "FyCPevJHs54M",
        "colab_type": "code",
        "colab": {
          "base_uri": "https://localhost:8080/",
          "height": 34
        },
        "outputId": "f6ba95c6-0670-4653-c540-f35297e00a03"
      },
      "source": [
        "predictor('Dear Customer, Online Clearing Cheque amounting to 50,000 has been credited to your BAHL account 0029XXXXX 0n 1-1-20')"
      ],
      "execution_count": 41,
      "outputs": [
        {
          "output_type": "execute_result",
          "data": {
            "text/plain": [
              "'Financial'"
            ]
          },
          "metadata": {
            "tags": []
          },
          "execution_count": 41
        }
      ]
    },
    {
      "cell_type": "code",
      "metadata": {
        "id": "whdJkUC3taeZ",
        "colab_type": "code",
        "colab": {
          "base_uri": "https://localhost:8080/",
          "height": 34
        },
        "outputId": "30169030-ab6d-4118-88c7-121ae9117cd0"
      },
      "source": [
        "predictor('Bill dated 2020-3-10 for RS 10,000 has been generated for your PTCL fixedline/broadband relationship no. 18651423. The same will reach you by 2020-4-5. Due date: 2020-3-15.')"
      ],
      "execution_count": 42,
      "outputs": [
        {
          "output_type": "execute_result",
          "data": {
            "text/plain": [
              "'Financial'"
            ]
          },
          "metadata": {
            "tags": []
          },
          "execution_count": 42
        }
      ]
    },
    {
      "cell_type": "code",
      "metadata": {
        "id": "8IfS40ndt7Uy",
        "colab_type": "code",
        "colab": {
          "base_uri": "https://localhost:8080/",
          "height": 34
        },
        "outputId": "e1afbd4a-d066-4f72-be6f-c06c03730b09"
      },
      "source": [
        "predictor('Repair ref.no for your car is JC41166545 opened on 2009-11-15 22:29hrs,ETD of your car is 2009-11-16 16:22hrs and est.repair amt is Rs.991 Rgds, Maha Veer Auto Agency')"
      ],
      "execution_count": 43,
      "outputs": [
        {
          "output_type": "execute_result",
          "data": {
            "text/plain": [
              "'Non Financial'"
            ]
          },
          "metadata": {
            "tags": []
          },
          "execution_count": 43
        }
      ]
    }
  ]
}