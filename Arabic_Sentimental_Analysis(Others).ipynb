{
  "nbformat": 4,
  "nbformat_minor": 0,
  "metadata": {
    "colab": {
      "name": "Arabic Sentimental Analysis(Others).ipynb",
      "provenance": [],
      "collapsed_sections": []
    },
    "kernelspec": {
      "name": "python3",
      "display_name": "Python 3"
    }
  },
  "cells": [
    {
      "cell_type": "code",
      "metadata": {
        "id": "sJTbzSwECiYU",
        "colab_type": "code",
        "colab": {}
      },
      "source": [
        "#https://www.kaggle.com/mksaad/arabic-sentiment-analysis-in-tweets-nb-bow\n",
        "#https://github.com/saobou/arabic-text-preprocessing/blob/master/Preprocess.ipynb\n",
        "import numpy as np \n",
        "import pandas as pd"
      ],
      "execution_count": 0,
      "outputs": []
    },
    {
      "cell_type": "code",
      "metadata": {
        "id": "Lk-dbusdCt3N",
        "colab_type": "code",
        "colab": {}
      },
      "source": [
        "import nltk\n",
        "from nltk import NaiveBayesClassifier\n",
        "from nltk.metrics.scores import f_measure, precision, recall\n",
        "import collections"
      ],
      "execution_count": 0,
      "outputs": []
    },
    {
      "cell_type": "code",
      "metadata": {
        "id": "6rIa8Vw8ECIk",
        "colab_type": "code",
        "colab": {}
      },
      "source": [
        "pos_dataset = pd.read_csv('train_Arabic_tweets_positive_20190413.tsv',sep='\\t', encoding='utf-8').dropna()"
      ],
      "execution_count": 0,
      "outputs": []
    },
    {
      "cell_type": "code",
      "metadata": {
        "id": "Y69_zq_aFR2B",
        "colab_type": "code",
        "colab": {}
      },
      "source": [
        "neg_dataset = pd.read_csv('train_Arabic_tweets_negative_20190413.tsv',sep='\\t', encoding=\"utf-8\").dropna()"
      ],
      "execution_count": 0,
      "outputs": []
    },
    {
      "cell_type": "code",
      "metadata": {
        "id": "AcG6S_AwFgZo",
        "colab_type": "code",
        "outputId": "84eabaf1-753c-43c4-e79e-6cd020f39260",
        "colab": {
          "base_uri": "https://localhost:8080/",
          "height": 275
        }
      },
      "source": [
        "neg_dataset.head"
      ],
      "execution_count": 5,
      "outputs": [
        {
          "output_type": "execute_result",
          "data": {
            "text/plain": [
              "<bound method NDFrame.head of       Sentiment                                               Text\n",
              "0           neg  اعترف ان بتس كانو شوي شوي يجيبو راسي لكن اليوم...\n",
              "1           neg  توقعت اذا جات داريا بشوفهم كاملين بس لي للحين ...\n",
              "2           neg  #الاهلي_الهلال اكتب توقعك لنتيجة لقاء الهلال و...\n",
              "3           neg  نعمة المضادات الحيوية . تضع قطرة💧مضاد بنسلين ع...\n",
              "4           neg                             الدودو جايه تكمل علي 💔\n",
              "...         ...                                                ...\n",
              "22509       neg  كيف ترى أورانوس لو كان يقع مكان القمر ؟ 💙💙 كوك...\n",
              "22510       neg                                  احسدك على الايم 💔\n",
              "22511       neg                            لأول مرة ما بنكون سوا 💔\n",
              "22512       neg                                 بقله ليش يا واطي 🤔\n",
              "22513       neg  قد طال صبري في النوى إذ تركتني كئيبا ؛ غريبا ب...\n",
              "\n",
              "[22514 rows x 2 columns]>"
            ]
          },
          "metadata": {
            "tags": []
          },
          "execution_count": 5
        }
      ]
    },
    {
      "cell_type": "code",
      "metadata": {
        "id": "bfCR4MC4FjaZ",
        "colab_type": "code",
        "outputId": "2f46ba11-6082-493f-e81a-c1f6d33626da",
        "colab": {
          "base_uri": "https://localhost:8080/",
          "height": 34
        }
      },
      "source": [
        "pos_dataset['Text'][1]"
      ],
      "execution_count": 6,
      "outputs": [
        {
          "output_type": "execute_result",
          "data": {
            "text/plain": [
              "'وفي النهاية لن يبقىٰ معك آحدإلا من رأىٰ الجمال في روحك أماالمنبهرون بالمظا…'"
            ]
          },
          "metadata": {
            "tags": []
          },
          "execution_count": 6
        }
      ]
    },
    {
      "cell_type": "code",
      "metadata": {
        "id": "dIaIQNS5F2ko",
        "colab_type": "code",
        "colab": {}
      },
      "source": [
        "pos = pd.DataFrame(columns=['Text','Label'])"
      ],
      "execution_count": 0,
      "outputs": []
    },
    {
      "cell_type": "code",
      "metadata": {
        "id": "jSpjIMxdF2fX",
        "colab_type": "code",
        "colab": {}
      },
      "source": [
        "neg = pd.DataFrame(columns=['Text','Label'])"
      ],
      "execution_count": 0,
      "outputs": []
    },
    {
      "cell_type": "code",
      "metadata": {
        "id": "ZXw4ItlVGgAu",
        "colab_type": "code",
        "colab": {}
      },
      "source": [
        "pos_tweets=[]\n",
        "neg_tweets=[]\n",
        "pos_sent=[]\n",
        "neg_sent=[]\n",
        "for i in range(len(pos_dataset)):\n",
        "  pos_tweets.append(pos_dataset['Text'][i])\n",
        "  pos_sent.append(1)\n",
        "\n",
        "for i in range(len(neg_dataset)):\n",
        "  neg_tweets.append(neg_dataset['Text'][i])\n",
        "  neg_sent.append(0)"
      ],
      "execution_count": 0,
      "outputs": []
    },
    {
      "cell_type": "code",
      "metadata": {
        "id": "x03rS217H_Z3",
        "colab_type": "code",
        "outputId": "513375d1-f9fe-4bb0-ca67-ae142b328dfd",
        "colab": {
          "base_uri": "https://localhost:8080/",
          "height": 34
        }
      },
      "source": [
        "pos_tweets[1]"
      ],
      "execution_count": 10,
      "outputs": [
        {
          "output_type": "execute_result",
          "data": {
            "text/plain": [
              "'وفي النهاية لن يبقىٰ معك آحدإلا من رأىٰ الجمال في روحك أماالمنبهرون بالمظا…'"
            ]
          },
          "metadata": {
            "tags": []
          },
          "execution_count": 10
        }
      ]
    },
    {
      "cell_type": "code",
      "metadata": {
        "id": "Yvn8wtyTICld",
        "colab_type": "code",
        "outputId": "c9eea66d-100e-49b5-ee96-e7bba5e438d6",
        "colab": {
          "base_uri": "https://localhost:8080/",
          "height": 34
        }
      },
      "source": [
        "neg_tweets[1]"
      ],
      "execution_count": 11,
      "outputs": [
        {
          "output_type": "execute_result",
          "data": {
            "text/plain": [
              "'توقعت اذا جات داريا بشوفهم كاملين بس لي للحين احس فيه احد ناقصهم 💔 #Avlu'"
            ]
          },
          "metadata": {
            "tags": []
          },
          "execution_count": 11
        }
      ]
    },
    {
      "cell_type": "code",
      "metadata": {
        "id": "odYBtmiFKRTi",
        "colab_type": "code",
        "colab": {}
      },
      "source": [
        "text=[]\n",
        "Label=[]\n",
        "for tweet in pos_tweets:\n",
        "  text.append(tweet)\n",
        "  Label.append(1)\n",
        "for tweet in neg_tweets:\n",
        "  text.append(tweet)\n",
        "  Label.append(0)"
      ],
      "execution_count": 0,
      "outputs": []
    },
    {
      "cell_type": "code",
      "metadata": {
        "id": "kGvU-_GiKE3N",
        "colab_type": "code",
        "colab": {}
      },
      "source": [
        "data = pd.DataFrame(columns=['Text','Labels'])"
      ],
      "execution_count": 0,
      "outputs": []
    },
    {
      "cell_type": "code",
      "metadata": {
        "id": "tg8Gl_KiIYEl",
        "colab_type": "code",
        "colab": {}
      },
      "source": [
        "data['Text'] = text\n",
        "data['Labels'] = Label"
      ],
      "execution_count": 0,
      "outputs": []
    },
    {
      "cell_type": "code",
      "metadata": {
        "id": "PQGApehOK8Dk",
        "colab_type": "code",
        "outputId": "5a5b26be-4d1c-4e20-a1e6-3b277e8e57bd",
        "colab": {
          "base_uri": "https://localhost:8080/",
          "height": 419
        }
      },
      "source": [
        "data"
      ],
      "execution_count": 15,
      "outputs": [
        {
          "output_type": "execute_result",
          "data": {
            "text/html": [
              "<div>\n",
              "<style scoped>\n",
              "    .dataframe tbody tr th:only-of-type {\n",
              "        vertical-align: middle;\n",
              "    }\n",
              "\n",
              "    .dataframe tbody tr th {\n",
              "        vertical-align: top;\n",
              "    }\n",
              "\n",
              "    .dataframe thead th {\n",
              "        text-align: right;\n",
              "    }\n",
              "</style>\n",
              "<table border=\"1\" class=\"dataframe\">\n",
              "  <thead>\n",
              "    <tr style=\"text-align: right;\">\n",
              "      <th></th>\n",
              "      <th>Text</th>\n",
              "      <th>Labels</th>\n",
              "    </tr>\n",
              "  </thead>\n",
              "  <tbody>\n",
              "    <tr>\n",
              "      <th>0</th>\n",
              "      <td>نحن الذين يتحول كل ما نود أن نقوله إلى دعاء لل...</td>\n",
              "      <td>1</td>\n",
              "    </tr>\n",
              "    <tr>\n",
              "      <th>1</th>\n",
              "      <td>وفي النهاية لن يبقىٰ معك آحدإلا من رأىٰ الجمال...</td>\n",
              "      <td>1</td>\n",
              "    </tr>\n",
              "    <tr>\n",
              "      <th>2</th>\n",
              "      <td>من الخير نفسه 💛</td>\n",
              "      <td>1</td>\n",
              "    </tr>\n",
              "    <tr>\n",
              "      <th>3</th>\n",
              "      <td>#زلزل_الملعب_نصرنا_بيلعب كن عالي الهمه ولا ترض...</td>\n",
              "      <td>1</td>\n",
              "    </tr>\n",
              "    <tr>\n",
              "      <th>4</th>\n",
              "      <td>الشيء الوحيد الذي وصلوا فيه للعالمية هو : المس...</td>\n",
              "      <td>1</td>\n",
              "    </tr>\n",
              "    <tr>\n",
              "      <th>...</th>\n",
              "      <td>...</td>\n",
              "      <td>...</td>\n",
              "    </tr>\n",
              "    <tr>\n",
              "      <th>45270</th>\n",
              "      <td>كيف ترى أورانوس لو كان يقع مكان القمر ؟ 💙💙 كوك...</td>\n",
              "      <td>0</td>\n",
              "    </tr>\n",
              "    <tr>\n",
              "      <th>45271</th>\n",
              "      <td>احسدك على الايم 💔</td>\n",
              "      <td>0</td>\n",
              "    </tr>\n",
              "    <tr>\n",
              "      <th>45272</th>\n",
              "      <td>لأول مرة ما بنكون سوا 💔</td>\n",
              "      <td>0</td>\n",
              "    </tr>\n",
              "    <tr>\n",
              "      <th>45273</th>\n",
              "      <td>بقله ليش يا واطي 🤔</td>\n",
              "      <td>0</td>\n",
              "    </tr>\n",
              "    <tr>\n",
              "      <th>45274</th>\n",
              "      <td>قد طال صبري في النوى إذ تركتني كئيبا ؛ غريبا ب...</td>\n",
              "      <td>0</td>\n",
              "    </tr>\n",
              "  </tbody>\n",
              "</table>\n",
              "<p>45275 rows × 2 columns</p>\n",
              "</div>"
            ],
            "text/plain": [
              "                                                    Text  Labels\n",
              "0      نحن الذين يتحول كل ما نود أن نقوله إلى دعاء لل...       1\n",
              "1      وفي النهاية لن يبقىٰ معك آحدإلا من رأىٰ الجمال...       1\n",
              "2                                        من الخير نفسه 💛       1\n",
              "3      #زلزل_الملعب_نصرنا_بيلعب كن عالي الهمه ولا ترض...       1\n",
              "4      الشيء الوحيد الذي وصلوا فيه للعالمية هو : المس...       1\n",
              "...                                                  ...     ...\n",
              "45270  كيف ترى أورانوس لو كان يقع مكان القمر ؟ 💙💙 كوك...       0\n",
              "45271                                  احسدك على الايم 💔       0\n",
              "45272                            لأول مرة ما بنكون سوا 💔       0\n",
              "45273                                 بقله ليش يا واطي 🤔       0\n",
              "45274  قد طال صبري في النوى إذ تركتني كئيبا ؛ غريبا ب...       0\n",
              "\n",
              "[45275 rows x 2 columns]"
            ]
          },
          "metadata": {
            "tags": []
          },
          "execution_count": 15
        }
      ]
    },
    {
      "cell_type": "markdown",
      "metadata": {
        "id": "HTaMvClvLkbI",
        "colab_type": "text"
      },
      "source": [
        "### Arabic text cleaning"
      ]
    },
    {
      "cell_type": "code",
      "metadata": {
        "id": "Tzww6PK5LTZr",
        "colab_type": "code",
        "outputId": "23b7881e-75ed-433e-f288-0454882361f5",
        "colab": {
          "base_uri": "https://localhost:8080/",
          "height": 139
        }
      },
      "source": [
        "!pip install Tashaphyne\n",
        "nltk.download('stopwords')\n",
        "nltk.download('punkt')\n",
        "from nltk.corpus import stopwords\n",
        "from textblob import TextBlob\n",
        "import re\n",
        "\n",
        "from tashaphyne.stemming import ArabicLightStemmer\n",
        "from nltk.stem.isri import ISRIStemmer\n",
        "\n",
        "stops = set(stopwords.words(\"arabic\"))\n",
        "stop_word_comp = {\"،\",\"آض\",\"آمينَ\",\"آه\",\"آهاً\",\"آي\",\"أ\",\"أب\",\"أجل\",\"أجمع\",\"أخ\",\"أخذ\",\"أصبح\",\"أضحى\",\"أقبل\",\"أقل\",\"أكثر\",\"ألا\",\"أم\",\"أما\",\"أمامك\",\"أمامكَ\",\"أمسى\",\"أمّا\",\"أن\",\"أنا\",\"أنت\",\"أنتم\",\"أنتما\",\"أنتن\",\"أنتِ\",\"أنشأ\",\"أنّى\",\"أو\",\"أوشك\",\"أولئك\",\"أولئكم\",\"أولاء\",\"أولالك\",\"أوّهْ\",\"أي\",\"أيا\",\"أين\",\"أينما\",\"أيّ\",\"أَنَّ\",\"أََيُّ\",\"أُفٍّ\",\"إذ\",\"إذا\",\"إذاً\",\"إذما\",\"إذن\",\"إلى\",\"إليكم\",\"إليكما\",\"إليكنّ\",\"إليكَ\",\"إلَيْكَ\",\"إلّا\",\"إمّا\",\"إن\",\"إنّما\",\"إي\",\"إياك\",\"إياكم\",\"إياكما\",\"إياكن\",\"إيانا\",\"إياه\",\"إياها\",\"إياهم\",\"إياهما\",\"إياهن\",\"إياي\",\"إيهٍ\",\"إِنَّ\",\"ا\",\"ابتدأ\",\"اثر\",\"اجل\",\"احد\",\"اخرى\",\"اخلولق\",\"اذا\",\"اربعة\",\"ارتدّ\",\"استحال\",\"اطار\",\"اعادة\",\"اعلنت\",\"اف\",\"اكثر\",\"اكد\",\"الألاء\",\"الألى\",\"الا\",\"الاخيرة\",\"الان\",\"الاول\",\"الاولى\",\"التى\",\"التي\",\"الثاني\",\"الثانية\",\"الذاتي\",\"الذى\",\"الذي\",\"الذين\",\"السابق\",\"الف\",\"اللائي\",\"اللاتي\",\"اللتان\",\"اللتيا\",\"اللتين\",\"اللذان\",\"اللذين\",\"اللواتي\",\"الماضي\",\"المقبل\",\"الوقت\",\"الى\",\"اليوم\",\"اما\",\"امام\",\"امس\",\"ان\",\"انبرى\",\"انقلب\",\"انه\",\"انها\",\"او\",\"اول\",\"اي\",\"ايار\",\"ايام\",\"ايضا\",\"ب\",\"بات\",\"باسم\",\"بان\",\"بخٍ\",\"برس\",\"بسبب\",\"بسّ\",\"بشكل\",\"بضع\",\"بطآن\",\"بعد\",\"بعض\",\"بك\",\"بكم\",\"بكما\",\"بكن\",\"بل\",\"بلى\",\"بما\",\"بماذا\",\"بمن\",\"بن\",\"بنا\",\"به\",\"بها\",\"بي\",\"بيد\",\"بين\",\"بَسْ\",\"بَلْهَ\",\"بِئْسَ\",\"تانِ\",\"تانِك\",\"تبدّل\",\"تجاه\",\"تحوّل\",\"تلقاء\",\"تلك\",\"تلكم\",\"تلكما\",\"تم\",\"تينك\",\"تَيْنِ\",\"تِه\",\"تِي\",\"ثلاثة\",\"ثم\",\"ثمّ\",\"ثمّة\",\"ثُمَّ\",\"جعل\",\"جلل\",\"جميع\",\"جير\",\"حار\",\"حاشا\",\"حاليا\",\"حاي\",\"حتى\",\"حرى\",\"حسب\",\"حم\",\"حوالى\",\"حول\",\"حيث\",\"حيثما\",\"حين\",\"حيَّ\",\"حَبَّذَا\",\"حَتَّى\",\"حَذارِ\",\"خلا\",\"خلال\",\"دون\",\"دونك\",\"ذا\",\"ذات\",\"ذاك\",\"ذانك\",\"ذانِ\",\"ذلك\",\"ذلكم\",\"ذلكما\",\"ذلكن\",\"ذو\",\"ذوا\",\"ذواتا\",\"ذواتي\",\"ذيت\",\"ذينك\",\"ذَيْنِ\",\"ذِه\",\"ذِي\",\"راح\",\"رجع\",\"رويدك\",\"ريث\",\"رُبَّ\",\"زيارة\",\"سبحان\",\"سرعان\",\"سنة\",\"سنوات\",\"سوف\",\"سوى\",\"سَاءَ\",\"سَاءَمَا\",\"شبه\",\"شخصا\",\"شرع\",\"شَتَّانَ\",\"صار\",\"صباح\",\"صفر\",\"صهٍ\",\"صهْ\",\"ضد\",\"ضمن\",\"طاق\",\"طالما\",\"طفق\",\"طَق\",\"ظلّ\",\"عاد\",\"عام\",\"عاما\",\"عامة\",\"عدا\",\"عدة\",\"عدد\",\"عدم\",\"عسى\",\"عشر\",\"عشرة\",\"علق\",\"على\",\"عليك\",\"عليه\",\"عليها\",\"علًّ\",\"عن\",\"عند\",\"عندما\",\"عوض\",\"عين\",\"عَدَسْ\",\"عَمَّا\",\"غدا\",\"غير\",\"ـ\",\"ف\",\"فان\",\"فلان\",\"فو\",\"فى\",\"في\",\"فيم\",\"فيما\",\"فيه\",\"فيها\",\"قال\",\"قام\",\"قبل\",\"قد\",\"قطّ\",\"قلما\",\"قوة\",\"كأنّما\",\"كأين\",\"كأيّ\",\"كأيّن\",\"كاد\",\"كان\",\"كانت\",\"كذا\",\"كذلك\",\"كرب\",\"كل\",\"كلا\",\"كلاهما\",\"كلتا\",\"كلم\",\"كليكما\",\"كليهما\",\"كلّما\",\"كلَّا\",\"كم\",\"كما\",\"كي\",\"كيت\",\"كيف\",\"كيفما\",\"كَأَنَّ\",\"كِخ\",\"لئن\",\"لا\",\"لات\",\"لاسيما\",\"لدن\",\"لدى\",\"لعمر\",\"لقاء\",\"لك\",\"لكم\",\"لكما\",\"لكن\",\"لكنَّما\",\"لكي\",\"لكيلا\",\"للامم\",\"لم\",\"لما\",\"لمّا\",\"لن\",\"لنا\",\"له\",\"لها\",\"لو\",\"لوكالة\",\"لولا\",\"لوما\",\"لي\",\"لَسْتَ\",\"لَسْتُ\",\"لَسْتُم\",\"لَسْتُمَا\",\"لَسْتُنَّ\",\"لَسْتِ\",\"لَسْنَ\",\"لَعَلَّ\",\"لَكِنَّ\",\"لَيْتَ\",\"لَيْسَ\",\"لَيْسَا\",\"لَيْسَتَا\",\"لَيْسَتْ\",\"لَيْسُوا\",\"لَِسْنَا\",\"ما\",\"ماانفك\",\"مابرح\",\"مادام\",\"ماذا\",\"مازال\",\"مافتئ\",\"مايو\",\"متى\",\"مثل\",\"مذ\",\"مساء\",\"مع\",\"معاذ\",\"مقابل\",\"مكانكم\",\"مكانكما\",\"مكانكنّ\",\"مكانَك\",\"مليار\",\"مليون\",\"مما\",\"ممن\",\"من\",\"منذ\",\"منها\",\"مه\",\"مهما\",\"مَنْ\",\"مِن\",\"نحن\",\"نحو\",\"نعم\",\"نفس\",\"نفسه\",\"نهاية\",\"نَخْ\",\"نِعِمّا\",\"نِعْمَ\",\"ها\",\"هاؤم\",\"هاكَ\",\"هاهنا\",\"هبّ\",\"هذا\",\"هذه\",\"هكذا\",\"هل\",\"هلمَّ\",\"هلّا\",\"هم\",\"هما\",\"هن\",\"هنا\",\"هناك\",\"هنالك\",\"هو\",\"هي\",\"هيا\",\"هيت\",\"هيّا\",\"هَؤلاء\",\"هَاتانِ\",\"هَاتَيْنِ\",\"هَاتِه\",\"هَاتِي\",\"هَجْ\",\"هَذا\",\"هَذانِ\",\"هَذَيْنِ\",\"هَذِه\",\"هَذِي\",\"هَيْهَاتَ\",\"و\",\"و6\",\"وا\",\"واحد\",\"واضاف\",\"واضافت\",\"واكد\",\"وان\",\"واهاً\",\"واوضح\",\"وراءَك\",\"وفي\",\"وقال\",\"وقالت\",\"وقد\",\"وقف\",\"وكان\",\"وكانت\",\"ولا\",\"ولم\",\"ومن\",\"مَن\",\"وهو\",\"وهي\",\"ويكأنّ\",\"وَيْ\",\"وُشْكَانََ\",\"يكون\",\"يمكن\",\"يوم\",\"ّأيّان\"}\n",
        "ArListem = ArabicLightStemmer()\n"
      ],
      "execution_count": 16,
      "outputs": [
        {
          "output_type": "stream",
          "text": [
            "Requirement already satisfied: Tashaphyne in /usr/local/lib/python3.6/dist-packages (0.3.4.1)\n",
            "Requirement already satisfied: pyarabic in /usr/local/lib/python3.6/dist-packages (from Tashaphyne) (0.6.6)\n",
            "[nltk_data] Downloading package stopwords to /root/nltk_data...\n",
            "[nltk_data]   Package stopwords is already up-to-date!\n",
            "[nltk_data] Downloading package punkt to /root/nltk_data...\n",
            "[nltk_data]   Package punkt is already up-to-date!\n"
          ],
          "name": "stdout"
        }
      ]
    },
    {
      "cell_type": "markdown",
      "metadata": {
        "id": "6vTdEUMOOnVl",
        "colab_type": "text"
      },
      "source": [
        "#### Stemming"
      ]
    },
    {
      "cell_type": "code",
      "metadata": {
        "id": "gMkfcf-lM0qQ",
        "colab_type": "code",
        "colab": {}
      },
      "source": [
        "# def to_arabic(text):\n",
        "#     return ds.transliterate(text)\n",
        "\n",
        "def stem(text):\n",
        "    zen = TextBlob(text)\n",
        "    words = zen.words\n",
        "    cleaned = list()\n",
        "    for w in words:\n",
        "        ArListem.light_stem(w)\n",
        "        cleaned.append(ArListem.get_root())\n",
        "    return \" \".join(cleaned)"
      ],
      "execution_count": 0,
      "outputs": []
    },
    {
      "cell_type": "markdown",
      "metadata": {
        "id": "NsADo_l0OcN1",
        "colab_type": "text"
      },
      "source": [
        "#### Normalizing Text"
      ]
    },
    {
      "cell_type": "code",
      "metadata": {
        "id": "rYbtjAScNalW",
        "colab_type": "code",
        "colab": {}
      },
      "source": [
        "import pyarabic.araby as araby\n",
        "def normalizeArabic(text):\n",
        "    text = text.strip()\n",
        "    text = re.sub(\"[إأٱآا]\", \"ا\", text)\n",
        "    text = re.sub(\"ى\", \"ي\", text)\n",
        "    text = re.sub(\"ؤ\", \"ء\", text)\n",
        "    text = re.sub(\"ئ\", \"ء\", text)\n",
        "    text = re.sub(\"ة\", \"ه\", text)\n",
        "    noise = re.compile(\"\"\" ّ    | # Tashdid\n",
        "                             َ    | # Fatha\n",
        "                             ً    | # Tanwin Fath\n",
        "                             ُ    | # Damma\n",
        "                             ٌ    | # Tanwin Damm\n",
        "                             ِ    | # Kasra\n",
        "                             ٍ    | # Tanwin Kasr\n",
        "                             ْ    | # Sukun\n",
        "                             ـ     # Tatwil/Kashida\n",
        "                         \"\"\", re.VERBOSE)\n",
        "    text = re.sub(noise, '', text)\n",
        "    text = re.sub(r'(.)\\1+', r\"\\1\\1\", text) # Remove longation\n",
        "    return araby.strip_tashkeel(text)"
      ],
      "execution_count": 0,
      "outputs": []
    },
    {
      "cell_type": "markdown",
      "metadata": {
        "id": "dIAkhO3GOX-e",
        "colab_type": "text"
      },
      "source": [
        "#### Stop Words Removal"
      ]
    },
    {
      "cell_type": "code",
      "metadata": {
        "id": "jJZ35mgtNeOW",
        "colab_type": "code",
        "colab": {}
      },
      "source": [
        "def remove_stop_words(text):\n",
        "    zen = TextBlob(text)\n",
        "    words = zen.words\n",
        "    return \" \".join([w for w in words if not w in stops and not w in stop_word_comp and len(w) >= 2])"
      ],
      "execution_count": 0,
      "outputs": []
    },
    {
      "cell_type": "markdown",
      "metadata": {
        "id": "Rw5D1ZIgNk_e",
        "colab_type": "text"
      },
      "source": [
        "### Dealing with Hashtags in string"
      ]
    },
    {
      "cell_type": "code",
      "metadata": {
        "id": "C1K3JcDqNhpP",
        "colab_type": "code",
        "colab": {}
      },
      "source": [
        "def split_hashtag_to_words(tag):\n",
        "    tag = tag.replace('#','')\n",
        "    tags = tag.split('_')\n",
        "    if len(tags) > 1 :\n",
        "        \n",
        "        return tags\n",
        "    pattern = re.compile(r\"[A-Z][a-z]+|\\d+|[A-Z]+(?![a-z])\")\n",
        "    return pattern.findall(tag)\n",
        "\n",
        "def clean_hashtag(text):\n",
        "    words = text.split()\n",
        "    text = list()\n",
        "    for word in words:\n",
        "        if is_hashtag(word):\n",
        "            text.extend(extract_hashtag(word))\n",
        "        else:\n",
        "            text.append(word)\n",
        "    return \" \".join(text)\n",
        "def is_hashtag(word):\n",
        "    if word.startswith(\"#\"):\n",
        "        return True\n",
        "    else:\n",
        "        return False\n",
        "def extract_hashtag(text):\n",
        "    \n",
        "    hash_list = ([re.sub(r\"(\\W+)$\", \"\", i) for i in text.split() if i.startswith(\"#\")])\n",
        "    word_list = []\n",
        "    for word in hash_list :\n",
        "        word_list.extend(split_hashtag_to_words(word))\n",
        "    return word_list"
      ],
      "execution_count": 0,
      "outputs": []
    },
    {
      "cell_type": "markdown",
      "metadata": {
        "id": "hkecUE8oSC2x",
        "colab_type": "text"
      },
      "source": [
        "### MISC"
      ]
    },
    {
      "cell_type": "code",
      "metadata": {
        "id": "PgcJmk0PN4bV",
        "colab_type": "code",
        "colab": {}
      },
      "source": [
        "def misc():\n",
        "  import re\n",
        "  import pyarabic.araby as araby\n",
        "\n",
        "  import warnings\n",
        "  warnings.filterwarnings(\"ignore\", category=DeprecationWarning)\n",
        "\n",
        "  # test sample\n",
        "  tweet1 = u'جهود تُبذل عامًا بعد عام تعبّر عن ترابط الجسد الواحد لخدمة ضيوف الرحمن؛ تطبيق ترجمان الفائز في #هاكاثون_الحج العام الماضي، ينطلق اليوم ليشارك الحجاج أيامهم الروحانية ويساعدهم في ترجمة اللوح الإرشادية في منطقة الحرم دون الحاجة إلى انترنت @reem. #حج_ذكي'\n",
        "\n",
        "\n",
        "\n",
        "  # removes usernames inside a tweet text caused by to mentions or reply tweets\n",
        "  def remove_usernames(input_txt, pattern):\n",
        "      r = re.findall(pattern, input_txt)\n",
        "      for i in r:\n",
        "          input_txt = re.sub(i, '', input_txt)\n",
        "\n",
        "      return input_txt\n",
        "\n",
        "  # removes arabic letters tashkeel like (ِ ًٍ ٌ  ّ ْ )\n",
        "  def remove_tashkeel(input_txt):\n",
        "      return araby.strip_tashkeel(input_txt)\n",
        "\n",
        "  # removes a decorative letter (ـ) which has no affect on words meaning\n",
        "  def remove_tatweel(input_txt):\n",
        "      return araby.strip_tatweel(input_txt)\n",
        "\n",
        "  # normalizes the different forms of the letter hamza (ئ ؤ) into a single form (ء)\n",
        "  def normalize_hamza(input_txt):\n",
        "      r = re.findall(u'ئ',input_txt);\n",
        "      e = re.findall(u'ؤ',input_txt);\n",
        "      for i in r:\n",
        "          input_txt= re.sub(i, u'ء', input_txt)\n",
        "      for i in e:\n",
        "          input_txt= re.sub(i, u'ء', input_txt)\n",
        "      return input_txt\n",
        "\n",
        "  # normalizes the different forms of the letter alef (آ أ إ) into a single form (ا)\n",
        "  def normalize_alef(input_txt):\n",
        "      r = re.findall(u'أ',input_txt);\n",
        "      e = re.findall(u'إ',input_txt);\n",
        "      o = re.findall(u'آ', input_txt);\n",
        "      for i in r:\n",
        "          input_txt= re.sub(i, u'ا', input_txt)\n",
        "      for i in e:\n",
        "          input_txt= re.sub(i, u'ا', input_txt)\n",
        "      for i in o:\n",
        "          input_txt= re.sub(i, u'ا', input_txt)\n",
        "      return input_txt\n",
        "\n",
        "  # normalizes the different forms of the letter yeh (ي ى) into a single form (ى)\n",
        "  def normalize_yeh(input_txt):\n",
        "      r = re.findall(u'ي', input_txt)\n",
        "      for i in r:\n",
        "          input_txt = re.sub(i, u'ى', input_txt)\n",
        "      return input_txt\n",
        "\n",
        "  # normalizes the different forms of the letter heh (ه ة) into a single form (ة)\n",
        "  def normalize_heh(input_txt):\n",
        "      r = re.findall(u'ه', input_txt)\n",
        "      for i in r:\n",
        "          input_txt = re.sub(i, u'ة', input_txt)\n",
        "      return input_txt\n",
        "\n",
        "  # combining all preprocessing functions together for testing samples\n",
        "  def full_preprocessing_steps(tweet):\n",
        "\n",
        "      print(\"Tweet before preprocessing: \" + tweet)\n",
        "\n",
        "      usernames_free = remove_usernames(tweet,  \"@[\\w]*\")\n",
        "      tashkeel_free = remove_tashkeel(usernames_free)\n",
        "      tatweel_free = remove_tatweel(tashkeel_free)\n",
        "      hamza_normalized = normalize_hamza(tatweel_free)\n",
        "      alef_normalized = normalize_alef(hamza_normalized)\n",
        "      yeh_normalized = normalize_yeh(alef_normalized)\n",
        "      heh_normalized = normalize_heh(yeh_normalized)\n",
        "\n",
        "      print(\"Tweet after preprocessing: \" + heh_normalized)\n",
        "\n",
        "  full_preprocessing_steps(tweet1)"
      ],
      "execution_count": 0,
      "outputs": []
    },
    {
      "cell_type": "code",
      "metadata": {
        "id": "oFgjChYPKuTz",
        "colab_type": "code",
        "colab": {}
      },
      "source": [
        "def clean_tweet(text):\n",
        "    text = re.sub('#\\d+K\\d+', ' ', text)  # years like 2K19\n",
        "    text = re.sub('http\\S+\\s*', ' ', text)  # remove URLs\n",
        "    text = re.sub('RT|cc', ' ', text)  # remove RT and cc\n",
        "    text = re.sub('@[^\\s]+',' ',text)\n",
        "    text = clean_hashtag(text)\n",
        "    # text = clean_emoji(text)\n",
        "    return text"
      ],
      "execution_count": 0,
      "outputs": []
    },
    {
      "cell_type": "markdown",
      "metadata": {
        "id": "q7S5LctfORM2",
        "colab_type": "text"
      },
      "source": [
        "#### Cleaning Data"
      ]
    },
    {
      "cell_type": "code",
      "metadata": {
        "id": "JQg0hOTiK0TS",
        "colab_type": "code",
        "colab": {}
      },
      "source": [
        "def clean_text(text):\n",
        "    ## Clean for tweets\n",
        "    text = clean_tweet(text)\n",
        "    ## Remove punctuations\n",
        "    text = re.sub('[%s]' % re.escape(\"\"\"!\"#$%&'()*+,،-./:;<=>؟?@[\\]^_`{|}~\"\"\"), ' ', text)  # remove punctuation\n",
        "    ## remove extra whitespace\n",
        "    text = re.sub('\\s+', ' ', text)  \n",
        "    ## Remove Emojis\n",
        "   \n",
        "    ## Convert text to lowercases\n",
        "    text = text.lower()\n",
        "    ## Arabisy the text\n",
        "    # text = to_arabic(text)\n",
        "    ## Remove stop words\n",
        "    text = remove_stop_words(text)\n",
        "    ## Remove numbers\n",
        "    text = re.sub(\"\\d+\", \" \", text)\n",
        "    ## Remove Tashkeel\n",
        "    text = normalizeArabic(text)\n",
        "    #text = re.sub('\\W+', ' ', text)\n",
        "    text = re.sub('[A-Za-z]+',' ',text)\n",
        "    text = re.sub(r'\\\\u[A-Za-z0-9\\\\]+',' ',text)\n",
        "    ## remove extra whitespace\n",
        "    text = re.sub('\\s+', ' ', text)  \n",
        "    #Stemming\n",
        "    #text = stem(text)\n",
        "    return text"
      ],
      "execution_count": 0,
      "outputs": []
    },
    {
      "cell_type": "code",
      "metadata": {
        "id": "SadxqiD7K-Za",
        "colab_type": "code",
        "colab": {}
      },
      "source": [
        "data['Text'] = data['Text'].apply(lambda x:clean_text(x))"
      ],
      "execution_count": 0,
      "outputs": []
    },
    {
      "cell_type": "code",
      "metadata": {
        "id": "4IIrIEaNMX5S",
        "colab_type": "code",
        "outputId": "405c0a86-3d33-4f0f-dff0-f809fb58ad67",
        "colab": {
          "base_uri": "https://localhost:8080/",
          "height": 34
        }
      },
      "source": [
        "data['Text'][1]"
      ],
      "execution_count": 25,
      "outputs": [
        {
          "output_type": "execute_result",
          "data": {
            "text/plain": [
              "'النهايه يبقيٰ معك احدالا رايٰ الجمال روحك اماالمنبهرون بالمظا…'"
            ]
          },
          "metadata": {
            "tags": []
          },
          "execution_count": 25
        }
      ]
    },
    {
      "cell_type": "markdown",
      "metadata": {
        "id": "KvxjxoqTOL9-",
        "colab_type": "text"
      },
      "source": [
        "### Random Shuffling of data"
      ]
    },
    {
      "cell_type": "code",
      "metadata": {
        "id": "EXW4x5clN7hR",
        "colab_type": "code",
        "outputId": "da509e4c-e391-466f-809e-22edfa40aad0",
        "colab": {
          "base_uri": "https://localhost:8080/",
          "height": 275
        }
      },
      "source": [
        "from sklearn.utils import shuffle\n",
        "data = shuffle(data)\n",
        "data.reset_index()\n",
        "data.head"
      ],
      "execution_count": 26,
      "outputs": [
        {
          "output_type": "execute_result",
          "data": {
            "text/plain": [
              "<bound method NDFrame.head of                                                     Text  Labels\n",
              "1762   شعبان اللهم بارك شعبان وبلغنا شهر رمضان بلوغا ...       1\n",
              "2081   تختفي المفروض تناقش الاساس تبي اثبت جهلك كاهلا...       1\n",
              "22104  ملاحظه محلها لابد ماتتكرر المباراه القادمه شكر...       1\n",
              "16922  الساده العالم العربي احنا الشعب النايم الكسول ...       1\n",
              "37022  حاجه رتويت حقيقي ✴️ وبشكل يومي لتغريداتك رتويت...       0\n",
              "...                                                  ...     ...\n",
              "901    احياها فكانما احيا الناس جميعا طفله عمرها بحاج...       1\n",
              "42123  ينفع رمضان والله 😂💔 بدل اجلس اصب وغيري ياكل ويشرب       0\n",
              "22586                             بلاك بينك منطقتك ابريل       1\n",
              "35305                                              الخير       0\n",
              "28873                              ياا رب الصصدااع يمووت       0\n",
              "\n",
              "[45275 rows x 2 columns]>"
            ]
          },
          "metadata": {
            "tags": []
          },
          "execution_count": 26
        }
      ]
    },
    {
      "cell_type": "code",
      "metadata": {
        "id": "U74a9Ct5ODZW",
        "colab_type": "code",
        "outputId": "a7b44b88-c8ec-4151-ed78-737dfd9dc536",
        "colab": {
          "base_uri": "https://localhost:8080/",
          "height": 419
        }
      },
      "source": [
        "data"
      ],
      "execution_count": 27,
      "outputs": [
        {
          "output_type": "execute_result",
          "data": {
            "text/html": [
              "<div>\n",
              "<style scoped>\n",
              "    .dataframe tbody tr th:only-of-type {\n",
              "        vertical-align: middle;\n",
              "    }\n",
              "\n",
              "    .dataframe tbody tr th {\n",
              "        vertical-align: top;\n",
              "    }\n",
              "\n",
              "    .dataframe thead th {\n",
              "        text-align: right;\n",
              "    }\n",
              "</style>\n",
              "<table border=\"1\" class=\"dataframe\">\n",
              "  <thead>\n",
              "    <tr style=\"text-align: right;\">\n",
              "      <th></th>\n",
              "      <th>Text</th>\n",
              "      <th>Labels</th>\n",
              "    </tr>\n",
              "  </thead>\n",
              "  <tbody>\n",
              "    <tr>\n",
              "      <th>1762</th>\n",
              "      <td>شعبان اللهم بارك شعبان وبلغنا شهر رمضان بلوغا ...</td>\n",
              "      <td>1</td>\n",
              "    </tr>\n",
              "    <tr>\n",
              "      <th>2081</th>\n",
              "      <td>تختفي المفروض تناقش الاساس تبي اثبت جهلك كاهلا...</td>\n",
              "      <td>1</td>\n",
              "    </tr>\n",
              "    <tr>\n",
              "      <th>22104</th>\n",
              "      <td>ملاحظه محلها لابد ماتتكرر المباراه القادمه شكر...</td>\n",
              "      <td>1</td>\n",
              "    </tr>\n",
              "    <tr>\n",
              "      <th>16922</th>\n",
              "      <td>الساده العالم العربي احنا الشعب النايم الكسول ...</td>\n",
              "      <td>1</td>\n",
              "    </tr>\n",
              "    <tr>\n",
              "      <th>37022</th>\n",
              "      <td>حاجه رتويت حقيقي ✴️ وبشكل يومي لتغريداتك رتويت...</td>\n",
              "      <td>0</td>\n",
              "    </tr>\n",
              "    <tr>\n",
              "      <th>...</th>\n",
              "      <td>...</td>\n",
              "      <td>...</td>\n",
              "    </tr>\n",
              "    <tr>\n",
              "      <th>901</th>\n",
              "      <td>احياها فكانما احيا الناس جميعا طفله عمرها بحاج...</td>\n",
              "      <td>1</td>\n",
              "    </tr>\n",
              "    <tr>\n",
              "      <th>42123</th>\n",
              "      <td>ينفع رمضان والله 😂💔 بدل اجلس اصب وغيري ياكل ويشرب</td>\n",
              "      <td>0</td>\n",
              "    </tr>\n",
              "    <tr>\n",
              "      <th>22586</th>\n",
              "      <td>بلاك بينك منطقتك ابريل</td>\n",
              "      <td>1</td>\n",
              "    </tr>\n",
              "    <tr>\n",
              "      <th>35305</th>\n",
              "      <td>الخير</td>\n",
              "      <td>0</td>\n",
              "    </tr>\n",
              "    <tr>\n",
              "      <th>28873</th>\n",
              "      <td>ياا رب الصصدااع يمووت</td>\n",
              "      <td>0</td>\n",
              "    </tr>\n",
              "  </tbody>\n",
              "</table>\n",
              "<p>45275 rows × 2 columns</p>\n",
              "</div>"
            ],
            "text/plain": [
              "                                                    Text  Labels\n",
              "1762   شعبان اللهم بارك شعبان وبلغنا شهر رمضان بلوغا ...       1\n",
              "2081   تختفي المفروض تناقش الاساس تبي اثبت جهلك كاهلا...       1\n",
              "22104  ملاحظه محلها لابد ماتتكرر المباراه القادمه شكر...       1\n",
              "16922  الساده العالم العربي احنا الشعب النايم الكسول ...       1\n",
              "37022  حاجه رتويت حقيقي ✴️ وبشكل يومي لتغريداتك رتويت...       0\n",
              "...                                                  ...     ...\n",
              "901    احياها فكانما احيا الناس جميعا طفله عمرها بحاج...       1\n",
              "42123  ينفع رمضان والله 😂💔 بدل اجلس اصب وغيري ياكل ويشرب       0\n",
              "22586                             بلاك بينك منطقتك ابريل       1\n",
              "35305                                              الخير       0\n",
              "28873                              ياا رب الصصدااع يمووت       0\n",
              "\n",
              "[45275 rows x 2 columns]"
            ]
          },
          "metadata": {
            "tags": []
          },
          "execution_count": 27
        }
      ]
    },
    {
      "cell_type": "markdown",
      "metadata": {
        "id": "wZW1S0QWPHt-",
        "colab_type": "text"
      },
      "source": [
        "#### Common Words Removal"
      ]
    },
    {
      "cell_type": "code",
      "metadata": {
        "id": "2UxLcPjPOJRO",
        "colab_type": "code",
        "colab": {}
      },
      "source": [
        "freq = pd.Series(' '.join(data['Text']).split()).value_counts()[:12]\n",
        "freq = list(freq.index)\n",
        "data['Text'] = data['Text'].apply(lambda x: \" \".join(x for x in x.split() if x not in freq))"
      ],
      "execution_count": 0,
      "outputs": []
    },
    {
      "cell_type": "markdown",
      "metadata": {
        "id": "xu_9C7InPhzU",
        "colab_type": "text"
      },
      "source": [
        "#### Rare words removal"
      ]
    },
    {
      "cell_type": "code",
      "metadata": {
        "id": "Rl9UhDrmPe5M",
        "colab_type": "code",
        "colab": {}
      },
      "source": [
        "freq = pd.Series(' '.join(data['Text']).split()).value_counts()[-50:]\n",
        "freq = list(freq.index)\n",
        "data['Text'] = data['Text'].apply(lambda x: \" \".join(x for x in x.split() if x not in freq))"
      ],
      "execution_count": 0,
      "outputs": []
    },
    {
      "cell_type": "code",
      "metadata": {
        "id": "D8MLJfXqPtIE",
        "colab_type": "code",
        "outputId": "6517dbc0-093d-4a77-bc6d-6e18544212c0",
        "colab": {
          "base_uri": "https://localhost:8080/",
          "height": 419
        }
      },
      "source": [
        "data"
      ],
      "execution_count": 30,
      "outputs": [
        {
          "output_type": "execute_result",
          "data": {
            "text/html": [
              "<div>\n",
              "<style scoped>\n",
              "    .dataframe tbody tr th:only-of-type {\n",
              "        vertical-align: middle;\n",
              "    }\n",
              "\n",
              "    .dataframe tbody tr th {\n",
              "        vertical-align: top;\n",
              "    }\n",
              "\n",
              "    .dataframe thead th {\n",
              "        text-align: right;\n",
              "    }\n",
              "</style>\n",
              "<table border=\"1\" class=\"dataframe\">\n",
              "  <thead>\n",
              "    <tr style=\"text-align: right;\">\n",
              "      <th></th>\n",
              "      <th>Text</th>\n",
              "      <th>Labels</th>\n",
              "    </tr>\n",
              "  </thead>\n",
              "  <tbody>\n",
              "    <tr>\n",
              "      <th>1762</th>\n",
              "      <td>شعبان بارك شعبان وبلغنا شهر رمضان بلوغا يغير ح...</td>\n",
              "      <td>1</td>\n",
              "    </tr>\n",
              "    <tr>\n",
              "      <th>2081</th>\n",
              "      <td>تختفي المفروض تناقش الاساس تبي اثبت جهلك كاهلا...</td>\n",
              "      <td>1</td>\n",
              "    </tr>\n",
              "    <tr>\n",
              "      <th>22104</th>\n",
              "      <td>ملاحظه محلها لابد ماتتكرر المباراه القادمه شكر...</td>\n",
              "      <td>1</td>\n",
              "    </tr>\n",
              "    <tr>\n",
              "      <th>16922</th>\n",
              "      <td>الساده العالم العربي احنا الشعب النايم الكسول ...</td>\n",
              "      <td>1</td>\n",
              "    </tr>\n",
              "    <tr>\n",
              "      <th>37022</th>\n",
              "      <td>حاجه حقيقي ✴️ وبشكل يومي لتغريداتك للتغريده ال...</td>\n",
              "      <td>0</td>\n",
              "    </tr>\n",
              "    <tr>\n",
              "      <th>...</th>\n",
              "      <td>...</td>\n",
              "      <td>...</td>\n",
              "    </tr>\n",
              "    <tr>\n",
              "      <th>901</th>\n",
              "      <td>احياها فكانما احيا الناس جميعا طفله عمرها بحاج...</td>\n",
              "      <td>1</td>\n",
              "    </tr>\n",
              "    <tr>\n",
              "      <th>42123</th>\n",
              "      <td>ينفع رمضان 😂💔 بدل اجلس اصب وغيري ياكل ويشرب</td>\n",
              "      <td>0</td>\n",
              "    </tr>\n",
              "    <tr>\n",
              "      <th>22586</th>\n",
              "      <td>بلاك بينك منطقتك ابريل</td>\n",
              "      <td>1</td>\n",
              "    </tr>\n",
              "    <tr>\n",
              "      <th>35305</th>\n",
              "      <td></td>\n",
              "      <td>0</td>\n",
              "    </tr>\n",
              "    <tr>\n",
              "      <th>28873</th>\n",
              "      <td>ياا رب الصصدااع يمووت</td>\n",
              "      <td>0</td>\n",
              "    </tr>\n",
              "  </tbody>\n",
              "</table>\n",
              "<p>45275 rows × 2 columns</p>\n",
              "</div>"
            ],
            "text/plain": [
              "                                                    Text  Labels\n",
              "1762   شعبان بارك شعبان وبلغنا شهر رمضان بلوغا يغير ح...       1\n",
              "2081   تختفي المفروض تناقش الاساس تبي اثبت جهلك كاهلا...       1\n",
              "22104  ملاحظه محلها لابد ماتتكرر المباراه القادمه شكر...       1\n",
              "16922  الساده العالم العربي احنا الشعب النايم الكسول ...       1\n",
              "37022  حاجه حقيقي ✴️ وبشكل يومي لتغريداتك للتغريده ال...       0\n",
              "...                                                  ...     ...\n",
              "901    احياها فكانما احيا الناس جميعا طفله عمرها بحاج...       1\n",
              "42123        ينفع رمضان 😂💔 بدل اجلس اصب وغيري ياكل ويشرب       0\n",
              "22586                             بلاك بينك منطقتك ابريل       1\n",
              "35305                                                          0\n",
              "28873                              ياا رب الصصدااع يمووت       0\n",
              "\n",
              "[45275 rows x 2 columns]"
            ]
          },
          "metadata": {
            "tags": []
          },
          "execution_count": 30
        }
      ]
    },
    {
      "cell_type": "markdown",
      "metadata": {
        "id": "mqPGKvHYRL1z",
        "colab_type": "text"
      },
      "source": [
        "### Final Cleaning and Preparing Dataset"
      ]
    },
    {
      "cell_type": "code",
      "metadata": {
        "id": "KyBrzcIYQ83k",
        "colab_type": "code",
        "colab": {}
      },
      "source": [
        "# def avg_word(sentence):\n",
        "#     words = sentence.split()\n",
        "#     if len(words) == 0:\n",
        "#         return 0\n",
        "#     return (sum(len(word) for word in words)/len(words))\n",
        "\n",
        "# data['word_count'] = data['Text'].apply(lambda x: len(str(x).split(\" \")))\n",
        "# data['char_count'] = data['Text'].str.len() ## this also includes spaces\n",
        "# data['avg_char_per_word'] = data['Text'].apply(lambda x: avg_word(x))\n",
        "# stop = stopwords.words('arabic')\n",
        "# data['stopwords'] = data['Text'].apply(lambda x: len([x for x in x.split() if x in stop]))\n",
        "# data = data.sort_values(by='word_count',ascending=[0])\n",
        "# final = []\n",
        "# for index, row in data.iterrows():\n",
        "#     if len(row['Text'].split()) > 3:\n",
        "#         final.append([row['Text'],row['Labels']])\n",
        "# df = pd.DataFrame(final)\n",
        "# df.columns = ['Text','Sentiment']\n",
        "# df.to_csv('final_data.csv',index=False)"
      ],
      "execution_count": 0,
      "outputs": []
    },
    {
      "cell_type": "code",
      "metadata": {
        "id": "MZYj8EtsSEUL",
        "colab_type": "code",
        "outputId": "769078a6-edf6-4324-b84e-4f623a9f96a7",
        "colab": {
          "base_uri": "https://localhost:8080/",
          "height": 419
        }
      },
      "source": [
        "data = data.dropna()\n",
        "data"
      ],
      "execution_count": 32,
      "outputs": [
        {
          "output_type": "execute_result",
          "data": {
            "text/html": [
              "<div>\n",
              "<style scoped>\n",
              "    .dataframe tbody tr th:only-of-type {\n",
              "        vertical-align: middle;\n",
              "    }\n",
              "\n",
              "    .dataframe tbody tr th {\n",
              "        vertical-align: top;\n",
              "    }\n",
              "\n",
              "    .dataframe thead th {\n",
              "        text-align: right;\n",
              "    }\n",
              "</style>\n",
              "<table border=\"1\" class=\"dataframe\">\n",
              "  <thead>\n",
              "    <tr style=\"text-align: right;\">\n",
              "      <th></th>\n",
              "      <th>Text</th>\n",
              "      <th>Labels</th>\n",
              "    </tr>\n",
              "  </thead>\n",
              "  <tbody>\n",
              "    <tr>\n",
              "      <th>1762</th>\n",
              "      <td>شعبان بارك شعبان وبلغنا شهر رمضان بلوغا يغير ح...</td>\n",
              "      <td>1</td>\n",
              "    </tr>\n",
              "    <tr>\n",
              "      <th>2081</th>\n",
              "      <td>تختفي المفروض تناقش الاساس تبي اثبت جهلك كاهلا...</td>\n",
              "      <td>1</td>\n",
              "    </tr>\n",
              "    <tr>\n",
              "      <th>22104</th>\n",
              "      <td>ملاحظه محلها لابد ماتتكرر المباراه القادمه شكر...</td>\n",
              "      <td>1</td>\n",
              "    </tr>\n",
              "    <tr>\n",
              "      <th>16922</th>\n",
              "      <td>الساده العالم العربي احنا الشعب النايم الكسول ...</td>\n",
              "      <td>1</td>\n",
              "    </tr>\n",
              "    <tr>\n",
              "      <th>37022</th>\n",
              "      <td>حاجه حقيقي ✴️ وبشكل يومي لتغريداتك للتغريده ال...</td>\n",
              "      <td>0</td>\n",
              "    </tr>\n",
              "    <tr>\n",
              "      <th>...</th>\n",
              "      <td>...</td>\n",
              "      <td>...</td>\n",
              "    </tr>\n",
              "    <tr>\n",
              "      <th>901</th>\n",
              "      <td>احياها فكانما احيا الناس جميعا طفله عمرها بحاج...</td>\n",
              "      <td>1</td>\n",
              "    </tr>\n",
              "    <tr>\n",
              "      <th>42123</th>\n",
              "      <td>ينفع رمضان 😂💔 بدل اجلس اصب وغيري ياكل ويشرب</td>\n",
              "      <td>0</td>\n",
              "    </tr>\n",
              "    <tr>\n",
              "      <th>22586</th>\n",
              "      <td>بلاك بينك منطقتك ابريل</td>\n",
              "      <td>1</td>\n",
              "    </tr>\n",
              "    <tr>\n",
              "      <th>35305</th>\n",
              "      <td></td>\n",
              "      <td>0</td>\n",
              "    </tr>\n",
              "    <tr>\n",
              "      <th>28873</th>\n",
              "      <td>ياا رب الصصدااع يمووت</td>\n",
              "      <td>0</td>\n",
              "    </tr>\n",
              "  </tbody>\n",
              "</table>\n",
              "<p>45275 rows × 2 columns</p>\n",
              "</div>"
            ],
            "text/plain": [
              "                                                    Text  Labels\n",
              "1762   شعبان بارك شعبان وبلغنا شهر رمضان بلوغا يغير ح...       1\n",
              "2081   تختفي المفروض تناقش الاساس تبي اثبت جهلك كاهلا...       1\n",
              "22104  ملاحظه محلها لابد ماتتكرر المباراه القادمه شكر...       1\n",
              "16922  الساده العالم العربي احنا الشعب النايم الكسول ...       1\n",
              "37022  حاجه حقيقي ✴️ وبشكل يومي لتغريداتك للتغريده ال...       0\n",
              "...                                                  ...     ...\n",
              "901    احياها فكانما احيا الناس جميعا طفله عمرها بحاج...       1\n",
              "42123        ينفع رمضان 😂💔 بدل اجلس اصب وغيري ياكل ويشرب       0\n",
              "22586                             بلاك بينك منطقتك ابريل       1\n",
              "35305                                                          0\n",
              "28873                              ياا رب الصصدااع يمووت       0\n",
              "\n",
              "[45275 rows x 2 columns]"
            ]
          },
          "metadata": {
            "tags": []
          },
          "execution_count": 32
        }
      ]
    },
    {
      "cell_type": "code",
      "metadata": {
        "id": "f89q6bLbh4V1",
        "colab_type": "code",
        "outputId": "b6b268f4-b977-46dd-918b-7f5ce0c0569c",
        "colab": {
          "base_uri": "https://localhost:8080/",
          "height": 51
        }
      },
      "source": [
        "from sklearn.model_selection import train_test_split\n",
        "data.dropna()\n",
        "X_train, X_test, Y_train, Y_test = train_test_split(data['Text'],data['Labels'], test_size = 0.10, random_state = 42)\n",
        "print(X_train.shape,Y_train.shape)\n",
        "print(X_test.shape,Y_test.shape)"
      ],
      "execution_count": 33,
      "outputs": [
        {
          "output_type": "stream",
          "text": [
            "(40747,) (40747,)\n",
            "(4528,) (4528,)\n"
          ],
          "name": "stdout"
        }
      ]
    },
    {
      "cell_type": "code",
      "metadata": {
        "id": "p3L8syu_NJg4",
        "colab_type": "code",
        "colab": {}
      },
      "source": [
        "from sklearn.feature_extraction.text import TfidfVectorizer"
      ],
      "execution_count": 0,
      "outputs": []
    },
    {
      "cell_type": "code",
      "metadata": {
        "id": "woth4WDFNLz2",
        "colab_type": "code",
        "colab": {}
      },
      "source": [
        "stop_words = pd.Series(stopwords.words('arabic'))\n",
        "stop_words = stop_words.apply(lambda x: x.encode('utf-8'))"
      ],
      "execution_count": 0,
      "outputs": []
    },
    {
      "cell_type": "code",
      "metadata": {
        "id": "3lwlJAonNQBV",
        "colab_type": "code",
        "colab": {}
      },
      "source": [
        "vectorizer = TfidfVectorizer( use_idf =True,\n",
        "\tstop_words = stop_words.tolist(), analyzer='word', lowercase=False, sublinear_tf=True)\n"
      ],
      "execution_count": 0,
      "outputs": []
    },
    {
      "cell_type": "code",
      "metadata": {
        "id": "YbI2kFc9NYan",
        "colab_type": "code",
        "colab": {
          "base_uri": "https://localhost:8080/",
          "height": 306
        },
        "outputId": "7838bad2-2200-4bc8-eee9-179e8fe9021f"
      },
      "source": [
        "vectorizer"
      ],
      "execution_count": 37,
      "outputs": [
        {
          "output_type": "execute_result",
          "data": {
            "text/plain": [
              "TfidfVectorizer(analyzer='word', binary=False, decode_error='strict',\n",
              "                dtype=<class 'numpy.float64'>, encoding='utf-8',\n",
              "                input='content', lowercase=False, max_df=1.0, max_features=None,\n",
              "                min_df=1, ngram_range=(1, 1), norm='l2', preprocessor=None,\n",
              "                smooth_idf=True,\n",
              "                stop_words=[b'\\xd8\\xa5\\xd8\\xb0', b'\\xd8\\xa5\\xd8\\xb0\\xd8\\xa7',\n",
              "                            b'\\xd8\\xa5\\xd8\\xb0\\xd9\\x85\\xd8\\xa7',\n",
              "                            b'\\xd8\\xa...\n",
              "                            b'\\xd8\\xa5\\xd9\\x84\\xd9\\x8a\\xd9\\x83\\xd9\\x85',\n",
              "                            b'\\xd8\\xa5\\xd9\\x84\\xd9\\x8a\\xd9\\x83\\xd9\\x85\\xd8\\xa7',\n",
              "                            b'\\xd8\\xa5\\xd9\\x84\\xd9\\x8a\\xd9\\x83\\xd9\\x86',\n",
              "                            b'\\xd8\\xa3\\xd9\\x85', b'\\xd8\\xa3\\xd9\\x85\\xd8\\xa7',\n",
              "                            b'\\xd8\\xa3\\xd9\\x85\\xd8\\xa7',\n",
              "                            b'\\xd8\\xa5\\xd9\\x85\\xd8\\xa7', b'\\xd8\\xa3\\xd9\\x86', ...],\n",
              "                strip_accents=None, sublinear_tf=True,\n",
              "                token_pattern='(?u)\\\\b\\\\w\\\\w+\\\\b', tokenizer=None, use_idf=True,\n",
              "                vocabulary=None)"
            ]
          },
          "metadata": {
            "tags": []
          },
          "execution_count": 37
        }
      ]
    },
    {
      "cell_type": "code",
      "metadata": {
        "id": "YoC7jvaPNZ_2",
        "colab_type": "code",
        "colab": {}
      },
      "source": [
        "X_Train_tfidf = vectorizer.fit_transform(X_train.values.ravel())\n",
        "X_Test_tfidf = vectorizer.transform(X_test.values.ravel())"
      ],
      "execution_count": 0,
      "outputs": []
    },
    {
      "cell_type": "code",
      "metadata": {
        "id": "zNmmatdvNheN",
        "colab_type": "code",
        "colab": {
          "base_uri": "https://localhost:8080/",
          "height": 34
        },
        "outputId": "7f7cc4ce-7d1e-453d-a1ab-2633fd2f683c"
      },
      "source": [
        "X_Train_tfidf.shape"
      ],
      "execution_count": 39,
      "outputs": [
        {
          "output_type": "execute_result",
          "data": {
            "text/plain": [
              "(40747, 59116)"
            ]
          },
          "metadata": {
            "tags": []
          },
          "execution_count": 39
        }
      ]
    },
    {
      "cell_type": "code",
      "metadata": {
        "id": "Pm0CigWPNj-O",
        "colab_type": "code",
        "colab": {
          "base_uri": "https://localhost:8080/",
          "height": 51
        },
        "outputId": "7f975ef1-a76b-4dc1-e282-c3250b733ae9"
      },
      "source": [
        "X_Train_tfidf[1]"
      ],
      "execution_count": 40,
      "outputs": [
        {
          "output_type": "execute_result",
          "data": {
            "text/plain": [
              "<1x59116 sparse matrix of type '<class 'numpy.float64'>'\n",
              "\twith 11 stored elements in Compressed Sparse Row format>"
            ]
          },
          "metadata": {
            "tags": []
          },
          "execution_count": 40
        }
      ]
    },
    {
      "cell_type": "markdown",
      "metadata": {
        "id": "-PAYkFziRPm1",
        "colab_type": "text"
      },
      "source": [
        "### Naive Bayes"
      ]
    },
    {
      "cell_type": "code",
      "metadata": {
        "id": "SwyXRZvmNvUf",
        "colab_type": "code",
        "colab": {
          "base_uri": "https://localhost:8080/",
          "height": 34
        },
        "outputId": "170ffc8f-b8c4-41d9-b571-d9197f59dc97"
      },
      "source": [
        "from sklearn.naive_bayes import MultinomialNB\n",
        "nb = MultinomialNB()\n",
        "nb.fit(X_Train_tfidf, Y_train)"
      ],
      "execution_count": 41,
      "outputs": [
        {
          "output_type": "execute_result",
          "data": {
            "text/plain": [
              "MultinomialNB(alpha=1.0, class_prior=None, fit_prior=True)"
            ]
          },
          "metadata": {
            "tags": []
          },
          "execution_count": 41
        }
      ]
    },
    {
      "cell_type": "code",
      "metadata": {
        "id": "8dDDmMoINnm2",
        "colab_type": "code",
        "colab": {}
      },
      "source": [
        "Y_Pred = nb.predict(X_Test_tfidf)"
      ],
      "execution_count": 0,
      "outputs": []
    },
    {
      "cell_type": "code",
      "metadata": {
        "id": "xE1UV6IZOHsQ",
        "colab_type": "code",
        "colab": {
          "base_uri": "https://localhost:8080/",
          "height": 34
        },
        "outputId": "9974e692-0e7f-4a89-adcd-6da9d1bdd5ac"
      },
      "source": [
        "Y_Pred"
      ],
      "execution_count": 43,
      "outputs": [
        {
          "output_type": "execute_result",
          "data": {
            "text/plain": [
              "array([0, 0, 0, ..., 0, 0, 1])"
            ]
          },
          "metadata": {
            "tags": []
          },
          "execution_count": 43
        }
      ]
    },
    {
      "cell_type": "code",
      "metadata": {
        "id": "A19uAfTUONCM",
        "colab_type": "code",
        "colab": {
          "base_uri": "https://localhost:8080/",
          "height": 51
        },
        "outputId": "f47434a8-e66a-4fe7-cacc-c738d5e1c35e"
      },
      "source": [
        "print(\"Naive Bayes Accuracy: \")\n",
        "print(float(np.sum(Y_test.values == Y_Pred)) / len(Y_Pred))"
      ],
      "execution_count": 44,
      "outputs": [
        {
          "output_type": "stream",
          "text": [
            "Naive Bayes Accuracy: \n",
            "0.7833480565371025\n"
          ],
          "name": "stdout"
        }
      ]
    },
    {
      "cell_type": "code",
      "metadata": {
        "id": "QhGdzn4LOM-U",
        "colab_type": "code",
        "colab": {}
      },
      "source": [
        "probabilities = pd.DataFrame(nb.predict_proba(X_Test_tfidf), columns=nb.classes_)\n",
        "probabilities.to_csv(\"nb_probabilities.csv\", index=False)"
      ],
      "execution_count": 0,
      "outputs": []
    },
    {
      "cell_type": "code",
      "metadata": {
        "id": "kUNEX1RQOYCE",
        "colab_type": "code",
        "colab": {
          "base_uri": "https://localhost:8080/",
          "height": 419
        },
        "outputId": "d3420674-caab-432f-ce04-bf8a4aa41932"
      },
      "source": [
        "probabilities"
      ],
      "execution_count": 46,
      "outputs": [
        {
          "output_type": "execute_result",
          "data": {
            "text/html": [
              "<div>\n",
              "<style scoped>\n",
              "    .dataframe tbody tr th:only-of-type {\n",
              "        vertical-align: middle;\n",
              "    }\n",
              "\n",
              "    .dataframe tbody tr th {\n",
              "        vertical-align: top;\n",
              "    }\n",
              "\n",
              "    .dataframe thead th {\n",
              "        text-align: right;\n",
              "    }\n",
              "</style>\n",
              "<table border=\"1\" class=\"dataframe\">\n",
              "  <thead>\n",
              "    <tr style=\"text-align: right;\">\n",
              "      <th></th>\n",
              "      <th>0</th>\n",
              "      <th>1</th>\n",
              "    </tr>\n",
              "  </thead>\n",
              "  <tbody>\n",
              "    <tr>\n",
              "      <th>0</th>\n",
              "      <td>0.905153</td>\n",
              "      <td>0.094847</td>\n",
              "    </tr>\n",
              "    <tr>\n",
              "      <th>1</th>\n",
              "      <td>0.707130</td>\n",
              "      <td>0.292870</td>\n",
              "    </tr>\n",
              "    <tr>\n",
              "      <th>2</th>\n",
              "      <td>0.905160</td>\n",
              "      <td>0.094840</td>\n",
              "    </tr>\n",
              "    <tr>\n",
              "      <th>3</th>\n",
              "      <td>0.576293</td>\n",
              "      <td>0.423707</td>\n",
              "    </tr>\n",
              "    <tr>\n",
              "      <th>4</th>\n",
              "      <td>0.711792</td>\n",
              "      <td>0.288208</td>\n",
              "    </tr>\n",
              "    <tr>\n",
              "      <th>...</th>\n",
              "      <td>...</td>\n",
              "      <td>...</td>\n",
              "    </tr>\n",
              "    <tr>\n",
              "      <th>4523</th>\n",
              "      <td>0.984610</td>\n",
              "      <td>0.015390</td>\n",
              "    </tr>\n",
              "    <tr>\n",
              "      <th>4524</th>\n",
              "      <td>0.634674</td>\n",
              "      <td>0.365326</td>\n",
              "    </tr>\n",
              "    <tr>\n",
              "      <th>4525</th>\n",
              "      <td>0.977971</td>\n",
              "      <td>0.022029</td>\n",
              "    </tr>\n",
              "    <tr>\n",
              "      <th>4526</th>\n",
              "      <td>0.652097</td>\n",
              "      <td>0.347903</td>\n",
              "    </tr>\n",
              "    <tr>\n",
              "      <th>4527</th>\n",
              "      <td>0.003009</td>\n",
              "      <td>0.996991</td>\n",
              "    </tr>\n",
              "  </tbody>\n",
              "</table>\n",
              "<p>4528 rows × 2 columns</p>\n",
              "</div>"
            ],
            "text/plain": [
              "             0         1\n",
              "0     0.905153  0.094847\n",
              "1     0.707130  0.292870\n",
              "2     0.905160  0.094840\n",
              "3     0.576293  0.423707\n",
              "4     0.711792  0.288208\n",
              "...        ...       ...\n",
              "4523  0.984610  0.015390\n",
              "4524  0.634674  0.365326\n",
              "4525  0.977971  0.022029\n",
              "4526  0.652097  0.347903\n",
              "4527  0.003009  0.996991\n",
              "\n",
              "[4528 rows x 2 columns]"
            ]
          },
          "metadata": {
            "tags": []
          },
          "execution_count": 46
        }
      ]
    },
    {
      "cell_type": "code",
      "metadata": {
        "id": "Ar-Ixb_LOfBw",
        "colab_type": "code",
        "colab": {}
      },
      "source": [
        "def predictor(arr):\n",
        "  text = vectorizer.transform(arr)\n",
        "  prediction = nb.predict(text)\n",
        "  return prediction"
      ],
      "execution_count": 0,
      "outputs": []
    },
    {
      "cell_type": "code",
      "metadata": {
        "id": "PQx4-aatPB8L",
        "colab_type": "code",
        "colab": {
          "base_uri": "https://localhost:8080/",
          "height": 34
        },
        "outputId": "ce58658c-9e6a-48de-84b8-f556a45d5422"
      },
      "source": [
        "predictor(['الهلال_الاهلي فوز هلالي مهم الحمد لله 💙 زوران كان بيسلم المباراة بعد تبديل كارييو بإنتظار الإتحاد بكرة يارب يار…'])"
      ],
      "execution_count": 48,
      "outputs": [
        {
          "output_type": "execute_result",
          "data": {
            "text/plain": [
              "array([1])"
            ]
          },
          "metadata": {
            "tags": []
          },
          "execution_count": 48
        }
      ]
    },
    {
      "cell_type": "code",
      "metadata": {
        "id": "v6ftiCKjQBK7",
        "colab_type": "code",
        "colab": {}
      },
      "source": [
        "from sklearn.metrics import confusion_matrix\n",
        "\n",
        "def c_m(y_true, y_pred):\n",
        "  print(confusion_matrix(y_true, y_pred))"
      ],
      "execution_count": 0,
      "outputs": []
    },
    {
      "cell_type": "code",
      "metadata": {
        "id": "vNbKVoxnRAGh",
        "colab_type": "code",
        "colab": {
          "base_uri": "https://localhost:8080/",
          "height": 51
        },
        "outputId": "38b616cd-b4af-404e-85cb-8f0c86e0c60c"
      },
      "source": [
        "c_m(Y_test,Y_Pred)"
      ],
      "execution_count": 50,
      "outputs": [
        {
          "output_type": "stream",
          "text": [
            "[[1768  490]\n",
            " [ 491 1779]]\n"
          ],
          "name": "stdout"
        }
      ]
    },
    {
      "cell_type": "markdown",
      "metadata": {
        "id": "dvDpbhftRSLD",
        "colab_type": "text"
      },
      "source": [
        "### Decision Tree"
      ]
    },
    {
      "cell_type": "code",
      "metadata": {
        "id": "VuMgXnB9ROeb",
        "colab_type": "code",
        "colab": {}
      },
      "source": [
        "from sklearn.tree import DecisionTreeClassifier"
      ],
      "execution_count": 0,
      "outputs": []
    },
    {
      "cell_type": "code",
      "metadata": {
        "id": "b32dvPV6Rd6k",
        "colab_type": "code",
        "colab": {}
      },
      "source": [
        "decision_tree = DecisionTreeClassifier(random_state=0)"
      ],
      "execution_count": 0,
      "outputs": []
    },
    {
      "cell_type": "code",
      "metadata": {
        "id": "UkUxR2X-Rsjx",
        "colab_type": "code",
        "colab": {}
      },
      "source": [
        "decision_tree = decision_tree.fit( X_Train_tfidf,Y_train )"
      ],
      "execution_count": 0,
      "outputs": []
    },
    {
      "cell_type": "code",
      "metadata": {
        "id": "i-ZerkLPSD1Z",
        "colab_type": "code",
        "colab": {}
      },
      "source": [
        "text = vectorizer.transform(['الهلال_الاهلي فوز هلالي مهم الحمد لله 💙 زوران كان بيسلم المباراة بعد تبديل كارييو بإنتظار الإتحاد بكرة يارب يار…'])"
      ],
      "execution_count": 0,
      "outputs": []
    },
    {
      "cell_type": "code",
      "metadata": {
        "id": "b7wWPwG6Rsd_",
        "colab_type": "code",
        "colab": {
          "base_uri": "https://localhost:8080/",
          "height": 34
        },
        "outputId": "9c14d5a5-98e0-4def-9bf4-daf12c4591b1"
      },
      "source": [
        "decision_tree.predict(text)"
      ],
      "execution_count": 55,
      "outputs": [
        {
          "output_type": "execute_result",
          "data": {
            "text/plain": [
              "array([1])"
            ]
          },
          "metadata": {
            "tags": []
          },
          "execution_count": 55
        }
      ]
    },
    {
      "cell_type": "code",
      "metadata": {
        "id": "KSdZbnmjUTrO",
        "colab_type": "code",
        "colab": {}
      },
      "source": [
        "dt_predict = decision_tree.predict(X_Test_tfidf)"
      ],
      "execution_count": 0,
      "outputs": []
    },
    {
      "cell_type": "code",
      "metadata": {
        "id": "aTPH3mheUrGT",
        "colab_type": "code",
        "colab": {
          "base_uri": "https://localhost:8080/",
          "height": 51
        },
        "outputId": "17490482-9aef-4c38-c79e-f35d8bb760dc"
      },
      "source": [
        "print(\"Decision Tree Accuracy: \")\n",
        "print(float(np.sum(Y_test.values == dt_predict)) / len(dt_predict))"
      ],
      "execution_count": 57,
      "outputs": [
        {
          "output_type": "stream",
          "text": [
            "Decision Tree Accuracy: \n",
            "0.7555212014134276\n"
          ],
          "name": "stdout"
        }
      ]
    },
    {
      "cell_type": "markdown",
      "metadata": {
        "id": "QHmnPt9RVEiD",
        "colab_type": "text"
      },
      "source": [
        "### SGD"
      ]
    },
    {
      "cell_type": "code",
      "metadata": {
        "id": "NzQfQYqoVEA9",
        "colab_type": "code",
        "colab": {
          "base_uri": "https://localhost:8080/",
          "height": 173
        },
        "outputId": "5002e029-8f7f-4eaf-cace-5eb07f852400"
      },
      "source": [
        "from sklearn.linear_model import SGDClassifier\n",
        "sgd = SGDClassifier(loss=\"hinge\", penalty=\"l2\", max_iter=5)\n",
        "sgd.fit(X_Train_tfidf, Y_train)"
      ],
      "execution_count": 58,
      "outputs": [
        {
          "output_type": "stream",
          "text": [
            "/usr/local/lib/python3.6/dist-packages/sklearn/linear_model/_stochastic_gradient.py:557: ConvergenceWarning: Maximum number of iteration reached before convergence. Consider increasing max_iter to improve the fit.\n",
            "  ConvergenceWarning)\n"
          ],
          "name": "stderr"
        },
        {
          "output_type": "execute_result",
          "data": {
            "text/plain": [
              "SGDClassifier(alpha=0.0001, average=False, class_weight=None,\n",
              "              early_stopping=False, epsilon=0.1, eta0=0.0, fit_intercept=True,\n",
              "              l1_ratio=0.15, learning_rate='optimal', loss='hinge', max_iter=5,\n",
              "              n_iter_no_change=5, n_jobs=None, penalty='l2', power_t=0.5,\n",
              "              random_state=None, shuffle=True, tol=0.001,\n",
              "              validation_fraction=0.1, verbose=0, warm_start=False)"
            ]
          },
          "metadata": {
            "tags": []
          },
          "execution_count": 58
        }
      ]
    },
    {
      "cell_type": "code",
      "metadata": {
        "id": "GnHPVS1AViyq",
        "colab_type": "code",
        "colab": {}
      },
      "source": [
        "sgd_predict = sgd.predict(X_Test_tfidf)"
      ],
      "execution_count": 0,
      "outputs": []
    },
    {
      "cell_type": "code",
      "metadata": {
        "id": "hkh2EdnnVtkL",
        "colab_type": "code",
        "colab": {
          "base_uri": "https://localhost:8080/",
          "height": 51
        },
        "outputId": "39362e9f-291f-47d0-e0e1-46f110b79427"
      },
      "source": [
        "print(\"SGD Accuracy: \")\n",
        "print(float(np.sum(Y_test.values == sgd_predict)) / len(sgd_predict))"
      ],
      "execution_count": 60,
      "outputs": [
        {
          "output_type": "stream",
          "text": [
            "SGD Accuracy: \n",
            "0.7670053003533569\n"
          ],
          "name": "stdout"
        }
      ]
    },
    {
      "cell_type": "code",
      "metadata": {
        "id": "cHVUwn4ZV7BK",
        "colab_type": "code",
        "colab": {
          "base_uri": "https://localhost:8080/",
          "height": 51
        },
        "outputId": "fc393de7-a1be-4003-d93b-99ee9aa7b915"
      },
      "source": [
        "c_m(Y_test,sgd_predict)"
      ],
      "execution_count": 61,
      "outputs": [
        {
          "output_type": "stream",
          "text": [
            "[[1921  337]\n",
            " [ 718 1552]]\n"
          ],
          "name": "stdout"
        }
      ]
    },
    {
      "cell_type": "code",
      "metadata": {
        "id": "rDLzR8K4WRwC",
        "colab_type": "code",
        "colab": {}
      },
      "source": [
        "x_train = X_Train_tfidf\n",
        "x_test = X_Test_tfidf\n",
        "y_train = Y_train\n",
        "y_test = Y_test"
      ],
      "execution_count": 0,
      "outputs": []
    },
    {
      "cell_type": "markdown",
      "metadata": {
        "id": "WLQ8w6uVXqWJ",
        "colab_type": "text"
      },
      "source": [
        "### XGBoost"
      ]
    },
    {
      "cell_type": "code",
      "metadata": {
        "id": "gm3ztah_XmGy",
        "colab_type": "code",
        "colab": {
          "base_uri": "https://localhost:8080/",
          "height": 136
        },
        "outputId": "54d731b5-cd31-4964-a9bd-3eaa08e0b37d"
      },
      "source": [
        "from xgboost import XGBClassifier\n",
        "xgb_classifier = XGBClassifier(max_depth = 3, learning_rate = 0.01, n_estimators = 300)\n",
        "xgb_classifier.fit(x_train, y_train)"
      ],
      "execution_count": 63,
      "outputs": [
        {
          "output_type": "execute_result",
          "data": {
            "text/plain": [
              "XGBClassifier(base_score=0.5, booster='gbtree', colsample_bylevel=1,\n",
              "              colsample_bynode=1, colsample_bytree=1, gamma=0,\n",
              "              learning_rate=0.01, max_delta_step=0, max_depth=3,\n",
              "              min_child_weight=1, missing=None, n_estimators=300, n_jobs=1,\n",
              "              nthread=None, objective='binary:logistic', random_state=0,\n",
              "              reg_alpha=0, reg_lambda=1, scale_pos_weight=1, seed=None,\n",
              "              silent=None, subsample=1, verbosity=1)"
            ]
          },
          "metadata": {
            "tags": []
          },
          "execution_count": 63
        }
      ]
    },
    {
      "cell_type": "code",
      "metadata": {
        "id": "hs8-ItDJXt0K",
        "colab_type": "code",
        "colab": {
          "base_uri": "https://localhost:8080/",
          "height": 34
        },
        "outputId": "a86338e5-1f9f-4711-9ed4-4b1dd415cb63"
      },
      "source": [
        "xgb_classifier.score(x_test, y_test)"
      ],
      "execution_count": 64,
      "outputs": [
        {
          "output_type": "execute_result",
          "data": {
            "text/plain": [
              "0.5772968197879859"
            ]
          },
          "metadata": {
            "tags": []
          },
          "execution_count": 64
        }
      ]
    },
    {
      "cell_type": "markdown",
      "metadata": {
        "id": "-09JE_c3X20I",
        "colab_type": "text"
      },
      "source": [
        "### ADABoost"
      ]
    },
    {
      "cell_type": "code",
      "metadata": {
        "id": "iXQWrnjIX73I",
        "colab_type": "code",
        "colab": {
          "base_uri": "https://localhost:8080/",
          "height": 34
        },
        "outputId": "30266839-f47a-47b7-86b3-8f147a403fa9"
      },
      "source": [
        "from sklearn.ensemble import AdaBoostClassifier\n",
        "from sklearn.model_selection import cross_val_score\n",
        "ADA = AdaBoostClassifier(n_estimators = 100 , random_state=42)\n",
        "scores = cross_val_score(ADA, x_train, y_train, cv=5)\n",
        "#print(scores.mean())\n",
        "ADA.fit(x_train, y_train)\n",
        "ADA.score(x_test, y_test)"
      ],
      "execution_count": 65,
      "outputs": [
        {
          "output_type": "execute_result",
          "data": {
            "text/plain": [
              "0.6356007067137809"
            ]
          },
          "metadata": {
            "tags": []
          },
          "execution_count": 65
        }
      ]
    },
    {
      "cell_type": "code",
      "metadata": {
        "id": "OXJX_usSbPLN",
        "colab_type": "code",
        "colab": {
          "base_uri": "https://localhost:8080/",
          "height": 97
        },
        "outputId": "41b66ddf-b502-481a-c6da-ab3e26d50ef2"
      },
      "source": [
        "from keras.models import Sequential\n",
        "from keras.layers import Dense, Dropout\n",
        "from keras.regularizers import l1"
      ],
      "execution_count": 66,
      "outputs": [
        {
          "output_type": "stream",
          "text": [
            "Using TensorFlow backend.\n"
          ],
          "name": "stderr"
        },
        {
          "output_type": "display_data",
          "data": {
            "text/html": [
              "<p style=\"color: red;\">\n",
              "The default version of TensorFlow in Colab will soon switch to TensorFlow 2.x.<br>\n",
              "We recommend you <a href=\"https://www.tensorflow.org/guide/migrate\" target=\"_blank\">upgrade</a> now \n",
              "or ensure your notebook will continue to use TensorFlow 1.x via the <code>%tensorflow_version 1.x</code> magic:\n",
              "<a href=\"https://colab.research.google.com/notebooks/tensorflow_version.ipynb\" target=\"_blank\">more info</a>.</p>\n"
            ],
            "text/plain": [
              "<IPython.core.display.HTML object>"
            ]
          },
          "metadata": {
            "tags": []
          }
        }
      ]
    },
    {
      "cell_type": "code",
      "metadata": {
        "id": "yNnHf6Z7bRrD",
        "colab_type": "code",
        "colab": {
          "base_uri": "https://localhost:8080/",
          "height": 224
        },
        "outputId": "c41b3b0b-b80f-47da-d60d-3e5d4a7f3be4"
      },
      "source": [
        "model = Sequential()\n",
        "model.add(Dense(32, input_dim=x_train.shape[1], activation='relu'))\n",
        "model.add(Dense(16, activation='relu'))\n",
        "model.add(Dropout(0.2))\n",
        "model.add(Dense(8, activation='relu'))\n",
        "model.add(Dense(4, activation='relu'))\n",
        "model.add(Dropout(0.5))\n",
        "model.add(Dense(1, activation='sigmoid'))"
      ],
      "execution_count": 67,
      "outputs": [
        {
          "output_type": "stream",
          "text": [
            "WARNING:tensorflow:From /usr/local/lib/python3.6/dist-packages/keras/backend/tensorflow_backend.py:66: The name tf.get_default_graph is deprecated. Please use tf.compat.v1.get_default_graph instead.\n",
            "\n",
            "WARNING:tensorflow:From /usr/local/lib/python3.6/dist-packages/keras/backend/tensorflow_backend.py:541: The name tf.placeholder is deprecated. Please use tf.compat.v1.placeholder instead.\n",
            "\n",
            "WARNING:tensorflow:From /usr/local/lib/python3.6/dist-packages/keras/backend/tensorflow_backend.py:4432: The name tf.random_uniform is deprecated. Please use tf.random.uniform instead.\n",
            "\n",
            "WARNING:tensorflow:From /usr/local/lib/python3.6/dist-packages/keras/backend/tensorflow_backend.py:148: The name tf.placeholder_with_default is deprecated. Please use tf.compat.v1.placeholder_with_default instead.\n",
            "\n",
            "WARNING:tensorflow:From /usr/local/lib/python3.6/dist-packages/keras/backend/tensorflow_backend.py:3733: calling dropout (from tensorflow.python.ops.nn_ops) with keep_prob is deprecated and will be removed in a future version.\n",
            "Instructions for updating:\n",
            "Please use `rate` instead of `keep_prob`. Rate should be set to `rate = 1 - keep_prob`.\n"
          ],
          "name": "stdout"
        }
      ]
    },
    {
      "cell_type": "code",
      "metadata": {
        "id": "H8iuKoH0bTvr",
        "colab_type": "code",
        "colab": {
          "base_uri": "https://localhost:8080/",
          "height": 156
        },
        "outputId": "a6cf65ed-ba26-43ee-cc32-d303c126b887"
      },
      "source": [
        "model.compile(loss='binary_crossentropy', optimizer='adam', metrics=['accuracy'])"
      ],
      "execution_count": 68,
      "outputs": [
        {
          "output_type": "stream",
          "text": [
            "WARNING:tensorflow:From /usr/local/lib/python3.6/dist-packages/keras/optimizers.py:793: The name tf.train.Optimizer is deprecated. Please use tf.compat.v1.train.Optimizer instead.\n",
            "\n",
            "WARNING:tensorflow:From /usr/local/lib/python3.6/dist-packages/keras/backend/tensorflow_backend.py:3657: The name tf.log is deprecated. Please use tf.math.log instead.\n",
            "\n",
            "WARNING:tensorflow:From /usr/local/lib/python3.6/dist-packages/tensorflow_core/python/ops/nn_impl.py:183: where (from tensorflow.python.ops.array_ops) is deprecated and will be removed in a future version.\n",
            "Instructions for updating:\n",
            "Use tf.where in 2.0, which has the same broadcast rule as np.where\n"
          ],
          "name": "stdout"
        }
      ]
    },
    {
      "cell_type": "code",
      "metadata": {
        "id": "PpEWhJNQbVQO",
        "colab_type": "code",
        "colab": {
          "base_uri": "https://localhost:8080/",
          "height": 391
        },
        "outputId": "3fe5bd0f-7060-469d-ac1b-80f1bd77c22b"
      },
      "source": [
        "model.summary()"
      ],
      "execution_count": 69,
      "outputs": [
        {
          "output_type": "stream",
          "text": [
            "Model: \"sequential_1\"\n",
            "_________________________________________________________________\n",
            "Layer (type)                 Output Shape              Param #   \n",
            "=================================================================\n",
            "dense_1 (Dense)              (None, 32)                1891744   \n",
            "_________________________________________________________________\n",
            "dense_2 (Dense)              (None, 16)                528       \n",
            "_________________________________________________________________\n",
            "dropout_1 (Dropout)          (None, 16)                0         \n",
            "_________________________________________________________________\n",
            "dense_3 (Dense)              (None, 8)                 136       \n",
            "_________________________________________________________________\n",
            "dense_4 (Dense)              (None, 4)                 36        \n",
            "_________________________________________________________________\n",
            "dropout_2 (Dropout)          (None, 4)                 0         \n",
            "_________________________________________________________________\n",
            "dense_5 (Dense)              (None, 1)                 5         \n",
            "=================================================================\n",
            "Total params: 1,892,449\n",
            "Trainable params: 1,892,449\n",
            "Non-trainable params: 0\n",
            "_________________________________________________________________\n"
          ],
          "name": "stdout"
        }
      ]
    },
    {
      "cell_type": "code",
      "metadata": {
        "id": "yyJmdJYCbXFH",
        "colab_type": "code",
        "colab": {
          "base_uri": "https://localhost:8080/",
          "height": 1000
        },
        "outputId": "46c61905-95c5-43e5-fcaa-6857e03bf03e"
      },
      "source": [
        "history = model.fit(x_train, y_train, batch_size=100, epochs=25, validation_split=0.1)"
      ],
      "execution_count": 70,
      "outputs": [
        {
          "output_type": "stream",
          "text": [
            "WARNING:tensorflow:From /usr/local/lib/python3.6/dist-packages/keras/backend/tensorflow_backend.py:1033: The name tf.assign_add is deprecated. Please use tf.compat.v1.assign_add instead.\n",
            "\n",
            "WARNING:tensorflow:From /usr/local/lib/python3.6/dist-packages/keras/backend/tensorflow_backend.py:1020: The name tf.assign is deprecated. Please use tf.compat.v1.assign instead.\n",
            "\n",
            "WARNING:tensorflow:From /usr/local/lib/python3.6/dist-packages/keras/backend/tensorflow_backend.py:3005: The name tf.Session is deprecated. Please use tf.compat.v1.Session instead.\n",
            "\n",
            "Train on 36672 samples, validate on 4075 samples\n",
            "Epoch 1/25\n",
            "WARNING:tensorflow:From /usr/local/lib/python3.6/dist-packages/keras/backend/tensorflow_backend.py:190: The name tf.get_default_session is deprecated. Please use tf.compat.v1.get_default_session instead.\n",
            "\n",
            "WARNING:tensorflow:From /usr/local/lib/python3.6/dist-packages/keras/backend/tensorflow_backend.py:197: The name tf.ConfigProto is deprecated. Please use tf.compat.v1.ConfigProto instead.\n",
            "\n",
            "WARNING:tensorflow:From /usr/local/lib/python3.6/dist-packages/keras/backend/tensorflow_backend.py:207: The name tf.global_variables is deprecated. Please use tf.compat.v1.global_variables instead.\n",
            "\n",
            "WARNING:tensorflow:From /usr/local/lib/python3.6/dist-packages/keras/backend/tensorflow_backend.py:216: The name tf.is_variable_initialized is deprecated. Please use tf.compat.v1.is_variable_initialized instead.\n",
            "\n",
            "WARNING:tensorflow:From /usr/local/lib/python3.6/dist-packages/keras/backend/tensorflow_backend.py:223: The name tf.variables_initializer is deprecated. Please use tf.compat.v1.variables_initializer instead.\n",
            "\n",
            "36672/36672 [==============================] - 34s 939us/step - loss: 0.6341 - acc: 0.6227 - val_loss: 0.5061 - val_acc: 0.7632\n",
            "Epoch 2/25\n",
            "36672/36672 [==============================] - 34s 922us/step - loss: 0.4738 - acc: 0.7627 - val_loss: 0.4583 - val_acc: 0.7681\n",
            "Epoch 3/25\n",
            "36672/36672 [==============================] - 34s 927us/step - loss: 0.3844 - acc: 0.8166 - val_loss: 0.4691 - val_acc: 0.7683\n",
            "Epoch 4/25\n",
            "36672/36672 [==============================] - 34s 936us/step - loss: 0.3399 - acc: 0.8354 - val_loss: 0.4961 - val_acc: 0.7708\n",
            "Epoch 5/25\n",
            "36672/36672 [==============================] - 34s 932us/step - loss: 0.3109 - acc: 0.8457 - val_loss: 0.5454 - val_acc: 0.7713\n",
            "Epoch 6/25\n",
            "36672/36672 [==============================] - 34s 931us/step - loss: 0.2957 - acc: 0.8532 - val_loss: 0.6143 - val_acc: 0.7644\n",
            "Epoch 7/25\n",
            "36672/36672 [==============================] - 35s 948us/step - loss: 0.2852 - acc: 0.8539 - val_loss: 0.6774 - val_acc: 0.7639\n",
            "Epoch 8/25\n",
            "36672/36672 [==============================] - 34s 923us/step - loss: 0.2777 - acc: 0.8563 - val_loss: 0.6926 - val_acc: 0.7706\n",
            "Epoch 9/25\n",
            "36672/36672 [==============================] - 34s 923us/step - loss: 0.2732 - acc: 0.8577 - val_loss: 0.7541 - val_acc: 0.7610\n",
            "Epoch 10/25\n",
            "36672/36672 [==============================] - 34s 932us/step - loss: 0.2693 - acc: 0.8595 - val_loss: 0.7910 - val_acc: 0.7617\n",
            "Epoch 11/25\n",
            "36672/36672 [==============================] - 34s 929us/step - loss: 0.2654 - acc: 0.8620 - val_loss: 0.8767 - val_acc: 0.7595\n",
            "Epoch 12/25\n",
            "36672/36672 [==============================] - 34s 933us/step - loss: 0.2638 - acc: 0.8625 - val_loss: 0.8790 - val_acc: 0.7634\n",
            "Epoch 13/25\n",
            "36672/36672 [==============================] - 34s 938us/step - loss: 0.2632 - acc: 0.8622 - val_loss: 0.9113 - val_acc: 0.7600\n",
            "Epoch 14/25\n",
            "36672/36672 [==============================] - 34s 924us/step - loss: 0.2626 - acc: 0.8631 - val_loss: 0.8796 - val_acc: 0.7598\n",
            "Epoch 15/25\n",
            "36672/36672 [==============================] - 34s 920us/step - loss: 0.2617 - acc: 0.8626 - val_loss: 0.9474 - val_acc: 0.7610\n",
            "Epoch 16/25\n",
            "36672/36672 [==============================] - 34s 922us/step - loss: 0.2630 - acc: 0.8622 - val_loss: 0.9724 - val_acc: 0.7585\n",
            "Epoch 17/25\n",
            "36672/36672 [==============================] - 34s 924us/step - loss: 0.2620 - acc: 0.8610 - val_loss: 0.9886 - val_acc: 0.7625\n",
            "Epoch 18/25\n",
            "36672/36672 [==============================] - 34s 924us/step - loss: 0.2614 - acc: 0.8636 - val_loss: 0.9942 - val_acc: 0.7551\n",
            "Epoch 19/25\n",
            "36672/36672 [==============================] - 34s 921us/step - loss: 0.2600 - acc: 0.8628 - val_loss: 0.9956 - val_acc: 0.7590\n",
            "Epoch 20/25\n",
            "36672/36672 [==============================] - 34s 921us/step - loss: 0.2578 - acc: 0.8648 - val_loss: 1.0532 - val_acc: 0.7558\n",
            "Epoch 21/25\n",
            "36672/36672 [==============================] - 34s 923us/step - loss: 0.2593 - acc: 0.8634 - val_loss: 1.0638 - val_acc: 0.7541\n",
            "Epoch 22/25\n",
            "36672/36672 [==============================] - 34s 933us/step - loss: 0.2589 - acc: 0.8642 - val_loss: 1.0347 - val_acc: 0.7588\n",
            "Epoch 23/25\n",
            "36672/36672 [==============================] - 34s 923us/step - loss: 0.2591 - acc: 0.8650 - val_loss: 1.0252 - val_acc: 0.7548\n",
            "Epoch 24/25\n",
            "36672/36672 [==============================] - 34s 925us/step - loss: 0.2592 - acc: 0.8625 - val_loss: 1.0655 - val_acc: 0.7561\n",
            "Epoch 25/25\n",
            "36672/36672 [==============================] - 34s 920us/step - loss: 0.2579 - acc: 0.8649 - val_loss: 1.0776 - val_acc: 0.7536\n"
          ],
          "name": "stdout"
        }
      ]
    },
    {
      "cell_type": "code",
      "metadata": {
        "id": "I8u6SJ-EbZ55",
        "colab_type": "code",
        "colab": {
          "base_uri": "https://localhost:8080/",
          "height": 68
        },
        "outputId": "12a6228d-3fae-42a6-fb1e-c950e8d67746"
      },
      "source": [
        "score, acc = model.evaluate(x_test, y_test,\n",
        "                            batch_size=64)\n",
        "print('Test score:', score)\n",
        "print('Test accuracy:', acc)"
      ],
      "execution_count": 71,
      "outputs": [
        {
          "output_type": "stream",
          "text": [
            "4528/4528 [==============================] - 2s 396us/step\n",
            "Test score: 1.2431090360395478\n",
            "Test accuracy: 0.7681095404254252\n"
          ],
          "name": "stdout"
        }
      ]
    },
    {
      "cell_type": "code",
      "metadata": {
        "id": "-NH9j3zSeR5h",
        "colab_type": "code",
        "colab": {
          "base_uri": "https://localhost:8080/",
          "height": 590
        },
        "outputId": "f72b8c17-3d2f-443b-b746-27599d714218"
      },
      "source": [
        "import matplotlib.pyplot as plt\n",
        "print(history.history.keys())\n",
        "# summarize history for accuracy\n",
        "plt.plot(history.history['acc'])\n",
        "plt.plot(history.history['val_acc'])\n",
        "plt.title('model accuracy')\n",
        "plt.ylabel('accuracy')\n",
        "plt.xlabel('epoch')\n",
        "plt.legend(['train', 'test'], loc='upper left')\n",
        "plt.show()\n",
        "# summarize history for loss\n",
        "plt.plot(history.history['loss'])\n",
        "plt.plot(history.history['val_loss'])\n",
        "plt.title('model loss')\n",
        "plt.ylabel('loss')\n",
        "plt.xlabel('epoch')\n",
        "plt.legend(['train', 'test'], loc='upper left')\n",
        "plt.show()"
      ],
      "execution_count": 72,
      "outputs": [
        {
          "output_type": "stream",
          "text": [
            "dict_keys(['val_loss', 'val_acc', 'loss', 'acc'])\n"
          ],
          "name": "stdout"
        },
        {
          "output_type": "display_data",
          "data": {
            "image/png": "[encoded data removed]",
            "text/plain": [
              "<Figure size 432x288 with 1 Axes>"
            ]
          },
          "metadata": {
            "tags": []
          }
        },
        {
          "output_type": "display_data",
          "data": {
            "image/png": "[encoded data removed]",
            "text/plain": [
              "<Figure size 432x288 with 1 Axes>"
            ]
          },
          "metadata": {
            "tags": []
          }
        }
      ]
    },
    {
      "cell_type": "markdown",
      "metadata": {
        "id": "eJL5VUVLklmo",
        "colab_type": "text"
      },
      "source": [
        "### Logistic Regression"
      ]
    },
    {
      "cell_type": "code",
      "metadata": {
        "id": "3bNdWZZMknug",
        "colab_type": "code",
        "colab": {
          "base_uri": "https://localhost:8080/",
          "height": 34
        },
        "outputId": "0db56ea4-2556-4b98-e323-d3e43128edd8"
      },
      "source": [
        "from sklearn.linear_model import LogisticRegression\n",
        "lr = LogisticRegression(random_state=0).fit(x_train, y_train)\n",
        "lr.score(x_test, y_test)"
      ],
      "execution_count": 73,
      "outputs": [
        {
          "output_type": "execute_result",
          "data": {
            "text/plain": [
              "0.782243816254417"
            ]
          },
          "metadata": {
            "tags": []
          },
          "execution_count": 73
        }
      ]
    }
  ]
}